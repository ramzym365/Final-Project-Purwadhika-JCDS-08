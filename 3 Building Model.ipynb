{
 "cells": [
  {
   "cell_type": "code",
   "execution_count": 3,
   "metadata": {
    "ExecuteTime": {
     "end_time": "2020-06-21T12:05:23.046092Z",
     "start_time": "2020-06-21T12:04:25.421347Z"
    }
   },
   "outputs": [
    {
     "name": "stderr",
     "output_type": "stream",
     "text": [
      "C:\\Users\\Pavilion\\Anaconda3\\lib\\site-packages\\statsmodels\\tools\\_testing.py:19: FutureWarning: pandas.util.testing is deprecated. Use the functions in the public API at pandas.testing instead.\n",
      "  import pandas.util.testing as tm\n"
     ]
    }
   ],
   "source": [
    "import pandas as pd\n",
    "import numpy as np\n",
    "import matplotlib.pyplot as plt\n",
    "import matplotlib.ticker as ticker\n",
    "import seaborn as sns\n",
    "import scipy.stats as ss\n",
    "%matplotlib inline\n",
    "\n",
    "from sklearn.preprocessing import LabelEncoder, RobustScaler, StandardScaler\n",
    "from sklearn.feature_selection import SelectKBest\n",
    "from sklearn.feature_selection import chi2\n",
    "from sklearn.ensemble import ExtraTreesClassifier\n",
    "from sklearn.model_selection import train_test_split, GridSearchCV, RandomizedSearchCV, cross_val_score\n",
    "from sklearn.metrics import confusion_matrix, classification_report, accuracy_score, plot_roc_curve, roc_auc_score, roc_curve, f1_score\n",
    "\n",
    "from imblearn.over_sampling import SMOTE\n",
    "from imblearn.under_sampling import NearMiss\n",
    "from collections import Counter\n",
    "\n",
    "from sklearn.linear_model import LogisticRegression\n",
    "from sklearn.svm import SVC\n",
    "from sklearn.ensemble import RandomForestClassifier\n",
    "from xgboost import XGBClassifier\n",
    "\n",
    "import pandas.util.testing as tm"
   ]
  },
  {
   "cell_type": "code",
   "execution_count": 4,
   "metadata": {
    "ExecuteTime": {
     "end_time": "2020-06-21T12:05:28.310287Z",
     "start_time": "2020-06-21T12:05:27.814876Z"
    }
   },
   "outputs": [
    {
     "data": {
      "text/html": [
       "<div>\n",
       "<style scoped>\n",
       "    .dataframe tbody tr th:only-of-type {\n",
       "        vertical-align: middle;\n",
       "    }\n",
       "\n",
       "    .dataframe tbody tr th {\n",
       "        vertical-align: top;\n",
       "    }\n",
       "\n",
       "    .dataframe thead th {\n",
       "        text-align: right;\n",
       "    }\n",
       "</style>\n",
       "<table border=\"1\" class=\"dataframe\">\n",
       "  <thead>\n",
       "    <tr style=\"text-align: right;\">\n",
       "      <th></th>\n",
       "      <th>Age</th>\n",
       "      <th>Workclass</th>\n",
       "      <th>Final Weight</th>\n",
       "      <th>Education</th>\n",
       "      <th>Years of Education</th>\n",
       "      <th>Marital Status</th>\n",
       "      <th>Occupation</th>\n",
       "      <th>Role in Family</th>\n",
       "      <th>Race</th>\n",
       "      <th>Gender</th>\n",
       "      <th>Capital Gain</th>\n",
       "      <th>Capital Loss</th>\n",
       "      <th>Workhours per Week</th>\n",
       "      <th>Native Country</th>\n",
       "      <th>Income</th>\n",
       "    </tr>\n",
       "  </thead>\n",
       "  <tbody>\n",
       "    <tr>\n",
       "      <th>0</th>\n",
       "      <td>90</td>\n",
       "      <td>Private</td>\n",
       "      <td>77053</td>\n",
       "      <td>HS-grad</td>\n",
       "      <td>9</td>\n",
       "      <td>Widowed</td>\n",
       "      <td>Craft-repair</td>\n",
       "      <td>Not-in-family</td>\n",
       "      <td>White</td>\n",
       "      <td>Female</td>\n",
       "      <td>0</td>\n",
       "      <td>4356</td>\n",
       "      <td>40</td>\n",
       "      <td>United-States</td>\n",
       "      <td>&lt;=50K</td>\n",
       "    </tr>\n",
       "    <tr>\n",
       "      <th>1</th>\n",
       "      <td>82</td>\n",
       "      <td>Private</td>\n",
       "      <td>132870</td>\n",
       "      <td>HS-grad</td>\n",
       "      <td>9</td>\n",
       "      <td>Widowed</td>\n",
       "      <td>Exec-managerial</td>\n",
       "      <td>Not-in-family</td>\n",
       "      <td>White</td>\n",
       "      <td>Female</td>\n",
       "      <td>0</td>\n",
       "      <td>4356</td>\n",
       "      <td>18</td>\n",
       "      <td>United-States</td>\n",
       "      <td>&lt;=50K</td>\n",
       "    </tr>\n",
       "    <tr>\n",
       "      <th>2</th>\n",
       "      <td>66</td>\n",
       "      <td>Private</td>\n",
       "      <td>186061</td>\n",
       "      <td>Some-college</td>\n",
       "      <td>10</td>\n",
       "      <td>Widowed</td>\n",
       "      <td>Adm-clerical</td>\n",
       "      <td>Unmarried</td>\n",
       "      <td>Black</td>\n",
       "      <td>Female</td>\n",
       "      <td>0</td>\n",
       "      <td>4356</td>\n",
       "      <td>40</td>\n",
       "      <td>United-States</td>\n",
       "      <td>&lt;=50K</td>\n",
       "    </tr>\n",
       "    <tr>\n",
       "      <th>3</th>\n",
       "      <td>54</td>\n",
       "      <td>Private</td>\n",
       "      <td>140359</td>\n",
       "      <td>Middle-School</td>\n",
       "      <td>4</td>\n",
       "      <td>Divorced</td>\n",
       "      <td>Machine-op-inspct</td>\n",
       "      <td>Unmarried</td>\n",
       "      <td>White</td>\n",
       "      <td>Female</td>\n",
       "      <td>0</td>\n",
       "      <td>3900</td>\n",
       "      <td>40</td>\n",
       "      <td>United-States</td>\n",
       "      <td>&lt;=50K</td>\n",
       "    </tr>\n",
       "    <tr>\n",
       "      <th>4</th>\n",
       "      <td>41</td>\n",
       "      <td>Private</td>\n",
       "      <td>264663</td>\n",
       "      <td>Some-college</td>\n",
       "      <td>10</td>\n",
       "      <td>Separated</td>\n",
       "      <td>Prof-specialty</td>\n",
       "      <td>Own-child</td>\n",
       "      <td>White</td>\n",
       "      <td>Female</td>\n",
       "      <td>0</td>\n",
       "      <td>3900</td>\n",
       "      <td>40</td>\n",
       "      <td>United-States</td>\n",
       "      <td>&lt;=50K</td>\n",
       "    </tr>\n",
       "  </tbody>\n",
       "</table>\n",
       "</div>"
      ],
      "text/plain": [
       "   Age Workclass  Final Weight      Education  Years of Education  \\\n",
       "0   90   Private         77053        HS-grad                   9   \n",
       "1   82   Private        132870        HS-grad                   9   \n",
       "2   66   Private        186061   Some-college                  10   \n",
       "3   54   Private        140359  Middle-School                   4   \n",
       "4   41   Private        264663   Some-college                  10   \n",
       "\n",
       "  Marital Status         Occupation Role in Family   Race  Gender  \\\n",
       "0        Widowed       Craft-repair  Not-in-family  White  Female   \n",
       "1        Widowed    Exec-managerial  Not-in-family  White  Female   \n",
       "2        Widowed       Adm-clerical      Unmarried  Black  Female   \n",
       "3       Divorced  Machine-op-inspct      Unmarried  White  Female   \n",
       "4      Separated     Prof-specialty      Own-child  White  Female   \n",
       "\n",
       "   Capital Gain  Capital Loss  Workhours per Week Native Country Income  \n",
       "0             0          4356                  40  United-States  <=50K  \n",
       "1             0          4356                  18  United-States  <=50K  \n",
       "2             0          4356                  40  United-States  <=50K  \n",
       "3             0          3900                  40  United-States  <=50K  \n",
       "4             0          3900                  40  United-States  <=50K  "
      ]
     },
     "execution_count": 4,
     "metadata": {},
     "output_type": "execute_result"
    }
   ],
   "source": [
    "df = pd.read_csv('Adult_Clean.csv')\n",
    "df.drop('Unnamed: 0', axis = 1, inplace = True)\n",
    "df.head()"
   ]
  },
  {
   "cell_type": "code",
   "execution_count": 5,
   "metadata": {
    "ExecuteTime": {
     "end_time": "2020-06-21T12:05:30.470042Z",
     "start_time": "2020-06-21T12:05:30.460157Z"
    }
   },
   "outputs": [
    {
     "name": "stdout",
     "output_type": "stream",
     "text": [
      "The cleaned Dataframe contains 32537 rows and 15 columns\n"
     ]
    }
   ],
   "source": [
    "print('The cleaned Dataframe contains {} rows and {} columns'.format(df.shape[0], df.shape[1]))"
   ]
  },
  {
   "cell_type": "code",
   "execution_count": 4,
   "metadata": {
    "ExecuteTime": {
     "end_time": "2020-06-19T09:58:19.037165Z",
     "start_time": "2020-06-19T09:58:18.994272Z"
    }
   },
   "outputs": [
    {
     "data": {
      "text/html": [
       "<div>\n",
       "<style scoped>\n",
       "    .dataframe tbody tr th:only-of-type {\n",
       "        vertical-align: middle;\n",
       "    }\n",
       "\n",
       "    .dataframe tbody tr th {\n",
       "        vertical-align: top;\n",
       "    }\n",
       "\n",
       "    .dataframe thead th {\n",
       "        text-align: right;\n",
       "    }\n",
       "</style>\n",
       "<table border=\"1\" class=\"dataframe\">\n",
       "  <thead>\n",
       "    <tr style=\"text-align: right;\">\n",
       "      <th></th>\n",
       "      <th>Feature Name</th>\n",
       "      <th>Feature Type</th>\n",
       "      <th>Null Count</th>\n",
       "      <th>Null Percentage</th>\n",
       "      <th>Unique Data</th>\n",
       "      <th>Unique Data Sample</th>\n",
       "    </tr>\n",
       "  </thead>\n",
       "  <tbody>\n",
       "    <tr>\n",
       "      <th>0</th>\n",
       "      <td>Age</td>\n",
       "      <td>int64</td>\n",
       "      <td>0</td>\n",
       "      <td>0.0</td>\n",
       "      <td>73</td>\n",
       "      <td>[39, 30]</td>\n",
       "    </tr>\n",
       "    <tr>\n",
       "      <th>1</th>\n",
       "      <td>Workclass</td>\n",
       "      <td>object</td>\n",
       "      <td>0</td>\n",
       "      <td>0.0</td>\n",
       "      <td>4</td>\n",
       "      <td>['Private', 'Government']</td>\n",
       "    </tr>\n",
       "    <tr>\n",
       "      <th>2</th>\n",
       "      <td>Final Weight</td>\n",
       "      <td>int64</td>\n",
       "      <td>0</td>\n",
       "      <td>0.0</td>\n",
       "      <td>21648</td>\n",
       "      <td>[277886, 200479]</td>\n",
       "    </tr>\n",
       "    <tr>\n",
       "      <th>3</th>\n",
       "      <td>Education</td>\n",
       "      <td>object</td>\n",
       "      <td>0</td>\n",
       "      <td>0.0</td>\n",
       "      <td>12</td>\n",
       "      <td>['HS-grad', 'Some-college']</td>\n",
       "    </tr>\n",
       "    <tr>\n",
       "      <th>4</th>\n",
       "      <td>Years of Education</td>\n",
       "      <td>int64</td>\n",
       "      <td>0</td>\n",
       "      <td>0.0</td>\n",
       "      <td>16</td>\n",
       "      <td>[6, 12]</td>\n",
       "    </tr>\n",
       "    <tr>\n",
       "      <th>5</th>\n",
       "      <td>Marital Status</td>\n",
       "      <td>object</td>\n",
       "      <td>0</td>\n",
       "      <td>0.0</td>\n",
       "      <td>5</td>\n",
       "      <td>['Divorced', 'Single']</td>\n",
       "    </tr>\n",
       "    <tr>\n",
       "      <th>6</th>\n",
       "      <td>Occupation</td>\n",
       "      <td>object</td>\n",
       "      <td>0</td>\n",
       "      <td>0.0</td>\n",
       "      <td>14</td>\n",
       "      <td>['Armed-Forces', 'Machine-op-inspct']</td>\n",
       "    </tr>\n",
       "    <tr>\n",
       "      <th>7</th>\n",
       "      <td>Role in Family</td>\n",
       "      <td>object</td>\n",
       "      <td>0</td>\n",
       "      <td>0.0</td>\n",
       "      <td>6</td>\n",
       "      <td>['Other-relative', 'Own-child']</td>\n",
       "    </tr>\n",
       "    <tr>\n",
       "      <th>8</th>\n",
       "      <td>Race</td>\n",
       "      <td>object</td>\n",
       "      <td>0</td>\n",
       "      <td>0.0</td>\n",
       "      <td>5</td>\n",
       "      <td>['Amer-Indian-Eskimo', 'Asian-Pac-Islander']</td>\n",
       "    </tr>\n",
       "    <tr>\n",
       "      <th>9</th>\n",
       "      <td>Gender</td>\n",
       "      <td>object</td>\n",
       "      <td>0</td>\n",
       "      <td>0.0</td>\n",
       "      <td>2</td>\n",
       "      <td>['Male', 'Male']</td>\n",
       "    </tr>\n",
       "    <tr>\n",
       "      <th>10</th>\n",
       "      <td>Capital Gain</td>\n",
       "      <td>int64</td>\n",
       "      <td>0</td>\n",
       "      <td>0.0</td>\n",
       "      <td>119</td>\n",
       "      <td>[2202, 7896]</td>\n",
       "    </tr>\n",
       "    <tr>\n",
       "      <th>11</th>\n",
       "      <td>Capital Loss</td>\n",
       "      <td>int64</td>\n",
       "      <td>0</td>\n",
       "      <td>0.0</td>\n",
       "      <td>92</td>\n",
       "      <td>[2231, 2547]</td>\n",
       "    </tr>\n",
       "    <tr>\n",
       "      <th>12</th>\n",
       "      <td>Workhours per Week</td>\n",
       "      <td>int64</td>\n",
       "      <td>0</td>\n",
       "      <td>0.0</td>\n",
       "      <td>94</td>\n",
       "      <td>[55, 66]</td>\n",
       "    </tr>\n",
       "    <tr>\n",
       "      <th>13</th>\n",
       "      <td>Native Country</td>\n",
       "      <td>object</td>\n",
       "      <td>0</td>\n",
       "      <td>0.0</td>\n",
       "      <td>2</td>\n",
       "      <td>['Outside-US', 'Outside-US']</td>\n",
       "    </tr>\n",
       "    <tr>\n",
       "      <th>14</th>\n",
       "      <td>Income</td>\n",
       "      <td>object</td>\n",
       "      <td>0</td>\n",
       "      <td>0.0</td>\n",
       "      <td>2</td>\n",
       "      <td>['&gt;50K', '&gt;50K']</td>\n",
       "    </tr>\n",
       "  </tbody>\n",
       "</table>\n",
       "</div>"
      ],
      "text/plain": [
       "          Feature Name Feature Type  Null Count  Null Percentage  Unique Data  \\\n",
       "0                  Age        int64           0              0.0           73   \n",
       "1            Workclass       object           0              0.0            4   \n",
       "2         Final Weight        int64           0              0.0        21648   \n",
       "3            Education       object           0              0.0           12   \n",
       "4   Years of Education        int64           0              0.0           16   \n",
       "5       Marital Status       object           0              0.0            5   \n",
       "6           Occupation       object           0              0.0           14   \n",
       "7       Role in Family       object           0              0.0            6   \n",
       "8                 Race       object           0              0.0            5   \n",
       "9               Gender       object           0              0.0            2   \n",
       "10        Capital Gain        int64           0              0.0          119   \n",
       "11        Capital Loss        int64           0              0.0           92   \n",
       "12  Workhours per Week        int64           0              0.0           94   \n",
       "13      Native Country       object           0              0.0            2   \n",
       "14              Income       object           0              0.0            2   \n",
       "\n",
       "                              Unique Data Sample  \n",
       "0                                       [39, 30]  \n",
       "1                      ['Private', 'Government']  \n",
       "2                               [277886, 200479]  \n",
       "3                    ['HS-grad', 'Some-college']  \n",
       "4                                        [6, 12]  \n",
       "5                         ['Divorced', 'Single']  \n",
       "6          ['Armed-Forces', 'Machine-op-inspct']  \n",
       "7                ['Other-relative', 'Own-child']  \n",
       "8   ['Amer-Indian-Eskimo', 'Asian-Pac-Islander']  \n",
       "9                               ['Male', 'Male']  \n",
       "10                                  [2202, 7896]  \n",
       "11                                  [2231, 2547]  \n",
       "12                                      [55, 66]  \n",
       "13                  ['Outside-US', 'Outside-US']  \n",
       "14                              ['>50K', '>50K']  "
      ]
     },
     "execution_count": 4,
     "metadata": {},
     "output_type": "execute_result"
    }
   ],
   "source": [
    "df_desc = pd.read_csv('df_desc.csv')\n",
    "df_desc.drop('Unnamed: 0', axis = 1, inplace = True)\n",
    "df_desc"
   ]
  },
  {
   "cell_type": "code",
   "execution_count": 5,
   "metadata": {
    "ExecuteTime": {
     "end_time": "2020-06-19T09:58:19.246704Z",
     "start_time": "2020-06-19T09:58:19.042281Z"
    }
   },
   "outputs": [],
   "source": [
    "df_1 = pd.read_csv('df_1.csv')\n",
    "df_1.drop('Unnamed: 0', axis = 1, inplace = True)\n",
    "\n",
    "df_corr_merge = pd.read_csv('df_corr_merge.csv')\n",
    "df_corr_merge.rename(columns = {'Unnamed: 0' : 'Features'}, inplace = True)\n",
    "df_corr_merge.set_index('Features', inplace = True)"
   ]
  },
  {
   "cell_type": "markdown",
   "metadata": {},
   "source": [
    "# Building Model"
   ]
  },
  {
   "cell_type": "code",
   "execution_count": 6,
   "metadata": {
    "ExecuteTime": {
     "end_time": "2020-06-19T09:58:19.260669Z",
     "start_time": "2020-06-19T09:58:19.250695Z"
    }
   },
   "outputs": [],
   "source": [
    "x = df_1.drop('Income', axis = 1)\n",
    "y = df_1['Income']"
   ]
  },
  {
   "cell_type": "markdown",
   "metadata": {},
   "source": [
    "## Feature Selection"
   ]
  },
  {
   "cell_type": "markdown",
   "metadata": {},
   "source": [
    "From class, I learned that there are 3 methods to select the best features in a dataframe. Those methods are : Correlation, Univariate Selection (Using chi2 method), and Feature Importance (ExtraTreesClassifier). I already did the Correlation method so I'm going to perform the other two methods."
   ]
  },
  {
   "cell_type": "markdown",
   "metadata": {},
   "source": [
    "### Univariate Selection (Using chi2 method)"
   ]
  },
  {
   "cell_type": "markdown",
   "metadata": {},
   "source": [
    "For this method to function properly, we have to transform all categorical features into continous data. We already did that on the previous notebook."
   ]
  },
  {
   "cell_type": "code",
   "execution_count": 7,
   "metadata": {
    "ExecuteTime": {
     "end_time": "2020-06-19T09:58:19.321511Z",
     "start_time": "2020-06-19T09:58:19.262668Z"
    }
   },
   "outputs": [
    {
     "name": "stdout",
     "output_type": "stream",
     "text": [
      "                 Specs        Score\n",
      "0                  Age  8590.317129\n",
      "9   Workhours per Week  6468.865417\n",
      "6       Role in Family  3658.215060\n",
      "3   Years of Education  2399.035890\n",
      "4       Marital Status  1800.533027\n",
      "8               Gender   501.968535\n",
      "2            Education   483.018972\n",
      "5           Occupation   362.573891\n",
      "7                 Race    33.012176\n",
      "10      Native Country     4.197041\n",
      "1            Workclass     1.209922\n"
     ]
    }
   ],
   "source": [
    "fs = SelectKBest(score_func = chi2, k = 11)\n",
    "fs.fit(x,y)\n",
    "dfscores = pd.DataFrame(fs.fit(x,y).scores_)\n",
    "dfcolumns = pd.DataFrame(x.columns)\n",
    "\n",
    "featureScores = pd.concat([dfcolumns,dfscores],axis=1)\n",
    "featureScores.columns = ['Specs','Score']  \n",
    "print(featureScores.nlargest(11,'Score'))  "
   ]
  },
  {
   "cell_type": "markdown",
   "metadata": {},
   "source": [
    "The top 5 features from this method are Age, Workhours per Week, Role in Family, Years of Education, and Marital Status."
   ]
  },
  {
   "cell_type": "markdown",
   "metadata": {},
   "source": [
    "### Feature Importance (ExtraTreesClassifier)"
   ]
  },
  {
   "cell_type": "code",
   "execution_count": 8,
   "metadata": {
    "ExecuteTime": {
     "end_time": "2020-06-19T09:58:24.069275Z",
     "start_time": "2020-06-19T09:58:19.328496Z"
    }
   },
   "outputs": [
    {
     "data": {
      "image/png": "[encoded data removed]",
      "text/plain": [
       "<Figure size 432x288 with 1 Axes>"
      ]
     },
     "metadata": {
      "needs_background": "light"
     },
     "output_type": "display_data"
    }
   ],
   "source": [
    "XTree = ExtraTreesClassifier()\n",
    "XTree.fit(x,y)\n",
    "# print(model.feature_importances_) #use inbuilt class feature_importances of tree based classifiers\n",
    "\n",
    "#plot graph of feature importances for better visualization\n",
    "feat_importances = pd.Series(XTree.feature_importances_, index=x.columns)\n",
    "feat_importances.nlargest(11).plot(kind='barh')\n",
    "plt.show()"
   ]
  },
  {
   "cell_type": "markdown",
   "metadata": {},
   "source": [
    "The top 5 features from this method are Age, Workhours per Week, Occupation, Years of Education, and Role in Family."
   ]
  },
  {
   "cell_type": "markdown",
   "metadata": {},
   "source": [
    "### Correlation"
   ]
  },
  {
   "cell_type": "code",
   "execution_count": 9,
   "metadata": {
    "ExecuteTime": {
     "end_time": "2020-06-19T09:58:24.088736Z",
     "start_time": "2020-06-19T09:58:24.072267Z"
    }
   },
   "outputs": [
    {
     "data": {
      "text/html": [
       "<div>\n",
       "<style scoped>\n",
       "    .dataframe tbody tr th:only-of-type {\n",
       "        vertical-align: middle;\n",
       "    }\n",
       "\n",
       "    .dataframe tbody tr th {\n",
       "        vertical-align: top;\n",
       "    }\n",
       "\n",
       "    .dataframe thead th {\n",
       "        text-align: right;\n",
       "    }\n",
       "</style>\n",
       "<table border=\"1\" class=\"dataframe\">\n",
       "  <thead>\n",
       "    <tr style=\"text-align: right;\">\n",
       "      <th></th>\n",
       "      <th>Correlation Ratio</th>\n",
       "      <th>Correlation Ratio 2</th>\n",
       "      <th>Type</th>\n",
       "      <th>Difference</th>\n",
       "    </tr>\n",
       "    <tr>\n",
       "      <th>Features</th>\n",
       "      <th></th>\n",
       "      <th></th>\n",
       "      <th></th>\n",
       "      <th></th>\n",
       "    </tr>\n",
       "  </thead>\n",
       "  <tbody>\n",
       "    <tr>\n",
       "      <th>Income</th>\n",
       "      <td>0.999916</td>\n",
       "      <td>1.000000</td>\n",
       "      <td>int32</td>\n",
       "      <td>0.000</td>\n",
       "    </tr>\n",
       "    <tr>\n",
       "      <th>Years of Education</th>\n",
       "      <td>0.335272</td>\n",
       "      <td>0.335272</td>\n",
       "      <td>int64</td>\n",
       "      <td>0.000</td>\n",
       "    </tr>\n",
       "    <tr>\n",
       "      <th>Marital Status</th>\n",
       "      <td>0.436853</td>\n",
       "      <td>0.260273</td>\n",
       "      <td>int32</td>\n",
       "      <td>0.177</td>\n",
       "    </tr>\n",
       "    <tr>\n",
       "      <th>Role in Family</th>\n",
       "      <td>0.453353</td>\n",
       "      <td>0.250948</td>\n",
       "      <td>int32</td>\n",
       "      <td>0.202</td>\n",
       "    </tr>\n",
       "    <tr>\n",
       "      <th>Age</th>\n",
       "      <td>0.234037</td>\n",
       "      <td>0.234037</td>\n",
       "      <td>int64</td>\n",
       "      <td>0.000</td>\n",
       "    </tr>\n",
       "    <tr>\n",
       "      <th>Workhours per Week</th>\n",
       "      <td>0.229658</td>\n",
       "      <td>0.229658</td>\n",
       "      <td>int64</td>\n",
       "      <td>0.000</td>\n",
       "    </tr>\n",
       "    <tr>\n",
       "      <th>Gender</th>\n",
       "      <td>0.215825</td>\n",
       "      <td>0.215969</td>\n",
       "      <td>int32</td>\n",
       "      <td>0.000</td>\n",
       "    </tr>\n",
       "    <tr>\n",
       "      <th>Education</th>\n",
       "      <td>0.368404</td>\n",
       "      <td>0.087201</td>\n",
       "      <td>int32</td>\n",
       "      <td>0.281</td>\n",
       "    </tr>\n",
       "    <tr>\n",
       "      <th>Race</th>\n",
       "      <td>0.100243</td>\n",
       "      <td>0.071847</td>\n",
       "      <td>int32</td>\n",
       "      <td>0.028</td>\n",
       "    </tr>\n",
       "    <tr>\n",
       "      <th>Occupation</th>\n",
       "      <td>0.356682</td>\n",
       "      <td>0.063031</td>\n",
       "      <td>int32</td>\n",
       "      <td>0.294</td>\n",
       "    </tr>\n",
       "    <tr>\n",
       "      <th>Native Country</th>\n",
       "      <td>0.038174</td>\n",
       "      <td>0.038702</td>\n",
       "      <td>int32</td>\n",
       "      <td>0.001</td>\n",
       "    </tr>\n",
       "    <tr>\n",
       "      <th>Workclass</th>\n",
       "      <td>0.131363</td>\n",
       "      <td>0.010486</td>\n",
       "      <td>int32</td>\n",
       "      <td>0.121</td>\n",
       "    </tr>\n",
       "  </tbody>\n",
       "</table>\n",
       "</div>"
      ],
      "text/plain": [
       "                    Correlation Ratio  Correlation Ratio 2   Type  Difference\n",
       "Features                                                                     \n",
       "Income                       0.999916             1.000000  int32       0.000\n",
       "Years of Education           0.335272             0.335272  int64       0.000\n",
       "Marital Status               0.436853             0.260273  int32       0.177\n",
       "Role in Family               0.453353             0.250948  int32       0.202\n",
       "Age                          0.234037             0.234037  int64       0.000\n",
       "Workhours per Week           0.229658             0.229658  int64       0.000\n",
       "Gender                       0.215825             0.215969  int32       0.000\n",
       "Education                    0.368404             0.087201  int32       0.281\n",
       "Race                         0.100243             0.071847  int32       0.028\n",
       "Occupation                   0.356682             0.063031  int32       0.294\n",
       "Native Country               0.038174             0.038702  int32       0.001\n",
       "Workclass                    0.131363             0.010486  int32       0.121"
      ]
     },
     "execution_count": 9,
     "metadata": {},
     "output_type": "execute_result"
    }
   ],
   "source": [
    "df_corr_merge.sort_values(ascending = False, by = 'Correlation Ratio 2')"
   ]
  },
  {
   "cell_type": "markdown",
   "metadata": {
    "ExecuteTime": {
     "end_time": "2020-06-16T15:23:34.816281Z",
     "start_time": "2020-06-16T15:23:34.600353Z"
    }
   },
   "source": [
    "The top 5 features from this method are Years of Education, Marital Status, Role in Family, Age, Workhours per Week. <br>\n",
    "Although there is a similar top 5 features between 3 methods, It's not really wise to drop other features. So for building this model, I will use all 11 features."
   ]
  },
  {
   "cell_type": "markdown",
   "metadata": {},
   "source": [
    "## Outliers"
   ]
  },
  {
   "cell_type": "markdown",
   "metadata": {
    "ExecuteTime": {
     "end_time": "2020-06-16T15:29:34.722279Z",
     "start_time": "2020-06-16T15:29:34.704323Z"
    }
   },
   "source": [
    "Before we build our model, first we detect outliers in numerical feature."
   ]
  },
  {
   "cell_type": "code",
   "execution_count": 10,
   "metadata": {
    "ExecuteTime": {
     "end_time": "2020-06-19T09:58:24.106688Z",
     "start_time": "2020-06-19T09:58:24.091729Z"
    }
   },
   "outputs": [],
   "source": [
    "nums_feature = df.drop(['Final Weight', 'Capital Gain', 'Capital Loss'], axis = 1).select_dtypes('int64').columns"
   ]
  },
  {
   "cell_type": "code",
   "execution_count": 11,
   "metadata": {
    "ExecuteTime": {
     "end_time": "2020-06-19T09:58:24.168523Z",
     "start_time": "2020-06-19T09:58:24.109681Z"
    }
   },
   "outputs": [
    {
     "name": "stdout",
     "output_type": "stream",
     "text": [
      "There is outliers in feature Age\n",
      "There is outliers in feature Years of Education\n",
      "There is outliers in feature Workhours per Week\n"
     ]
    }
   ],
   "source": [
    "outlier = []\n",
    "Q1 = {}\n",
    "Q3 = {}\n",
    "IQR = {}\n",
    "len_data_outlier = {}\n",
    "\n",
    "for i in nums_feature:\n",
    "    Q1[i] = df[i].describe()['25%']\n",
    "    Q3[i] = df[i].describe()['75%']\n",
    "    IQR[i] = Q3[i] - Q1[i]\n",
    "    len_data_outlier[i] = len(df[(df[i] < Q1[i] - (1.5*IQR[i])) | (df[i] > Q3[i] + (1.5 * IQR[i]))])\n",
    "    \n",
    "for i,j in len_data_outlier.items():\n",
    "    if j == 0:\n",
    "        print('There is no outlier in feature {}'.format(i))\n",
    "    else:\n",
    "        print('There is outliers in feature {}'.format(i))\n",
    "        outlier.append(i)"
   ]
  },
  {
   "cell_type": "code",
   "execution_count": 12,
   "metadata": {
    "ExecuteTime": {
     "end_time": "2020-06-19T09:58:24.969399Z",
     "start_time": "2020-06-19T09:58:24.170517Z"
    }
   },
   "outputs": [
    {
     "data": {
      "image/png": "[encoded data removed]",
      "text/plain": [
       "<Figure size 720x1080 with 3 Axes>"
      ]
     },
     "metadata": {
      "needs_background": "light"
     },
     "output_type": "display_data"
    }
   ],
   "source": [
    "number_of_columns = 3\n",
    "number_of_rows = len(nums_feature)-1/number_of_columns\n",
    "\n",
    "plt.figure(figsize=(10,15))\n",
    "for i in range(0,len(nums_feature)):\n",
    "    plt.subplot(number_of_rows + 1,number_of_columns,i+1)\n",
    "    sns.set_style('whitegrid')\n",
    "    sns.boxplot(df[nums_feature[i]],color='green',orient='v')\n",
    "    plt.tight_layout()"
   ]
  },
  {
   "cell_type": "markdown",
   "metadata": {},
   "source": [
    "For this 3 features above, we are going to use Robust Scaler to treat its outlier."
   ]
  },
  {
   "cell_type": "markdown",
   "metadata": {},
   "source": [
    "## Baseline Model with Scaled Data"
   ]
  },
  {
   "cell_type": "markdown",
   "metadata": {},
   "source": [
    "In this part, I try to make a baseline model in which, we get the base accuracy score using a Logistic Regression Model with using scaled data on numerical feature."
   ]
  },
  {
   "cell_type": "code",
   "execution_count": 13,
   "metadata": {
    "ExecuteTime": {
     "end_time": "2020-06-19T09:58:24.979372Z",
     "start_time": "2020-06-19T09:58:24.971395Z"
    }
   },
   "outputs": [],
   "source": [
    "x = df_1.drop('Income', axis = 1)\n",
    "y = df_1['Income']"
   ]
  },
  {
   "cell_type": "code",
   "execution_count": 14,
   "metadata": {
    "ExecuteTime": {
     "end_time": "2020-06-19T09:58:25.002313Z",
     "start_time": "2020-06-19T09:58:24.983363Z"
    }
   },
   "outputs": [
    {
     "data": {
      "text/plain": [
       "((26029, 11), (26029,), (6508, 11), (6508,))"
      ]
     },
     "execution_count": 14,
     "metadata": {},
     "output_type": "execute_result"
    }
   ],
   "source": [
    "x_train, x_test, y_train, y_test = train_test_split(x, y, test_size = 0.20, random_state = 0)\n",
    "x_train.shape, y_train.shape, x_test.shape, y_test.shape"
   ]
  },
  {
   "cell_type": "markdown",
   "metadata": {},
   "source": [
    "We do scaling after splitting data to prevent data leakage."
   ]
  },
  {
   "cell_type": "code",
   "execution_count": 15,
   "metadata": {
    "ExecuteTime": {
     "end_time": "2020-06-19T09:58:25.021261Z",
     "start_time": "2020-06-19T09:58:25.004306Z"
    }
   },
   "outputs": [],
   "source": [
    "x_train_num = x_train[['Age', 'Years of Education', 'Workhours per Week']]\n",
    "x_train_cat = x_train.drop(['Age', 'Years of Education', 'Workhours per Week'], axis = 1)\n",
    "\n",
    "x_test_num = x_test[['Age', 'Years of Education', 'Workhours per Week']]\n",
    "x_test_cat = x_test.drop(['Age', 'Years of Education', 'Workhours per Week'], axis = 1)"
   ]
  },
  {
   "cell_type": "code",
   "execution_count": 16,
   "metadata": {
    "ExecuteTime": {
     "end_time": "2020-06-19T09:58:25.058163Z",
     "start_time": "2020-06-19T09:58:25.024253Z"
    }
   },
   "outputs": [],
   "source": [
    "x_train_numscl = pd.DataFrame(RobustScaler().fit_transform(x_train_num), \n",
    "                              columns = ['Age', 'Years of Education', 'Workhours per Week'],\n",
    "                              index = x_train_num.index)\n",
    "\n",
    "x_test_numscl = pd.DataFrame(RobustScaler().fit_transform(x_test_num), \n",
    "                              columns = ['Age', 'Years of Education', 'Workhours per Week'],\n",
    "                              index = x_test_num.index)"
   ]
  },
  {
   "cell_type": "code",
   "execution_count": 17,
   "metadata": {
    "ExecuteTime": {
     "end_time": "2020-06-19T09:58:25.077112Z",
     "start_time": "2020-06-19T09:58:25.061154Z"
    }
   },
   "outputs": [
    {
     "data": {
      "text/plain": [
       "((26029, 11), (26029,), (6508, 11), (6508,))"
      ]
     },
     "execution_count": 17,
     "metadata": {},
     "output_type": "execute_result"
    }
   ],
   "source": [
    "x_train_scl = pd.concat([x_train_numscl, x_train_cat], axis = 1)\n",
    "x_test_scl = pd.concat([x_test_numscl, x_test_cat], axis = 1)\n",
    "x_train_scl.shape, y_train.shape, x_test_scl.shape, y_test.shape"
   ]
  },
  {
   "cell_type": "code",
   "execution_count": 18,
   "metadata": {
    "ExecuteTime": {
     "end_time": "2020-06-19T09:58:25.545000Z",
     "start_time": "2020-06-19T09:58:25.083099Z"
    }
   },
   "outputs": [
    {
     "name": "stdout",
     "output_type": "stream",
     "text": [
      "Score for test data in Logistic Regression Model with scaled data is 0.8053\n"
     ]
    }
   ],
   "source": [
    "lr_bm = LogisticRegression()\n",
    "lr_bm.fit(x_train_scl, y_train)\n",
    "\n",
    "y_pred_lrbm = lr_bm.predict(x_test_scl)\n",
    "\n",
    "accu_lrbm = accuracy_score(y_test, y_pred_lrbm)\n",
    "\n",
    "print('Score for test data in Logistic Regression Model with scaled data is {:.4f}'.format(accu_lrbm))"
   ]
  },
  {
   "cell_type": "code",
   "execution_count": 19,
   "metadata": {
    "ExecuteTime": {
     "end_time": "2020-06-19T09:58:27.000888Z",
     "start_time": "2020-06-19T09:58:25.553078Z"
    }
   },
   "outputs": [
    {
     "name": "stdout",
     "output_type": "stream",
     "text": [
      "0.8053708294168814\n"
     ]
    }
   ],
   "source": [
    "cv_score_lrbm = cross_val_score(lr_bm, x_train_scl, y_train, cv = 5)\n",
    "print(cv_score_lrbm.mean())"
   ]
  },
  {
   "cell_type": "code",
   "execution_count": 20,
   "metadata": {
    "ExecuteTime": {
     "end_time": "2020-06-19T09:58:27.029894Z",
     "start_time": "2020-06-19T09:58:27.003926Z"
    }
   },
   "outputs": [
    {
     "name": "stdout",
     "output_type": "stream",
     "text": [
      "              precision    recall  f1-score   support\n",
      "\n",
      "           0       0.84      0.93      0.88      4975\n",
      "           1       0.63      0.41      0.50      1533\n",
      "\n",
      "    accuracy                           0.81      6508\n",
      "   macro avg       0.74      0.67      0.69      6508\n",
      "weighted avg       0.79      0.81      0.79      6508\n",
      "\n"
     ]
    }
   ],
   "source": [
    "print(classification_report(y_test, y_pred_lrbm))"
   ]
  },
  {
   "cell_type": "markdown",
   "metadata": {},
   "source": [
    "## Handling Imbalanced Data"
   ]
  },
  {
   "cell_type": "markdown",
   "metadata": {},
   "source": [
    "Let's take a look at our target variable (Income feature)"
   ]
  },
  {
   "cell_type": "code",
   "execution_count": 21,
   "metadata": {
    "ExecuteTime": {
     "end_time": "2020-06-19T09:58:27.408289Z",
     "start_time": "2020-06-19T09:58:27.032945Z"
    }
   },
   "outputs": [
    {
     "data": {
      "text/plain": [
       "<matplotlib.axes._subplots.AxesSubplot at 0x1fe8c2a0388>"
      ]
     },
     "execution_count": 21,
     "metadata": {},
     "output_type": "execute_result"
    },
    {
     "data": {
      "image/png": "[encoded data removed]",
      "text/plain": [
       "<Figure size 432x288 with 1 Axes>"
      ]
     },
     "metadata": {},
     "output_type": "display_data"
    }
   ],
   "source": [
    "sns.distplot(df_1['Income'], hist = False)"
   ]
  },
  {
   "cell_type": "code",
   "execution_count": 22,
   "metadata": {
    "ExecuteTime": {
     "end_time": "2020-06-19T09:58:27.421434Z",
     "start_time": "2020-06-19T09:58:27.410283Z"
    }
   },
   "outputs": [
    {
     "data": {
      "text/plain": [
       "<=50K    24698\n",
       ">50K      7839\n",
       "Name: Income, dtype: int64"
      ]
     },
     "execution_count": 22,
     "metadata": {},
     "output_type": "execute_result"
    }
   ],
   "source": [
    "df['Income'].value_counts()"
   ]
  },
  {
   "cell_type": "code",
   "execution_count": 23,
   "metadata": {
    "ExecuteTime": {
     "end_time": "2020-06-19T09:58:27.592975Z",
     "start_time": "2020-06-19T09:58:27.428415Z"
    }
   },
   "outputs": [
    {
     "data": {
      "image/png": "[encoded data removed]",
      "text/plain": [
       "<Figure size 576x576 with 1 Axes>"
      ]
     },
     "metadata": {},
     "output_type": "display_data"
    }
   ],
   "source": [
    "plt.figure(figsize = (8,8))\n",
    "income = sns.countplot(x = df['Income'], palette = 'Blues')\n",
    "income.set_title('Income Distribution')\n",
    "\n",
    "plt.show()"
   ]
  },
  {
   "cell_type": "markdown",
   "metadata": {},
   "source": [
    "As you can see, Income target variable is not evenly distributed. With <=50K Income dominate in around 75% of the target variable. So I decided to treat this imbalanced data with SMOTE technique to find out whether handling imbalanced data improve our accuracy model or not."
   ]
  },
  {
   "cell_type": "code",
   "execution_count": 24,
   "metadata": {
    "ExecuteTime": {
     "end_time": "2020-06-19T09:58:27.601952Z",
     "start_time": "2020-06-19T09:58:27.595967Z"
    }
   },
   "outputs": [
    {
     "data": {
      "text/plain": [
       "((6508, 11), (6508,), (26029, 11), (26029,))"
      ]
     },
     "execution_count": 24,
     "metadata": {},
     "output_type": "execute_result"
    }
   ],
   "source": [
    "x_test_scl.shape, y_test.shape, x_train_scl.shape, y_train.shape"
   ]
  },
  {
   "cell_type": "code",
   "execution_count": 25,
   "metadata": {
    "ExecuteTime": {
     "end_time": "2020-06-19T09:58:27.856678Z",
     "start_time": "2020-06-19T09:58:27.604943Z"
    }
   },
   "outputs": [],
   "source": [
    "sm_lr = SMOTE(random_state = 5)\n",
    "x_tr_sm, y_tr_sm = sm_lr.fit_sample(x_train_scl, y_train)"
   ]
  },
  {
   "cell_type": "code",
   "execution_count": 26,
   "metadata": {
    "ExecuteTime": {
     "end_time": "2020-06-19T09:58:27.878620Z",
     "start_time": "2020-06-19T09:58:27.858673Z"
    }
   },
   "outputs": [
    {
     "name": "stdout",
     "output_type": "stream",
     "text": [
      "Target variable shape before Oversampling (SMOTE) Counter({0: 19723, 1: 6306})\n",
      "Target variable shape after Oversampling (SMOTE) Counter({0: 19723, 1: 19723})\n"
     ]
    }
   ],
   "source": [
    "print('Target variable shape before Oversampling (SMOTE) {}'.format(Counter(y_train)))\n",
    "print('Target variable shape after Oversampling (SMOTE) {}'.format(Counter(y_tr_sm)))"
   ]
  },
  {
   "cell_type": "code",
   "execution_count": 27,
   "metadata": {
    "ExecuteTime": {
     "end_time": "2020-06-19T09:58:28.266605Z",
     "start_time": "2020-06-19T09:58:27.880614Z"
    }
   },
   "outputs": [
    {
     "name": "stdout",
     "output_type": "stream",
     "text": [
      "Score for test data in Logistic Regression Model with applying SMOTE method is 0.7365\n"
     ]
    }
   ],
   "source": [
    "lr_smote = LogisticRegression()\n",
    "lr_smote.fit(x_tr_sm, y_tr_sm)\n",
    "\n",
    "y_pred_lr_smote = lr_smote.predict(x_test_scl)\n",
    "\n",
    "accu_lr_smote = accuracy_score(y_test, y_pred_lr_smote)\n",
    "\n",
    "print('Score for test data in Logistic Regression Model with applying SMOTE method is {:.4f}'.format(accu_lr_smote))"
   ]
  },
  {
   "cell_type": "markdown",
   "metadata": {},
   "source": [
    "From accuracy score above, it seems that applying SMOTE technique, does not really improve our accuracy score. Let's take a look at the classification report for each model."
   ]
  },
  {
   "cell_type": "code",
   "execution_count": 28,
   "metadata": {
    "ExecuteTime": {
     "end_time": "2020-06-19T09:58:28.292536Z",
     "start_time": "2020-06-19T09:58:28.269599Z"
    }
   },
   "outputs": [
    {
     "name": "stdout",
     "output_type": "stream",
     "text": [
      "              precision    recall  f1-score   support\n",
      "\n",
      "           0       0.84      0.93      0.88      4975\n",
      "           1       0.63      0.41      0.50      1533\n",
      "\n",
      "    accuracy                           0.81      6508\n",
      "   macro avg       0.74      0.67      0.69      6508\n",
      "weighted avg       0.79      0.81      0.79      6508\n",
      "\n"
     ]
    }
   ],
   "source": [
    "#baseline model\n",
    "print(classification_report(y_test, y_pred_lrbm))"
   ]
  },
  {
   "cell_type": "code",
   "execution_count": 29,
   "metadata": {
    "ExecuteTime": {
     "end_time": "2020-06-19T09:58:28.323453Z",
     "start_time": "2020-06-19T09:58:28.295528Z"
    }
   },
   "outputs": [
    {
     "name": "stdout",
     "output_type": "stream",
     "text": [
      "              precision    recall  f1-score   support\n",
      "\n",
      "           0       0.91      0.73      0.81      4975\n",
      "           1       0.46      0.76      0.58      1533\n",
      "\n",
      "    accuracy                           0.74      6508\n",
      "   macro avg       0.69      0.74      0.69      6508\n",
      "weighted avg       0.80      0.74      0.75      6508\n",
      "\n"
     ]
    }
   ],
   "source": [
    "#smote model\n",
    "print(classification_report(y_test, y_pred_lr_smote))"
   ]
  },
  {
   "cell_type": "markdown",
   "metadata": {},
   "source": [
    "Apparently, applying SMOTE improve the recall score on 1 (>50K Income) but reduces its precision score on 1 and recall value on 0. Also it greatly reduces our accuracy score. I guess it is not really worth the risk to use this technique."
   ]
  },
  {
   "cell_type": "markdown",
   "metadata": {},
   "source": [
    "# Models"
   ]
  },
  {
   "cell_type": "markdown",
   "metadata": {},
   "source": [
    "There are so many classification model in machine learning. In this case I will use 3 models which are :\n",
    "1. Logistic Regression\n",
    "2. Support Vector Classifier (SVC)\n",
    "3. Random Forest Classifier\n",
    "4. XGBoost Classifier\n",
    "\n",
    "For each model, I will do a hyperparameter tuning."
   ]
  },
  {
   "cell_type": "code",
   "execution_count": 30,
   "metadata": {
    "ExecuteTime": {
     "end_time": "2020-06-19T09:58:28.335421Z",
     "start_time": "2020-06-19T09:58:28.327442Z"
    }
   },
   "outputs": [
    {
     "data": {
      "text/plain": [
       "((26029, 11), (26029,), (6508, 11), (6508,))"
      ]
     },
     "execution_count": 30,
     "metadata": {},
     "output_type": "execute_result"
    }
   ],
   "source": [
    "x_train_scl.shape, y_train.shape, x_test_scl.shape, y_test.shape"
   ]
  },
  {
   "cell_type": "markdown",
   "metadata": {},
   "source": [
    "## Model 1 - Logistic Regression"
   ]
  },
  {
   "cell_type": "code",
   "execution_count": 31,
   "metadata": {
    "ExecuteTime": {
     "end_time": "2020-06-19T09:58:28.886946Z",
     "start_time": "2020-06-19T09:58:28.339410Z"
    }
   },
   "outputs": [
    {
     "name": "stdout",
     "output_type": "stream",
     "text": [
      "Accuracy Score in Logistic Regression Model is 0.8053\n",
      "Score for test data in Logistic Regression Model is 0.8053\n",
      "Score for train data in Logistic Regression Model is 0.8054\n"
     ]
    }
   ],
   "source": [
    "lr = LogisticRegression()\n",
    "lr.fit(x_train_scl, y_train)\n",
    "\n",
    "y_pred_1 = lr.predict(x_test_scl)\n",
    "\n",
    "accu_1 = accuracy_score(y_test, y_pred_1)\n",
    "\n",
    "testlr1_score = lr.score(x_test_scl, y_test)\n",
    "trainlr1_score = lr.score(x_train_scl, y_train)\n",
    "\n",
    "print('Accuracy Score in Logistic Regression Model is {:.4f}'.format(accu_1))\n",
    "print('Score for test data in Logistic Regression Model is {:.4f}'.format(testlr1_score))\n",
    "print('Score for train data in Logistic Regression Model is {:.4f}'.format(trainlr1_score))"
   ]
  },
  {
   "cell_type": "markdown",
   "metadata": {},
   "source": [
    "There is no problem in overfitting/underfitting in Logistic Regression model as there is no big difference between test score and train score"
   ]
  },
  {
   "cell_type": "markdown",
   "metadata": {},
   "source": [
    "## Model 2 - Logistic Regression with Hyperparameter Tuning"
   ]
  },
  {
   "cell_type": "code",
   "execution_count": 32,
   "metadata": {
    "ExecuteTime": {
     "end_time": "2020-06-19T09:58:28.896919Z",
     "start_time": "2020-06-19T09:58:28.889937Z"
    }
   },
   "outputs": [],
   "source": [
    "parameter_logreg = {\n",
    "    'C' : np.logspace(-4,4,20),\n",
    "    'fit_intercept' : [True, False],\n",
    "    'max_iter' : [100, 1000, 10000]\n",
    "}"
   ]
  },
  {
   "cell_type": "code",
   "execution_count": 33,
   "metadata": {
    "ExecuteTime": {
     "end_time": "2020-06-19T10:00:43.344751Z",
     "start_time": "2020-06-19T09:58:28.899912Z"
    },
    "scrolled": true
   },
   "outputs": [
    {
     "name": "stdout",
     "output_type": "stream",
     "text": [
      "Fitting 5 folds for each of 120 candidates, totalling 600 fits\n",
      "[CV] C=0.0001, fit_intercept=True, max_iter=100 ......................\n",
      "[CV]  C=0.0001, fit_intercept=True, max_iter=100, score=0.760, total=   0.1s\n",
      "[CV] C=0.0001, fit_intercept=True, max_iter=100 ......................\n"
     ]
    },
    {
     "name": "stderr",
     "output_type": "stream",
     "text": [
      "[Parallel(n_jobs=1)]: Using backend SequentialBackend with 1 concurrent workers.\n",
      "[Parallel(n_jobs=1)]: Done   1 out of   1 | elapsed:    0.0s remaining:    0.0s\n"
     ]
    },
    {
     "name": "stdout",
     "output_type": "stream",
     "text": [
      "[CV]  C=0.0001, fit_intercept=True, max_iter=100, score=0.759, total=   0.1s\n",
      "[CV] C=0.0001, fit_intercept=True, max_iter=100 ......................\n",
      "[CV]  C=0.0001, fit_intercept=True, max_iter=100, score=0.758, total=   0.1s\n",
      "[CV] C=0.0001, fit_intercept=True, max_iter=100 ......................\n"
     ]
    },
    {
     "name": "stderr",
     "output_type": "stream",
     "text": [
      "[Parallel(n_jobs=1)]: Done   2 out of   2 | elapsed:    0.1s remaining:    0.0s\n"
     ]
    },
    {
     "name": "stdout",
     "output_type": "stream",
     "text": [
      "[CV]  C=0.0001, fit_intercept=True, max_iter=100, score=0.758, total=   0.2s\n",
      "[CV] C=0.0001, fit_intercept=True, max_iter=100 ......................\n",
      "[CV]  C=0.0001, fit_intercept=True, max_iter=100, score=0.762, total=   0.1s\n",
      "[CV] C=0.0001, fit_intercept=True, max_iter=1000 .....................\n",
      "[CV]  C=0.0001, fit_intercept=True, max_iter=1000, score=0.760, total=   0.1s\n",
      "[CV] C=0.0001, fit_intercept=True, max_iter=1000 .....................\n",
      "[CV]  C=0.0001, fit_intercept=True, max_iter=1000, score=0.759, total=   0.1s\n",
      "[CV] C=0.0001, fit_intercept=True, max_iter=1000 .....................\n",
      "[CV]  C=0.0001, fit_intercept=True, max_iter=1000, score=0.758, total=   0.1s\n",
      "[CV] C=0.0001, fit_intercept=True, max_iter=1000 .....................\n",
      "[CV]  C=0.0001, fit_intercept=True, max_iter=1000, score=0.758, total=   0.1s\n",
      "[CV] C=0.0001, fit_intercept=True, max_iter=1000 .....................\n",
      "[CV]  C=0.0001, fit_intercept=True, max_iter=1000, score=0.762, total=   0.1s\n",
      "[CV] C=0.0001, fit_intercept=True, max_iter=10000 ....................\n",
      "[CV]  C=0.0001, fit_intercept=True, max_iter=10000, score=0.760, total=   0.1s\n",
      "[CV] C=0.0001, fit_intercept=True, max_iter=10000 ....................\n",
      "[CV]  C=0.0001, fit_intercept=True, max_iter=10000, score=0.759, total=   0.1s\n",
      "[CV] C=0.0001, fit_intercept=True, max_iter=10000 ....................\n",
      "[CV]  C=0.0001, fit_intercept=True, max_iter=10000, score=0.758, total=   0.1s\n",
      "[CV] C=0.0001, fit_intercept=True, max_iter=10000 ....................\n",
      "[CV]  C=0.0001, fit_intercept=True, max_iter=10000, score=0.758, total=   0.1s\n",
      "[CV] C=0.0001, fit_intercept=True, max_iter=10000 ....................\n",
      "[CV]  C=0.0001, fit_intercept=True, max_iter=10000, score=0.762, total=   0.1s\n",
      "[CV] C=0.0001, fit_intercept=False, max_iter=100 .....................\n",
      "[CV]  C=0.0001, fit_intercept=False, max_iter=100, score=0.766, total=   0.1s\n",
      "[CV] C=0.0001, fit_intercept=False, max_iter=100 .....................\n",
      "[CV]  C=0.0001, fit_intercept=False, max_iter=100, score=0.762, total=   0.1s\n",
      "[CV] C=0.0001, fit_intercept=False, max_iter=100 .....................\n",
      "[CV]  C=0.0001, fit_intercept=False, max_iter=100, score=0.762, total=   0.1s\n",
      "[CV] C=0.0001, fit_intercept=False, max_iter=100 .....................\n",
      "[CV]  C=0.0001, fit_intercept=False, max_iter=100, score=0.761, total=   0.1s\n",
      "[CV] C=0.0001, fit_intercept=False, max_iter=100 .....................\n",
      "[CV]  C=0.0001, fit_intercept=False, max_iter=100, score=0.766, total=   0.1s\n",
      "[CV] C=0.0001, fit_intercept=False, max_iter=1000 ....................\n",
      "[CV]  C=0.0001, fit_intercept=False, max_iter=1000, score=0.766, total=   0.1s\n",
      "[CV] C=0.0001, fit_intercept=False, max_iter=1000 ....................\n",
      "[CV]  C=0.0001, fit_intercept=False, max_iter=1000, score=0.762, total=   0.1s\n",
      "[CV] C=0.0001, fit_intercept=False, max_iter=1000 ....................\n",
      "[CV]  C=0.0001, fit_intercept=False, max_iter=1000, score=0.762, total=   0.1s\n",
      "[CV] C=0.0001, fit_intercept=False, max_iter=1000 ....................\n",
      "[CV]  C=0.0001, fit_intercept=False, max_iter=1000, score=0.761, total=   0.1s\n",
      "[CV] C=0.0001, fit_intercept=False, max_iter=1000 ....................\n",
      "[CV]  C=0.0001, fit_intercept=False, max_iter=1000, score=0.766, total=   0.1s\n",
      "[CV] C=0.0001, fit_intercept=False, max_iter=10000 ...................\n",
      "[CV]  C=0.0001, fit_intercept=False, max_iter=10000, score=0.766, total=   0.1s\n",
      "[CV] C=0.0001, fit_intercept=False, max_iter=10000 ...................\n",
      "[CV]  C=0.0001, fit_intercept=False, max_iter=10000, score=0.762, total=   0.1s\n",
      "[CV] C=0.0001, fit_intercept=False, max_iter=10000 ...................\n",
      "[CV]  C=0.0001, fit_intercept=False, max_iter=10000, score=0.762, total=   0.1s\n",
      "[CV] C=0.0001, fit_intercept=False, max_iter=10000 ...................\n",
      "[CV]  C=0.0001, fit_intercept=False, max_iter=10000, score=0.761, total=   0.1s\n",
      "[CV] C=0.0001, fit_intercept=False, max_iter=10000 ...................\n",
      "[CV]  C=0.0001, fit_intercept=False, max_iter=10000, score=0.766, total=   0.1s\n",
      "[CV] C=0.00026366508987303583, fit_intercept=True, max_iter=100 ......\n",
      "[CV]  C=0.00026366508987303583, fit_intercept=True, max_iter=100, score=0.778, total=   0.1s\n",
      "[CV] C=0.00026366508987303583, fit_intercept=True, max_iter=100 ......\n",
      "[CV]  C=0.00026366508987303583, fit_intercept=True, max_iter=100, score=0.770, total=   0.1s\n",
      "[CV] C=0.00026366508987303583, fit_intercept=True, max_iter=100 ......\n",
      "[CV]  C=0.00026366508987303583, fit_intercept=True, max_iter=100, score=0.770, total=   0.1s\n",
      "[CV] C=0.00026366508987303583, fit_intercept=True, max_iter=100 ......\n",
      "[CV]  C=0.00026366508987303583, fit_intercept=True, max_iter=100, score=0.772, total=   0.1s\n",
      "[CV] C=0.00026366508987303583, fit_intercept=True, max_iter=100 ......\n",
      "[CV]  C=0.00026366508987303583, fit_intercept=True, max_iter=100, score=0.776, total=   0.1s\n",
      "[CV] C=0.00026366508987303583, fit_intercept=True, max_iter=1000 .....\n",
      "[CV]  C=0.00026366508987303583, fit_intercept=True, max_iter=1000, score=0.778, total=   0.1s\n",
      "[CV] C=0.00026366508987303583, fit_intercept=True, max_iter=1000 .....\n",
      "[CV]  C=0.00026366508987303583, fit_intercept=True, max_iter=1000, score=0.770, total=   0.1s\n",
      "[CV] C=0.00026366508987303583, fit_intercept=True, max_iter=1000 .....\n",
      "[CV]  C=0.00026366508987303583, fit_intercept=True, max_iter=1000, score=0.770, total=   0.1s\n",
      "[CV] C=0.00026366508987303583, fit_intercept=True, max_iter=1000 .....\n",
      "[CV]  C=0.00026366508987303583, fit_intercept=True, max_iter=1000, score=0.772, total=   0.2s\n",
      "[CV] C=0.00026366508987303583, fit_intercept=True, max_iter=1000 .....\n",
      "[CV]  C=0.00026366508987303583, fit_intercept=True, max_iter=1000, score=0.776, total=   0.2s\n",
      "[CV] C=0.00026366508987303583, fit_intercept=True, max_iter=10000 ....\n",
      "[CV]  C=0.00026366508987303583, fit_intercept=True, max_iter=10000, score=0.778, total=   0.2s\n",
      "[CV] C=0.00026366508987303583, fit_intercept=True, max_iter=10000 ....\n",
      "[CV]  C=0.00026366508987303583, fit_intercept=True, max_iter=10000, score=0.770, total=   0.2s\n",
      "[CV] C=0.00026366508987303583, fit_intercept=True, max_iter=10000 ....\n",
      "[CV]  C=0.00026366508987303583, fit_intercept=True, max_iter=10000, score=0.770, total=   0.3s\n",
      "[CV] C=0.00026366508987303583, fit_intercept=True, max_iter=10000 ....\n",
      "[CV]  C=0.00026366508987303583, fit_intercept=True, max_iter=10000, score=0.772, total=   0.2s\n",
      "[CV] C=0.00026366508987303583, fit_intercept=True, max_iter=10000 ....\n",
      "[CV]  C=0.00026366508987303583, fit_intercept=True, max_iter=10000, score=0.776, total=   0.1s\n",
      "[CV] C=0.00026366508987303583, fit_intercept=False, max_iter=100 .....\n",
      "[CV]  C=0.00026366508987303583, fit_intercept=False, max_iter=100, score=0.782, total=   0.1s\n",
      "[CV] C=0.00026366508987303583, fit_intercept=False, max_iter=100 .....\n",
      "[CV]  C=0.00026366508987303583, fit_intercept=False, max_iter=100, score=0.775, total=   0.1s\n",
      "[CV] C=0.00026366508987303583, fit_intercept=False, max_iter=100 .....\n",
      "[CV]  C=0.00026366508987303583, fit_intercept=False, max_iter=100, score=0.774, total=   0.1s\n",
      "[CV] C=0.00026366508987303583, fit_intercept=False, max_iter=100 .....\n",
      "[CV]  C=0.00026366508987303583, fit_intercept=False, max_iter=100, score=0.775, total=   0.1s\n",
      "[CV] C=0.00026366508987303583, fit_intercept=False, max_iter=100 .....\n",
      "[CV]  C=0.00026366508987303583, fit_intercept=False, max_iter=100, score=0.780, total=   0.1s\n",
      "[CV] C=0.00026366508987303583, fit_intercept=False, max_iter=1000 ....\n",
      "[CV]  C=0.00026366508987303583, fit_intercept=False, max_iter=1000, score=0.782, total=   0.1s\n",
      "[CV] C=0.00026366508987303583, fit_intercept=False, max_iter=1000 ....\n",
      "[CV]  C=0.00026366508987303583, fit_intercept=False, max_iter=1000, score=0.775, total=   0.1s\n",
      "[CV] C=0.00026366508987303583, fit_intercept=False, max_iter=1000 ....\n",
      "[CV]  C=0.00026366508987303583, fit_intercept=False, max_iter=1000, score=0.774, total=   0.1s\n",
      "[CV] C=0.00026366508987303583, fit_intercept=False, max_iter=1000 ....\n",
      "[CV]  C=0.00026366508987303583, fit_intercept=False, max_iter=1000, score=0.775, total=   0.1s\n",
      "[CV] C=0.00026366508987303583, fit_intercept=False, max_iter=1000 ....\n",
      "[CV]  C=0.00026366508987303583, fit_intercept=False, max_iter=1000, score=0.780, total=   0.1s\n",
      "[CV] C=0.00026366508987303583, fit_intercept=False, max_iter=10000 ...\n",
      "[CV]  C=0.00026366508987303583, fit_intercept=False, max_iter=10000, score=0.782, total=   0.1s\n",
      "[CV] C=0.00026366508987303583, fit_intercept=False, max_iter=10000 ...\n"
     ]
    },
    {
     "name": "stdout",
     "output_type": "stream",
     "text": [
      "[CV]  C=0.00026366508987303583, fit_intercept=False, max_iter=10000, score=0.775, total=   0.1s\n",
      "[CV] C=0.00026366508987303583, fit_intercept=False, max_iter=10000 ...\n",
      "[CV]  C=0.00026366508987303583, fit_intercept=False, max_iter=10000, score=0.774, total=   0.1s\n",
      "[CV] C=0.00026366508987303583, fit_intercept=False, max_iter=10000 ...\n",
      "[CV]  C=0.00026366508987303583, fit_intercept=False, max_iter=10000, score=0.775, total=   0.1s\n",
      "[CV] C=0.00026366508987303583, fit_intercept=False, max_iter=10000 ...\n",
      "[CV]  C=0.00026366508987303583, fit_intercept=False, max_iter=10000, score=0.780, total=   0.1s\n",
      "[CV] C=0.0006951927961775605, fit_intercept=True, max_iter=100 .......\n",
      "[CV]  C=0.0006951927961775605, fit_intercept=True, max_iter=100, score=0.800, total=   0.2s\n",
      "[CV] C=0.0006951927961775605, fit_intercept=True, max_iter=100 .......\n",
      "[CV]  C=0.0006951927961775605, fit_intercept=True, max_iter=100, score=0.791, total=   0.2s\n",
      "[CV] C=0.0006951927961775605, fit_intercept=True, max_iter=100 .......\n",
      "[CV]  C=0.0006951927961775605, fit_intercept=True, max_iter=100, score=0.795, total=   0.2s\n",
      "[CV] C=0.0006951927961775605, fit_intercept=True, max_iter=100 .......\n",
      "[CV]  C=0.0006951927961775605, fit_intercept=True, max_iter=100, score=0.796, total=   0.2s\n",
      "[CV] C=0.0006951927961775605, fit_intercept=True, max_iter=100 .......\n",
      "[CV]  C=0.0006951927961775605, fit_intercept=True, max_iter=100, score=0.797, total=   0.1s\n",
      "[CV] C=0.0006951927961775605, fit_intercept=True, max_iter=1000 ......\n",
      "[CV]  C=0.0006951927961775605, fit_intercept=True, max_iter=1000, score=0.800, total=   0.1s\n",
      "[CV] C=0.0006951927961775605, fit_intercept=True, max_iter=1000 ......\n",
      "[CV]  C=0.0006951927961775605, fit_intercept=True, max_iter=1000, score=0.791, total=   0.2s\n",
      "[CV] C=0.0006951927961775605, fit_intercept=True, max_iter=1000 ......\n",
      "[CV]  C=0.0006951927961775605, fit_intercept=True, max_iter=1000, score=0.795, total=   0.2s\n",
      "[CV] C=0.0006951927961775605, fit_intercept=True, max_iter=1000 ......\n",
      "[CV]  C=0.0006951927961775605, fit_intercept=True, max_iter=1000, score=0.796, total=   0.2s\n",
      "[CV] C=0.0006951927961775605, fit_intercept=True, max_iter=1000 ......\n",
      "[CV]  C=0.0006951927961775605, fit_intercept=True, max_iter=1000, score=0.797, total=   0.1s\n",
      "[CV] C=0.0006951927961775605, fit_intercept=True, max_iter=10000 .....\n",
      "[CV]  C=0.0006951927961775605, fit_intercept=True, max_iter=10000, score=0.800, total=   0.2s\n",
      "[CV] C=0.0006951927961775605, fit_intercept=True, max_iter=10000 .....\n",
      "[CV]  C=0.0006951927961775605, fit_intercept=True, max_iter=10000, score=0.791, total=   0.2s\n",
      "[CV] C=0.0006951927961775605, fit_intercept=True, max_iter=10000 .....\n",
      "[CV]  C=0.0006951927961775605, fit_intercept=True, max_iter=10000, score=0.795, total=   0.1s\n",
      "[CV] C=0.0006951927961775605, fit_intercept=True, max_iter=10000 .....\n",
      "[CV]  C=0.0006951927961775605, fit_intercept=True, max_iter=10000, score=0.796, total=   0.2s\n",
      "[CV] C=0.0006951927961775605, fit_intercept=True, max_iter=10000 .....\n",
      "[CV]  C=0.0006951927961775605, fit_intercept=True, max_iter=10000, score=0.797, total=   0.2s\n",
      "[CV] C=0.0006951927961775605, fit_intercept=False, max_iter=100 ......\n",
      "[CV]  C=0.0006951927961775605, fit_intercept=False, max_iter=100, score=0.804, total=   0.1s\n",
      "[CV] C=0.0006951927961775605, fit_intercept=False, max_iter=100 ......\n",
      "[CV]  C=0.0006951927961775605, fit_intercept=False, max_iter=100, score=0.799, total=   0.1s\n",
      "[CV] C=0.0006951927961775605, fit_intercept=False, max_iter=100 ......\n",
      "[CV]  C=0.0006951927961775605, fit_intercept=False, max_iter=100, score=0.799, total=   0.1s\n",
      "[CV] C=0.0006951927961775605, fit_intercept=False, max_iter=100 ......\n",
      "[CV]  C=0.0006951927961775605, fit_intercept=False, max_iter=100, score=0.799, total=   0.1s\n",
      "[CV] C=0.0006951927961775605, fit_intercept=False, max_iter=100 ......\n",
      "[CV]  C=0.0006951927961775605, fit_intercept=False, max_iter=100, score=0.797, total=   0.1s\n",
      "[CV] C=0.0006951927961775605, fit_intercept=False, max_iter=1000 .....\n",
      "[CV]  C=0.0006951927961775605, fit_intercept=False, max_iter=1000, score=0.804, total=   0.1s\n",
      "[CV] C=0.0006951927961775605, fit_intercept=False, max_iter=1000 .....\n",
      "[CV]  C=0.0006951927961775605, fit_intercept=False, max_iter=1000, score=0.799, total=   0.1s\n",
      "[CV] C=0.0006951927961775605, fit_intercept=False, max_iter=1000 .....\n",
      "[CV]  C=0.0006951927961775605, fit_intercept=False, max_iter=1000, score=0.799, total=   0.1s\n",
      "[CV] C=0.0006951927961775605, fit_intercept=False, max_iter=1000 .....\n",
      "[CV]  C=0.0006951927961775605, fit_intercept=False, max_iter=1000, score=0.799, total=   0.1s\n",
      "[CV] C=0.0006951927961775605, fit_intercept=False, max_iter=1000 .....\n",
      "[CV]  C=0.0006951927961775605, fit_intercept=False, max_iter=1000, score=0.797, total=   0.1s\n",
      "[CV] C=0.0006951927961775605, fit_intercept=False, max_iter=10000 ....\n",
      "[CV]  C=0.0006951927961775605, fit_intercept=False, max_iter=10000, score=0.804, total=   0.2s\n",
      "[CV] C=0.0006951927961775605, fit_intercept=False, max_iter=10000 ....\n",
      "[CV]  C=0.0006951927961775605, fit_intercept=False, max_iter=10000, score=0.799, total=   0.1s\n",
      "[CV] C=0.0006951927961775605, fit_intercept=False, max_iter=10000 ....\n",
      "[CV]  C=0.0006951927961775605, fit_intercept=False, max_iter=10000, score=0.799, total=   0.1s\n",
      "[CV] C=0.0006951927961775605, fit_intercept=False, max_iter=10000 ....\n",
      "[CV]  C=0.0006951927961775605, fit_intercept=False, max_iter=10000, score=0.799, total=   0.1s\n",
      "[CV] C=0.0006951927961775605, fit_intercept=False, max_iter=10000 ....\n",
      "[CV]  C=0.0006951927961775605, fit_intercept=False, max_iter=10000, score=0.797, total=   0.1s\n",
      "[CV] C=0.0018329807108324356, fit_intercept=True, max_iter=100 .......\n",
      "[CV]  C=0.0018329807108324356, fit_intercept=True, max_iter=100, score=0.810, total=   0.2s\n",
      "[CV] C=0.0018329807108324356, fit_intercept=True, max_iter=100 .......\n",
      "[CV]  C=0.0018329807108324356, fit_intercept=True, max_iter=100, score=0.802, total=   0.3s\n",
      "[CV] C=0.0018329807108324356, fit_intercept=True, max_iter=100 .......\n",
      "[CV]  C=0.0018329807108324356, fit_intercept=True, max_iter=100, score=0.804, total=   0.3s\n",
      "[CV] C=0.0018329807108324356, fit_intercept=True, max_iter=100 .......\n",
      "[CV]  C=0.0018329807108324356, fit_intercept=True, max_iter=100, score=0.801, total=   0.3s\n",
      "[CV] C=0.0018329807108324356, fit_intercept=True, max_iter=100 .......\n",
      "[CV]  C=0.0018329807108324356, fit_intercept=True, max_iter=100, score=0.803, total=   0.3s\n",
      "[CV] C=0.0018329807108324356, fit_intercept=True, max_iter=1000 ......\n",
      "[CV]  C=0.0018329807108324356, fit_intercept=True, max_iter=1000, score=0.810, total=   0.2s\n",
      "[CV] C=0.0018329807108324356, fit_intercept=True, max_iter=1000 ......\n",
      "[CV]  C=0.0018329807108324356, fit_intercept=True, max_iter=1000, score=0.802, total=   0.2s\n",
      "[CV] C=0.0018329807108324356, fit_intercept=True, max_iter=1000 ......\n",
      "[CV]  C=0.0018329807108324356, fit_intercept=True, max_iter=1000, score=0.804, total=   0.2s\n",
      "[CV] C=0.0018329807108324356, fit_intercept=True, max_iter=1000 ......\n",
      "[CV]  C=0.0018329807108324356, fit_intercept=True, max_iter=1000, score=0.801, total=   0.2s\n",
      "[CV] C=0.0018329807108324356, fit_intercept=True, max_iter=1000 ......\n",
      "[CV]  C=0.0018329807108324356, fit_intercept=True, max_iter=1000, score=0.803, total=   0.2s\n",
      "[CV] C=0.0018329807108324356, fit_intercept=True, max_iter=10000 .....\n",
      "[CV]  C=0.0018329807108324356, fit_intercept=True, max_iter=10000, score=0.810, total=   0.2s\n",
      "[CV] C=0.0018329807108324356, fit_intercept=True, max_iter=10000 .....\n",
      "[CV]  C=0.0018329807108324356, fit_intercept=True, max_iter=10000, score=0.802, total=   0.2s\n",
      "[CV] C=0.0018329807108324356, fit_intercept=True, max_iter=10000 .....\n",
      "[CV]  C=0.0018329807108324356, fit_intercept=True, max_iter=10000, score=0.804, total=   0.1s\n",
      "[CV] C=0.0018329807108324356, fit_intercept=True, max_iter=10000 .....\n",
      "[CV]  C=0.0018329807108324356, fit_intercept=True, max_iter=10000, score=0.801, total=   0.2s\n",
      "[CV] C=0.0018329807108324356, fit_intercept=True, max_iter=10000 .....\n",
      "[CV]  C=0.0018329807108324356, fit_intercept=True, max_iter=10000, score=0.803, total=   0.2s\n",
      "[CV] C=0.0018329807108324356, fit_intercept=False, max_iter=100 ......\n",
      "[CV]  C=0.0018329807108324356, fit_intercept=False, max_iter=100, score=0.812, total=   0.1s\n",
      "[CV] C=0.0018329807108324356, fit_intercept=False, max_iter=100 ......\n",
      "[CV]  C=0.0018329807108324356, fit_intercept=False, max_iter=100, score=0.805, total=   0.1s\n",
      "[CV] C=0.0018329807108324356, fit_intercept=False, max_iter=100 ......\n"
     ]
    },
    {
     "name": "stdout",
     "output_type": "stream",
     "text": [
      "[CV]  C=0.0018329807108324356, fit_intercept=False, max_iter=100, score=0.805, total=   0.1s\n",
      "[CV] C=0.0018329807108324356, fit_intercept=False, max_iter=100 ......\n",
      "[CV]  C=0.0018329807108324356, fit_intercept=False, max_iter=100, score=0.801, total=   0.1s\n",
      "[CV] C=0.0018329807108324356, fit_intercept=False, max_iter=100 ......\n",
      "[CV]  C=0.0018329807108324356, fit_intercept=False, max_iter=100, score=0.804, total=   0.2s\n",
      "[CV] C=0.0018329807108324356, fit_intercept=False, max_iter=1000 .....\n",
      "[CV]  C=0.0018329807108324356, fit_intercept=False, max_iter=1000, score=0.812, total=   0.2s\n",
      "[CV] C=0.0018329807108324356, fit_intercept=False, max_iter=1000 .....\n",
      "[CV]  C=0.0018329807108324356, fit_intercept=False, max_iter=1000, score=0.805, total=   0.1s\n",
      "[CV] C=0.0018329807108324356, fit_intercept=False, max_iter=1000 .....\n",
      "[CV]  C=0.0018329807108324356, fit_intercept=False, max_iter=1000, score=0.805, total=   0.2s\n",
      "[CV] C=0.0018329807108324356, fit_intercept=False, max_iter=1000 .....\n",
      "[CV]  C=0.0018329807108324356, fit_intercept=False, max_iter=1000, score=0.801, total=   0.2s\n",
      "[CV] C=0.0018329807108324356, fit_intercept=False, max_iter=1000 .....\n",
      "[CV]  C=0.0018329807108324356, fit_intercept=False, max_iter=1000, score=0.804, total=   0.1s\n",
      "[CV] C=0.0018329807108324356, fit_intercept=False, max_iter=10000 ....\n",
      "[CV]  C=0.0018329807108324356, fit_intercept=False, max_iter=10000, score=0.812, total=   0.1s\n",
      "[CV] C=0.0018329807108324356, fit_intercept=False, max_iter=10000 ....\n",
      "[CV]  C=0.0018329807108324356, fit_intercept=False, max_iter=10000, score=0.805, total=   0.1s\n",
      "[CV] C=0.0018329807108324356, fit_intercept=False, max_iter=10000 ....\n",
      "[CV]  C=0.0018329807108324356, fit_intercept=False, max_iter=10000, score=0.805, total=   0.1s\n",
      "[CV] C=0.0018329807108324356, fit_intercept=False, max_iter=10000 ....\n",
      "[CV]  C=0.0018329807108324356, fit_intercept=False, max_iter=10000, score=0.801, total=   0.1s\n",
      "[CV] C=0.0018329807108324356, fit_intercept=False, max_iter=10000 ....\n",
      "[CV]  C=0.0018329807108324356, fit_intercept=False, max_iter=10000, score=0.804, total=   0.1s\n",
      "[CV] C=0.004832930238571752, fit_intercept=True, max_iter=100 ........\n",
      "[CV]  C=0.004832930238571752, fit_intercept=True, max_iter=100, score=0.808, total=   0.2s\n",
      "[CV] C=0.004832930238571752, fit_intercept=True, max_iter=100 ........\n",
      "[CV]  C=0.004832930238571752, fit_intercept=True, max_iter=100, score=0.806, total=   0.4s\n",
      "[CV] C=0.004832930238571752, fit_intercept=True, max_iter=100 ........\n",
      "[CV]  C=0.004832930238571752, fit_intercept=True, max_iter=100, score=0.803, total=   0.4s\n",
      "[CV] C=0.004832930238571752, fit_intercept=True, max_iter=100 ........\n",
      "[CV]  C=0.004832930238571752, fit_intercept=True, max_iter=100, score=0.803, total=   0.2s\n",
      "[CV] C=0.004832930238571752, fit_intercept=True, max_iter=100 ........\n",
      "[CV]  C=0.004832930238571752, fit_intercept=True, max_iter=100, score=0.803, total=   0.2s\n",
      "[CV] C=0.004832930238571752, fit_intercept=True, max_iter=1000 .......\n",
      "[CV]  C=0.004832930238571752, fit_intercept=True, max_iter=1000, score=0.808, total=   0.2s\n",
      "[CV] C=0.004832930238571752, fit_intercept=True, max_iter=1000 .......\n",
      "[CV]  C=0.004832930238571752, fit_intercept=True, max_iter=1000, score=0.806, total=   0.2s\n",
      "[CV] C=0.004832930238571752, fit_intercept=True, max_iter=1000 .......\n",
      "[CV]  C=0.004832930238571752, fit_intercept=True, max_iter=1000, score=0.803, total=   0.2s\n",
      "[CV] C=0.004832930238571752, fit_intercept=True, max_iter=1000 .......\n",
      "[CV]  C=0.004832930238571752, fit_intercept=True, max_iter=1000, score=0.803, total=   0.2s\n",
      "[CV] C=0.004832930238571752, fit_intercept=True, max_iter=1000 .......\n",
      "[CV]  C=0.004832930238571752, fit_intercept=True, max_iter=1000, score=0.803, total=   0.2s\n",
      "[CV] C=0.004832930238571752, fit_intercept=True, max_iter=10000 ......\n",
      "[CV]  C=0.004832930238571752, fit_intercept=True, max_iter=10000, score=0.808, total=   0.2s\n",
      "[CV] C=0.004832930238571752, fit_intercept=True, max_iter=10000 ......\n",
      "[CV]  C=0.004832930238571752, fit_intercept=True, max_iter=10000, score=0.806, total=   0.2s\n",
      "[CV] C=0.004832930238571752, fit_intercept=True, max_iter=10000 ......\n",
      "[CV]  C=0.004832930238571752, fit_intercept=True, max_iter=10000, score=0.803, total=   0.2s\n",
      "[CV] C=0.004832930238571752, fit_intercept=True, max_iter=10000 ......\n",
      "[CV]  C=0.004832930238571752, fit_intercept=True, max_iter=10000, score=0.803, total=   0.2s\n",
      "[CV] C=0.004832930238571752, fit_intercept=True, max_iter=10000 ......\n",
      "[CV]  C=0.004832930238571752, fit_intercept=True, max_iter=10000, score=0.803, total=   0.2s\n",
      "[CV] C=0.004832930238571752, fit_intercept=False, max_iter=100 .......\n",
      "[CV]  C=0.004832930238571752, fit_intercept=False, max_iter=100, score=0.811, total=   0.1s\n",
      "[CV] C=0.004832930238571752, fit_intercept=False, max_iter=100 .......\n",
      "[CV]  C=0.004832930238571752, fit_intercept=False, max_iter=100, score=0.806, total=   0.2s\n",
      "[CV] C=0.004832930238571752, fit_intercept=False, max_iter=100 .......\n",
      "[CV]  C=0.004832930238571752, fit_intercept=False, max_iter=100, score=0.807, total=   0.2s\n",
      "[CV] C=0.004832930238571752, fit_intercept=False, max_iter=100 .......\n",
      "[CV]  C=0.004832930238571752, fit_intercept=False, max_iter=100, score=0.805, total=   0.2s\n",
      "[CV] C=0.004832930238571752, fit_intercept=False, max_iter=100 .......\n",
      "[CV]  C=0.004832930238571752, fit_intercept=False, max_iter=100, score=0.804, total=   0.2s\n",
      "[CV] C=0.004832930238571752, fit_intercept=False, max_iter=1000 ......\n",
      "[CV]  C=0.004832930238571752, fit_intercept=False, max_iter=1000, score=0.811, total=   0.3s\n",
      "[CV] C=0.004832930238571752, fit_intercept=False, max_iter=1000 ......\n",
      "[CV]  C=0.004832930238571752, fit_intercept=False, max_iter=1000, score=0.806, total=   0.5s\n",
      "[CV] C=0.004832930238571752, fit_intercept=False, max_iter=1000 ......\n",
      "[CV]  C=0.004832930238571752, fit_intercept=False, max_iter=1000, score=0.807, total=   0.3s\n",
      "[CV] C=0.004832930238571752, fit_intercept=False, max_iter=1000 ......\n",
      "[CV]  C=0.004832930238571752, fit_intercept=False, max_iter=1000, score=0.805, total=   0.4s\n",
      "[CV] C=0.004832930238571752, fit_intercept=False, max_iter=1000 ......\n",
      "[CV]  C=0.004832930238571752, fit_intercept=False, max_iter=1000, score=0.804, total=   0.7s\n",
      "[CV] C=0.004832930238571752, fit_intercept=False, max_iter=10000 .....\n",
      "[CV]  C=0.004832930238571752, fit_intercept=False, max_iter=10000, score=0.811, total=   0.3s\n",
      "[CV] C=0.004832930238571752, fit_intercept=False, max_iter=10000 .....\n",
      "[CV]  C=0.004832930238571752, fit_intercept=False, max_iter=10000, score=0.806, total=   0.3s\n",
      "[CV] C=0.004832930238571752, fit_intercept=False, max_iter=10000 .....\n",
      "[CV]  C=0.004832930238571752, fit_intercept=False, max_iter=10000, score=0.807, total=   0.2s\n",
      "[CV] C=0.004832930238571752, fit_intercept=False, max_iter=10000 .....\n",
      "[CV]  C=0.004832930238571752, fit_intercept=False, max_iter=10000, score=0.805, total=   0.2s\n",
      "[CV] C=0.004832930238571752, fit_intercept=False, max_iter=10000 .....\n",
      "[CV]  C=0.004832930238571752, fit_intercept=False, max_iter=10000, score=0.804, total=   0.2s\n",
      "[CV] C=0.012742749857031334, fit_intercept=True, max_iter=100 ........\n",
      "[CV]  C=0.012742749857031334, fit_intercept=True, max_iter=100, score=0.810, total=   0.2s\n",
      "[CV] C=0.012742749857031334, fit_intercept=True, max_iter=100 ........\n",
      "[CV]  C=0.012742749857031334, fit_intercept=True, max_iter=100, score=0.805, total=   0.2s\n",
      "[CV] C=0.012742749857031334, fit_intercept=True, max_iter=100 ........\n",
      "[CV]  C=0.012742749857031334, fit_intercept=True, max_iter=100, score=0.803, total=   0.2s\n",
      "[CV] C=0.012742749857031334, fit_intercept=True, max_iter=100 ........\n",
      "[CV]  C=0.012742749857031334, fit_intercept=True, max_iter=100, score=0.803, total=   0.2s\n",
      "[CV] C=0.012742749857031334, fit_intercept=True, max_iter=100 ........\n",
      "[CV]  C=0.012742749857031334, fit_intercept=True, max_iter=100, score=0.802, total=   0.4s\n",
      "[CV] C=0.012742749857031334, fit_intercept=True, max_iter=1000 .......\n",
      "[CV]  C=0.012742749857031334, fit_intercept=True, max_iter=1000, score=0.810, total=   0.3s\n",
      "[CV] C=0.012742749857031334, fit_intercept=True, max_iter=1000 .......\n",
      "[CV]  C=0.012742749857031334, fit_intercept=True, max_iter=1000, score=0.805, total=   0.3s\n",
      "[CV] C=0.012742749857031334, fit_intercept=True, max_iter=1000 .......\n",
      "[CV]  C=0.012742749857031334, fit_intercept=True, max_iter=1000, score=0.803, total=   0.3s\n",
      "[CV] C=0.012742749857031334, fit_intercept=True, max_iter=1000 .......\n"
     ]
    },
    {
     "name": "stdout",
     "output_type": "stream",
     "text": [
      "[CV]  C=0.012742749857031334, fit_intercept=True, max_iter=1000, score=0.803, total=   0.3s\n",
      "[CV] C=0.012742749857031334, fit_intercept=True, max_iter=1000 .......\n",
      "[CV]  C=0.012742749857031334, fit_intercept=True, max_iter=1000, score=0.802, total=   0.2s\n",
      "[CV] C=0.012742749857031334, fit_intercept=True, max_iter=10000 ......\n",
      "[CV]  C=0.012742749857031334, fit_intercept=True, max_iter=10000, score=0.810, total=   0.2s\n",
      "[CV] C=0.012742749857031334, fit_intercept=True, max_iter=10000 ......\n",
      "[CV]  C=0.012742749857031334, fit_intercept=True, max_iter=10000, score=0.805, total=   0.2s\n",
      "[CV] C=0.012742749857031334, fit_intercept=True, max_iter=10000 ......\n",
      "[CV]  C=0.012742749857031334, fit_intercept=True, max_iter=10000, score=0.803, total=   0.2s\n",
      "[CV] C=0.012742749857031334, fit_intercept=True, max_iter=10000 ......\n",
      "[CV]  C=0.012742749857031334, fit_intercept=True, max_iter=10000, score=0.803, total=   0.2s\n",
      "[CV] C=0.012742749857031334, fit_intercept=True, max_iter=10000 ......\n",
      "[CV]  C=0.012742749857031334, fit_intercept=True, max_iter=10000, score=0.802, total=   0.2s\n",
      "[CV] C=0.012742749857031334, fit_intercept=False, max_iter=100 .......\n",
      "[CV]  C=0.012742749857031334, fit_intercept=False, max_iter=100, score=0.808, total=   0.1s\n",
      "[CV] C=0.012742749857031334, fit_intercept=False, max_iter=100 .......\n",
      "[CV]  C=0.012742749857031334, fit_intercept=False, max_iter=100, score=0.805, total=   0.1s\n",
      "[CV] C=0.012742749857031334, fit_intercept=False, max_iter=100 .......\n",
      "[CV]  C=0.012742749857031334, fit_intercept=False, max_iter=100, score=0.805, total=   0.2s\n",
      "[CV] C=0.012742749857031334, fit_intercept=False, max_iter=100 .......\n",
      "[CV]  C=0.012742749857031334, fit_intercept=False, max_iter=100, score=0.804, total=   0.1s\n",
      "[CV] C=0.012742749857031334, fit_intercept=False, max_iter=100 .......\n",
      "[CV]  C=0.012742749857031334, fit_intercept=False, max_iter=100, score=0.804, total=   0.3s\n",
      "[CV] C=0.012742749857031334, fit_intercept=False, max_iter=1000 ......\n",
      "[CV]  C=0.012742749857031334, fit_intercept=False, max_iter=1000, score=0.808, total=   0.4s\n",
      "[CV] C=0.012742749857031334, fit_intercept=False, max_iter=1000 ......\n",
      "[CV]  C=0.012742749857031334, fit_intercept=False, max_iter=1000, score=0.805, total=   0.5s\n",
      "[CV] C=0.012742749857031334, fit_intercept=False, max_iter=1000 ......\n",
      "[CV]  C=0.012742749857031334, fit_intercept=False, max_iter=1000, score=0.805, total=   0.2s\n",
      "[CV] C=0.012742749857031334, fit_intercept=False, max_iter=1000 ......\n",
      "[CV]  C=0.012742749857031334, fit_intercept=False, max_iter=1000, score=0.804, total=   0.2s\n",
      "[CV] C=0.012742749857031334, fit_intercept=False, max_iter=1000 ......\n",
      "[CV]  C=0.012742749857031334, fit_intercept=False, max_iter=1000, score=0.804, total=   0.1s\n",
      "[CV] C=0.012742749857031334, fit_intercept=False, max_iter=10000 .....\n",
      "[CV]  C=0.012742749857031334, fit_intercept=False, max_iter=10000, score=0.808, total=   0.1s\n",
      "[CV] C=0.012742749857031334, fit_intercept=False, max_iter=10000 .....\n",
      "[CV]  C=0.012742749857031334, fit_intercept=False, max_iter=10000, score=0.805, total=   0.1s\n",
      "[CV] C=0.012742749857031334, fit_intercept=False, max_iter=10000 .....\n",
      "[CV]  C=0.012742749857031334, fit_intercept=False, max_iter=10000, score=0.805, total=   0.1s\n",
      "[CV] C=0.012742749857031334, fit_intercept=False, max_iter=10000 .....\n",
      "[CV]  C=0.012742749857031334, fit_intercept=False, max_iter=10000, score=0.804, total=   0.1s\n",
      "[CV] C=0.012742749857031334, fit_intercept=False, max_iter=10000 .....\n",
      "[CV]  C=0.012742749857031334, fit_intercept=False, max_iter=10000, score=0.804, total=   0.2s\n",
      "[CV] C=0.03359818286283781, fit_intercept=True, max_iter=100 .........\n",
      "[CV]  C=0.03359818286283781, fit_intercept=True, max_iter=100, score=0.811, total=   0.5s\n",
      "[CV] C=0.03359818286283781, fit_intercept=True, max_iter=100 .........\n",
      "[CV]  C=0.03359818286283781, fit_intercept=True, max_iter=100, score=0.805, total=   0.3s\n",
      "[CV] C=0.03359818286283781, fit_intercept=True, max_iter=100 .........\n",
      "[CV]  C=0.03359818286283781, fit_intercept=True, max_iter=100, score=0.803, total=   0.3s\n",
      "[CV] C=0.03359818286283781, fit_intercept=True, max_iter=100 .........\n",
      "[CV]  C=0.03359818286283781, fit_intercept=True, max_iter=100, score=0.804, total=   0.4s\n",
      "[CV] C=0.03359818286283781, fit_intercept=True, max_iter=100 .........\n",
      "[CV]  C=0.03359818286283781, fit_intercept=True, max_iter=100, score=0.803, total=   0.2s\n",
      "[CV] C=0.03359818286283781, fit_intercept=True, max_iter=1000 ........\n",
      "[CV]  C=0.03359818286283781, fit_intercept=True, max_iter=1000, score=0.811, total=   0.2s\n",
      "[CV] C=0.03359818286283781, fit_intercept=True, max_iter=1000 ........\n",
      "[CV]  C=0.03359818286283781, fit_intercept=True, max_iter=1000, score=0.805, total=   0.2s\n",
      "[CV] C=0.03359818286283781, fit_intercept=True, max_iter=1000 ........\n",
      "[CV]  C=0.03359818286283781, fit_intercept=True, max_iter=1000, score=0.803, total=   0.2s\n",
      "[CV] C=0.03359818286283781, fit_intercept=True, max_iter=1000 ........\n",
      "[CV]  C=0.03359818286283781, fit_intercept=True, max_iter=1000, score=0.804, total=   0.2s\n",
      "[CV] C=0.03359818286283781, fit_intercept=True, max_iter=1000 ........\n",
      "[CV]  C=0.03359818286283781, fit_intercept=True, max_iter=1000, score=0.803, total=   0.5s\n",
      "[CV] C=0.03359818286283781, fit_intercept=True, max_iter=10000 .......\n",
      "[CV]  C=0.03359818286283781, fit_intercept=True, max_iter=10000, score=0.811, total=   0.6s\n",
      "[CV] C=0.03359818286283781, fit_intercept=True, max_iter=10000 .......\n",
      "[CV]  C=0.03359818286283781, fit_intercept=True, max_iter=10000, score=0.805, total=   0.4s\n",
      "[CV] C=0.03359818286283781, fit_intercept=True, max_iter=10000 .......\n",
      "[CV]  C=0.03359818286283781, fit_intercept=True, max_iter=10000, score=0.803, total=   0.4s\n",
      "[CV] C=0.03359818286283781, fit_intercept=True, max_iter=10000 .......\n",
      "[CV]  C=0.03359818286283781, fit_intercept=True, max_iter=10000, score=0.804, total=   0.3s\n",
      "[CV] C=0.03359818286283781, fit_intercept=True, max_iter=10000 .......\n",
      "[CV]  C=0.03359818286283781, fit_intercept=True, max_iter=10000, score=0.803, total=   0.3s\n",
      "[CV] C=0.03359818286283781, fit_intercept=False, max_iter=100 ........\n",
      "[CV]  C=0.03359818286283781, fit_intercept=False, max_iter=100, score=0.809, total=   0.1s\n",
      "[CV] C=0.03359818286283781, fit_intercept=False, max_iter=100 ........\n",
      "[CV]  C=0.03359818286283781, fit_intercept=False, max_iter=100, score=0.804, total=   0.2s\n",
      "[CV] C=0.03359818286283781, fit_intercept=False, max_iter=100 ........\n",
      "[CV]  C=0.03359818286283781, fit_intercept=False, max_iter=100, score=0.804, total=   0.3s\n",
      "[CV] C=0.03359818286283781, fit_intercept=False, max_iter=100 ........\n",
      "[CV]  C=0.03359818286283781, fit_intercept=False, max_iter=100, score=0.804, total=   0.3s\n",
      "[CV] C=0.03359818286283781, fit_intercept=False, max_iter=100 ........\n",
      "[CV]  C=0.03359818286283781, fit_intercept=False, max_iter=100, score=0.803, total=   0.3s\n",
      "[CV] C=0.03359818286283781, fit_intercept=False, max_iter=1000 .......\n",
      "[CV]  C=0.03359818286283781, fit_intercept=False, max_iter=1000, score=0.809, total=   0.2s\n",
      "[CV] C=0.03359818286283781, fit_intercept=False, max_iter=1000 .......\n",
      "[CV]  C=0.03359818286283781, fit_intercept=False, max_iter=1000, score=0.804, total=   0.2s\n",
      "[CV] C=0.03359818286283781, fit_intercept=False, max_iter=1000 .......\n",
      "[CV]  C=0.03359818286283781, fit_intercept=False, max_iter=1000, score=0.804, total=   0.3s\n",
      "[CV] C=0.03359818286283781, fit_intercept=False, max_iter=1000 .......\n",
      "[CV]  C=0.03359818286283781, fit_intercept=False, max_iter=1000, score=0.804, total=   0.2s\n",
      "[CV] C=0.03359818286283781, fit_intercept=False, max_iter=1000 .......\n",
      "[CV]  C=0.03359818286283781, fit_intercept=False, max_iter=1000, score=0.803, total=   0.2s\n",
      "[CV] C=0.03359818286283781, fit_intercept=False, max_iter=10000 ......\n",
      "[CV]  C=0.03359818286283781, fit_intercept=False, max_iter=10000, score=0.809, total=   0.1s\n",
      "[CV] C=0.03359818286283781, fit_intercept=False, max_iter=10000 ......\n",
      "[CV]  C=0.03359818286283781, fit_intercept=False, max_iter=10000, score=0.804, total=   0.2s\n",
      "[CV] C=0.03359818286283781, fit_intercept=False, max_iter=10000 ......\n",
      "[CV]  C=0.03359818286283781, fit_intercept=False, max_iter=10000, score=0.804, total=   0.2s\n",
      "[CV] C=0.03359818286283781, fit_intercept=False, max_iter=10000 ......\n",
      "[CV]  C=0.03359818286283781, fit_intercept=False, max_iter=10000, score=0.804, total=   0.2s\n",
      "[CV] C=0.03359818286283781, fit_intercept=False, max_iter=10000 ......\n"
     ]
    },
    {
     "name": "stdout",
     "output_type": "stream",
     "text": [
      "[CV]  C=0.03359818286283781, fit_intercept=False, max_iter=10000, score=0.803, total=   0.2s\n",
      "[CV] C=0.08858667904100823, fit_intercept=True, max_iter=100 .........\n",
      "[CV]  C=0.08858667904100823, fit_intercept=True, max_iter=100, score=0.811, total=   0.3s\n",
      "[CV] C=0.08858667904100823, fit_intercept=True, max_iter=100 .........\n",
      "[CV]  C=0.08858667904100823, fit_intercept=True, max_iter=100, score=0.804, total=   0.4s\n",
      "[CV] C=0.08858667904100823, fit_intercept=True, max_iter=100 .........\n",
      "[CV]  C=0.08858667904100823, fit_intercept=True, max_iter=100, score=0.804, total=   0.4s\n",
      "[CV] C=0.08858667904100823, fit_intercept=True, max_iter=100 .........\n",
      "[CV]  C=0.08858667904100823, fit_intercept=True, max_iter=100, score=0.804, total=   0.3s\n",
      "[CV] C=0.08858667904100823, fit_intercept=True, max_iter=100 .........\n",
      "[CV]  C=0.08858667904100823, fit_intercept=True, max_iter=100, score=0.803, total=   0.2s\n",
      "[CV] C=0.08858667904100823, fit_intercept=True, max_iter=1000 ........\n",
      "[CV]  C=0.08858667904100823, fit_intercept=True, max_iter=1000, score=0.811, total=   0.3s\n",
      "[CV] C=0.08858667904100823, fit_intercept=True, max_iter=1000 ........\n",
      "[CV]  C=0.08858667904100823, fit_intercept=True, max_iter=1000, score=0.804, total=   0.3s\n",
      "[CV] C=0.08858667904100823, fit_intercept=True, max_iter=1000 ........\n",
      "[CV]  C=0.08858667904100823, fit_intercept=True, max_iter=1000, score=0.804, total=   0.3s\n",
      "[CV] C=0.08858667904100823, fit_intercept=True, max_iter=1000 ........\n",
      "[CV]  C=0.08858667904100823, fit_intercept=True, max_iter=1000, score=0.804, total=   0.3s\n",
      "[CV] C=0.08858667904100823, fit_intercept=True, max_iter=1000 ........\n",
      "[CV]  C=0.08858667904100823, fit_intercept=True, max_iter=1000, score=0.803, total=   0.2s\n",
      "[CV] C=0.08858667904100823, fit_intercept=True, max_iter=10000 .......\n",
      "[CV]  C=0.08858667904100823, fit_intercept=True, max_iter=10000, score=0.811, total=   0.3s\n",
      "[CV] C=0.08858667904100823, fit_intercept=True, max_iter=10000 .......\n",
      "[CV]  C=0.08858667904100823, fit_intercept=True, max_iter=10000, score=0.804, total=   0.3s\n",
      "[CV] C=0.08858667904100823, fit_intercept=True, max_iter=10000 .......\n",
      "[CV]  C=0.08858667904100823, fit_intercept=True, max_iter=10000, score=0.804, total=   0.2s\n",
      "[CV] C=0.08858667904100823, fit_intercept=True, max_iter=10000 .......\n",
      "[CV]  C=0.08858667904100823, fit_intercept=True, max_iter=10000, score=0.804, total=   0.3s\n",
      "[CV] C=0.08858667904100823, fit_intercept=True, max_iter=10000 .......\n",
      "[CV]  C=0.08858667904100823, fit_intercept=True, max_iter=10000, score=0.803, total=   0.3s\n",
      "[CV] C=0.08858667904100823, fit_intercept=False, max_iter=100 ........\n",
      "[CV]  C=0.08858667904100823, fit_intercept=False, max_iter=100, score=0.809, total=   0.2s\n",
      "[CV] C=0.08858667904100823, fit_intercept=False, max_iter=100 ........\n",
      "[CV]  C=0.08858667904100823, fit_intercept=False, max_iter=100, score=0.803, total=   0.2s\n",
      "[CV] C=0.08858667904100823, fit_intercept=False, max_iter=100 ........\n",
      "[CV]  C=0.08858667904100823, fit_intercept=False, max_iter=100, score=0.804, total=   0.2s\n",
      "[CV] C=0.08858667904100823, fit_intercept=False, max_iter=100 ........\n",
      "[CV]  C=0.08858667904100823, fit_intercept=False, max_iter=100, score=0.805, total=   0.1s\n",
      "[CV] C=0.08858667904100823, fit_intercept=False, max_iter=100 ........\n",
      "[CV]  C=0.08858667904100823, fit_intercept=False, max_iter=100, score=0.803, total=   0.2s\n",
      "[CV] C=0.08858667904100823, fit_intercept=False, max_iter=1000 .......\n",
      "[CV]  C=0.08858667904100823, fit_intercept=False, max_iter=1000, score=0.809, total=   0.2s\n",
      "[CV] C=0.08858667904100823, fit_intercept=False, max_iter=1000 .......\n",
      "[CV]  C=0.08858667904100823, fit_intercept=False, max_iter=1000, score=0.803, total=   0.3s\n",
      "[CV] C=0.08858667904100823, fit_intercept=False, max_iter=1000 .......\n",
      "[CV]  C=0.08858667904100823, fit_intercept=False, max_iter=1000, score=0.804, total=   0.2s\n",
      "[CV] C=0.08858667904100823, fit_intercept=False, max_iter=1000 .......\n",
      "[CV]  C=0.08858667904100823, fit_intercept=False, max_iter=1000, score=0.805, total=   0.2s\n",
      "[CV] C=0.08858667904100823, fit_intercept=False, max_iter=1000 .......\n",
      "[CV]  C=0.08858667904100823, fit_intercept=False, max_iter=1000, score=0.803, total=   0.1s\n",
      "[CV] C=0.08858667904100823, fit_intercept=False, max_iter=10000 ......\n",
      "[CV]  C=0.08858667904100823, fit_intercept=False, max_iter=10000, score=0.809, total=   0.2s\n",
      "[CV] C=0.08858667904100823, fit_intercept=False, max_iter=10000 ......\n",
      "[CV]  C=0.08858667904100823, fit_intercept=False, max_iter=10000, score=0.803, total=   0.1s\n",
      "[CV] C=0.08858667904100823, fit_intercept=False, max_iter=10000 ......\n",
      "[CV]  C=0.08858667904100823, fit_intercept=False, max_iter=10000, score=0.804, total=   0.2s\n",
      "[CV] C=0.08858667904100823, fit_intercept=False, max_iter=10000 ......\n",
      "[CV]  C=0.08858667904100823, fit_intercept=False, max_iter=10000, score=0.805, total=   0.2s\n",
      "[CV] C=0.08858667904100823, fit_intercept=False, max_iter=10000 ......\n",
      "[CV]  C=0.08858667904100823, fit_intercept=False, max_iter=10000, score=0.803, total=   0.1s\n",
      "[CV] C=0.23357214690901212, fit_intercept=True, max_iter=100 .........\n",
      "[CV]  C=0.23357214690901212, fit_intercept=True, max_iter=100, score=0.811, total=   0.2s\n",
      "[CV] C=0.23357214690901212, fit_intercept=True, max_iter=100 .........\n",
      "[CV]  C=0.23357214690901212, fit_intercept=True, max_iter=100, score=0.804, total=   0.2s\n",
      "[CV] C=0.23357214690901212, fit_intercept=True, max_iter=100 .........\n",
      "[CV]  C=0.23357214690901212, fit_intercept=True, max_iter=100, score=0.804, total=   0.2s\n",
      "[CV] C=0.23357214690901212, fit_intercept=True, max_iter=100 .........\n",
      "[CV]  C=0.23357214690901212, fit_intercept=True, max_iter=100, score=0.804, total=   0.2s\n",
      "[CV] C=0.23357214690901212, fit_intercept=True, max_iter=100 .........\n",
      "[CV]  C=0.23357214690901212, fit_intercept=True, max_iter=100, score=0.802, total=   0.2s\n",
      "[CV] C=0.23357214690901212, fit_intercept=True, max_iter=1000 ........\n",
      "[CV]  C=0.23357214690901212, fit_intercept=True, max_iter=1000, score=0.811, total=   0.2s\n",
      "[CV] C=0.23357214690901212, fit_intercept=True, max_iter=1000 ........\n",
      "[CV]  C=0.23357214690901212, fit_intercept=True, max_iter=1000, score=0.804, total=   0.2s\n",
      "[CV] C=0.23357214690901212, fit_intercept=True, max_iter=1000 ........\n",
      "[CV]  C=0.23357214690901212, fit_intercept=True, max_iter=1000, score=0.804, total=   0.2s\n",
      "[CV] C=0.23357214690901212, fit_intercept=True, max_iter=1000 ........\n",
      "[CV]  C=0.23357214690901212, fit_intercept=True, max_iter=1000, score=0.804, total=   0.3s\n",
      "[CV] C=0.23357214690901212, fit_intercept=True, max_iter=1000 ........\n",
      "[CV]  C=0.23357214690901212, fit_intercept=True, max_iter=1000, score=0.802, total=   0.4s\n",
      "[CV] C=0.23357214690901212, fit_intercept=True, max_iter=10000 .......\n",
      "[CV]  C=0.23357214690901212, fit_intercept=True, max_iter=10000, score=0.811, total=   0.3s\n",
      "[CV] C=0.23357214690901212, fit_intercept=True, max_iter=10000 .......\n",
      "[CV]  C=0.23357214690901212, fit_intercept=True, max_iter=10000, score=0.804, total=   0.3s\n",
      "[CV] C=0.23357214690901212, fit_intercept=True, max_iter=10000 .......\n",
      "[CV]  C=0.23357214690901212, fit_intercept=True, max_iter=10000, score=0.804, total=   0.3s\n",
      "[CV] C=0.23357214690901212, fit_intercept=True, max_iter=10000 .......\n",
      "[CV]  C=0.23357214690901212, fit_intercept=True, max_iter=10000, score=0.804, total=   0.5s\n",
      "[CV] C=0.23357214690901212, fit_intercept=True, max_iter=10000 .......\n",
      "[CV]  C=0.23357214690901212, fit_intercept=True, max_iter=10000, score=0.802, total=   0.7s\n",
      "[CV] C=0.23357214690901212, fit_intercept=False, max_iter=100 ........\n",
      "[CV]  C=0.23357214690901212, fit_intercept=False, max_iter=100, score=0.809, total=   0.4s\n",
      "[CV] C=0.23357214690901212, fit_intercept=False, max_iter=100 ........\n",
      "[CV]  C=0.23357214690901212, fit_intercept=False, max_iter=100, score=0.804, total=   0.2s\n",
      "[CV] C=0.23357214690901212, fit_intercept=False, max_iter=100 ........\n",
      "[CV]  C=0.23357214690901212, fit_intercept=False, max_iter=100, score=0.804, total=   0.2s\n",
      "[CV] C=0.23357214690901212, fit_intercept=False, max_iter=100 ........\n",
      "[CV]  C=0.23357214690901212, fit_intercept=False, max_iter=100, score=0.804, total=   0.3s\n",
      "[CV] C=0.23357214690901212, fit_intercept=False, max_iter=100 ........\n",
      "[CV]  C=0.23357214690901212, fit_intercept=False, max_iter=100, score=0.803, total=   0.2s\n",
      "[CV] C=0.23357214690901212, fit_intercept=False, max_iter=1000 .......\n",
      "[CV]  C=0.23357214690901212, fit_intercept=False, max_iter=1000, score=0.809, total=   0.2s\n",
      "[CV] C=0.23357214690901212, fit_intercept=False, max_iter=1000 .......\n"
     ]
    },
    {
     "name": "stdout",
     "output_type": "stream",
     "text": [
      "[CV]  C=0.23357214690901212, fit_intercept=False, max_iter=1000, score=0.804, total=   0.2s\n",
      "[CV] C=0.23357214690901212, fit_intercept=False, max_iter=1000 .......\n",
      "[CV]  C=0.23357214690901212, fit_intercept=False, max_iter=1000, score=0.804, total=   0.2s\n",
      "[CV] C=0.23357214690901212, fit_intercept=False, max_iter=1000 .......\n",
      "[CV]  C=0.23357214690901212, fit_intercept=False, max_iter=1000, score=0.804, total=   0.2s\n",
      "[CV] C=0.23357214690901212, fit_intercept=False, max_iter=1000 .......\n",
      "[CV]  C=0.23357214690901212, fit_intercept=False, max_iter=1000, score=0.803, total=   0.2s\n",
      "[CV] C=0.23357214690901212, fit_intercept=False, max_iter=10000 ......\n",
      "[CV]  C=0.23357214690901212, fit_intercept=False, max_iter=10000, score=0.809, total=   0.1s\n",
      "[CV] C=0.23357214690901212, fit_intercept=False, max_iter=10000 ......\n",
      "[CV]  C=0.23357214690901212, fit_intercept=False, max_iter=10000, score=0.804, total=   0.1s\n",
      "[CV] C=0.23357214690901212, fit_intercept=False, max_iter=10000 ......\n",
      "[CV]  C=0.23357214690901212, fit_intercept=False, max_iter=10000, score=0.804, total=   0.1s\n",
      "[CV] C=0.23357214690901212, fit_intercept=False, max_iter=10000 ......\n",
      "[CV]  C=0.23357214690901212, fit_intercept=False, max_iter=10000, score=0.804, total=   0.2s\n",
      "[CV] C=0.23357214690901212, fit_intercept=False, max_iter=10000 ......\n",
      "[CV]  C=0.23357214690901212, fit_intercept=False, max_iter=10000, score=0.803, total=   0.2s\n",
      "[CV] C=0.615848211066026, fit_intercept=True, max_iter=100 ...........\n",
      "[CV]  C=0.615848211066026, fit_intercept=True, max_iter=100, score=0.811, total=   0.3s\n",
      "[CV] C=0.615848211066026, fit_intercept=True, max_iter=100 ...........\n",
      "[CV]  C=0.615848211066026, fit_intercept=True, max_iter=100, score=0.804, total=   0.3s\n",
      "[CV] C=0.615848211066026, fit_intercept=True, max_iter=100 ...........\n",
      "[CV]  C=0.615848211066026, fit_intercept=True, max_iter=100, score=0.804, total=   0.2s\n",
      "[CV] C=0.615848211066026, fit_intercept=True, max_iter=100 ...........\n",
      "[CV]  C=0.615848211066026, fit_intercept=True, max_iter=100, score=0.804, total=   0.2s\n",
      "[CV] C=0.615848211066026, fit_intercept=True, max_iter=100 ...........\n",
      "[CV]  C=0.615848211066026, fit_intercept=True, max_iter=100, score=0.803, total=   0.2s\n",
      "[CV] C=0.615848211066026, fit_intercept=True, max_iter=1000 ..........\n",
      "[CV]  C=0.615848211066026, fit_intercept=True, max_iter=1000, score=0.811, total=   0.2s\n",
      "[CV] C=0.615848211066026, fit_intercept=True, max_iter=1000 ..........\n",
      "[CV]  C=0.615848211066026, fit_intercept=True, max_iter=1000, score=0.804, total=   0.2s\n",
      "[CV] C=0.615848211066026, fit_intercept=True, max_iter=1000 ..........\n",
      "[CV]  C=0.615848211066026, fit_intercept=True, max_iter=1000, score=0.804, total=   0.3s\n",
      "[CV] C=0.615848211066026, fit_intercept=True, max_iter=1000 ..........\n",
      "[CV]  C=0.615848211066026, fit_intercept=True, max_iter=1000, score=0.804, total=   0.4s\n",
      "[CV] C=0.615848211066026, fit_intercept=True, max_iter=1000 ..........\n",
      "[CV]  C=0.615848211066026, fit_intercept=True, max_iter=1000, score=0.803, total=   0.3s\n",
      "[CV] C=0.615848211066026, fit_intercept=True, max_iter=10000 .........\n",
      "[CV]  C=0.615848211066026, fit_intercept=True, max_iter=10000, score=0.811, total=   0.2s\n",
      "[CV] C=0.615848211066026, fit_intercept=True, max_iter=10000 .........\n",
      "[CV]  C=0.615848211066026, fit_intercept=True, max_iter=10000, score=0.804, total=   0.2s\n",
      "[CV] C=0.615848211066026, fit_intercept=True, max_iter=10000 .........\n",
      "[CV]  C=0.615848211066026, fit_intercept=True, max_iter=10000, score=0.804, total=   0.3s\n",
      "[CV] C=0.615848211066026, fit_intercept=True, max_iter=10000 .........\n",
      "[CV]  C=0.615848211066026, fit_intercept=True, max_iter=10000, score=0.804, total=   0.3s\n",
      "[CV] C=0.615848211066026, fit_intercept=True, max_iter=10000 .........\n",
      "[CV]  C=0.615848211066026, fit_intercept=True, max_iter=10000, score=0.803, total=   0.2s\n",
      "[CV] C=0.615848211066026, fit_intercept=False, max_iter=100 ..........\n",
      "[CV]  C=0.615848211066026, fit_intercept=False, max_iter=100, score=0.809, total=   0.1s\n",
      "[CV] C=0.615848211066026, fit_intercept=False, max_iter=100 ..........\n",
      "[CV]  C=0.615848211066026, fit_intercept=False, max_iter=100, score=0.804, total=   0.1s\n",
      "[CV] C=0.615848211066026, fit_intercept=False, max_iter=100 ..........\n",
      "[CV]  C=0.615848211066026, fit_intercept=False, max_iter=100, score=0.804, total=   0.1s\n",
      "[CV] C=0.615848211066026, fit_intercept=False, max_iter=100 ..........\n",
      "[CV]  C=0.615848211066026, fit_intercept=False, max_iter=100, score=0.804, total=   0.2s\n",
      "[CV] C=0.615848211066026, fit_intercept=False, max_iter=100 ..........\n",
      "[CV]  C=0.615848211066026, fit_intercept=False, max_iter=100, score=0.803, total=   0.1s\n",
      "[CV] C=0.615848211066026, fit_intercept=False, max_iter=1000 .........\n",
      "[CV]  C=0.615848211066026, fit_intercept=False, max_iter=1000, score=0.809, total=   0.1s\n",
      "[CV] C=0.615848211066026, fit_intercept=False, max_iter=1000 .........\n",
      "[CV]  C=0.615848211066026, fit_intercept=False, max_iter=1000, score=0.804, total=   0.2s\n",
      "[CV] C=0.615848211066026, fit_intercept=False, max_iter=1000 .........\n",
      "[CV]  C=0.615848211066026, fit_intercept=False, max_iter=1000, score=0.804, total=   0.1s\n",
      "[CV] C=0.615848211066026, fit_intercept=False, max_iter=1000 .........\n",
      "[CV]  C=0.615848211066026, fit_intercept=False, max_iter=1000, score=0.804, total=   0.2s\n",
      "[CV] C=0.615848211066026, fit_intercept=False, max_iter=1000 .........\n",
      "[CV]  C=0.615848211066026, fit_intercept=False, max_iter=1000, score=0.803, total=   0.1s\n",
      "[CV] C=0.615848211066026, fit_intercept=False, max_iter=10000 ........\n",
      "[CV]  C=0.615848211066026, fit_intercept=False, max_iter=10000, score=0.809, total=   0.2s\n",
      "[CV] C=0.615848211066026, fit_intercept=False, max_iter=10000 ........\n",
      "[CV]  C=0.615848211066026, fit_intercept=False, max_iter=10000, score=0.804, total=   0.2s\n",
      "[CV] C=0.615848211066026, fit_intercept=False, max_iter=10000 ........\n",
      "[CV]  C=0.615848211066026, fit_intercept=False, max_iter=10000, score=0.804, total=   0.2s\n",
      "[CV] C=0.615848211066026, fit_intercept=False, max_iter=10000 ........\n",
      "[CV]  C=0.615848211066026, fit_intercept=False, max_iter=10000, score=0.804, total=   0.2s\n",
      "[CV] C=0.615848211066026, fit_intercept=False, max_iter=10000 ........\n",
      "[CV]  C=0.615848211066026, fit_intercept=False, max_iter=10000, score=0.803, total=   0.2s\n",
      "[CV] C=1.623776739188721, fit_intercept=True, max_iter=100 ...........\n",
      "[CV]  C=1.623776739188721, fit_intercept=True, max_iter=100, score=0.811, total=   0.2s\n",
      "[CV] C=1.623776739188721, fit_intercept=True, max_iter=100 ...........\n",
      "[CV]  C=1.623776739188721, fit_intercept=True, max_iter=100, score=0.804, total=   0.3s\n",
      "[CV] C=1.623776739188721, fit_intercept=True, max_iter=100 ...........\n",
      "[CV]  C=1.623776739188721, fit_intercept=True, max_iter=100, score=0.804, total=   0.2s\n",
      "[CV] C=1.623776739188721, fit_intercept=True, max_iter=100 ...........\n",
      "[CV]  C=1.623776739188721, fit_intercept=True, max_iter=100, score=0.804, total=   0.3s\n",
      "[CV] C=1.623776739188721, fit_intercept=True, max_iter=100 ...........\n",
      "[CV]  C=1.623776739188721, fit_intercept=True, max_iter=100, score=0.803, total=   0.2s\n",
      "[CV] C=1.623776739188721, fit_intercept=True, max_iter=1000 ..........\n",
      "[CV]  C=1.623776739188721, fit_intercept=True, max_iter=1000, score=0.811, total=   0.3s\n",
      "[CV] C=1.623776739188721, fit_intercept=True, max_iter=1000 ..........\n",
      "[CV]  C=1.623776739188721, fit_intercept=True, max_iter=1000, score=0.804, total=   0.3s\n",
      "[CV] C=1.623776739188721, fit_intercept=True, max_iter=1000 ..........\n",
      "[CV]  C=1.623776739188721, fit_intercept=True, max_iter=1000, score=0.804, total=   0.2s\n",
      "[CV] C=1.623776739188721, fit_intercept=True, max_iter=1000 ..........\n",
      "[CV]  C=1.623776739188721, fit_intercept=True, max_iter=1000, score=0.804, total=   0.3s\n",
      "[CV] C=1.623776739188721, fit_intercept=True, max_iter=1000 ..........\n",
      "[CV]  C=1.623776739188721, fit_intercept=True, max_iter=1000, score=0.803, total=   0.4s\n",
      "[CV] C=1.623776739188721, fit_intercept=True, max_iter=10000 .........\n",
      "[CV]  C=1.623776739188721, fit_intercept=True, max_iter=10000, score=0.811, total=   0.3s\n",
      "[CV] C=1.623776739188721, fit_intercept=True, max_iter=10000 .........\n",
      "[CV]  C=1.623776739188721, fit_intercept=True, max_iter=10000, score=0.804, total=   0.6s\n",
      "[CV] C=1.623776739188721, fit_intercept=True, max_iter=10000 .........\n"
     ]
    },
    {
     "name": "stdout",
     "output_type": "stream",
     "text": [
      "[CV]  C=1.623776739188721, fit_intercept=True, max_iter=10000, score=0.804, total=   0.5s\n",
      "[CV] C=1.623776739188721, fit_intercept=True, max_iter=10000 .........\n",
      "[CV]  C=1.623776739188721, fit_intercept=True, max_iter=10000, score=0.804, total=   0.5s\n",
      "[CV] C=1.623776739188721, fit_intercept=True, max_iter=10000 .........\n",
      "[CV]  C=1.623776739188721, fit_intercept=True, max_iter=10000, score=0.803, total=   0.4s\n",
      "[CV] C=1.623776739188721, fit_intercept=False, max_iter=100 ..........\n",
      "[CV]  C=1.623776739188721, fit_intercept=False, max_iter=100, score=0.809, total=   0.2s\n",
      "[CV] C=1.623776739188721, fit_intercept=False, max_iter=100 ..........\n",
      "[CV]  C=1.623776739188721, fit_intercept=False, max_iter=100, score=0.804, total=   0.2s\n",
      "[CV] C=1.623776739188721, fit_intercept=False, max_iter=100 ..........\n",
      "[CV]  C=1.623776739188721, fit_intercept=False, max_iter=100, score=0.804, total=   0.2s\n",
      "[CV] C=1.623776739188721, fit_intercept=False, max_iter=100 ..........\n",
      "[CV]  C=1.623776739188721, fit_intercept=False, max_iter=100, score=0.804, total=   0.2s\n",
      "[CV] C=1.623776739188721, fit_intercept=False, max_iter=100 ..........\n",
      "[CV]  C=1.623776739188721, fit_intercept=False, max_iter=100, score=0.803, total=   0.2s\n",
      "[CV] C=1.623776739188721, fit_intercept=False, max_iter=1000 .........\n",
      "[CV]  C=1.623776739188721, fit_intercept=False, max_iter=1000, score=0.809, total=   0.2s\n",
      "[CV] C=1.623776739188721, fit_intercept=False, max_iter=1000 .........\n",
      "[CV]  C=1.623776739188721, fit_intercept=False, max_iter=1000, score=0.804, total=   0.3s\n",
      "[CV] C=1.623776739188721, fit_intercept=False, max_iter=1000 .........\n",
      "[CV]  C=1.623776739188721, fit_intercept=False, max_iter=1000, score=0.804, total=   1.0s\n",
      "[CV] C=1.623776739188721, fit_intercept=False, max_iter=1000 .........\n",
      "[CV]  C=1.623776739188721, fit_intercept=False, max_iter=1000, score=0.804, total=   0.5s\n",
      "[CV] C=1.623776739188721, fit_intercept=False, max_iter=1000 .........\n",
      "[CV]  C=1.623776739188721, fit_intercept=False, max_iter=1000, score=0.803, total=   0.3s\n",
      "[CV] C=1.623776739188721, fit_intercept=False, max_iter=10000 ........\n",
      "[CV]  C=1.623776739188721, fit_intercept=False, max_iter=10000, score=0.809, total=   0.5s\n",
      "[CV] C=1.623776739188721, fit_intercept=False, max_iter=10000 ........\n",
      "[CV]  C=1.623776739188721, fit_intercept=False, max_iter=10000, score=0.804, total=   0.2s\n",
      "[CV] C=1.623776739188721, fit_intercept=False, max_iter=10000 ........\n",
      "[CV]  C=1.623776739188721, fit_intercept=False, max_iter=10000, score=0.804, total=   0.2s\n",
      "[CV] C=1.623776739188721, fit_intercept=False, max_iter=10000 ........\n",
      "[CV]  C=1.623776739188721, fit_intercept=False, max_iter=10000, score=0.804, total=   0.3s\n",
      "[CV] C=1.623776739188721, fit_intercept=False, max_iter=10000 ........\n",
      "[CV]  C=1.623776739188721, fit_intercept=False, max_iter=10000, score=0.803, total=   0.2s\n",
      "[CV] C=4.281332398719396, fit_intercept=True, max_iter=100 ...........\n",
      "[CV]  C=4.281332398719396, fit_intercept=True, max_iter=100, score=0.811, total=   0.3s\n",
      "[CV] C=4.281332398719396, fit_intercept=True, max_iter=100 ...........\n",
      "[CV]  C=4.281332398719396, fit_intercept=True, max_iter=100, score=0.804, total=   0.2s\n",
      "[CV] C=4.281332398719396, fit_intercept=True, max_iter=100 ...........\n",
      "[CV]  C=4.281332398719396, fit_intercept=True, max_iter=100, score=0.804, total=   0.2s\n",
      "[CV] C=4.281332398719396, fit_intercept=True, max_iter=100 ...........\n",
      "[CV]  C=4.281332398719396, fit_intercept=True, max_iter=100, score=0.804, total=   0.4s\n",
      "[CV] C=4.281332398719396, fit_intercept=True, max_iter=100 ...........\n",
      "[CV]  C=4.281332398719396, fit_intercept=True, max_iter=100, score=0.803, total=   0.3s\n",
      "[CV] C=4.281332398719396, fit_intercept=True, max_iter=1000 ..........\n",
      "[CV]  C=4.281332398719396, fit_intercept=True, max_iter=1000, score=0.811, total=   0.2s\n",
      "[CV] C=4.281332398719396, fit_intercept=True, max_iter=1000 ..........\n",
      "[CV]  C=4.281332398719396, fit_intercept=True, max_iter=1000, score=0.804, total=   0.3s\n",
      "[CV] C=4.281332398719396, fit_intercept=True, max_iter=1000 ..........\n",
      "[CV]  C=4.281332398719396, fit_intercept=True, max_iter=1000, score=0.804, total=   0.2s\n",
      "[CV] C=4.281332398719396, fit_intercept=True, max_iter=1000 ..........\n",
      "[CV]  C=4.281332398719396, fit_intercept=True, max_iter=1000, score=0.804, total=   0.2s\n",
      "[CV] C=4.281332398719396, fit_intercept=True, max_iter=1000 ..........\n",
      "[CV]  C=4.281332398719396, fit_intercept=True, max_iter=1000, score=0.803, total=   0.2s\n",
      "[CV] C=4.281332398719396, fit_intercept=True, max_iter=10000 .........\n",
      "[CV]  C=4.281332398719396, fit_intercept=True, max_iter=10000, score=0.811, total=   0.3s\n",
      "[CV] C=4.281332398719396, fit_intercept=True, max_iter=10000 .........\n",
      "[CV]  C=4.281332398719396, fit_intercept=True, max_iter=10000, score=0.804, total=   0.4s\n",
      "[CV] C=4.281332398719396, fit_intercept=True, max_iter=10000 .........\n",
      "[CV]  C=4.281332398719396, fit_intercept=True, max_iter=10000, score=0.804, total=   0.3s\n",
      "[CV] C=4.281332398719396, fit_intercept=True, max_iter=10000 .........\n",
      "[CV]  C=4.281332398719396, fit_intercept=True, max_iter=10000, score=0.804, total=   0.3s\n",
      "[CV] C=4.281332398719396, fit_intercept=True, max_iter=10000 .........\n",
      "[CV]  C=4.281332398719396, fit_intercept=True, max_iter=10000, score=0.803, total=   0.2s\n",
      "[CV] C=4.281332398719396, fit_intercept=False, max_iter=100 ..........\n",
      "[CV]  C=4.281332398719396, fit_intercept=False, max_iter=100, score=0.809, total=   0.2s\n",
      "[CV] C=4.281332398719396, fit_intercept=False, max_iter=100 ..........\n",
      "[CV]  C=4.281332398719396, fit_intercept=False, max_iter=100, score=0.804, total=   0.2s\n",
      "[CV] C=4.281332398719396, fit_intercept=False, max_iter=100 ..........\n",
      "[CV]  C=4.281332398719396, fit_intercept=False, max_iter=100, score=0.804, total=   0.1s\n",
      "[CV] C=4.281332398719396, fit_intercept=False, max_iter=100 ..........\n",
      "[CV]  C=4.281332398719396, fit_intercept=False, max_iter=100, score=0.804, total=   0.2s\n",
      "[CV] C=4.281332398719396, fit_intercept=False, max_iter=100 ..........\n",
      "[CV]  C=4.281332398719396, fit_intercept=False, max_iter=100, score=0.803, total=   0.2s\n",
      "[CV] C=4.281332398719396, fit_intercept=False, max_iter=1000 .........\n",
      "[CV]  C=4.281332398719396, fit_intercept=False, max_iter=1000, score=0.809, total=   0.2s\n",
      "[CV] C=4.281332398719396, fit_intercept=False, max_iter=1000 .........\n",
      "[CV]  C=4.281332398719396, fit_intercept=False, max_iter=1000, score=0.804, total=   0.2s\n",
      "[CV] C=4.281332398719396, fit_intercept=False, max_iter=1000 .........\n",
      "[CV]  C=4.281332398719396, fit_intercept=False, max_iter=1000, score=0.804, total=   0.1s\n",
      "[CV] C=4.281332398719396, fit_intercept=False, max_iter=1000 .........\n",
      "[CV]  C=4.281332398719396, fit_intercept=False, max_iter=1000, score=0.804, total=   0.2s\n",
      "[CV] C=4.281332398719396, fit_intercept=False, max_iter=1000 .........\n",
      "[CV]  C=4.281332398719396, fit_intercept=False, max_iter=1000, score=0.803, total=   0.2s\n",
      "[CV] C=4.281332398719396, fit_intercept=False, max_iter=10000 ........\n",
      "[CV]  C=4.281332398719396, fit_intercept=False, max_iter=10000, score=0.809, total=   0.2s\n",
      "[CV] C=4.281332398719396, fit_intercept=False, max_iter=10000 ........\n",
      "[CV]  C=4.281332398719396, fit_intercept=False, max_iter=10000, score=0.804, total=   0.2s\n",
      "[CV] C=4.281332398719396, fit_intercept=False, max_iter=10000 ........\n",
      "[CV]  C=4.281332398719396, fit_intercept=False, max_iter=10000, score=0.804, total=   0.2s\n",
      "[CV] C=4.281332398719396, fit_intercept=False, max_iter=10000 ........\n",
      "[CV]  C=4.281332398719396, fit_intercept=False, max_iter=10000, score=0.804, total=   0.3s\n",
      "[CV] C=4.281332398719396, fit_intercept=False, max_iter=10000 ........\n",
      "[CV]  C=4.281332398719396, fit_intercept=False, max_iter=10000, score=0.803, total=   0.2s\n",
      "[CV] C=11.288378916846883, fit_intercept=True, max_iter=100 ..........\n",
      "[CV]  C=11.288378916846883, fit_intercept=True, max_iter=100, score=0.811, total=   0.4s\n",
      "[CV] C=11.288378916846883, fit_intercept=True, max_iter=100 ..........\n",
      "[CV]  C=11.288378916846883, fit_intercept=True, max_iter=100, score=0.804, total=   0.4s\n",
      "[CV] C=11.288378916846883, fit_intercept=True, max_iter=100 ..........\n",
      "[CV]  C=11.288378916846883, fit_intercept=True, max_iter=100, score=0.804, total=   0.4s\n",
      "[CV] C=11.288378916846883, fit_intercept=True, max_iter=100 ..........\n"
     ]
    },
    {
     "name": "stdout",
     "output_type": "stream",
     "text": [
      "[CV]  C=11.288378916846883, fit_intercept=True, max_iter=100, score=0.804, total=   0.3s\n",
      "[CV] C=11.288378916846883, fit_intercept=True, max_iter=100 ..........\n",
      "[CV]  C=11.288378916846883, fit_intercept=True, max_iter=100, score=0.803, total=   0.3s\n",
      "[CV] C=11.288378916846883, fit_intercept=True, max_iter=1000 .........\n",
      "[CV]  C=11.288378916846883, fit_intercept=True, max_iter=1000, score=0.811, total=   0.4s\n",
      "[CV] C=11.288378916846883, fit_intercept=True, max_iter=1000 .........\n",
      "[CV]  C=11.288378916846883, fit_intercept=True, max_iter=1000, score=0.804, total=   0.3s\n",
      "[CV] C=11.288378916846883, fit_intercept=True, max_iter=1000 .........\n",
      "[CV]  C=11.288378916846883, fit_intercept=True, max_iter=1000, score=0.804, total=   0.3s\n",
      "[CV] C=11.288378916846883, fit_intercept=True, max_iter=1000 .........\n",
      "[CV]  C=11.288378916846883, fit_intercept=True, max_iter=1000, score=0.804, total=   0.2s\n",
      "[CV] C=11.288378916846883, fit_intercept=True, max_iter=1000 .........\n",
      "[CV]  C=11.288378916846883, fit_intercept=True, max_iter=1000, score=0.803, total=   0.2s\n",
      "[CV] C=11.288378916846883, fit_intercept=True, max_iter=10000 ........\n",
      "[CV]  C=11.288378916846883, fit_intercept=True, max_iter=10000, score=0.811, total=   0.2s\n",
      "[CV] C=11.288378916846883, fit_intercept=True, max_iter=10000 ........\n",
      "[CV]  C=11.288378916846883, fit_intercept=True, max_iter=10000, score=0.804, total=   0.3s\n",
      "[CV] C=11.288378916846883, fit_intercept=True, max_iter=10000 ........\n",
      "[CV]  C=11.288378916846883, fit_intercept=True, max_iter=10000, score=0.804, total=   0.2s\n",
      "[CV] C=11.288378916846883, fit_intercept=True, max_iter=10000 ........\n",
      "[CV]  C=11.288378916846883, fit_intercept=True, max_iter=10000, score=0.804, total=   0.3s\n",
      "[CV] C=11.288378916846883, fit_intercept=True, max_iter=10000 ........\n",
      "[CV]  C=11.288378916846883, fit_intercept=True, max_iter=10000, score=0.803, total=   0.3s\n",
      "[CV] C=11.288378916846883, fit_intercept=False, max_iter=100 .........\n",
      "[CV]  C=11.288378916846883, fit_intercept=False, max_iter=100, score=0.809, total=   0.2s\n",
      "[CV] C=11.288378916846883, fit_intercept=False, max_iter=100 .........\n",
      "[CV]  C=11.288378916846883, fit_intercept=False, max_iter=100, score=0.804, total=   0.2s\n",
      "[CV] C=11.288378916846883, fit_intercept=False, max_iter=100 .........\n",
      "[CV]  C=11.288378916846883, fit_intercept=False, max_iter=100, score=0.804, total=   0.2s\n",
      "[CV] C=11.288378916846883, fit_intercept=False, max_iter=100 .........\n",
      "[CV]  C=11.288378916846883, fit_intercept=False, max_iter=100, score=0.804, total=   0.3s\n",
      "[CV] C=11.288378916846883, fit_intercept=False, max_iter=100 .........\n",
      "[CV]  C=11.288378916846883, fit_intercept=False, max_iter=100, score=0.803, total=   0.2s\n",
      "[CV] C=11.288378916846883, fit_intercept=False, max_iter=1000 ........\n",
      "[CV]  C=11.288378916846883, fit_intercept=False, max_iter=1000, score=0.809, total=   0.1s\n",
      "[CV] C=11.288378916846883, fit_intercept=False, max_iter=1000 ........\n",
      "[CV]  C=11.288378916846883, fit_intercept=False, max_iter=1000, score=0.804, total=   0.2s\n",
      "[CV] C=11.288378916846883, fit_intercept=False, max_iter=1000 ........\n",
      "[CV]  C=11.288378916846883, fit_intercept=False, max_iter=1000, score=0.804, total=   0.1s\n",
      "[CV] C=11.288378916846883, fit_intercept=False, max_iter=1000 ........\n",
      "[CV]  C=11.288378916846883, fit_intercept=False, max_iter=1000, score=0.804, total=   0.2s\n",
      "[CV] C=11.288378916846883, fit_intercept=False, max_iter=1000 ........\n",
      "[CV]  C=11.288378916846883, fit_intercept=False, max_iter=1000, score=0.803, total=   0.2s\n",
      "[CV] C=11.288378916846883, fit_intercept=False, max_iter=10000 .......\n",
      "[CV]  C=11.288378916846883, fit_intercept=False, max_iter=10000, score=0.809, total=   0.2s\n",
      "[CV] C=11.288378916846883, fit_intercept=False, max_iter=10000 .......\n",
      "[CV]  C=11.288378916846883, fit_intercept=False, max_iter=10000, score=0.804, total=   0.2s\n",
      "[CV] C=11.288378916846883, fit_intercept=False, max_iter=10000 .......\n",
      "[CV]  C=11.288378916846883, fit_intercept=False, max_iter=10000, score=0.804, total=   0.3s\n",
      "[CV] C=11.288378916846883, fit_intercept=False, max_iter=10000 .......\n",
      "[CV]  C=11.288378916846883, fit_intercept=False, max_iter=10000, score=0.804, total=   0.3s\n",
      "[CV] C=11.288378916846883, fit_intercept=False, max_iter=10000 .......\n",
      "[CV]  C=11.288378916846883, fit_intercept=False, max_iter=10000, score=0.803, total=   0.3s\n",
      "[CV] C=29.763514416313132, fit_intercept=True, max_iter=100 ..........\n",
      "[CV]  C=29.763514416313132, fit_intercept=True, max_iter=100, score=0.811, total=   0.3s\n",
      "[CV] C=29.763514416313132, fit_intercept=True, max_iter=100 ..........\n",
      "[CV]  C=29.763514416313132, fit_intercept=True, max_iter=100, score=0.804, total=   0.3s\n",
      "[CV] C=29.763514416313132, fit_intercept=True, max_iter=100 ..........\n",
      "[CV]  C=29.763514416313132, fit_intercept=True, max_iter=100, score=0.804, total=   0.3s\n",
      "[CV] C=29.763514416313132, fit_intercept=True, max_iter=100 ..........\n",
      "[CV]  C=29.763514416313132, fit_intercept=True, max_iter=100, score=0.804, total=   0.2s\n",
      "[CV] C=29.763514416313132, fit_intercept=True, max_iter=100 ..........\n",
      "[CV]  C=29.763514416313132, fit_intercept=True, max_iter=100, score=0.803, total=   0.2s\n",
      "[CV] C=29.763514416313132, fit_intercept=True, max_iter=1000 .........\n",
      "[CV]  C=29.763514416313132, fit_intercept=True, max_iter=1000, score=0.811, total=   0.3s\n",
      "[CV] C=29.763514416313132, fit_intercept=True, max_iter=1000 .........\n",
      "[CV]  C=29.763514416313132, fit_intercept=True, max_iter=1000, score=0.804, total=   0.3s\n",
      "[CV] C=29.763514416313132, fit_intercept=True, max_iter=1000 .........\n",
      "[CV]  C=29.763514416313132, fit_intercept=True, max_iter=1000, score=0.804, total=   0.3s\n",
      "[CV] C=29.763514416313132, fit_intercept=True, max_iter=1000 .........\n",
      "[CV]  C=29.763514416313132, fit_intercept=True, max_iter=1000, score=0.804, total=   0.3s\n",
      "[CV] C=29.763514416313132, fit_intercept=True, max_iter=1000 .........\n",
      "[CV]  C=29.763514416313132, fit_intercept=True, max_iter=1000, score=0.803, total=   0.3s\n",
      "[CV] C=29.763514416313132, fit_intercept=True, max_iter=10000 ........\n",
      "[CV]  C=29.763514416313132, fit_intercept=True, max_iter=10000, score=0.811, total=   0.4s\n",
      "[CV] C=29.763514416313132, fit_intercept=True, max_iter=10000 ........\n",
      "[CV]  C=29.763514416313132, fit_intercept=True, max_iter=10000, score=0.804, total=   0.4s\n",
      "[CV] C=29.763514416313132, fit_intercept=True, max_iter=10000 ........\n",
      "[CV]  C=29.763514416313132, fit_intercept=True, max_iter=10000, score=0.804, total=   0.3s\n",
      "[CV] C=29.763514416313132, fit_intercept=True, max_iter=10000 ........\n",
      "[CV]  C=29.763514416313132, fit_intercept=True, max_iter=10000, score=0.804, total=   0.4s\n",
      "[CV] C=29.763514416313132, fit_intercept=True, max_iter=10000 ........\n",
      "[CV]  C=29.763514416313132, fit_intercept=True, max_iter=10000, score=0.803, total=   0.4s\n",
      "[CV] C=29.763514416313132, fit_intercept=False, max_iter=100 .........\n",
      "[CV]  C=29.763514416313132, fit_intercept=False, max_iter=100, score=0.809, total=   0.4s\n",
      "[CV] C=29.763514416313132, fit_intercept=False, max_iter=100 .........\n",
      "[CV]  C=29.763514416313132, fit_intercept=False, max_iter=100, score=0.804, total=   0.3s\n",
      "[CV] C=29.763514416313132, fit_intercept=False, max_iter=100 .........\n",
      "[CV]  C=29.763514416313132, fit_intercept=False, max_iter=100, score=0.804, total=   0.2s\n",
      "[CV] C=29.763514416313132, fit_intercept=False, max_iter=100 .........\n",
      "[CV]  C=29.763514416313132, fit_intercept=False, max_iter=100, score=0.804, total=   0.2s\n",
      "[CV] C=29.763514416313132, fit_intercept=False, max_iter=100 .........\n",
      "[CV]  C=29.763514416313132, fit_intercept=False, max_iter=100, score=0.803, total=   0.1s\n",
      "[CV] C=29.763514416313132, fit_intercept=False, max_iter=1000 ........\n",
      "[CV]  C=29.763514416313132, fit_intercept=False, max_iter=1000, score=0.809, total=   0.1s\n",
      "[CV] C=29.763514416313132, fit_intercept=False, max_iter=1000 ........\n",
      "[CV]  C=29.763514416313132, fit_intercept=False, max_iter=1000, score=0.804, total=   0.1s\n",
      "[CV] C=29.763514416313132, fit_intercept=False, max_iter=1000 ........\n",
      "[CV]  C=29.763514416313132, fit_intercept=False, max_iter=1000, score=0.804, total=   0.1s\n",
      "[CV] C=29.763514416313132, fit_intercept=False, max_iter=1000 ........\n",
      "[CV]  C=29.763514416313132, fit_intercept=False, max_iter=1000, score=0.804, total=   0.2s\n",
      "[CV] C=29.763514416313132, fit_intercept=False, max_iter=1000 ........\n"
     ]
    },
    {
     "name": "stdout",
     "output_type": "stream",
     "text": [
      "[CV]  C=29.763514416313132, fit_intercept=False, max_iter=1000, score=0.803, total=   0.2s\n",
      "[CV] C=29.763514416313132, fit_intercept=False, max_iter=10000 .......\n",
      "[CV]  C=29.763514416313132, fit_intercept=False, max_iter=10000, score=0.809, total=   0.2s\n",
      "[CV] C=29.763514416313132, fit_intercept=False, max_iter=10000 .......\n",
      "[CV]  C=29.763514416313132, fit_intercept=False, max_iter=10000, score=0.804, total=   0.2s\n",
      "[CV] C=29.763514416313132, fit_intercept=False, max_iter=10000 .......\n",
      "[CV]  C=29.763514416313132, fit_intercept=False, max_iter=10000, score=0.804, total=   0.2s\n",
      "[CV] C=29.763514416313132, fit_intercept=False, max_iter=10000 .......\n",
      "[CV]  C=29.763514416313132, fit_intercept=False, max_iter=10000, score=0.804, total=   0.2s\n",
      "[CV] C=29.763514416313132, fit_intercept=False, max_iter=10000 .......\n",
      "[CV]  C=29.763514416313132, fit_intercept=False, max_iter=10000, score=0.803, total=   0.3s\n",
      "[CV] C=78.47599703514607, fit_intercept=True, max_iter=100 ...........\n",
      "[CV]  C=78.47599703514607, fit_intercept=True, max_iter=100, score=0.811, total=   0.2s\n",
      "[CV] C=78.47599703514607, fit_intercept=True, max_iter=100 ...........\n",
      "[CV]  C=78.47599703514607, fit_intercept=True, max_iter=100, score=0.804, total=   0.3s\n",
      "[CV] C=78.47599703514607, fit_intercept=True, max_iter=100 ...........\n",
      "[CV]  C=78.47599703514607, fit_intercept=True, max_iter=100, score=0.804, total=   0.4s\n",
      "[CV] C=78.47599703514607, fit_intercept=True, max_iter=100 ...........\n",
      "[CV]  C=78.47599703514607, fit_intercept=True, max_iter=100, score=0.804, total=   0.4s\n",
      "[CV] C=78.47599703514607, fit_intercept=True, max_iter=100 ...........\n",
      "[CV]  C=78.47599703514607, fit_intercept=True, max_iter=100, score=0.803, total=   0.3s\n",
      "[CV] C=78.47599703514607, fit_intercept=True, max_iter=1000 ..........\n",
      "[CV]  C=78.47599703514607, fit_intercept=True, max_iter=1000, score=0.811, total=   0.3s\n",
      "[CV] C=78.47599703514607, fit_intercept=True, max_iter=1000 ..........\n",
      "[CV]  C=78.47599703514607, fit_intercept=True, max_iter=1000, score=0.804, total=   0.5s\n",
      "[CV] C=78.47599703514607, fit_intercept=True, max_iter=1000 ..........\n",
      "[CV]  C=78.47599703514607, fit_intercept=True, max_iter=1000, score=0.804, total=   0.4s\n",
      "[CV] C=78.47599703514607, fit_intercept=True, max_iter=1000 ..........\n",
      "[CV]  C=78.47599703514607, fit_intercept=True, max_iter=1000, score=0.804, total=   0.5s\n",
      "[CV] C=78.47599703514607, fit_intercept=True, max_iter=1000 ..........\n",
      "[CV]  C=78.47599703514607, fit_intercept=True, max_iter=1000, score=0.803, total=   0.2s\n",
      "[CV] C=78.47599703514607, fit_intercept=True, max_iter=10000 .........\n",
      "[CV]  C=78.47599703514607, fit_intercept=True, max_iter=10000, score=0.811, total=   0.3s\n",
      "[CV] C=78.47599703514607, fit_intercept=True, max_iter=10000 .........\n",
      "[CV]  C=78.47599703514607, fit_intercept=True, max_iter=10000, score=0.804, total=   0.3s\n",
      "[CV] C=78.47599703514607, fit_intercept=True, max_iter=10000 .........\n",
      "[CV]  C=78.47599703514607, fit_intercept=True, max_iter=10000, score=0.804, total=   0.3s\n",
      "[CV] C=78.47599703514607, fit_intercept=True, max_iter=10000 .........\n",
      "[CV]  C=78.47599703514607, fit_intercept=True, max_iter=10000, score=0.804, total=   0.2s\n",
      "[CV] C=78.47599703514607, fit_intercept=True, max_iter=10000 .........\n",
      "[CV]  C=78.47599703514607, fit_intercept=True, max_iter=10000, score=0.803, total=   0.3s\n",
      "[CV] C=78.47599703514607, fit_intercept=False, max_iter=100 ..........\n",
      "[CV]  C=78.47599703514607, fit_intercept=False, max_iter=100, score=0.809, total=   0.2s\n",
      "[CV] C=78.47599703514607, fit_intercept=False, max_iter=100 ..........\n",
      "[CV]  C=78.47599703514607, fit_intercept=False, max_iter=100, score=0.804, total=   0.2s\n",
      "[CV] C=78.47599703514607, fit_intercept=False, max_iter=100 ..........\n",
      "[CV]  C=78.47599703514607, fit_intercept=False, max_iter=100, score=0.804, total=   0.2s\n",
      "[CV] C=78.47599703514607, fit_intercept=False, max_iter=100 ..........\n",
      "[CV]  C=78.47599703514607, fit_intercept=False, max_iter=100, score=0.804, total=   0.2s\n",
      "[CV] C=78.47599703514607, fit_intercept=False, max_iter=100 ..........\n",
      "[CV]  C=78.47599703514607, fit_intercept=False, max_iter=100, score=0.803, total=   0.2s\n",
      "[CV] C=78.47599703514607, fit_intercept=False, max_iter=1000 .........\n",
      "[CV]  C=78.47599703514607, fit_intercept=False, max_iter=1000, score=0.809, total=   0.2s\n",
      "[CV] C=78.47599703514607, fit_intercept=False, max_iter=1000 .........\n",
      "[CV]  C=78.47599703514607, fit_intercept=False, max_iter=1000, score=0.804, total=   0.2s\n",
      "[CV] C=78.47599703514607, fit_intercept=False, max_iter=1000 .........\n",
      "[CV]  C=78.47599703514607, fit_intercept=False, max_iter=1000, score=0.804, total=   0.1s\n",
      "[CV] C=78.47599703514607, fit_intercept=False, max_iter=1000 .........\n",
      "[CV]  C=78.47599703514607, fit_intercept=False, max_iter=1000, score=0.804, total=   0.2s\n",
      "[CV] C=78.47599703514607, fit_intercept=False, max_iter=1000 .........\n",
      "[CV]  C=78.47599703514607, fit_intercept=False, max_iter=1000, score=0.803, total=   0.1s\n",
      "[CV] C=78.47599703514607, fit_intercept=False, max_iter=10000 ........\n",
      "[CV]  C=78.47599703514607, fit_intercept=False, max_iter=10000, score=0.809, total=   0.2s\n",
      "[CV] C=78.47599703514607, fit_intercept=False, max_iter=10000 ........\n",
      "[CV]  C=78.47599703514607, fit_intercept=False, max_iter=10000, score=0.804, total=   0.2s\n",
      "[CV] C=78.47599703514607, fit_intercept=False, max_iter=10000 ........\n",
      "[CV]  C=78.47599703514607, fit_intercept=False, max_iter=10000, score=0.804, total=   0.2s\n",
      "[CV] C=78.47599703514607, fit_intercept=False, max_iter=10000 ........\n",
      "[CV]  C=78.47599703514607, fit_intercept=False, max_iter=10000, score=0.804, total=   0.3s\n",
      "[CV] C=78.47599703514607, fit_intercept=False, max_iter=10000 ........\n",
      "[CV]  C=78.47599703514607, fit_intercept=False, max_iter=10000, score=0.803, total=   0.2s\n",
      "[CV] C=206.913808111479, fit_intercept=True, max_iter=100 ............\n",
      "[CV]  C=206.913808111479, fit_intercept=True, max_iter=100, score=0.811, total=   0.3s\n",
      "[CV] C=206.913808111479, fit_intercept=True, max_iter=100 ............\n",
      "[CV]  C=206.913808111479, fit_intercept=True, max_iter=100, score=0.804, total=   0.6s\n",
      "[CV] C=206.913808111479, fit_intercept=True, max_iter=100 ............\n",
      "[CV]  C=206.913808111479, fit_intercept=True, max_iter=100, score=0.804, total=   0.4s\n",
      "[CV] C=206.913808111479, fit_intercept=True, max_iter=100 ............\n",
      "[CV]  C=206.913808111479, fit_intercept=True, max_iter=100, score=0.804, total=   0.2s\n",
      "[CV] C=206.913808111479, fit_intercept=True, max_iter=100 ............\n",
      "[CV]  C=206.913808111479, fit_intercept=True, max_iter=100, score=0.803, total=   0.3s\n",
      "[CV] C=206.913808111479, fit_intercept=True, max_iter=1000 ...........\n",
      "[CV]  C=206.913808111479, fit_intercept=True, max_iter=1000, score=0.811, total=   0.2s\n",
      "[CV] C=206.913808111479, fit_intercept=True, max_iter=1000 ...........\n",
      "[CV]  C=206.913808111479, fit_intercept=True, max_iter=1000, score=0.804, total=   0.2s\n",
      "[CV] C=206.913808111479, fit_intercept=True, max_iter=1000 ...........\n",
      "[CV]  C=206.913808111479, fit_intercept=True, max_iter=1000, score=0.804, total=   0.3s\n",
      "[CV] C=206.913808111479, fit_intercept=True, max_iter=1000 ...........\n",
      "[CV]  C=206.913808111479, fit_intercept=True, max_iter=1000, score=0.804, total=   0.3s\n",
      "[CV] C=206.913808111479, fit_intercept=True, max_iter=1000 ...........\n",
      "[CV]  C=206.913808111479, fit_intercept=True, max_iter=1000, score=0.803, total=   0.2s\n",
      "[CV] C=206.913808111479, fit_intercept=True, max_iter=10000 ..........\n",
      "[CV]  C=206.913808111479, fit_intercept=True, max_iter=10000, score=0.811, total=   0.2s\n",
      "[CV] C=206.913808111479, fit_intercept=True, max_iter=10000 ..........\n",
      "[CV]  C=206.913808111479, fit_intercept=True, max_iter=10000, score=0.804, total=   0.2s\n",
      "[CV] C=206.913808111479, fit_intercept=True, max_iter=10000 ..........\n",
      "[CV]  C=206.913808111479, fit_intercept=True, max_iter=10000, score=0.804, total=   0.3s\n",
      "[CV] C=206.913808111479, fit_intercept=True, max_iter=10000 ..........\n",
      "[CV]  C=206.913808111479, fit_intercept=True, max_iter=10000, score=0.804, total=   0.3s\n",
      "[CV] C=206.913808111479, fit_intercept=True, max_iter=10000 ..........\n",
      "[CV]  C=206.913808111479, fit_intercept=True, max_iter=10000, score=0.803, total=   0.2s\n",
      "[CV] C=206.913808111479, fit_intercept=False, max_iter=100 ...........\n",
      "[CV]  C=206.913808111479, fit_intercept=False, max_iter=100, score=0.809, total=   0.2s\n",
      "[CV] C=206.913808111479, fit_intercept=False, max_iter=100 ...........\n"
     ]
    },
    {
     "name": "stdout",
     "output_type": "stream",
     "text": [
      "[CV]  C=206.913808111479, fit_intercept=False, max_iter=100, score=0.804, total=   0.1s\n",
      "[CV] C=206.913808111479, fit_intercept=False, max_iter=100 ...........\n",
      "[CV]  C=206.913808111479, fit_intercept=False, max_iter=100, score=0.804, total=   0.1s\n",
      "[CV] C=206.913808111479, fit_intercept=False, max_iter=100 ...........\n",
      "[CV]  C=206.913808111479, fit_intercept=False, max_iter=100, score=0.804, total=   0.2s\n",
      "[CV] C=206.913808111479, fit_intercept=False, max_iter=100 ...........\n",
      "[CV]  C=206.913808111479, fit_intercept=False, max_iter=100, score=0.803, total=   0.2s\n",
      "[CV] C=206.913808111479, fit_intercept=False, max_iter=1000 ..........\n",
      "[CV]  C=206.913808111479, fit_intercept=False, max_iter=1000, score=0.809, total=   0.2s\n",
      "[CV] C=206.913808111479, fit_intercept=False, max_iter=1000 ..........\n",
      "[CV]  C=206.913808111479, fit_intercept=False, max_iter=1000, score=0.804, total=   0.2s\n",
      "[CV] C=206.913808111479, fit_intercept=False, max_iter=1000 ..........\n",
      "[CV]  C=206.913808111479, fit_intercept=False, max_iter=1000, score=0.804, total=   0.1s\n",
      "[CV] C=206.913808111479, fit_intercept=False, max_iter=1000 ..........\n",
      "[CV]  C=206.913808111479, fit_intercept=False, max_iter=1000, score=0.804, total=   0.2s\n",
      "[CV] C=206.913808111479, fit_intercept=False, max_iter=1000 ..........\n",
      "[CV]  C=206.913808111479, fit_intercept=False, max_iter=1000, score=0.803, total=   0.1s\n",
      "[CV] C=206.913808111479, fit_intercept=False, max_iter=10000 .........\n",
      "[CV]  C=206.913808111479, fit_intercept=False, max_iter=10000, score=0.809, total=   0.2s\n",
      "[CV] C=206.913808111479, fit_intercept=False, max_iter=10000 .........\n",
      "[CV]  C=206.913808111479, fit_intercept=False, max_iter=10000, score=0.804, total=   0.1s\n",
      "[CV] C=206.913808111479, fit_intercept=False, max_iter=10000 .........\n",
      "[CV]  C=206.913808111479, fit_intercept=False, max_iter=10000, score=0.804, total=   0.2s\n",
      "[CV] C=206.913808111479, fit_intercept=False, max_iter=10000 .........\n",
      "[CV]  C=206.913808111479, fit_intercept=False, max_iter=10000, score=0.804, total=   0.2s\n",
      "[CV] C=206.913808111479, fit_intercept=False, max_iter=10000 .........\n",
      "[CV]  C=206.913808111479, fit_intercept=False, max_iter=10000, score=0.803, total=   0.2s\n",
      "[CV] C=545.5594781168514, fit_intercept=True, max_iter=100 ...........\n",
      "[CV]  C=545.5594781168514, fit_intercept=True, max_iter=100, score=0.811, total=   0.2s\n",
      "[CV] C=545.5594781168514, fit_intercept=True, max_iter=100 ...........\n",
      "[CV]  C=545.5594781168514, fit_intercept=True, max_iter=100, score=0.804, total=   0.2s\n",
      "[CV] C=545.5594781168514, fit_intercept=True, max_iter=100 ...........\n",
      "[CV]  C=545.5594781168514, fit_intercept=True, max_iter=100, score=0.804, total=   0.2s\n",
      "[CV] C=545.5594781168514, fit_intercept=True, max_iter=100 ...........\n",
      "[CV]  C=545.5594781168514, fit_intercept=True, max_iter=100, score=0.804, total=   0.2s\n",
      "[CV] C=545.5594781168514, fit_intercept=True, max_iter=100 ...........\n",
      "[CV]  C=545.5594781168514, fit_intercept=True, max_iter=100, score=0.803, total=   0.2s\n",
      "[CV] C=545.5594781168514, fit_intercept=True, max_iter=1000 ..........\n",
      "[CV]  C=545.5594781168514, fit_intercept=True, max_iter=1000, score=0.811, total=   0.2s\n",
      "[CV] C=545.5594781168514, fit_intercept=True, max_iter=1000 ..........\n",
      "[CV]  C=545.5594781168514, fit_intercept=True, max_iter=1000, score=0.804, total=   0.2s\n",
      "[CV] C=545.5594781168514, fit_intercept=True, max_iter=1000 ..........\n",
      "[CV]  C=545.5594781168514, fit_intercept=True, max_iter=1000, score=0.804, total=   0.2s\n",
      "[CV] C=545.5594781168514, fit_intercept=True, max_iter=1000 ..........\n",
      "[CV]  C=545.5594781168514, fit_intercept=True, max_iter=1000, score=0.804, total=   0.2s\n",
      "[CV] C=545.5594781168514, fit_intercept=True, max_iter=1000 ..........\n",
      "[CV]  C=545.5594781168514, fit_intercept=True, max_iter=1000, score=0.803, total=   0.2s\n",
      "[CV] C=545.5594781168514, fit_intercept=True, max_iter=10000 .........\n",
      "[CV]  C=545.5594781168514, fit_intercept=True, max_iter=10000, score=0.811, total=   0.2s\n",
      "[CV] C=545.5594781168514, fit_intercept=True, max_iter=10000 .........\n",
      "[CV]  C=545.5594781168514, fit_intercept=True, max_iter=10000, score=0.804, total=   0.3s\n",
      "[CV] C=545.5594781168514, fit_intercept=True, max_iter=10000 .........\n",
      "[CV]  C=545.5594781168514, fit_intercept=True, max_iter=10000, score=0.804, total=   0.4s\n",
      "[CV] C=545.5594781168514, fit_intercept=True, max_iter=10000 .........\n",
      "[CV]  C=545.5594781168514, fit_intercept=True, max_iter=10000, score=0.804, total=   0.2s\n",
      "[CV] C=545.5594781168514, fit_intercept=True, max_iter=10000 .........\n",
      "[CV]  C=545.5594781168514, fit_intercept=True, max_iter=10000, score=0.803, total=   0.2s\n",
      "[CV] C=545.5594781168514, fit_intercept=False, max_iter=100 ..........\n",
      "[CV]  C=545.5594781168514, fit_intercept=False, max_iter=100, score=0.809, total=   0.2s\n",
      "[CV] C=545.5594781168514, fit_intercept=False, max_iter=100 ..........\n",
      "[CV]  C=545.5594781168514, fit_intercept=False, max_iter=100, score=0.804, total=   0.2s\n",
      "[CV] C=545.5594781168514, fit_intercept=False, max_iter=100 ..........\n",
      "[CV]  C=545.5594781168514, fit_intercept=False, max_iter=100, score=0.804, total=   0.1s\n",
      "[CV] C=545.5594781168514, fit_intercept=False, max_iter=100 ..........\n",
      "[CV]  C=545.5594781168514, fit_intercept=False, max_iter=100, score=0.804, total=   0.2s\n",
      "[CV] C=545.5594781168514, fit_intercept=False, max_iter=100 ..........\n",
      "[CV]  C=545.5594781168514, fit_intercept=False, max_iter=100, score=0.803, total=   0.2s\n",
      "[CV] C=545.5594781168514, fit_intercept=False, max_iter=1000 .........\n",
      "[CV]  C=545.5594781168514, fit_intercept=False, max_iter=1000, score=0.809, total=   0.2s\n",
      "[CV] C=545.5594781168514, fit_intercept=False, max_iter=1000 .........\n",
      "[CV]  C=545.5594781168514, fit_intercept=False, max_iter=1000, score=0.804, total=   0.3s\n",
      "[CV] C=545.5594781168514, fit_intercept=False, max_iter=1000 .........\n",
      "[CV]  C=545.5594781168514, fit_intercept=False, max_iter=1000, score=0.804, total=   0.4s\n",
      "[CV] C=545.5594781168514, fit_intercept=False, max_iter=1000 .........\n",
      "[CV]  C=545.5594781168514, fit_intercept=False, max_iter=1000, score=0.804, total=   0.3s\n",
      "[CV] C=545.5594781168514, fit_intercept=False, max_iter=1000 .........\n",
      "[CV]  C=545.5594781168514, fit_intercept=False, max_iter=1000, score=0.803, total=   0.2s\n",
      "[CV] C=545.5594781168514, fit_intercept=False, max_iter=10000 ........\n",
      "[CV]  C=545.5594781168514, fit_intercept=False, max_iter=10000, score=0.809, total=   0.2s\n",
      "[CV] C=545.5594781168514, fit_intercept=False, max_iter=10000 ........\n",
      "[CV]  C=545.5594781168514, fit_intercept=False, max_iter=10000, score=0.804, total=   0.1s\n",
      "[CV] C=545.5594781168514, fit_intercept=False, max_iter=10000 ........\n",
      "[CV]  C=545.5594781168514, fit_intercept=False, max_iter=10000, score=0.804, total=   0.1s\n",
      "[CV] C=545.5594781168514, fit_intercept=False, max_iter=10000 ........\n",
      "[CV]  C=545.5594781168514, fit_intercept=False, max_iter=10000, score=0.804, total=   0.2s\n",
      "[CV] C=545.5594781168514, fit_intercept=False, max_iter=10000 ........\n",
      "[CV]  C=545.5594781168514, fit_intercept=False, max_iter=10000, score=0.803, total=   0.1s\n",
      "[CV] C=1438.44988828766, fit_intercept=True, max_iter=100 ............\n",
      "[CV]  C=1438.44988828766, fit_intercept=True, max_iter=100, score=0.811, total=   0.2s\n",
      "[CV] C=1438.44988828766, fit_intercept=True, max_iter=100 ............\n",
      "[CV]  C=1438.44988828766, fit_intercept=True, max_iter=100, score=0.804, total=   0.2s\n",
      "[CV] C=1438.44988828766, fit_intercept=True, max_iter=100 ............\n",
      "[CV]  C=1438.44988828766, fit_intercept=True, max_iter=100, score=0.804, total=   0.2s\n",
      "[CV] C=1438.44988828766, fit_intercept=True, max_iter=100 ............\n",
      "[CV]  C=1438.44988828766, fit_intercept=True, max_iter=100, score=0.804, total=   0.2s\n",
      "[CV] C=1438.44988828766, fit_intercept=True, max_iter=100 ............\n",
      "[CV]  C=1438.44988828766, fit_intercept=True, max_iter=100, score=0.803, total=   0.2s\n",
      "[CV] C=1438.44988828766, fit_intercept=True, max_iter=1000 ...........\n",
      "[CV]  C=1438.44988828766, fit_intercept=True, max_iter=1000, score=0.811, total=   0.2s\n",
      "[CV] C=1438.44988828766, fit_intercept=True, max_iter=1000 ...........\n",
      "[CV]  C=1438.44988828766, fit_intercept=True, max_iter=1000, score=0.804, total=   0.2s\n",
      "[CV] C=1438.44988828766, fit_intercept=True, max_iter=1000 ...........\n",
      "[CV]  C=1438.44988828766, fit_intercept=True, max_iter=1000, score=0.804, total=   0.3s\n",
      "[CV] C=1438.44988828766, fit_intercept=True, max_iter=1000 ...........\n"
     ]
    },
    {
     "name": "stdout",
     "output_type": "stream",
     "text": [
      "[CV]  C=1438.44988828766, fit_intercept=True, max_iter=1000, score=0.804, total=   0.3s\n",
      "[CV] C=1438.44988828766, fit_intercept=True, max_iter=1000 ...........\n",
      "[CV]  C=1438.44988828766, fit_intercept=True, max_iter=1000, score=0.803, total=   0.3s\n",
      "[CV] C=1438.44988828766, fit_intercept=True, max_iter=10000 ..........\n",
      "[CV]  C=1438.44988828766, fit_intercept=True, max_iter=10000, score=0.811, total=   0.3s\n",
      "[CV] C=1438.44988828766, fit_intercept=True, max_iter=10000 ..........\n",
      "[CV]  C=1438.44988828766, fit_intercept=True, max_iter=10000, score=0.804, total=   0.5s\n",
      "[CV] C=1438.44988828766, fit_intercept=True, max_iter=10000 ..........\n",
      "[CV]  C=1438.44988828766, fit_intercept=True, max_iter=10000, score=0.804, total=   0.3s\n",
      "[CV] C=1438.44988828766, fit_intercept=True, max_iter=10000 ..........\n",
      "[CV]  C=1438.44988828766, fit_intercept=True, max_iter=10000, score=0.804, total=   0.6s\n",
      "[CV] C=1438.44988828766, fit_intercept=True, max_iter=10000 ..........\n",
      "[CV]  C=1438.44988828766, fit_intercept=True, max_iter=10000, score=0.803, total=   0.3s\n",
      "[CV] C=1438.44988828766, fit_intercept=False, max_iter=100 ...........\n",
      "[CV]  C=1438.44988828766, fit_intercept=False, max_iter=100, score=0.809, total=   0.3s\n",
      "[CV] C=1438.44988828766, fit_intercept=False, max_iter=100 ...........\n",
      "[CV]  C=1438.44988828766, fit_intercept=False, max_iter=100, score=0.804, total=   0.2s\n",
      "[CV] C=1438.44988828766, fit_intercept=False, max_iter=100 ...........\n",
      "[CV]  C=1438.44988828766, fit_intercept=False, max_iter=100, score=0.804, total=   0.2s\n",
      "[CV] C=1438.44988828766, fit_intercept=False, max_iter=100 ...........\n",
      "[CV]  C=1438.44988828766, fit_intercept=False, max_iter=100, score=0.804, total=   0.2s\n",
      "[CV] C=1438.44988828766, fit_intercept=False, max_iter=100 ...........\n",
      "[CV]  C=1438.44988828766, fit_intercept=False, max_iter=100, score=0.803, total=   0.2s\n",
      "[CV] C=1438.44988828766, fit_intercept=False, max_iter=1000 ..........\n",
      "[CV]  C=1438.44988828766, fit_intercept=False, max_iter=1000, score=0.809, total=   0.2s\n",
      "[CV] C=1438.44988828766, fit_intercept=False, max_iter=1000 ..........\n",
      "[CV]  C=1438.44988828766, fit_intercept=False, max_iter=1000, score=0.804, total=   0.2s\n",
      "[CV] C=1438.44988828766, fit_intercept=False, max_iter=1000 ..........\n",
      "[CV]  C=1438.44988828766, fit_intercept=False, max_iter=1000, score=0.804, total=   0.2s\n",
      "[CV] C=1438.44988828766, fit_intercept=False, max_iter=1000 ..........\n",
      "[CV]  C=1438.44988828766, fit_intercept=False, max_iter=1000, score=0.804, total=   0.2s\n",
      "[CV] C=1438.44988828766, fit_intercept=False, max_iter=1000 ..........\n",
      "[CV]  C=1438.44988828766, fit_intercept=False, max_iter=1000, score=0.803, total=   0.2s\n",
      "[CV] C=1438.44988828766, fit_intercept=False, max_iter=10000 .........\n",
      "[CV]  C=1438.44988828766, fit_intercept=False, max_iter=10000, score=0.809, total=   0.2s\n",
      "[CV] C=1438.44988828766, fit_intercept=False, max_iter=10000 .........\n",
      "[CV]  C=1438.44988828766, fit_intercept=False, max_iter=10000, score=0.804, total=   0.2s\n",
      "[CV] C=1438.44988828766, fit_intercept=False, max_iter=10000 .........\n",
      "[CV]  C=1438.44988828766, fit_intercept=False, max_iter=10000, score=0.804, total=   0.1s\n",
      "[CV] C=1438.44988828766, fit_intercept=False, max_iter=10000 .........\n",
      "[CV]  C=1438.44988828766, fit_intercept=False, max_iter=10000, score=0.804, total=   0.2s\n",
      "[CV] C=1438.44988828766, fit_intercept=False, max_iter=10000 .........\n",
      "[CV]  C=1438.44988828766, fit_intercept=False, max_iter=10000, score=0.803, total=   0.1s\n",
      "[CV] C=3792.690190732246, fit_intercept=True, max_iter=100 ...........\n",
      "[CV]  C=3792.690190732246, fit_intercept=True, max_iter=100, score=0.811, total=   0.3s\n",
      "[CV] C=3792.690190732246, fit_intercept=True, max_iter=100 ...........\n",
      "[CV]  C=3792.690190732246, fit_intercept=True, max_iter=100, score=0.804, total=   0.2s\n",
      "[CV] C=3792.690190732246, fit_intercept=True, max_iter=100 ...........\n",
      "[CV]  C=3792.690190732246, fit_intercept=True, max_iter=100, score=0.804, total=   0.3s\n",
      "[CV] C=3792.690190732246, fit_intercept=True, max_iter=100 ...........\n",
      "[CV]  C=3792.690190732246, fit_intercept=True, max_iter=100, score=0.804, total=   0.2s\n",
      "[CV] C=3792.690190732246, fit_intercept=True, max_iter=100 ...........\n",
      "[CV]  C=3792.690190732246, fit_intercept=True, max_iter=100, score=0.803, total=   0.2s\n",
      "[CV] C=3792.690190732246, fit_intercept=True, max_iter=1000 ..........\n",
      "[CV]  C=3792.690190732246, fit_intercept=True, max_iter=1000, score=0.811, total=   0.2s\n",
      "[CV] C=3792.690190732246, fit_intercept=True, max_iter=1000 ..........\n",
      "[CV]  C=3792.690190732246, fit_intercept=True, max_iter=1000, score=0.804, total=   0.3s\n",
      "[CV] C=3792.690190732246, fit_intercept=True, max_iter=1000 ..........\n",
      "[CV]  C=3792.690190732246, fit_intercept=True, max_iter=1000, score=0.804, total=   0.3s\n",
      "[CV] C=3792.690190732246, fit_intercept=True, max_iter=1000 ..........\n",
      "[CV]  C=3792.690190732246, fit_intercept=True, max_iter=1000, score=0.804, total=   0.5s\n",
      "[CV] C=3792.690190732246, fit_intercept=True, max_iter=1000 ..........\n",
      "[CV]  C=3792.690190732246, fit_intercept=True, max_iter=1000, score=0.803, total=   0.2s\n",
      "[CV] C=3792.690190732246, fit_intercept=True, max_iter=10000 .........\n",
      "[CV]  C=3792.690190732246, fit_intercept=True, max_iter=10000, score=0.811, total=   0.2s\n",
      "[CV] C=3792.690190732246, fit_intercept=True, max_iter=10000 .........\n",
      "[CV]  C=3792.690190732246, fit_intercept=True, max_iter=10000, score=0.804, total=   0.3s\n",
      "[CV] C=3792.690190732246, fit_intercept=True, max_iter=10000 .........\n",
      "[CV]  C=3792.690190732246, fit_intercept=True, max_iter=10000, score=0.804, total=   0.3s\n",
      "[CV] C=3792.690190732246, fit_intercept=True, max_iter=10000 .........\n",
      "[CV]  C=3792.690190732246, fit_intercept=True, max_iter=10000, score=0.804, total=   0.2s\n",
      "[CV] C=3792.690190732246, fit_intercept=True, max_iter=10000 .........\n",
      "[CV]  C=3792.690190732246, fit_intercept=True, max_iter=10000, score=0.803, total=   0.2s\n",
      "[CV] C=3792.690190732246, fit_intercept=False, max_iter=100 ..........\n",
      "[CV]  C=3792.690190732246, fit_intercept=False, max_iter=100, score=0.809, total=   0.2s\n",
      "[CV] C=3792.690190732246, fit_intercept=False, max_iter=100 ..........\n",
      "[CV]  C=3792.690190732246, fit_intercept=False, max_iter=100, score=0.804, total=   0.1s\n",
      "[CV] C=3792.690190732246, fit_intercept=False, max_iter=100 ..........\n",
      "[CV]  C=3792.690190732246, fit_intercept=False, max_iter=100, score=0.804, total=   0.1s\n",
      "[CV] C=3792.690190732246, fit_intercept=False, max_iter=100 ..........\n",
      "[CV]  C=3792.690190732246, fit_intercept=False, max_iter=100, score=0.804, total=   0.2s\n",
      "[CV] C=3792.690190732246, fit_intercept=False, max_iter=100 ..........\n",
      "[CV]  C=3792.690190732246, fit_intercept=False, max_iter=100, score=0.803, total=   0.1s\n",
      "[CV] C=3792.690190732246, fit_intercept=False, max_iter=1000 .........\n",
      "[CV]  C=3792.690190732246, fit_intercept=False, max_iter=1000, score=0.809, total=   0.2s\n",
      "[CV] C=3792.690190732246, fit_intercept=False, max_iter=1000 .........\n",
      "[CV]  C=3792.690190732246, fit_intercept=False, max_iter=1000, score=0.804, total=   0.2s\n",
      "[CV] C=3792.690190732246, fit_intercept=False, max_iter=1000 .........\n",
      "[CV]  C=3792.690190732246, fit_intercept=False, max_iter=1000, score=0.804, total=   0.2s\n",
      "[CV] C=3792.690190732246, fit_intercept=False, max_iter=1000 .........\n",
      "[CV]  C=3792.690190732246, fit_intercept=False, max_iter=1000, score=0.804, total=   0.2s\n",
      "[CV] C=3792.690190732246, fit_intercept=False, max_iter=1000 .........\n",
      "[CV]  C=3792.690190732246, fit_intercept=False, max_iter=1000, score=0.803, total=   0.1s\n",
      "[CV] C=3792.690190732246, fit_intercept=False, max_iter=10000 ........\n",
      "[CV]  C=3792.690190732246, fit_intercept=False, max_iter=10000, score=0.809, total=   0.2s\n",
      "[CV] C=3792.690190732246, fit_intercept=False, max_iter=10000 ........\n",
      "[CV]  C=3792.690190732246, fit_intercept=False, max_iter=10000, score=0.804, total=   0.2s\n",
      "[CV] C=3792.690190732246, fit_intercept=False, max_iter=10000 ........\n",
      "[CV]  C=3792.690190732246, fit_intercept=False, max_iter=10000, score=0.804, total=   0.2s\n",
      "[CV] C=3792.690190732246, fit_intercept=False, max_iter=10000 ........\n",
      "[CV]  C=3792.690190732246, fit_intercept=False, max_iter=10000, score=0.804, total=   0.2s\n",
      "[CV] C=3792.690190732246, fit_intercept=False, max_iter=10000 ........\n",
      "[CV]  C=3792.690190732246, fit_intercept=False, max_iter=10000, score=0.803, total=   0.2s\n",
      "[CV] C=10000.0, fit_intercept=True, max_iter=100 .....................\n"
     ]
    },
    {
     "name": "stdout",
     "output_type": "stream",
     "text": [
      "[CV]  C=10000.0, fit_intercept=True, max_iter=100, score=0.811, total=   0.2s\n",
      "[CV] C=10000.0, fit_intercept=True, max_iter=100 .....................\n",
      "[CV]  C=10000.0, fit_intercept=True, max_iter=100, score=0.804, total=   0.3s\n",
      "[CV] C=10000.0, fit_intercept=True, max_iter=100 .....................\n",
      "[CV]  C=10000.0, fit_intercept=True, max_iter=100, score=0.804, total=   0.3s\n",
      "[CV] C=10000.0, fit_intercept=True, max_iter=100 .....................\n"
     ]
    },
    {
     "name": "stderr",
     "output_type": "stream",
     "text": [
      "C:\\Users\\Pavilion\\Anaconda3\\lib\\site-packages\\sklearn\\linear_model\\_logistic.py:762: ConvergenceWarning: lbfgs failed to converge (status=1):\n",
      "STOP: TOTAL NO. of ITERATIONS REACHED LIMIT.\n",
      "\n",
      "Increase the number of iterations (max_iter) or scale the data as shown in:\n",
      "    https://scikit-learn.org/stable/modules/preprocessing.html\n",
      "Please also refer to the documentation for alternative solver options:\n",
      "    https://scikit-learn.org/stable/modules/linear_model.html#logistic-regression\n",
      "  extra_warning_msg=_LOGISTIC_SOLVER_CONVERGENCE_MSG)\n"
     ]
    },
    {
     "name": "stdout",
     "output_type": "stream",
     "text": [
      "[CV]  C=10000.0, fit_intercept=True, max_iter=100, score=0.804, total=   0.4s\n",
      "[CV] C=10000.0, fit_intercept=True, max_iter=100 .....................\n",
      "[CV]  C=10000.0, fit_intercept=True, max_iter=100, score=0.803, total=   0.2s\n",
      "[CV] C=10000.0, fit_intercept=True, max_iter=1000 ....................\n",
      "[CV]  C=10000.0, fit_intercept=True, max_iter=1000, score=0.811, total=   0.2s\n",
      "[CV] C=10000.0, fit_intercept=True, max_iter=1000 ....................\n",
      "[CV]  C=10000.0, fit_intercept=True, max_iter=1000, score=0.804, total=   0.3s\n",
      "[CV] C=10000.0, fit_intercept=True, max_iter=1000 ....................\n",
      "[CV]  C=10000.0, fit_intercept=True, max_iter=1000, score=0.804, total=   0.3s\n",
      "[CV] C=10000.0, fit_intercept=True, max_iter=1000 ....................\n",
      "[CV]  C=10000.0, fit_intercept=True, max_iter=1000, score=0.804, total=   0.3s\n",
      "[CV] C=10000.0, fit_intercept=True, max_iter=1000 ....................\n",
      "[CV]  C=10000.0, fit_intercept=True, max_iter=1000, score=0.803, total=   0.2s\n",
      "[CV] C=10000.0, fit_intercept=True, max_iter=10000 ...................\n",
      "[CV]  C=10000.0, fit_intercept=True, max_iter=10000, score=0.811, total=   0.2s\n",
      "[CV] C=10000.0, fit_intercept=True, max_iter=10000 ...................\n",
      "[CV]  C=10000.0, fit_intercept=True, max_iter=10000, score=0.804, total=   0.2s\n",
      "[CV] C=10000.0, fit_intercept=True, max_iter=10000 ...................\n",
      "[CV]  C=10000.0, fit_intercept=True, max_iter=10000, score=0.804, total=   0.3s\n",
      "[CV] C=10000.0, fit_intercept=True, max_iter=10000 ...................\n",
      "[CV]  C=10000.0, fit_intercept=True, max_iter=10000, score=0.804, total=   0.3s\n",
      "[CV] C=10000.0, fit_intercept=True, max_iter=10000 ...................\n",
      "[CV]  C=10000.0, fit_intercept=True, max_iter=10000, score=0.803, total=   0.2s\n",
      "[CV] C=10000.0, fit_intercept=False, max_iter=100 ....................\n",
      "[CV]  C=10000.0, fit_intercept=False, max_iter=100, score=0.809, total=   0.2s\n",
      "[CV] C=10000.0, fit_intercept=False, max_iter=100 ....................\n",
      "[CV]  C=10000.0, fit_intercept=False, max_iter=100, score=0.804, total=   0.1s\n",
      "[CV] C=10000.0, fit_intercept=False, max_iter=100 ....................\n",
      "[CV]  C=10000.0, fit_intercept=False, max_iter=100, score=0.804, total=   0.2s\n",
      "[CV] C=10000.0, fit_intercept=False, max_iter=100 ....................\n",
      "[CV]  C=10000.0, fit_intercept=False, max_iter=100, score=0.804, total=   0.2s\n",
      "[CV] C=10000.0, fit_intercept=False, max_iter=100 ....................\n",
      "[CV]  C=10000.0, fit_intercept=False, max_iter=100, score=0.803, total=   0.2s\n",
      "[CV] C=10000.0, fit_intercept=False, max_iter=1000 ...................\n",
      "[CV]  C=10000.0, fit_intercept=False, max_iter=1000, score=0.809, total=   0.2s\n",
      "[CV] C=10000.0, fit_intercept=False, max_iter=1000 ...................\n",
      "[CV]  C=10000.0, fit_intercept=False, max_iter=1000, score=0.804, total=   0.2s\n",
      "[CV] C=10000.0, fit_intercept=False, max_iter=1000 ...................\n",
      "[CV]  C=10000.0, fit_intercept=False, max_iter=1000, score=0.804, total=   0.2s\n",
      "[CV] C=10000.0, fit_intercept=False, max_iter=1000 ...................\n",
      "[CV]  C=10000.0, fit_intercept=False, max_iter=1000, score=0.804, total=   0.2s\n",
      "[CV] C=10000.0, fit_intercept=False, max_iter=1000 ...................\n",
      "[CV]  C=10000.0, fit_intercept=False, max_iter=1000, score=0.803, total=   0.2s\n",
      "[CV] C=10000.0, fit_intercept=False, max_iter=10000 ..................\n",
      "[CV]  C=10000.0, fit_intercept=False, max_iter=10000, score=0.809, total=   0.2s\n",
      "[CV] C=10000.0, fit_intercept=False, max_iter=10000 ..................\n",
      "[CV]  C=10000.0, fit_intercept=False, max_iter=10000, score=0.804, total=   0.1s\n",
      "[CV] C=10000.0, fit_intercept=False, max_iter=10000 ..................\n",
      "[CV]  C=10000.0, fit_intercept=False, max_iter=10000, score=0.804, total=   0.1s\n",
      "[CV] C=10000.0, fit_intercept=False, max_iter=10000 ..................\n",
      "[CV]  C=10000.0, fit_intercept=False, max_iter=10000, score=0.804, total=   0.2s\n",
      "[CV] C=10000.0, fit_intercept=False, max_iter=10000 ..................\n",
      "[CV]  C=10000.0, fit_intercept=False, max_iter=10000, score=0.803, total=   0.2s\n"
     ]
    },
    {
     "name": "stderr",
     "output_type": "stream",
     "text": [
      "[Parallel(n_jobs=1)]: Done 600 out of 600 | elapsed:  2.2min finished\n"
     ]
    },
    {
     "data": {
      "text/plain": [
       "{'C': 0.004832930238571752, 'fit_intercept': False, 'max_iter': 100}"
      ]
     },
     "execution_count": 33,
     "metadata": {},
     "output_type": "execute_result"
    }
   ],
   "source": [
    "lr_gs = GridSearchCV(\n",
    "    lr, parameter_logreg, cv = 5, verbose = 3\n",
    "    )\n",
    "\n",
    "lr_gs.fit(x_train_scl, y_train)\n",
    "lr_gs.best_params_"
   ]
  },
  {
   "cell_type": "code",
   "execution_count": 34,
   "metadata": {
    "ExecuteTime": {
     "end_time": "2020-06-19T10:00:43.359743Z",
     "start_time": "2020-06-19T10:00:43.347743Z"
    }
   },
   "outputs": [
    {
     "data": {
      "text/plain": [
       "LogisticRegression(C=0.004832930238571752, fit_intercept=False)"
      ]
     },
     "execution_count": 34,
     "metadata": {},
     "output_type": "execute_result"
    }
   ],
   "source": [
    "lr_gs.best_estimator_"
   ]
  },
  {
   "cell_type": "code",
   "execution_count": 35,
   "metadata": {
    "ExecuteTime": {
     "end_time": "2020-06-19T10:00:43.584775Z",
     "start_time": "2020-06-19T10:00:43.363766Z"
    }
   },
   "outputs": [
    {
     "name": "stdout",
     "output_type": "stream",
     "text": [
      "Accuracy Score in Logistic Regression Model with Hyperparameter Tuning is 0.8009\n",
      "Score for test data in Logistic Regression Model with Hyperparameter Tuning is 0.8009\n",
      "Score for train data in Logistic Regression Model with Hyperparameter Tuning is 0.8060\n"
     ]
    }
   ],
   "source": [
    "lr_2 = LogisticRegression(C=0.004832930238571752, fit_intercept = False)\n",
    "lr_2.fit(x_train_scl, y_train)\n",
    "\n",
    "y_pred_2 = lr_2.predict(x_test_scl)\n",
    "\n",
    "accu_2 = accuracy_score(y_test, y_pred_2)\n",
    "\n",
    "testlr2_score = lr_2.score(x_test_scl, y_test)\n",
    "trainlr2_score = lr_2.score(x_train_scl, y_train)\n",
    "\n",
    "print('Accuracy Score in Logistic Regression Model with Hyperparameter Tuning is {:.4f}'.format(accu_2))\n",
    "print('Score for test data in Logistic Regression Model with Hyperparameter Tuning is {:.4f}'.format(testlr2_score))\n",
    "print('Score for train data in Logistic Regression Model with Hyperparameter Tuning is {:.4f}'.format(trainlr2_score))"
   ]
  },
  {
   "cell_type": "markdown",
   "metadata": {},
   "source": [
    "There is no problem in overfitting/underfitting in Logistic Regression model with Hyperparameter Tuning as there is no big difference between test score and train score.\n",
    "Hyperparameter tuning with Logistic Regression does not improve our accuracy score."
   ]
  },
  {
   "cell_type": "markdown",
   "metadata": {
    "ExecuteTime": {
     "end_time": "2020-06-17T05:19:15.506494Z",
     "start_time": "2020-06-17T05:19:15.475400Z"
    }
   },
   "source": [
    "## Model 3 - Support Vector Classifier (SVC)"
   ]
  },
  {
   "cell_type": "code",
   "execution_count": 36,
   "metadata": {
    "ExecuteTime": {
     "end_time": "2020-06-19T10:03:15.193132Z",
     "start_time": "2020-06-19T10:00:43.587766Z"
    },
    "scrolled": true
   },
   "outputs": [
    {
     "name": "stdout",
     "output_type": "stream",
     "text": [
      "Accuracy Score in Support Vector Classifier (SVC) is 0.8210\n",
      "Score for test data in Support Vector Classifier (SVC) is 0.8210\n",
      "Score for train data in Support Vector Classifier (SVC) is 0.8247\n"
     ]
    }
   ],
   "source": [
    "svc = SVC(probability = True)\n",
    "svc.fit(x_train_scl, y_train)\n",
    "\n",
    "y_pred_3 = svc.predict(x_test_scl)\n",
    "\n",
    "accu_3 = accuracy_score(y_test, y_pred_3)\n",
    "\n",
    "testsvc1_score = svc.score(x_test_scl, y_test)\n",
    "trainsvc1_score = svc.score(x_train_scl, y_train)\n",
    "\n",
    "print('Accuracy Score in Support Vector Classifier (SVC) is {:.4f}'.format(accu_3))\n",
    "print('Score for test data in Support Vector Classifier (SVC) is {:.4f}'.format(testsvc1_score))\n",
    "print('Score for train data in Support Vector Classifier (SVC) is {:.4f}'.format(trainsvc1_score))"
   ]
  },
  {
   "cell_type": "markdown",
   "metadata": {},
   "source": [
    "There is no problem in overfitting/underfitting in Support Vector Classifier (SVC) model as there is no big difference between test score and train score"
   ]
  },
  {
   "cell_type": "markdown",
   "metadata": {},
   "source": [
    "## Model 4 - Support Vector Classifier (SVC) with Hyperparameter tuning"
   ]
  },
  {
   "cell_type": "code",
   "execution_count": 37,
   "metadata": {
    "ExecuteTime": {
     "end_time": "2020-06-19T10:03:15.207762Z",
     "start_time": "2020-06-19T10:03:15.197094Z"
    }
   },
   "outputs": [],
   "source": [
    "parameter_svc = {\n",
    "    'C': [0.1, 1, 10, 100], \n",
    "    'gamma': [1, 0.1, 0.01, 0.001],\n",
    "    'kernel': ['rbf', 'poly', 'sigmoid']\n",
    "}"
   ]
  },
  {
   "cell_type": "code",
   "execution_count": 38,
   "metadata": {
    "ExecuteTime": {
     "end_time": "2020-06-19T11:44:59.616501Z",
     "start_time": "2020-06-19T10:03:15.211660Z"
    },
    "scrolled": true
   },
   "outputs": [
    {
     "name": "stdout",
     "output_type": "stream",
     "text": [
      "Fitting 5 folds for each of 10 candidates, totalling 50 fits\n",
      "[CV] kernel=rbf, gamma=0.01, C=100 ...................................\n"
     ]
    },
    {
     "name": "stderr",
     "output_type": "stream",
     "text": [
      "[Parallel(n_jobs=1)]: Using backend SequentialBackend with 1 concurrent workers.\n"
     ]
    },
    {
     "name": "stdout",
     "output_type": "stream",
     "text": [
      "[CV] ....... kernel=rbf, gamma=0.01, C=100, score=0.833, total= 3.2min\n",
      "[CV] kernel=rbf, gamma=0.01, C=100 ...................................\n"
     ]
    },
    {
     "name": "stderr",
     "output_type": "stream",
     "text": [
      "[Parallel(n_jobs=1)]: Done   1 out of   1 | elapsed:  3.2min remaining:    0.0s\n"
     ]
    },
    {
     "name": "stdout",
     "output_type": "stream",
     "text": [
      "[CV] ....... kernel=rbf, gamma=0.01, C=100, score=0.824, total= 2.2min\n",
      "[CV] kernel=rbf, gamma=0.01, C=100 ...................................\n"
     ]
    },
    {
     "name": "stderr",
     "output_type": "stream",
     "text": [
      "[Parallel(n_jobs=1)]: Done   2 out of   2 | elapsed:  5.4min remaining:    0.0s\n"
     ]
    },
    {
     "name": "stdout",
     "output_type": "stream",
     "text": [
      "[CV] ....... kernel=rbf, gamma=0.01, C=100, score=0.830, total= 2.0min\n",
      "[CV] kernel=rbf, gamma=0.01, C=100 ...................................\n",
      "[CV] ....... kernel=rbf, gamma=0.01, C=100, score=0.829, total= 1.8min\n",
      "[CV] kernel=rbf, gamma=0.01, C=100 ...................................\n",
      "[CV] ....... kernel=rbf, gamma=0.01, C=100, score=0.829, total= 1.8min\n",
      "[CV] kernel=sigmoid, gamma=0.1, C=100 ................................\n",
      "[CV] .... kernel=sigmoid, gamma=0.1, C=100, score=0.655, total= 1.4min\n",
      "[CV] kernel=sigmoid, gamma=0.1, C=100 ................................\n",
      "[CV] .... kernel=sigmoid, gamma=0.1, C=100, score=0.668, total= 1.4min\n",
      "[CV] kernel=sigmoid, gamma=0.1, C=100 ................................\n",
      "[CV] .... kernel=sigmoid, gamma=0.1, C=100, score=0.665, total= 1.3min\n",
      "[CV] kernel=sigmoid, gamma=0.1, C=100 ................................\n",
      "[CV] .... kernel=sigmoid, gamma=0.1, C=100, score=0.675, total= 2.4min\n",
      "[CV] kernel=sigmoid, gamma=0.1, C=100 ................................\n",
      "[CV] .... kernel=sigmoid, gamma=0.1, C=100, score=0.664, total= 2.4min\n",
      "[CV] kernel=rbf, gamma=0.1, C=0.1 ....................................\n",
      "[CV] ........ kernel=rbf, gamma=0.1, C=0.1, score=0.818, total= 2.0min\n",
      "[CV] kernel=rbf, gamma=0.1, C=0.1 ....................................\n",
      "[CV] ........ kernel=rbf, gamma=0.1, C=0.1, score=0.817, total= 2.2min\n",
      "[CV] kernel=rbf, gamma=0.1, C=0.1 ....................................\n",
      "[CV] ........ kernel=rbf, gamma=0.1, C=0.1, score=0.818, total= 2.0min\n",
      "[CV] kernel=rbf, gamma=0.1, C=0.1 ....................................\n",
      "[CV] ........ kernel=rbf, gamma=0.1, C=0.1, score=0.815, total= 1.5min\n",
      "[CV] kernel=rbf, gamma=0.1, C=0.1 ....................................\n",
      "[CV] ........ kernel=rbf, gamma=0.1, C=0.1, score=0.817, total= 1.7min\n",
      "[CV] kernel=rbf, gamma=1, C=0.1 ......................................\n",
      "[CV] .......... kernel=rbf, gamma=1, C=0.1, score=0.790, total= 6.0min\n",
      "[CV] kernel=rbf, gamma=1, C=0.1 ......................................\n",
      "[CV] .......... kernel=rbf, gamma=1, C=0.1, score=0.794, total= 6.0min\n",
      "[CV] kernel=rbf, gamma=1, C=0.1 ......................................\n",
      "[CV] .......... kernel=rbf, gamma=1, C=0.1, score=0.796, total= 5.4min\n",
      "[CV] kernel=rbf, gamma=1, C=0.1 ......................................\n",
      "[CV] .......... kernel=rbf, gamma=1, C=0.1, score=0.799, total= 5.3min\n",
      "[CV] kernel=rbf, gamma=1, C=0.1 ......................................\n",
      "[CV] .......... kernel=rbf, gamma=1, C=0.1, score=0.798, total= 5.3min\n",
      "[CV] kernel=sigmoid, gamma=0.01, C=100 ...............................\n",
      "[CV] ... kernel=sigmoid, gamma=0.01, C=100, score=0.672, total= 1.4min\n",
      "[CV] kernel=sigmoid, gamma=0.01, C=100 ...............................\n",
      "[CV] ... kernel=sigmoid, gamma=0.01, C=100, score=0.683, total= 1.5min\n",
      "[CV] kernel=sigmoid, gamma=0.01, C=100 ...............................\n",
      "[CV] ... kernel=sigmoid, gamma=0.01, C=100, score=0.680, total= 1.4min\n",
      "[CV] kernel=sigmoid, gamma=0.01, C=100 ...............................\n",
      "[CV] ... kernel=sigmoid, gamma=0.01, C=100, score=0.678, total= 1.3min\n",
      "[CV] kernel=sigmoid, gamma=0.01, C=100 ...............................\n",
      "[CV] ... kernel=sigmoid, gamma=0.01, C=100, score=0.660, total= 1.4min\n",
      "[CV] kernel=sigmoid, gamma=0.001, C=100 ..............................\n",
      "[CV] .. kernel=sigmoid, gamma=0.001, C=100, score=0.732, total= 1.3min\n",
      "[CV] kernel=sigmoid, gamma=0.001, C=100 ..............................\n",
      "[CV] .. kernel=sigmoid, gamma=0.001, C=100, score=0.728, total= 1.3min\n",
      "[CV] kernel=sigmoid, gamma=0.001, C=100 ..............................\n",
      "[CV] .. kernel=sigmoid, gamma=0.001, C=100, score=0.731, total= 1.2min\n",
      "[CV] kernel=sigmoid, gamma=0.001, C=100 ..............................\n",
      "[CV] .. kernel=sigmoid, gamma=0.001, C=100, score=0.723, total= 1.3min\n",
      "[CV] kernel=sigmoid, gamma=0.001, C=100 ..............................\n",
      "[CV] .. kernel=sigmoid, gamma=0.001, C=100, score=0.729, total= 1.2min\n",
      "[CV] kernel=rbf, gamma=0.01, C=10 ....................................\n",
      "[CV] ........ kernel=rbf, gamma=0.01, C=10, score=0.829, total= 1.4min\n",
      "[CV] kernel=rbf, gamma=0.01, C=10 ....................................\n",
      "[CV] ........ kernel=rbf, gamma=0.01, C=10, score=0.823, total= 1.1min\n",
      "[CV] kernel=rbf, gamma=0.01, C=10 ....................................\n",
      "[CV] ........ kernel=rbf, gamma=0.01, C=10, score=0.826, total= 1.1min\n",
      "[CV] kernel=rbf, gamma=0.01, C=10 ....................................\n",
      "[CV] ........ kernel=rbf, gamma=0.01, C=10, score=0.825, total= 1.1min\n",
      "[CV] kernel=rbf, gamma=0.01, C=10 ....................................\n",
      "[CV] ........ kernel=rbf, gamma=0.01, C=10, score=0.827, total= 1.1min\n",
      "[CV] kernel=poly, gamma=0.01, C=100 ..................................\n",
      "[CV] ...... kernel=poly, gamma=0.01, C=100, score=0.824, total= 3.2min\n",
      "[CV] kernel=poly, gamma=0.01, C=100 ..................................\n",
      "[CV] ...... kernel=poly, gamma=0.01, C=100, score=0.818, total= 3.0min\n",
      "[CV] kernel=poly, gamma=0.01, C=100 ..................................\n",
      "[CV] ...... kernel=poly, gamma=0.01, C=100, score=0.825, total= 3.0min\n",
      "[CV] kernel=poly, gamma=0.01, C=100 ..................................\n",
      "[CV] ...... kernel=poly, gamma=0.01, C=100, score=0.821, total= 3.0min\n",
      "[CV] kernel=poly, gamma=0.01, C=100 ..................................\n",
      "[CV] ...... kernel=poly, gamma=0.01, C=100, score=0.824, total= 3.0min\n",
      "[CV] kernel=sigmoid, gamma=0.01, C=10 ................................\n",
      "[CV] .... kernel=sigmoid, gamma=0.01, C=10, score=0.672, total=  50.9s\n",
      "[CV] kernel=sigmoid, gamma=0.01, C=10 ................................\n",
      "[CV] .... kernel=sigmoid, gamma=0.01, C=10, score=0.683, total=  48.2s\n",
      "[CV] kernel=sigmoid, gamma=0.01, C=10 ................................\n",
      "[CV] .... kernel=sigmoid, gamma=0.01, C=10, score=0.680, total=  53.7s\n",
      "[CV] kernel=sigmoid, gamma=0.01, C=10 ................................\n",
      "[CV] .... kernel=sigmoid, gamma=0.01, C=10, score=0.678, total=  48.9s\n",
      "[CV] kernel=sigmoid, gamma=0.01, C=10 ................................\n",
      "[CV] .... kernel=sigmoid, gamma=0.01, C=10, score=0.660, total=  48.2s\n",
      "[CV] kernel=rbf, gamma=0.001, C=100 ..................................\n",
      "[CV] ...... kernel=rbf, gamma=0.001, C=100, score=0.822, total=  51.1s\n",
      "[CV] kernel=rbf, gamma=0.001, C=100 ..................................\n",
      "[CV] ...... kernel=rbf, gamma=0.001, C=100, score=0.822, total=  50.7s\n",
      "[CV] kernel=rbf, gamma=0.001, C=100 ..................................\n",
      "[CV] ...... kernel=rbf, gamma=0.001, C=100, score=0.819, total=  50.6s\n",
      "[CV] kernel=rbf, gamma=0.001, C=100 ..................................\n",
      "[CV] ...... kernel=rbf, gamma=0.001, C=100, score=0.819, total=  51.0s\n",
      "[CV] kernel=rbf, gamma=0.001, C=100 ..................................\n",
      "[CV] ...... kernel=rbf, gamma=0.001, C=100, score=0.822, total=  51.1s\n"
     ]
    },
    {
     "name": "stderr",
     "output_type": "stream",
     "text": [
      "[Parallel(n_jobs=1)]: Done  50 out of  50 | elapsed: 99.8min finished\n"
     ]
    },
    {
     "data": {
      "text/plain": [
       "{'kernel': 'rbf', 'gamma': 0.01, 'C': 100}"
      ]
     },
     "execution_count": 38,
     "metadata": {},
     "output_type": "execute_result"
    }
   ],
   "source": [
    "svc_rs = RandomizedSearchCV(\n",
    "    svc, parameter_svc, cv = 5, verbose = 3\n",
    "    )\n",
    "\n",
    "svc_rs.fit(x_train_scl, y_train)\n",
    "svc_rs.best_params_"
   ]
  },
  {
   "cell_type": "code",
   "execution_count": 39,
   "metadata": {
    "ExecuteTime": {
     "end_time": "2020-06-19T11:44:59.642393Z",
     "start_time": "2020-06-19T11:44:59.621450Z"
    }
   },
   "outputs": [
    {
     "data": {
      "text/plain": [
       "SVC(C=100, gamma=0.01, probability=True)"
      ]
     },
     "execution_count": 39,
     "metadata": {},
     "output_type": "execute_result"
    }
   ],
   "source": [
    "svc_rs.best_estimator_"
   ]
  },
  {
   "cell_type": "code",
   "execution_count": 40,
   "metadata": {
    "ExecuteTime": {
     "end_time": "2020-06-19T12:22:15.289841Z",
     "start_time": "2020-06-19T11:44:59.644388Z"
    },
    "scrolled": true
   },
   "outputs": [
    {
     "name": "stdout",
     "output_type": "stream",
     "text": [
      "Accuracy Score in Support Vector Classifier (SVC) with Hyperparameter Tuning is 0.8225\n",
      "Score for test data in Support Vector Classifier (SVC) with Hyperparameter Tuning is 0.8225\n",
      "Score for train data in Support Vector Classifier (SVC) with Hyperparameter Tuning is 0.8245\n"
     ]
    }
   ],
   "source": [
    "svc_2 = SVC(C=1, gamma=0.1, kernel='poly', probability=True)\n",
    "svc_2.fit(x_train_scl, y_train)\n",
    "\n",
    "y_pred_4 = svc_2.predict(x_test_scl)\n",
    "\n",
    "accu_4 = accuracy_score(y_test, y_pred_4)\n",
    "\n",
    "testsvc2_score = svc_2.score(x_test_scl, y_test)\n",
    "trainsvc2_score = svc_2.score(x_train_scl, y_train)\n",
    "\n",
    "print('Accuracy Score in Support Vector Classifier (SVC) with Hyperparameter Tuning is {:.4f}'.format(accu_4))\n",
    "print('Score for test data in Support Vector Classifier (SVC) with Hyperparameter Tuning is {:.4f}'.format(testsvc2_score))\n",
    "print('Score for train data in Support Vector Classifier (SVC) with Hyperparameter Tuning is {:.4f}'.format(trainsvc2_score))"
   ]
  },
  {
   "cell_type": "markdown",
   "metadata": {},
   "source": [
    "There is no problem in overfitting/underfitting in Support Vector Classifier (SVC) with Hyperparameter Tuning as there is no big difference between test score and train score.\n",
    "Hyperparameter tuning with SVC improve a bit our accuracy score."
   ]
  },
  {
   "cell_type": "markdown",
   "metadata": {},
   "source": [
    "## Model 5 - Random Forest Classifier"
   ]
  },
  {
   "cell_type": "code",
   "execution_count": 41,
   "metadata": {
    "ExecuteTime": {
     "end_time": "2020-06-19T12:22:18.404479Z",
     "start_time": "2020-06-19T12:22:15.293798Z"
    }
   },
   "outputs": [
    {
     "name": "stdout",
     "output_type": "stream",
     "text": [
      "Accuracy Score in Random Forest Classifier is 0.8205\n",
      "Score for test data in Random Forest Classifier is 0.8205\n",
      "Score for train data in Random Forest Classifier is 0.9665\n"
     ]
    }
   ],
   "source": [
    "rfc = RandomForestClassifier()\n",
    "rfc.fit(x_train_scl, y_train)\n",
    "\n",
    "y_pred_5 = rfc.predict(x_test_scl)\n",
    "\n",
    "accu_5 = accuracy_score(y_test, y_pred_5)\n",
    "\n",
    "testrfc1_score = rfc.score(x_test_scl, y_test)\n",
    "trainrfc1_score = rfc.score(x_train_scl, y_train)\n",
    "\n",
    "print('Accuracy Score in Random Forest Classifier is {:.4f}'.format(accu_5))\n",
    "print('Score for test data in Random Forest Classifier is {:.4f}'.format(testrfc1_score))\n",
    "print('Score for train data in Random Forest Classifier is {:.4f}'.format(trainrfc1_score))"
   ]
  },
  {
   "cell_type": "markdown",
   "metadata": {},
   "source": [
    "There is no problem in overfitting/underfitting in Random Forest Classifier model as the difference between the test score and train score is forgiven."
   ]
  },
  {
   "cell_type": "markdown",
   "metadata": {
    "ExecuteTime": {
     "end_time": "2020-06-17T08:01:26.303612Z",
     "start_time": "2020-06-17T08:01:26.283299Z"
    }
   },
   "source": [
    "## Model 6 - Random Forest Classifier with Hyperparameter Tuning"
   ]
  },
  {
   "cell_type": "code",
   "execution_count": 42,
   "metadata": {
    "ExecuteTime": {
     "end_time": "2020-06-19T12:22:18.415451Z",
     "start_time": "2020-06-19T12:22:18.408468Z"
    }
   },
   "outputs": [],
   "source": [
    "parameter_rfc = {\n",
    "    'max_depth' : [5, 10, 15, 20, 40, 60],\n",
    "    'min_samples_split' : [2, 5, 10, 20],\n",
    "    'min_samples_leaf' : [1, 2, 4],\n",
    "    'n_estimators' : [100, 200, 400, 600, 800, 1000],\n",
    "    'bootstrap' : [True, False],\n",
    "    'max_features' : ['auto', 'sqrt']\n",
    "}"
   ]
  },
  {
   "cell_type": "code",
   "execution_count": 43,
   "metadata": {
    "ExecuteTime": {
     "end_time": "2020-06-19T12:29:50.585544Z",
     "start_time": "2020-06-19T12:22:18.417444Z"
    }
   },
   "outputs": [
    {
     "name": "stdout",
     "output_type": "stream",
     "text": [
      "Fitting 5 folds for each of 10 candidates, totalling 50 fits\n",
      "[CV] n_estimators=100, min_samples_split=5, min_samples_leaf=4, max_features=sqrt, max_depth=5, bootstrap=False \n"
     ]
    },
    {
     "name": "stderr",
     "output_type": "stream",
     "text": [
      "[Parallel(n_jobs=1)]: Using backend SequentialBackend with 1 concurrent workers.\n"
     ]
    },
    {
     "name": "stdout",
     "output_type": "stream",
     "text": [
      "[CV]  n_estimators=100, min_samples_split=5, min_samples_leaf=4, max_features=sqrt, max_depth=5, bootstrap=False, score=0.822, total=   1.0s\n",
      "[CV] n_estimators=100, min_samples_split=5, min_samples_leaf=4, max_features=sqrt, max_depth=5, bootstrap=False \n"
     ]
    },
    {
     "name": "stderr",
     "output_type": "stream",
     "text": [
      "[Parallel(n_jobs=1)]: Done   1 out of   1 | elapsed:    0.9s remaining:    0.0s\n"
     ]
    },
    {
     "name": "stdout",
     "output_type": "stream",
     "text": [
      "[CV]  n_estimators=100, min_samples_split=5, min_samples_leaf=4, max_features=sqrt, max_depth=5, bootstrap=False, score=0.822, total=   1.0s\n",
      "[CV] n_estimators=100, min_samples_split=5, min_samples_leaf=4, max_features=sqrt, max_depth=5, bootstrap=False \n"
     ]
    },
    {
     "name": "stderr",
     "output_type": "stream",
     "text": [
      "[Parallel(n_jobs=1)]: Done   2 out of   2 | elapsed:    1.8s remaining:    0.0s\n"
     ]
    },
    {
     "name": "stdout",
     "output_type": "stream",
     "text": [
      "[CV]  n_estimators=100, min_samples_split=5, min_samples_leaf=4, max_features=sqrt, max_depth=5, bootstrap=False, score=0.822, total=   0.8s\n",
      "[CV] n_estimators=100, min_samples_split=5, min_samples_leaf=4, max_features=sqrt, max_depth=5, bootstrap=False \n",
      "[CV]  n_estimators=100, min_samples_split=5, min_samples_leaf=4, max_features=sqrt, max_depth=5, bootstrap=False, score=0.818, total=   0.9s\n",
      "[CV] n_estimators=100, min_samples_split=5, min_samples_leaf=4, max_features=sqrt, max_depth=5, bootstrap=False \n",
      "[CV]  n_estimators=100, min_samples_split=5, min_samples_leaf=4, max_features=sqrt, max_depth=5, bootstrap=False, score=0.822, total=   0.8s\n",
      "[CV] n_estimators=1000, min_samples_split=5, min_samples_leaf=4, max_features=sqrt, max_depth=15, bootstrap=False \n",
      "[CV]  n_estimators=1000, min_samples_split=5, min_samples_leaf=4, max_features=sqrt, max_depth=15, bootstrap=False, score=0.841, total=  17.1s\n",
      "[CV] n_estimators=1000, min_samples_split=5, min_samples_leaf=4, max_features=sqrt, max_depth=15, bootstrap=False \n",
      "[CV]  n_estimators=1000, min_samples_split=5, min_samples_leaf=4, max_features=sqrt, max_depth=15, bootstrap=False, score=0.837, total=  17.2s\n",
      "[CV] n_estimators=1000, min_samples_split=5, min_samples_leaf=4, max_features=sqrt, max_depth=15, bootstrap=False \n",
      "[CV]  n_estimators=1000, min_samples_split=5, min_samples_leaf=4, max_features=sqrt, max_depth=15, bootstrap=False, score=0.835, total=  17.6s\n",
      "[CV] n_estimators=1000, min_samples_split=5, min_samples_leaf=4, max_features=sqrt, max_depth=15, bootstrap=False \n",
      "[CV]  n_estimators=1000, min_samples_split=5, min_samples_leaf=4, max_features=sqrt, max_depth=15, bootstrap=False, score=0.837, total=  17.2s\n",
      "[CV] n_estimators=1000, min_samples_split=5, min_samples_leaf=4, max_features=sqrt, max_depth=15, bootstrap=False \n",
      "[CV]  n_estimators=1000, min_samples_split=5, min_samples_leaf=4, max_features=sqrt, max_depth=15, bootstrap=False, score=0.836, total=  17.0s\n",
      "[CV] n_estimators=200, min_samples_split=2, min_samples_leaf=1, max_features=auto, max_depth=5, bootstrap=True \n",
      "[CV]  n_estimators=200, min_samples_split=2, min_samples_leaf=1, max_features=auto, max_depth=5, bootstrap=True, score=0.822, total=   2.2s\n",
      "[CV] n_estimators=200, min_samples_split=2, min_samples_leaf=1, max_features=auto, max_depth=5, bootstrap=True \n",
      "[CV]  n_estimators=200, min_samples_split=2, min_samples_leaf=1, max_features=auto, max_depth=5, bootstrap=True, score=0.824, total=   1.7s\n",
      "[CV] n_estimators=200, min_samples_split=2, min_samples_leaf=1, max_features=auto, max_depth=5, bootstrap=True \n",
      "[CV]  n_estimators=200, min_samples_split=2, min_samples_leaf=1, max_features=auto, max_depth=5, bootstrap=True, score=0.822, total=   1.5s\n",
      "[CV] n_estimators=200, min_samples_split=2, min_samples_leaf=1, max_features=auto, max_depth=5, bootstrap=True \n",
      "[CV]  n_estimators=200, min_samples_split=2, min_samples_leaf=1, max_features=auto, max_depth=5, bootstrap=True, score=0.819, total=   1.4s\n",
      "[CV] n_estimators=200, min_samples_split=2, min_samples_leaf=1, max_features=auto, max_depth=5, bootstrap=True \n",
      "[CV]  n_estimators=200, min_samples_split=2, min_samples_leaf=1, max_features=auto, max_depth=5, bootstrap=True, score=0.823, total=   1.4s\n",
      "[CV] n_estimators=1000, min_samples_split=10, min_samples_leaf=4, max_features=auto, max_depth=10, bootstrap=True \n",
      "[CV]  n_estimators=1000, min_samples_split=10, min_samples_leaf=4, max_features=auto, max_depth=10, bootstrap=True, score=0.839, total=  10.8s\n",
      "[CV] n_estimators=1000, min_samples_split=10, min_samples_leaf=4, max_features=auto, max_depth=10, bootstrap=True \n",
      "[CV]  n_estimators=1000, min_samples_split=10, min_samples_leaf=4, max_features=auto, max_depth=10, bootstrap=True, score=0.834, total=  10.8s\n",
      "[CV] n_estimators=1000, min_samples_split=10, min_samples_leaf=4, max_features=auto, max_depth=10, bootstrap=True \n",
      "[CV]  n_estimators=1000, min_samples_split=10, min_samples_leaf=4, max_features=auto, max_depth=10, bootstrap=True, score=0.837, total=  10.8s\n",
      "[CV] n_estimators=1000, min_samples_split=10, min_samples_leaf=4, max_features=auto, max_depth=10, bootstrap=True \n",
      "[CV]  n_estimators=1000, min_samples_split=10, min_samples_leaf=4, max_features=auto, max_depth=10, bootstrap=True, score=0.837, total=  10.8s\n",
      "[CV] n_estimators=1000, min_samples_split=10, min_samples_leaf=4, max_features=auto, max_depth=10, bootstrap=True \n",
      "[CV]  n_estimators=1000, min_samples_split=10, min_samples_leaf=4, max_features=auto, max_depth=10, bootstrap=True, score=0.839, total=  10.9s\n",
      "[CV] n_estimators=200, min_samples_split=10, min_samples_leaf=2, max_features=sqrt, max_depth=5, bootstrap=True \n",
      "[CV]  n_estimators=200, min_samples_split=10, min_samples_leaf=2, max_features=sqrt, max_depth=5, bootstrap=True, score=0.822, total=   1.5s\n",
      "[CV] n_estimators=200, min_samples_split=10, min_samples_leaf=2, max_features=sqrt, max_depth=5, bootstrap=True \n",
      "[CV]  n_estimators=200, min_samples_split=10, min_samples_leaf=2, max_features=sqrt, max_depth=5, bootstrap=True, score=0.822, total=   1.4s\n",
      "[CV] n_estimators=200, min_samples_split=10, min_samples_leaf=2, max_features=sqrt, max_depth=5, bootstrap=True \n",
      "[CV]  n_estimators=200, min_samples_split=10, min_samples_leaf=2, max_features=sqrt, max_depth=5, bootstrap=True, score=0.822, total=   1.4s\n",
      "[CV] n_estimators=200, min_samples_split=10, min_samples_leaf=2, max_features=sqrt, max_depth=5, bootstrap=True \n",
      "[CV]  n_estimators=200, min_samples_split=10, min_samples_leaf=2, max_features=sqrt, max_depth=5, bootstrap=True, score=0.820, total=   1.5s\n",
      "[CV] n_estimators=200, min_samples_split=10, min_samples_leaf=2, max_features=sqrt, max_depth=5, bootstrap=True \n",
      "[CV]  n_estimators=200, min_samples_split=10, min_samples_leaf=2, max_features=sqrt, max_depth=5, bootstrap=True, score=0.824, total=   1.7s\n",
      "[CV] n_estimators=400, min_samples_split=5, min_samples_leaf=4, max_features=auto, max_depth=10, bootstrap=False \n",
      "[CV]  n_estimators=400, min_samples_split=5, min_samples_leaf=4, max_features=auto, max_depth=10, bootstrap=False, score=0.838, total=   5.5s\n",
      "[CV] n_estimators=400, min_samples_split=5, min_samples_leaf=4, max_features=auto, max_depth=10, bootstrap=False \n",
      "[CV]  n_estimators=400, min_samples_split=5, min_samples_leaf=4, max_features=auto, max_depth=10, bootstrap=False, score=0.834, total=   5.5s\n",
      "[CV] n_estimators=400, min_samples_split=5, min_samples_leaf=4, max_features=auto, max_depth=10, bootstrap=False \n",
      "[CV]  n_estimators=400, min_samples_split=5, min_samples_leaf=4, max_features=auto, max_depth=10, bootstrap=False, score=0.837, total=   5.6s\n",
      "[CV] n_estimators=400, min_samples_split=5, min_samples_leaf=4, max_features=auto, max_depth=10, bootstrap=False \n",
      "[CV]  n_estimators=400, min_samples_split=5, min_samples_leaf=4, max_features=auto, max_depth=10, bootstrap=False, score=0.836, total=   5.6s\n",
      "[CV] n_estimators=400, min_samples_split=5, min_samples_leaf=4, max_features=auto, max_depth=10, bootstrap=False \n",
      "[CV]  n_estimators=400, min_samples_split=5, min_samples_leaf=4, max_features=auto, max_depth=10, bootstrap=False, score=0.839, total=   5.4s\n",
      "[CV] n_estimators=600, min_samples_split=5, min_samples_leaf=4, max_features=sqrt, max_depth=15, bootstrap=True \n",
      "[CV]  n_estimators=600, min_samples_split=5, min_samples_leaf=4, max_features=sqrt, max_depth=15, bootstrap=True, score=0.842, total=   7.7s\n",
      "[CV] n_estimators=600, min_samples_split=5, min_samples_leaf=4, max_features=sqrt, max_depth=15, bootstrap=True \n",
      "[CV]  n_estimators=600, min_samples_split=5, min_samples_leaf=4, max_features=sqrt, max_depth=15, bootstrap=True, score=0.837, total=   7.6s\n",
      "[CV] n_estimators=600, min_samples_split=5, min_samples_leaf=4, max_features=sqrt, max_depth=15, bootstrap=True \n",
      "[CV]  n_estimators=600, min_samples_split=5, min_samples_leaf=4, max_features=sqrt, max_depth=15, bootstrap=True, score=0.837, total=   7.7s\n",
      "[CV] n_estimators=600, min_samples_split=5, min_samples_leaf=4, max_features=sqrt, max_depth=15, bootstrap=True \n",
      "[CV]  n_estimators=600, min_samples_split=5, min_samples_leaf=4, max_features=sqrt, max_depth=15, bootstrap=True, score=0.838, total=   7.6s\n",
      "[CV] n_estimators=600, min_samples_split=5, min_samples_leaf=4, max_features=sqrt, max_depth=15, bootstrap=True \n",
      "[CV]  n_estimators=600, min_samples_split=5, min_samples_leaf=4, max_features=sqrt, max_depth=15, bootstrap=True, score=0.837, total=   7.9s\n",
      "[CV] n_estimators=800, min_samples_split=10, min_samples_leaf=1, max_features=sqrt, max_depth=60, bootstrap=True \n"
     ]
    },
    {
     "name": "stdout",
     "output_type": "stream",
     "text": [
      "[CV]  n_estimators=800, min_samples_split=10, min_samples_leaf=1, max_features=sqrt, max_depth=60, bootstrap=True, score=0.832, total=  11.6s\n",
      "[CV] n_estimators=800, min_samples_split=10, min_samples_leaf=1, max_features=sqrt, max_depth=60, bootstrap=True \n",
      "[CV]  n_estimators=800, min_samples_split=10, min_samples_leaf=1, max_features=sqrt, max_depth=60, bootstrap=True, score=0.831, total=  11.9s\n",
      "[CV] n_estimators=800, min_samples_split=10, min_samples_leaf=1, max_features=sqrt, max_depth=60, bootstrap=True \n",
      "[CV]  n_estimators=800, min_samples_split=10, min_samples_leaf=1, max_features=sqrt, max_depth=60, bootstrap=True, score=0.830, total=  11.7s\n",
      "[CV] n_estimators=800, min_samples_split=10, min_samples_leaf=1, max_features=sqrt, max_depth=60, bootstrap=True \n",
      "[CV]  n_estimators=800, min_samples_split=10, min_samples_leaf=1, max_features=sqrt, max_depth=60, bootstrap=True, score=0.836, total=  11.8s\n",
      "[CV] n_estimators=800, min_samples_split=10, min_samples_leaf=1, max_features=sqrt, max_depth=60, bootstrap=True \n",
      "[CV]  n_estimators=800, min_samples_split=10, min_samples_leaf=1, max_features=sqrt, max_depth=60, bootstrap=True, score=0.828, total=  11.6s\n",
      "[CV] n_estimators=600, min_samples_split=10, min_samples_leaf=2, max_features=sqrt, max_depth=15, bootstrap=True \n",
      "[CV]  n_estimators=600, min_samples_split=10, min_samples_leaf=2, max_features=sqrt, max_depth=15, bootstrap=True, score=0.839, total=   7.8s\n",
      "[CV] n_estimators=600, min_samples_split=10, min_samples_leaf=2, max_features=sqrt, max_depth=15, bootstrap=True \n",
      "[CV]  n_estimators=600, min_samples_split=10, min_samples_leaf=2, max_features=sqrt, max_depth=15, bootstrap=True, score=0.836, total=   7.7s\n",
      "[CV] n_estimators=600, min_samples_split=10, min_samples_leaf=2, max_features=sqrt, max_depth=15, bootstrap=True \n",
      "[CV]  n_estimators=600, min_samples_split=10, min_samples_leaf=2, max_features=sqrt, max_depth=15, bootstrap=True, score=0.836, total=   7.8s\n",
      "[CV] n_estimators=600, min_samples_split=10, min_samples_leaf=2, max_features=sqrt, max_depth=15, bootstrap=True \n",
      "[CV]  n_estimators=600, min_samples_split=10, min_samples_leaf=2, max_features=sqrt, max_depth=15, bootstrap=True, score=0.837, total=   7.6s\n",
      "[CV] n_estimators=600, min_samples_split=10, min_samples_leaf=2, max_features=sqrt, max_depth=15, bootstrap=True \n",
      "[CV]  n_estimators=600, min_samples_split=10, min_samples_leaf=2, max_features=sqrt, max_depth=15, bootstrap=True, score=0.835, total=   7.8s\n",
      "[CV] n_estimators=1000, min_samples_split=2, min_samples_leaf=1, max_features=auto, max_depth=40, bootstrap=False \n",
      "[CV]  n_estimators=1000, min_samples_split=2, min_samples_leaf=1, max_features=auto, max_depth=40, bootstrap=False, score=0.802, total=  23.8s\n",
      "[CV] n_estimators=1000, min_samples_split=2, min_samples_leaf=1, max_features=auto, max_depth=40, bootstrap=False \n",
      "[CV]  n_estimators=1000, min_samples_split=2, min_samples_leaf=1, max_features=auto, max_depth=40, bootstrap=False, score=0.805, total=  23.8s\n",
      "[CV] n_estimators=1000, min_samples_split=2, min_samples_leaf=1, max_features=auto, max_depth=40, bootstrap=False \n",
      "[CV]  n_estimators=1000, min_samples_split=2, min_samples_leaf=1, max_features=auto, max_depth=40, bootstrap=False, score=0.807, total=  23.5s\n",
      "[CV] n_estimators=1000, min_samples_split=2, min_samples_leaf=1, max_features=auto, max_depth=40, bootstrap=False \n",
      "[CV]  n_estimators=1000, min_samples_split=2, min_samples_leaf=1, max_features=auto, max_depth=40, bootstrap=False, score=0.807, total=  24.1s\n",
      "[CV] n_estimators=1000, min_samples_split=2, min_samples_leaf=1, max_features=auto, max_depth=40, bootstrap=False \n",
      "[CV]  n_estimators=1000, min_samples_split=2, min_samples_leaf=1, max_features=auto, max_depth=40, bootstrap=False, score=0.807, total=  23.4s\n"
     ]
    },
    {
     "name": "stderr",
     "output_type": "stream",
     "text": [
      "[Parallel(n_jobs=1)]: Done  50 out of  50 | elapsed:  7.4min finished\n"
     ]
    },
    {
     "data": {
      "text/plain": [
       "{'n_estimators': 600,\n",
       " 'min_samples_split': 5,\n",
       " 'min_samples_leaf': 4,\n",
       " 'max_features': 'sqrt',\n",
       " 'max_depth': 15,\n",
       " 'bootstrap': True}"
      ]
     },
     "execution_count": 43,
     "metadata": {},
     "output_type": "execute_result"
    }
   ],
   "source": [
    "rfc_rs = RandomizedSearchCV(\n",
    "    rfc, parameter_rfc, cv = 5, verbose = 3\n",
    "    )\n",
    "\n",
    "rfc_rs.fit(x_train_scl, y_train)\n",
    "rfc_rs.best_params_"
   ]
  },
  {
   "cell_type": "code",
   "execution_count": 44,
   "metadata": {
    "ExecuteTime": {
     "end_time": "2020-06-19T12:29:50.593523Z",
     "start_time": "2020-06-19T12:29:50.586541Z"
    }
   },
   "outputs": [
    {
     "data": {
      "text/plain": [
       "RandomForestClassifier(max_depth=15, max_features='sqrt', min_samples_leaf=4,\n",
       "                       min_samples_split=5, n_estimators=600)"
      ]
     },
     "execution_count": 44,
     "metadata": {},
     "output_type": "execute_result"
    }
   ],
   "source": [
    "rfc_rs.best_estimator_"
   ]
  },
  {
   "cell_type": "code",
   "execution_count": 45,
   "metadata": {
    "ExecuteTime": {
     "end_time": "2020-06-19T12:30:01.614044Z",
     "start_time": "2020-06-19T12:29:50.594520Z"
    }
   },
   "outputs": [
    {
     "name": "stdout",
     "output_type": "stream",
     "text": [
      "Accuracy Score in Random Forest Classifier with Hyperparameter Tuning is 0.8390\n",
      "Score for test data in Random Forest Classifier with Hyperparameter Tuning is 0.8390\n",
      "Score for train data in Random Forest Classifier with Hyperparameter Tuning is 0.8752\n"
     ]
    }
   ],
   "source": [
    "rfc_2 = RandomForestClassifier(bootstrap=False, max_depth=15, min_samples_leaf=4,\n",
    "                       min_samples_split=10, n_estimators=400)\n",
    "rfc_2.fit(x_train_scl, y_train)\n",
    "\n",
    "y_pred_6 = rfc_2.predict(x_test_scl)\n",
    "\n",
    "accu_6 = accuracy_score(y_test, y_pred_6)\n",
    "\n",
    "testrfc2_score = rfc_2.score(x_test_scl, y_test)\n",
    "trainrfc2_score = rfc_2.score(x_train_scl, y_train)\n",
    "\n",
    "print('Accuracy Score in Random Forest Classifier with Hyperparameter Tuning is {:.4f}'.format(accu_6))\n",
    "print('Score for test data in Random Forest Classifier with Hyperparameter Tuning is {:.4f}'.format(testrfc2_score))\n",
    "print('Score for train data in Random Forest Classifier with Hyperparameter Tuning is {:.4f}'.format(trainrfc2_score))"
   ]
  },
  {
   "cell_type": "markdown",
   "metadata": {},
   "source": [
    "There is no problem in overfitting/underfitting in Random Forest Classifier with Hyperparameter Tuning as there is no big difference between test score and train score.\n",
    "Hyperparameter tuning with Random Forest Classifier improve a bit our accuracy score by 0.015."
   ]
  },
  {
   "cell_type": "markdown",
   "metadata": {},
   "source": [
    "## Model 7 - XGBoost Classifier"
   ]
  },
  {
   "cell_type": "code",
   "execution_count": 46,
   "metadata": {
    "ExecuteTime": {
     "end_time": "2020-06-19T12:30:03.040229Z",
     "start_time": "2020-06-19T12:30:01.616039Z"
    }
   },
   "outputs": [
    {
     "name": "stdout",
     "output_type": "stream",
     "text": [
      "Accuracy Score in XGBoost Classifier is 0.8425\n",
      "Score for test data in XGBoost Classifier is 0.8425\n",
      "Score for train data in XGBoost Classifier is 0.8728\n"
     ]
    }
   ],
   "source": [
    "xgb = XGBClassifier()\n",
    "xgb.fit(x_train_scl, y_train)\n",
    "\n",
    "y_pred_7 = xgb.predict(x_test_scl)\n",
    "accu_7 = accuracy_score(y_test, y_pred_7)\n",
    "\n",
    "testxgb1_score = xgb.score(x_test_scl, y_test)\n",
    "trainxgb1_score = xgb.score(x_train_scl, y_train)\n",
    "\n",
    "print('Accuracy Score in XGBoost Classifier is {:.4f}'.format(accu_7))\n",
    "print('Score for test data in XGBoost Classifier is {:.4f}'.format(testxgb1_score))\n",
    "print('Score for train data in XGBoost Classifier is {:.4f}'.format(trainxgb1_score))"
   ]
  },
  {
   "cell_type": "markdown",
   "metadata": {},
   "source": [
    "There is no problem in overfitting/underfitting in XGBoost Classifier model as the difference between the test score and train score is forgiven."
   ]
  },
  {
   "cell_type": "code",
   "execution_count": 47,
   "metadata": {
    "ExecuteTime": {
     "end_time": "2020-06-19T12:30:03.054192Z",
     "start_time": "2020-06-19T12:30:03.043222Z"
    }
   },
   "outputs": [
    {
     "data": {
      "text/plain": [
       "{'objective': 'binary:logistic',\n",
       " 'base_score': 0.5,\n",
       " 'booster': 'gbtree',\n",
       " 'colsample_bylevel': 1,\n",
       " 'colsample_bynode': 1,\n",
       " 'colsample_bytree': 1,\n",
       " 'gamma': 0,\n",
       " 'gpu_id': -1,\n",
       " 'importance_type': 'gain',\n",
       " 'interaction_constraints': '',\n",
       " 'learning_rate': 0.300000012,\n",
       " 'max_delta_step': 0,\n",
       " 'max_depth': 6,\n",
       " 'min_child_weight': 1,\n",
       " 'missing': nan,\n",
       " 'monotone_constraints': '()',\n",
       " 'n_estimators': 100,\n",
       " 'n_jobs': 0,\n",
       " 'num_parallel_tree': 1,\n",
       " 'random_state': 0,\n",
       " 'reg_alpha': 0,\n",
       " 'reg_lambda': 1,\n",
       " 'scale_pos_weight': 1,\n",
       " 'subsample': 1,\n",
       " 'tree_method': 'exact',\n",
       " 'validate_parameters': 1,\n",
       " 'verbosity': None}"
      ]
     },
     "execution_count": 47,
     "metadata": {},
     "output_type": "execute_result"
    }
   ],
   "source": [
    "xgb.get_params()"
   ]
  },
  {
   "cell_type": "markdown",
   "metadata": {},
   "source": [
    "## Model 8 - XGBoost Classifier with Hyperparameter Tuning"
   ]
  },
  {
   "cell_type": "code",
   "execution_count": 48,
   "metadata": {
    "ExecuteTime": {
     "end_time": "2020-06-19T12:30:03.069152Z",
     "start_time": "2020-06-19T12:30:03.057184Z"
    }
   },
   "outputs": [],
   "source": [
    "parameter_xgb = {\n",
    "    'learning_rate' : np.arange(0.01,0.31, 0.01),\n",
    "    'min_child_weight': np.arange(1,10,2),\n",
    "    'gamma': [0.5, 1, 1.5, 2, 5],\n",
    "    'subsample': np.arange(0.5, 1, 0.05),\n",
    "    'colsample_bytree': np.arange(0.5, 1, 0.05),\n",
    "    'max_depth': np.arange(3,11,1),\n",
    "    'n_estimators' : np.arange(100,1100,100),\n",
    "    'gamma' : np.arange(0, 0.6, 0.1),\n",
    "    'reg_alpha':[0, 0.001, 0.005, 0.01, 0.05]\n",
    "}"
   ]
  },
  {
   "cell_type": "code",
   "execution_count": 49,
   "metadata": {
    "ExecuteTime": {
     "end_time": "2020-06-19T12:36:39.457589Z",
     "start_time": "2020-06-19T12:30:03.073141Z"
    },
    "scrolled": true
   },
   "outputs": [
    {
     "name": "stdout",
     "output_type": "stream",
     "text": [
      "Fitting 5 folds for each of 10 candidates, totalling 50 fits\n",
      "[CV] subsample=0.5, reg_alpha=0.005, n_estimators=700, min_child_weight=3, max_depth=4, learning_rate=0.02, gamma=0.2, colsample_bytree=0.9000000000000004 \n"
     ]
    },
    {
     "name": "stderr",
     "output_type": "stream",
     "text": [
      "[Parallel(n_jobs=1)]: Using backend SequentialBackend with 1 concurrent workers.\n"
     ]
    },
    {
     "name": "stdout",
     "output_type": "stream",
     "text": [
      "[CV]  subsample=0.5, reg_alpha=0.005, n_estimators=700, min_child_weight=3, max_depth=4, learning_rate=0.02, gamma=0.2, colsample_bytree=0.9000000000000004, score=0.843, total=   6.3s\n",
      "[CV] subsample=0.5, reg_alpha=0.005, n_estimators=700, min_child_weight=3, max_depth=4, learning_rate=0.02, gamma=0.2, colsample_bytree=0.9000000000000004 \n"
     ]
    },
    {
     "name": "stderr",
     "output_type": "stream",
     "text": [
      "[Parallel(n_jobs=1)]: Done   1 out of   1 | elapsed:    6.2s remaining:    0.0s\n"
     ]
    },
    {
     "name": "stdout",
     "output_type": "stream",
     "text": [
      "[CV]  subsample=0.5, reg_alpha=0.005, n_estimators=700, min_child_weight=3, max_depth=4, learning_rate=0.02, gamma=0.2, colsample_bytree=0.9000000000000004, score=0.840, total=   6.2s\n",
      "[CV] subsample=0.5, reg_alpha=0.005, n_estimators=700, min_child_weight=3, max_depth=4, learning_rate=0.02, gamma=0.2, colsample_bytree=0.9000000000000004 \n"
     ]
    },
    {
     "name": "stderr",
     "output_type": "stream",
     "text": [
      "[Parallel(n_jobs=1)]: Done   2 out of   2 | elapsed:   12.5s remaining:    0.0s\n"
     ]
    },
    {
     "name": "stdout",
     "output_type": "stream",
     "text": [
      "[CV]  subsample=0.5, reg_alpha=0.005, n_estimators=700, min_child_weight=3, max_depth=4, learning_rate=0.02, gamma=0.2, colsample_bytree=0.9000000000000004, score=0.840, total=   6.3s\n",
      "[CV] subsample=0.5, reg_alpha=0.005, n_estimators=700, min_child_weight=3, max_depth=4, learning_rate=0.02, gamma=0.2, colsample_bytree=0.9000000000000004 \n",
      "[CV]  subsample=0.5, reg_alpha=0.005, n_estimators=700, min_child_weight=3, max_depth=4, learning_rate=0.02, gamma=0.2, colsample_bytree=0.9000000000000004, score=0.841, total=   6.2s\n",
      "[CV] subsample=0.5, reg_alpha=0.005, n_estimators=700, min_child_weight=3, max_depth=4, learning_rate=0.02, gamma=0.2, colsample_bytree=0.9000000000000004 \n",
      "[CV]  subsample=0.5, reg_alpha=0.005, n_estimators=700, min_child_weight=3, max_depth=4, learning_rate=0.02, gamma=0.2, colsample_bytree=0.9000000000000004, score=0.839, total=   6.3s\n",
      "[CV] subsample=0.5, reg_alpha=0.01, n_estimators=500, min_child_weight=1, max_depth=10, learning_rate=0.26, gamma=0.4, colsample_bytree=0.6000000000000001 \n",
      "[CV]  subsample=0.5, reg_alpha=0.01, n_estimators=500, min_child_weight=1, max_depth=10, learning_rate=0.26, gamma=0.4, colsample_bytree=0.6000000000000001, score=0.810, total=   7.2s\n",
      "[CV] subsample=0.5, reg_alpha=0.01, n_estimators=500, min_child_weight=1, max_depth=10, learning_rate=0.26, gamma=0.4, colsample_bytree=0.6000000000000001 \n",
      "[CV]  subsample=0.5, reg_alpha=0.01, n_estimators=500, min_child_weight=1, max_depth=10, learning_rate=0.26, gamma=0.4, colsample_bytree=0.6000000000000001, score=0.810, total=   7.5s\n",
      "[CV] subsample=0.5, reg_alpha=0.01, n_estimators=500, min_child_weight=1, max_depth=10, learning_rate=0.26, gamma=0.4, colsample_bytree=0.6000000000000001 \n",
      "[CV]  subsample=0.5, reg_alpha=0.01, n_estimators=500, min_child_weight=1, max_depth=10, learning_rate=0.26, gamma=0.4, colsample_bytree=0.6000000000000001, score=0.811, total=   7.4s\n",
      "[CV] subsample=0.5, reg_alpha=0.01, n_estimators=500, min_child_weight=1, max_depth=10, learning_rate=0.26, gamma=0.4, colsample_bytree=0.6000000000000001 \n",
      "[CV]  subsample=0.5, reg_alpha=0.01, n_estimators=500, min_child_weight=1, max_depth=10, learning_rate=0.26, gamma=0.4, colsample_bytree=0.6000000000000001, score=0.812, total=   7.3s\n",
      "[CV] subsample=0.5, reg_alpha=0.01, n_estimators=500, min_child_weight=1, max_depth=10, learning_rate=0.26, gamma=0.4, colsample_bytree=0.6000000000000001 \n",
      "[CV]  subsample=0.5, reg_alpha=0.01, n_estimators=500, min_child_weight=1, max_depth=10, learning_rate=0.26, gamma=0.4, colsample_bytree=0.6000000000000001, score=0.807, total=   7.4s\n",
      "[CV] subsample=0.5, reg_alpha=0.005, n_estimators=600, min_child_weight=1, max_depth=10, learning_rate=0.12, gamma=0.5, colsample_bytree=0.7500000000000002 \n",
      "[CV]  subsample=0.5, reg_alpha=0.005, n_estimators=600, min_child_weight=1, max_depth=10, learning_rate=0.12, gamma=0.5, colsample_bytree=0.7500000000000002, score=0.811, total=  11.2s\n",
      "[CV] subsample=0.5, reg_alpha=0.005, n_estimators=600, min_child_weight=1, max_depth=10, learning_rate=0.12, gamma=0.5, colsample_bytree=0.7500000000000002 \n",
      "[CV]  subsample=0.5, reg_alpha=0.005, n_estimators=600, min_child_weight=1, max_depth=10, learning_rate=0.12, gamma=0.5, colsample_bytree=0.7500000000000002, score=0.809, total=  11.1s\n",
      "[CV] subsample=0.5, reg_alpha=0.005, n_estimators=600, min_child_weight=1, max_depth=10, learning_rate=0.12, gamma=0.5, colsample_bytree=0.7500000000000002 \n",
      "[CV]  subsample=0.5, reg_alpha=0.005, n_estimators=600, min_child_weight=1, max_depth=10, learning_rate=0.12, gamma=0.5, colsample_bytree=0.7500000000000002, score=0.811, total=  11.3s\n",
      "[CV] subsample=0.5, reg_alpha=0.005, n_estimators=600, min_child_weight=1, max_depth=10, learning_rate=0.12, gamma=0.5, colsample_bytree=0.7500000000000002 \n",
      "[CV]  subsample=0.5, reg_alpha=0.005, n_estimators=600, min_child_weight=1, max_depth=10, learning_rate=0.12, gamma=0.5, colsample_bytree=0.7500000000000002, score=0.819, total=  11.3s\n",
      "[CV] subsample=0.5, reg_alpha=0.005, n_estimators=600, min_child_weight=1, max_depth=10, learning_rate=0.12, gamma=0.5, colsample_bytree=0.7500000000000002 \n",
      "[CV]  subsample=0.5, reg_alpha=0.005, n_estimators=600, min_child_weight=1, max_depth=10, learning_rate=0.12, gamma=0.5, colsample_bytree=0.7500000000000002, score=0.821, total=  11.2s\n",
      "[CV] subsample=0.7500000000000002, reg_alpha=0.01, n_estimators=600, min_child_weight=9, max_depth=9, learning_rate=0.3, gamma=0.30000000000000004, colsample_bytree=0.9500000000000004 \n",
      "[CV]  subsample=0.7500000000000002, reg_alpha=0.01, n_estimators=600, min_child_weight=9, max_depth=9, learning_rate=0.3, gamma=0.30000000000000004, colsample_bytree=0.9500000000000004, score=0.808, total=   9.9s\n",
      "[CV] subsample=0.7500000000000002, reg_alpha=0.01, n_estimators=600, min_child_weight=9, max_depth=9, learning_rate=0.3, gamma=0.30000000000000004, colsample_bytree=0.9500000000000004 \n",
      "[CV]  subsample=0.7500000000000002, reg_alpha=0.01, n_estimators=600, min_child_weight=9, max_depth=9, learning_rate=0.3, gamma=0.30000000000000004, colsample_bytree=0.9500000000000004, score=0.812, total=  10.0s\n",
      "[CV] subsample=0.7500000000000002, reg_alpha=0.01, n_estimators=600, min_child_weight=9, max_depth=9, learning_rate=0.3, gamma=0.30000000000000004, colsample_bytree=0.9500000000000004 \n",
      "[CV]  subsample=0.7500000000000002, reg_alpha=0.01, n_estimators=600, min_child_weight=9, max_depth=9, learning_rate=0.3, gamma=0.30000000000000004, colsample_bytree=0.9500000000000004, score=0.810, total=   9.8s\n",
      "[CV] subsample=0.7500000000000002, reg_alpha=0.01, n_estimators=600, min_child_weight=9, max_depth=9, learning_rate=0.3, gamma=0.30000000000000004, colsample_bytree=0.9500000000000004 \n",
      "[CV]  subsample=0.7500000000000002, reg_alpha=0.01, n_estimators=600, min_child_weight=9, max_depth=9, learning_rate=0.3, gamma=0.30000000000000004, colsample_bytree=0.9500000000000004, score=0.821, total=   9.9s\n",
      "[CV] subsample=0.7500000000000002, reg_alpha=0.01, n_estimators=600, min_child_weight=9, max_depth=9, learning_rate=0.3, gamma=0.30000000000000004, colsample_bytree=0.9500000000000004 \n",
      "[CV]  subsample=0.7500000000000002, reg_alpha=0.01, n_estimators=600, min_child_weight=9, max_depth=9, learning_rate=0.3, gamma=0.30000000000000004, colsample_bytree=0.9500000000000004, score=0.820, total=   9.9s\n",
      "[CV] subsample=0.7500000000000002, reg_alpha=0.001, n_estimators=500, min_child_weight=5, max_depth=8, learning_rate=0.21000000000000002, gamma=0.2, colsample_bytree=0.8500000000000003 \n",
      "[CV]  subsample=0.7500000000000002, reg_alpha=0.001, n_estimators=500, min_child_weight=5, max_depth=8, learning_rate=0.21000000000000002, gamma=0.2, colsample_bytree=0.8500000000000003, score=0.821, total=   7.5s\n",
      "[CV] subsample=0.7500000000000002, reg_alpha=0.001, n_estimators=500, min_child_weight=5, max_depth=8, learning_rate=0.21000000000000002, gamma=0.2, colsample_bytree=0.8500000000000003 \n",
      "[CV]  subsample=0.7500000000000002, reg_alpha=0.001, n_estimators=500, min_child_weight=5, max_depth=8, learning_rate=0.21000000000000002, gamma=0.2, colsample_bytree=0.8500000000000003, score=0.814, total=   7.4s\n",
      "[CV] subsample=0.7500000000000002, reg_alpha=0.001, n_estimators=500, min_child_weight=5, max_depth=8, learning_rate=0.21000000000000002, gamma=0.2, colsample_bytree=0.8500000000000003 \n",
      "[CV]  subsample=0.7500000000000002, reg_alpha=0.001, n_estimators=500, min_child_weight=5, max_depth=8, learning_rate=0.21000000000000002, gamma=0.2, colsample_bytree=0.8500000000000003, score=0.816, total=   7.5s\n",
      "[CV] subsample=0.7500000000000002, reg_alpha=0.001, n_estimators=500, min_child_weight=5, max_depth=8, learning_rate=0.21000000000000002, gamma=0.2, colsample_bytree=0.8500000000000003 \n",
      "[CV]  subsample=0.7500000000000002, reg_alpha=0.001, n_estimators=500, min_child_weight=5, max_depth=8, learning_rate=0.21000000000000002, gamma=0.2, colsample_bytree=0.8500000000000003, score=0.823, total=   7.5s\n",
      "[CV] subsample=0.7500000000000002, reg_alpha=0.001, n_estimators=500, min_child_weight=5, max_depth=8, learning_rate=0.21000000000000002, gamma=0.2, colsample_bytree=0.8500000000000003 \n",
      "[CV]  subsample=0.7500000000000002, reg_alpha=0.001, n_estimators=500, min_child_weight=5, max_depth=8, learning_rate=0.21000000000000002, gamma=0.2, colsample_bytree=0.8500000000000003, score=0.822, total=   7.5s\n",
      "[CV] subsample=0.7000000000000002, reg_alpha=0.01, n_estimators=900, min_child_weight=5, max_depth=10, learning_rate=0.060000000000000005, gamma=0.1, colsample_bytree=0.7000000000000002 \n"
     ]
    },
    {
     "name": "stdout",
     "output_type": "stream",
     "text": [
      "[CV]  subsample=0.7000000000000002, reg_alpha=0.01, n_estimators=900, min_child_weight=5, max_depth=10, learning_rate=0.060000000000000005, gamma=0.1, colsample_bytree=0.7000000000000002, score=0.824, total=  13.4s\n",
      "[CV] subsample=0.7000000000000002, reg_alpha=0.01, n_estimators=900, min_child_weight=5, max_depth=10, learning_rate=0.060000000000000005, gamma=0.1, colsample_bytree=0.7000000000000002 \n",
      "[CV]  subsample=0.7000000000000002, reg_alpha=0.01, n_estimators=900, min_child_weight=5, max_depth=10, learning_rate=0.060000000000000005, gamma=0.1, colsample_bytree=0.7000000000000002, score=0.821, total=  13.4s\n",
      "[CV] subsample=0.7000000000000002, reg_alpha=0.01, n_estimators=900, min_child_weight=5, max_depth=10, learning_rate=0.060000000000000005, gamma=0.1, colsample_bytree=0.7000000000000002 \n",
      "[CV]  subsample=0.7000000000000002, reg_alpha=0.01, n_estimators=900, min_child_weight=5, max_depth=10, learning_rate=0.060000000000000005, gamma=0.1, colsample_bytree=0.7000000000000002, score=0.823, total=  13.3s\n",
      "[CV] subsample=0.7000000000000002, reg_alpha=0.01, n_estimators=900, min_child_weight=5, max_depth=10, learning_rate=0.060000000000000005, gamma=0.1, colsample_bytree=0.7000000000000002 \n",
      "[CV]  subsample=0.7000000000000002, reg_alpha=0.01, n_estimators=900, min_child_weight=5, max_depth=10, learning_rate=0.060000000000000005, gamma=0.1, colsample_bytree=0.7000000000000002, score=0.826, total=  13.4s\n",
      "[CV] subsample=0.7000000000000002, reg_alpha=0.01, n_estimators=900, min_child_weight=5, max_depth=10, learning_rate=0.060000000000000005, gamma=0.1, colsample_bytree=0.7000000000000002 \n",
      "[CV]  subsample=0.7000000000000002, reg_alpha=0.01, n_estimators=900, min_child_weight=5, max_depth=10, learning_rate=0.060000000000000005, gamma=0.1, colsample_bytree=0.7000000000000002, score=0.827, total=  13.3s\n",
      "[CV] subsample=0.9500000000000004, reg_alpha=0.005, n_estimators=600, min_child_weight=1, max_depth=10, learning_rate=0.03, gamma=0.5, colsample_bytree=0.9000000000000004 \n",
      "[CV]  subsample=0.9500000000000004, reg_alpha=0.005, n_estimators=600, min_child_weight=1, max_depth=10, learning_rate=0.03, gamma=0.5, colsample_bytree=0.9000000000000004, score=0.831, total=  11.0s\n",
      "[CV] subsample=0.9500000000000004, reg_alpha=0.005, n_estimators=600, min_child_weight=1, max_depth=10, learning_rate=0.03, gamma=0.5, colsample_bytree=0.9000000000000004 \n",
      "[CV]  subsample=0.9500000000000004, reg_alpha=0.005, n_estimators=600, min_child_weight=1, max_depth=10, learning_rate=0.03, gamma=0.5, colsample_bytree=0.9000000000000004, score=0.830, total=  10.7s\n",
      "[CV] subsample=0.9500000000000004, reg_alpha=0.005, n_estimators=600, min_child_weight=1, max_depth=10, learning_rate=0.03, gamma=0.5, colsample_bytree=0.9000000000000004 \n",
      "[CV]  subsample=0.9500000000000004, reg_alpha=0.005, n_estimators=600, min_child_weight=1, max_depth=10, learning_rate=0.03, gamma=0.5, colsample_bytree=0.9000000000000004, score=0.827, total=  10.6s\n",
      "[CV] subsample=0.9500000000000004, reg_alpha=0.005, n_estimators=600, min_child_weight=1, max_depth=10, learning_rate=0.03, gamma=0.5, colsample_bytree=0.9000000000000004 \n",
      "[CV]  subsample=0.9500000000000004, reg_alpha=0.005, n_estimators=600, min_child_weight=1, max_depth=10, learning_rate=0.03, gamma=0.5, colsample_bytree=0.9000000000000004, score=0.834, total=  10.6s\n",
      "[CV] subsample=0.9500000000000004, reg_alpha=0.005, n_estimators=600, min_child_weight=1, max_depth=10, learning_rate=0.03, gamma=0.5, colsample_bytree=0.9000000000000004 \n",
      "[CV]  subsample=0.9500000000000004, reg_alpha=0.005, n_estimators=600, min_child_weight=1, max_depth=10, learning_rate=0.03, gamma=0.5, colsample_bytree=0.9000000000000004, score=0.830, total=  10.5s\n",
      "[CV] subsample=0.5, reg_alpha=0.01, n_estimators=200, min_child_weight=5, max_depth=3, learning_rate=0.29000000000000004, gamma=0.5, colsample_bytree=0.9000000000000004 \n",
      "[CV]  subsample=0.5, reg_alpha=0.01, n_estimators=200, min_child_weight=5, max_depth=3, learning_rate=0.29000000000000004, gamma=0.5, colsample_bytree=0.9000000000000004, score=0.842, total=   1.5s\n",
      "[CV] subsample=0.5, reg_alpha=0.01, n_estimators=200, min_child_weight=5, max_depth=3, learning_rate=0.29000000000000004, gamma=0.5, colsample_bytree=0.9000000000000004 \n",
      "[CV]  subsample=0.5, reg_alpha=0.01, n_estimators=200, min_child_weight=5, max_depth=3, learning_rate=0.29000000000000004, gamma=0.5, colsample_bytree=0.9000000000000004, score=0.836, total=   1.6s\n",
      "[CV] subsample=0.5, reg_alpha=0.01, n_estimators=200, min_child_weight=5, max_depth=3, learning_rate=0.29000000000000004, gamma=0.5, colsample_bytree=0.9000000000000004 \n",
      "[CV]  subsample=0.5, reg_alpha=0.01, n_estimators=200, min_child_weight=5, max_depth=3, learning_rate=0.29000000000000004, gamma=0.5, colsample_bytree=0.9000000000000004, score=0.843, total=   1.5s\n",
      "[CV] subsample=0.5, reg_alpha=0.01, n_estimators=200, min_child_weight=5, max_depth=3, learning_rate=0.29000000000000004, gamma=0.5, colsample_bytree=0.9000000000000004 \n",
      "[CV]  subsample=0.5, reg_alpha=0.01, n_estimators=200, min_child_weight=5, max_depth=3, learning_rate=0.29000000000000004, gamma=0.5, colsample_bytree=0.9000000000000004, score=0.842, total=   1.5s\n",
      "[CV] subsample=0.5, reg_alpha=0.01, n_estimators=200, min_child_weight=5, max_depth=3, learning_rate=0.29000000000000004, gamma=0.5, colsample_bytree=0.9000000000000004 \n",
      "[CV]  subsample=0.5, reg_alpha=0.01, n_estimators=200, min_child_weight=5, max_depth=3, learning_rate=0.29000000000000004, gamma=0.5, colsample_bytree=0.9000000000000004, score=0.837, total=   1.5s\n",
      "[CV] subsample=0.55, reg_alpha=0.01, n_estimators=300, min_child_weight=3, max_depth=10, learning_rate=0.2, gamma=0.1, colsample_bytree=0.9500000000000004 \n",
      "[CV]  subsample=0.55, reg_alpha=0.01, n_estimators=300, min_child_weight=3, max_depth=10, learning_rate=0.2, gamma=0.1, colsample_bytree=0.9500000000000004, score=0.815, total=   5.7s\n",
      "[CV] subsample=0.55, reg_alpha=0.01, n_estimators=300, min_child_weight=3, max_depth=10, learning_rate=0.2, gamma=0.1, colsample_bytree=0.9500000000000004 \n",
      "[CV]  subsample=0.55, reg_alpha=0.01, n_estimators=300, min_child_weight=3, max_depth=10, learning_rate=0.2, gamma=0.1, colsample_bytree=0.9500000000000004, score=0.815, total=   5.8s\n",
      "[CV] subsample=0.55, reg_alpha=0.01, n_estimators=300, min_child_weight=3, max_depth=10, learning_rate=0.2, gamma=0.1, colsample_bytree=0.9500000000000004 \n",
      "[CV]  subsample=0.55, reg_alpha=0.01, n_estimators=300, min_child_weight=3, max_depth=10, learning_rate=0.2, gamma=0.1, colsample_bytree=0.9500000000000004, score=0.813, total=   5.8s\n",
      "[CV] subsample=0.55, reg_alpha=0.01, n_estimators=300, min_child_weight=3, max_depth=10, learning_rate=0.2, gamma=0.1, colsample_bytree=0.9500000000000004 \n",
      "[CV]  subsample=0.55, reg_alpha=0.01, n_estimators=300, min_child_weight=3, max_depth=10, learning_rate=0.2, gamma=0.1, colsample_bytree=0.9500000000000004, score=0.822, total=   5.7s\n",
      "[CV] subsample=0.55, reg_alpha=0.01, n_estimators=300, min_child_weight=3, max_depth=10, learning_rate=0.2, gamma=0.1, colsample_bytree=0.9500000000000004 \n",
      "[CV]  subsample=0.55, reg_alpha=0.01, n_estimators=300, min_child_weight=3, max_depth=10, learning_rate=0.2, gamma=0.1, colsample_bytree=0.9500000000000004, score=0.824, total=   5.8s\n",
      "[CV] subsample=0.6000000000000001, reg_alpha=0.001, n_estimators=300, min_child_weight=9, max_depth=7, learning_rate=0.15000000000000002, gamma=0.5, colsample_bytree=0.9500000000000004 \n",
      "[CV]  subsample=0.6000000000000001, reg_alpha=0.001, n_estimators=300, min_child_weight=9, max_depth=7, learning_rate=0.15000000000000002, gamma=0.5, colsample_bytree=0.9500000000000004, score=0.833, total=   4.1s\n",
      "[CV] subsample=0.6000000000000001, reg_alpha=0.001, n_estimators=300, min_child_weight=9, max_depth=7, learning_rate=0.15000000000000002, gamma=0.5, colsample_bytree=0.9500000000000004 \n",
      "[CV]  subsample=0.6000000000000001, reg_alpha=0.001, n_estimators=300, min_child_weight=9, max_depth=7, learning_rate=0.15000000000000002, gamma=0.5, colsample_bytree=0.9500000000000004, score=0.829, total=   4.1s\n",
      "[CV] subsample=0.6000000000000001, reg_alpha=0.001, n_estimators=300, min_child_weight=9, max_depth=7, learning_rate=0.15000000000000002, gamma=0.5, colsample_bytree=0.9500000000000004 \n"
     ]
    },
    {
     "name": "stdout",
     "output_type": "stream",
     "text": [
      "[CV]  subsample=0.6000000000000001, reg_alpha=0.001, n_estimators=300, min_child_weight=9, max_depth=7, learning_rate=0.15000000000000002, gamma=0.5, colsample_bytree=0.9500000000000004, score=0.833, total=   4.1s\n",
      "[CV] subsample=0.6000000000000001, reg_alpha=0.001, n_estimators=300, min_child_weight=9, max_depth=7, learning_rate=0.15000000000000002, gamma=0.5, colsample_bytree=0.9500000000000004 \n",
      "[CV]  subsample=0.6000000000000001, reg_alpha=0.001, n_estimators=300, min_child_weight=9, max_depth=7, learning_rate=0.15000000000000002, gamma=0.5, colsample_bytree=0.9500000000000004, score=0.835, total=   4.2s\n",
      "[CV] subsample=0.6000000000000001, reg_alpha=0.001, n_estimators=300, min_child_weight=9, max_depth=7, learning_rate=0.15000000000000002, gamma=0.5, colsample_bytree=0.9500000000000004 \n",
      "[CV]  subsample=0.6000000000000001, reg_alpha=0.001, n_estimators=300, min_child_weight=9, max_depth=7, learning_rate=0.15000000000000002, gamma=0.5, colsample_bytree=0.9500000000000004, score=0.834, total=   4.1s\n"
     ]
    },
    {
     "name": "stderr",
     "output_type": "stream",
     "text": [
      "[Parallel(n_jobs=1)]: Done  50 out of  50 | elapsed:  6.5min finished\n"
     ]
    },
    {
     "data": {
      "text/plain": [
       "{'subsample': 0.5,\n",
       " 'reg_alpha': 0.005,\n",
       " 'n_estimators': 700,\n",
       " 'min_child_weight': 3,\n",
       " 'max_depth': 4,\n",
       " 'learning_rate': 0.02,\n",
       " 'gamma': 0.2,\n",
       " 'colsample_bytree': 0.9000000000000004}"
      ]
     },
     "execution_count": 49,
     "metadata": {},
     "output_type": "execute_result"
    }
   ],
   "source": [
    "xgb_rs = RandomizedSearchCV(\n",
    "    xgb, parameter_xgb, cv = 5, verbose = 3\n",
    "    )\n",
    "\n",
    "xgb_rs.fit(x_train_scl, y_train)\n",
    "xgb_rs.best_params_"
   ]
  },
  {
   "cell_type": "code",
   "execution_count": 50,
   "metadata": {
    "ExecuteTime": {
     "end_time": "2020-06-19T12:36:50.222318Z",
     "start_time": "2020-06-19T12:36:39.459584Z"
    },
    "scrolled": true
   },
   "outputs": [
    {
     "name": "stdout",
     "output_type": "stream",
     "text": [
      "Accuracy Score in XGBoost Classifier with Hyperparameter Tuning is 0.8427\n",
      "Score for test data in XGBoost Classifier with Hyperparameter Tuning is 0.8427\n",
      "Score for train data in XGBoost Classifier with Hyperparameter Tuning is 0.8525\n"
     ]
    }
   ],
   "source": [
    "xgb_2 = XGBClassifier(subsample = 0.5,\n",
    " reg_alpha = 0.01,\n",
    " n_estimators = 800,\n",
    " min_child_weight = 5,\n",
    " max_depth = 5,\n",
    " learning_rate = 0.02,\n",
    " gamma = 0.0,\n",
    " colsample_bytree = 0.8000000000000003)\n",
    "\n",
    "xgb_2.fit(x_train_scl, y_train)\n",
    "\n",
    "y_pred_8 = xgb_2.predict(x_test_scl)\n",
    "accu_8 = accuracy_score(y_test, y_pred_8)\n",
    "\n",
    "testxgb2_score = xgb_2.score(x_test_scl, y_test)\n",
    "trainxgb2_score = xgb_2.score(x_train_scl, y_train)\n",
    "\n",
    "print('Accuracy Score in XGBoost Classifier with Hyperparameter Tuning is {:.4f}'.format(accu_8))\n",
    "print('Score for test data in XGBoost Classifier with Hyperparameter Tuning is {:.4f}'.format(testxgb2_score))\n",
    "print('Score for train data in XGBoost Classifier with Hyperparameter Tuning is {:.4f}'.format(trainxgb2_score))"
   ]
  },
  {
   "cell_type": "markdown",
   "metadata": {},
   "source": [
    "There is no problem in overfitting/underfitting in XGBoost Classifier with Hyperparameter Tuning as there is no big difference between test score and train score.\n",
    "Hyperparameter tuning with XGBoost Classifier improve a bit our accuracy score."
   ]
  },
  {
   "cell_type": "markdown",
   "metadata": {},
   "source": [
    "# Models Evaluation"
   ]
  },
  {
   "cell_type": "markdown",
   "metadata": {},
   "source": [
    "## Confusion Matrix & Classification Report"
   ]
  },
  {
   "cell_type": "markdown",
   "metadata": {},
   "source": [
    "Let's dive deeper into Confusion Matrix before we discuss about classification report."
   ]
  },
  {
   "cell_type": "code",
   "execution_count": 51,
   "metadata": {
    "ExecuteTime": {
     "end_time": "2020-06-19T12:36:50.242266Z",
     "start_time": "2020-06-19T12:36:50.224313Z"
    }
   },
   "outputs": [
    {
     "data": {
      "text/plain": [
       "array([[4576,  399],\n",
       "       [ 625,  908]], dtype=int64)"
      ]
     },
     "execution_count": 51,
     "metadata": {},
     "output_type": "execute_result"
    }
   ],
   "source": [
    "confusion_matrix(y_test, y_pred_8)"
   ]
  },
  {
   "cell_type": "code",
   "execution_count": 52,
   "metadata": {
    "ExecuteTime": {
     "end_time": "2020-06-19T12:36:50.488606Z",
     "start_time": "2020-06-19T12:36:50.245257Z"
    }
   },
   "outputs": [
    {
     "data": {
      "image/png": "[encoded data removed]",
      "text/plain": [
       "<Figure size 576x360 with 2 Axes>"
      ]
     },
     "metadata": {},
     "output_type": "display_data"
    }
   ],
   "source": [
    "plt.figure(figsize = (8,5))\n",
    "sns.heatmap(confusion_matrix(y_test, y_pred_8), annot=True, fmt=\".0f\")\n",
    "plt.xlabel('y prediksi')\n",
    "plt.ylabel('y aktual')\n",
    "plt.show()"
   ]
  },
  {
   "cell_type": "markdown",
   "metadata": {},
   "source": [
    "We have to agree to a few terms : \n",
    "\n",
    "First, in the previous section, I already did an encoding to the target variable (Income). So we get category 1 as Income >50K and category 0 as Income <=50K.\n",
    "\n",
    "So let's move on to more terms :\n",
    "1. True Positive (True 1)\n",
    "> True 1 is when the model is correctly predicted the target variable as value 1, Income >50K (actual = 1, prediction = 1)\n",
    "2. True Negative (True 0)\n",
    "> True 0 is when the model is correctly predicted the target variable as value 0, Income <= 50K (actual = 0, prediction = 0)\n",
    "3. False Positive (False 1)\n",
    "> False 1 is when the model is wrongly predicted the target variable as value 1, Income >50K (actual = 0, prediction = 1)\n",
    "4. False Negative (False 0)\n",
    "> False 0 is when the model is wrongly predicted the target variable as value 0, Income <=50K (actual = 1, prediction = 0)\n",
    "\n",
    "So, from graph above I can conclude that the value for each term from confucion matrix above is:\n",
    "- TP/T1 = 908\n",
    "- TN/T0 = 4576\n",
    "- FP/F1 = 399\n",
    "- FN/F0 = 625"
   ]
  },
  {
   "cell_type": "markdown",
   "metadata": {},
   "source": [
    "<b> Accuracy Score </b><br>\n",
    "From 8 models above, I always show each of the model's accuracy score. The formula for Accuracy Score is : <br>\n",
    "$$ \\frac {TP+TN}{TP+TN+FP+FN} $$ \n",
    "It shows how accurately model predict the true value amongst all predicted data.\n"
   ]
  },
  {
   "cell_type": "markdown",
   "metadata": {},
   "source": [
    "From confusion matrix above, we can calculate its accuracy score : $$ Accu Score = \\frac {908+4576}{908+4576+399+625}= 0.8426$$"
   ]
  },
  {
   "cell_type": "markdown",
   "metadata": {},
   "source": [
    "**Recall**<br>\n",
    "Also, there is a term, Recall. Recall is the fraction of true positives/negatives events that you predicted correctly as positives/negatives. Its formula is shown below for positive event: $$ \\frac {TP}{TP+FN} $$ As for negative events we can use the formula shown below : $$ \\frac {TN}{TN+FP} $$"
   ]
  },
  {
   "cell_type": "markdown",
   "metadata": {},
   "source": [
    "Again we calculate Recall for each value, 0 and 1 from confusion matrix above. $$ RecallOne = \\frac {908}{908+625} =  0.5975$$"
   ]
  },
  {
   "cell_type": "markdown",
   "metadata": {},
   "source": [
    "$$ RecallZero = \\frac {4576}{4576+399} =  0.9197$$ "
   ]
  },
  {
   "cell_type": "markdown",
   "metadata": {},
   "source": [
    "**Precision**<br>\n",
    "There's also another term called Precision which is fraction of predicted positives/negatives events that are actually positive/negative. Its formula is shown below for positive event (Sensitivity) : $$ \\frac {TP}{TP+FP} $$ <br>\n",
    "As for negative events, we can use the formula shown below (Specificity) : $$ \\frac {TN}{TN+FN} $$ <br>"
   ]
  },
  {
   "cell_type": "markdown",
   "metadata": {},
   "source": [
    "Again we calculate Precision for each value, 0 and 1 from confusion matrix above. $$ PrecisionOne = \\frac {908}{908+399} =  0.6947$$"
   ]
  },
  {
   "cell_type": "markdown",
   "metadata": {},
   "source": [
    " $$ PrecisionZero = \\frac {4576}{4576+625} =  0.8798$$ "
   ]
  },
  {
   "cell_type": "markdown",
   "metadata": {
    "ExecuteTime": {
     "end_time": "2020-06-17T14:07:58.259233Z",
     "start_time": "2020-06-17T14:07:58.234356Z"
    }
   },
   "source": [
    "**F1-Score** <br>\n",
    "F1-Score is needed when you want to seek a balance between Precision and Recall. The F1 score is the harmonic mean of recall and precision, with a higher score as a better model. We can calculate the score with these formula : $$ F1-Score = 2 * \\frac {(Precision * Recall)} {Precision + Recall} $$ <br>"
   ]
  },
  {
   "cell_type": "markdown",
   "metadata": {},
   "source": [
    "Again we calculate F1 Score for each value, 0 and 1 from confusion matrix above. $$ F1-ScoreOne = 2 * \\frac  {0.6947 * 0.5975}{0.6947 + 0.5975} =  0.6424$$"
   ]
  },
  {
   "cell_type": "markdown",
   "metadata": {},
   "source": [
    "$$ F1-ScoreZero = 2 * \\frac  {0.8798 * 0.9197}{0.8798 + 0.9197} =  0.8993$$"
   ]
  },
  {
   "cell_type": "markdown",
   "metadata": {
    "ExecuteTime": {
     "end_time": "2020-06-17T14:26:13.757426Z",
     "start_time": "2020-06-17T14:26:13.737781Z"
    }
   },
   "source": [
    "F1 Score might be a better measure to use if we need to seek a balance between Precision and Recall and there is an uneven class distribution (large number of True Negatives)."
   ]
  },
  {
   "cell_type": "code",
   "execution_count": 53,
   "metadata": {
    "ExecuteTime": {
     "end_time": "2020-06-19T12:36:50.511545Z",
     "start_time": "2020-06-19T12:36:50.490602Z"
    }
   },
   "outputs": [
    {
     "name": "stdout",
     "output_type": "stream",
     "text": [
      "              precision    recall  f1-score   support\n",
      "\n",
      "           0       0.88      0.92      0.90      4975\n",
      "           1       0.69      0.59      0.64      1533\n",
      "\n",
      "    accuracy                           0.84      6508\n",
      "   macro avg       0.79      0.76      0.77      6508\n",
      "weighted avg       0.84      0.84      0.84      6508\n",
      "\n"
     ]
    }
   ],
   "source": [
    "print(classification_report(y_test, y_pred_8))"
   ]
  },
  {
   "cell_type": "markdown",
   "metadata": {},
   "source": [
    "From our manual calculation on Accuracy Score, Recall, Precision, and F1 Score when compared to the classification report above is the same."
   ]
  },
  {
   "cell_type": "code",
   "execution_count": 54,
   "metadata": {
    "ExecuteTime": {
     "end_time": "2020-06-19T12:36:50.562409Z",
     "start_time": "2020-06-19T12:36:50.513540Z"
    }
   },
   "outputs": [
    {
     "data": {
      "text/html": [
       "<div>\n",
       "<style scoped>\n",
       "    .dataframe tbody tr th:only-of-type {\n",
       "        vertical-align: middle;\n",
       "    }\n",
       "\n",
       "    .dataframe tbody tr th {\n",
       "        vertical-align: top;\n",
       "    }\n",
       "\n",
       "    .dataframe thead th {\n",
       "        text-align: right;\n",
       "    }\n",
       "</style>\n",
       "<table border=\"1\" class=\"dataframe\">\n",
       "  <thead>\n",
       "    <tr style=\"text-align: right;\">\n",
       "      <th></th>\n",
       "      <th>Accuracy Score</th>\n",
       "      <th>F1-Score</th>\n",
       "    </tr>\n",
       "  </thead>\n",
       "  <tbody>\n",
       "    <tr>\n",
       "      <th>Logistic Regression</th>\n",
       "      <td>0.805317</td>\n",
       "      <td>0.879253</td>\n",
       "    </tr>\n",
       "    <tr>\n",
       "      <th>Logistic Regression with Hyperparameter Tuning</th>\n",
       "      <td>0.800860</td>\n",
       "      <td>0.876712</td>\n",
       "    </tr>\n",
       "    <tr>\n",
       "      <th>Support Vector Classifier (SVC)</th>\n",
       "      <td>0.820990</td>\n",
       "      <td>0.889332</td>\n",
       "    </tr>\n",
       "    <tr>\n",
       "      <th>Support Vector Classifier (SVC) with Hyperparameter Tuning</th>\n",
       "      <td>0.822526</td>\n",
       "      <td>0.890718</td>\n",
       "    </tr>\n",
       "    <tr>\n",
       "      <th>Random Forest Classifier</th>\n",
       "      <td>0.820529</td>\n",
       "      <td>0.884767</td>\n",
       "    </tr>\n",
       "    <tr>\n",
       "      <th>Random Forest Classifier with Hyperparameter Tuning</th>\n",
       "      <td>0.838967</td>\n",
       "      <td>0.897516</td>\n",
       "    </tr>\n",
       "    <tr>\n",
       "      <th>XGBoost Classifier</th>\n",
       "      <td>0.842502</td>\n",
       "      <td>0.899124</td>\n",
       "    </tr>\n",
       "    <tr>\n",
       "      <th>XGBoost Classifier with Hyperparameter Tuning</th>\n",
       "      <td>0.842655</td>\n",
       "      <td>0.899371</td>\n",
       "    </tr>\n",
       "  </tbody>\n",
       "</table>\n",
       "</div>"
      ],
      "text/plain": [
       "                                                    Accuracy Score  F1-Score\n",
       "Logistic Regression                                       0.805317  0.879253\n",
       "Logistic Regression with Hyperparameter Tuning            0.800860  0.876712\n",
       "Support Vector Classifier (SVC)                           0.820990  0.889332\n",
       "Support Vector Classifier (SVC) with Hyperparam...        0.822526  0.890718\n",
       "Random Forest Classifier                                  0.820529  0.884767\n",
       "Random Forest Classifier with Hyperparameter Tu...        0.838967  0.897516\n",
       "XGBoost Classifier                                        0.842502  0.899124\n",
       "XGBoost Classifier with Hyperparameter Tuning             0.842655  0.899371"
      ]
     },
     "execution_count": 54,
     "metadata": {},
     "output_type": "execute_result"
    }
   ],
   "source": [
    "list_pred = [y_pred_1, y_pred_2, y_pred_3, y_pred_4, y_pred_5, y_pred_6, y_pred_7, y_pred_8]\n",
    "list_accu = [accu_1, accu_2, accu_3, accu_4, accu_5, accu_6, accu_7, accu_8]\n",
    "model_names = ['Logistic Regression', 'Logistic Regression with Hyperparameter Tuning',\n",
    "               'Support Vector Classifier (SVC)', 'Support Vector Classifier (SVC) with Hyperparameter Tuning',\n",
    "               'Random Forest Classifier', 'Random Forest Classifier with Hyperparameter Tuning',\n",
    "               'XGBoost Classifier', 'XGBoost Classifier with Hyperparameter Tuning'\n",
    "              ]\n",
    "\n",
    "list_f1 = []\n",
    "for i in list_pred:\n",
    "    list_f1.append(f1_score(y_test+1, i+1))\n",
    "\n",
    "df_me = pd.DataFrame([list_accu, list_f1], columns = model_names, index = ['Accuracy Score', 'F1-Score']).T\n",
    "df_me\n",
    "\n",
    "# for i, j in enumerate(list_accu):\n",
    "#     print ('Accuracy Score for Model {} is {:.4f}'.format(model_names[i], j))\n",
    "\n",
    "\n",
    "# for i, predictions in enumerate(list_pred) :\n",
    "#     print (\"Classification Report of \", model_names[i])\n",
    "#     print (classification_report(y_test, predictions, target_names = [\"<=50K\", \">50K\"]))\n"
   ]
  },
  {
   "cell_type": "code",
   "execution_count": 55,
   "metadata": {
    "ExecuteTime": {
     "end_time": "2020-06-19T12:36:50.577368Z",
     "start_time": "2020-06-19T12:36:50.564404Z"
    }
   },
   "outputs": [],
   "source": [
    "df_me.to_csv('df_me_rs.csv')"
   ]
  },
  {
   "cell_type": "markdown",
   "metadata": {
    "ExecuteTime": {
     "end_time": "2020-06-17T10:36:04.212609Z",
     "start_time": "2020-06-17T10:36:04.192536Z"
    }
   },
   "source": [
    "For the case we are working on, we try to predict one income into two categories <=50K Income and >50K. We can use accuracy score and f1-score for evaluating our model, so from data above, the optimum model with highest accuracy score and F1-score is XGBoost Classifier model with Hyperparameter Tuning."
   ]
  },
  {
   "cell_type": "markdown",
   "metadata": {},
   "source": [
    "## AUC-ROC Curve"
   ]
  },
  {
   "cell_type": "markdown",
   "metadata": {},
   "source": [
    "Also we can use Area Under Curve (AUC)- Receiver Opearting Characteristics (ROC) curve to measure model performance. \n",
    "\n",
    "ROC is a probability curve and AUC represents degree or measure of separability. It tells how much model is capable of distinguishing between classes. Higher the AUC, better the model is at predicting 0s as 0s and 1s as 1s. In our case, higher the AUC the better the model is at distinguishing between resident with >50K Income and <=50K Income.\n",
    "\n",
    "The ROC curve is plotted with True Positive Rate (TPR) against the False Positive Rate (FPR) where TPR is on y-axis and FPR is on the x-axis. TPR is recall or its formula is $ \\frac {TP}{TP+FN} $ and FPR is 1 - Specifity or its formula is $ \\frac {FP}{TN+FP} $"
   ]
  },
  {
   "cell_type": "code",
   "execution_count": 56,
   "metadata": {
    "ExecuteTime": {
     "end_time": "2020-06-19T12:36:54.755194Z",
     "start_time": "2020-06-19T12:36:50.579364Z"
    },
    "scrolled": false
   },
   "outputs": [
    {
     "data": {
      "image/png": "[encoded data removed]",
      "text/plain": [
       "<Figure size 1080x720 with 1 Axes>"
      ]
     },
     "metadata": {},
     "output_type": "display_data"
    }
   ],
   "source": [
    "classifiers = [lr, lr_2, svc, svc_2, rfc, rfc_2, xgb, xgb_2]\n",
    "\n",
    "plt.figure(figsize = (15,10))\n",
    "ax = plt.gca()\n",
    "for i in classifiers:\n",
    "    plot_roc_curve(i, x_test_scl, y_test, ax=ax)\n",
    "plt.title('ROC Curve')\n",
    "plt.show()\n",
    "fig = ax.get_figure()\n",
    "fig.savefig('ROC Curve.png')"
   ]
  },
  {
   "cell_type": "code",
   "execution_count": 57,
   "metadata": {
    "ExecuteTime": {
     "end_time": "2020-06-19T12:36:58.522727Z",
     "start_time": "2020-06-19T12:36:54.757188Z"
    }
   },
   "outputs": [],
   "source": [
    "classifiers = [lr, lr_2, svc, svc_2, rfc, rfc_2, xgb, xgb_2]\n",
    "\n",
    "y_score_1 = lr.predict_proba(x_test_scl)[:, 1]\n",
    "auc_score_1 = roc_auc_score(y_test, y_score_1)\n",
    "\n",
    "y_score_2 = lr_2.predict_proba(x_test_scl)[:, 1]\n",
    "auc_score_2 = roc_auc_score(y_test, y_score_2)\n",
    "\n",
    "y_score_3 = svc.predict_proba(x_test_scl)[:, 1]\n",
    "auc_score_3 = roc_auc_score(y_test, y_score_3)\n",
    "\n",
    "y_score_4 = svc_2.predict_proba(x_test_scl)[:, 1]\n",
    "auc_score_4 = roc_auc_score(y_test, y_score_4)\n",
    "\n",
    "y_score_5 = rfc.predict_proba(x_test_scl)[:, 1]\n",
    "auc_score_5 = roc_auc_score(y_test, y_score_5)\n",
    "\n",
    "y_score_6 = rfc_2.predict_proba(x_test_scl)[:, 1]\n",
    "auc_score_6 = roc_auc_score(y_test, y_score_6)\n",
    "\n",
    "y_score_7 = xgb.predict_proba(x_test_scl)[:, 1]\n",
    "auc_score_7 = roc_auc_score(y_test, y_score_7)\n",
    "\n",
    "y_score_8 = xgb.predict_proba(x_test_scl)[:, 1]\n",
    "auc_score_8 = roc_auc_score(y_test, y_score_8)"
   ]
  },
  {
   "cell_type": "code",
   "execution_count": 58,
   "metadata": {
    "ExecuteTime": {
     "end_time": "2020-06-19T12:36:58.530706Z",
     "start_time": "2020-06-19T12:36:58.524722Z"
    }
   },
   "outputs": [
    {
     "name": "stdout",
     "output_type": "stream",
     "text": [
      "Area Under ROC Curve for Logistic Regression Model is 0.82439\n",
      "Area Under ROC Curve for Logistic Regression with Hyperparameter Tuning Model is 0.81496\n",
      "Area Under ROC Curve for Support Vector Classifier (SVC) Model is 0.86774\n",
      "Area Under ROC Curve for Support Vector Classifier (SVC) with Hyperparameter Tuning Model is 0.85892\n",
      "Area Under ROC Curve for Random Forest Classifier Model is 0.86121\n",
      "Area Under ROC Curve for Random Forest Classifier with Hyperparameter Tuning Model is 0.88688\n",
      "Area Under ROC Curve for XGBoost Classifier Model is 0.88830\n",
      "Area Under ROC Curve for XGBoost Classifier with Hyperparameter Tuning Model is 0.88830\n"
     ]
    }
   ],
   "source": [
    "list_auc = [auc_score_1, auc_score_2, auc_score_3, auc_score_4, \n",
    "             auc_score_5, auc_score_6, auc_score_7, auc_score_8]\n",
    "model_names = ['Logistic Regression', 'Logistic Regression with Hyperparameter Tuning',\n",
    "               'Support Vector Classifier (SVC)', 'Support Vector Classifier (SVC) with Hyperparameter Tuning',\n",
    "               'Random Forest Classifier', 'Random Forest Classifier with Hyperparameter Tuning',\n",
    "               'XGBoost Classifier', 'XGBoost Classifier with Hyperparameter Tuning'\n",
    "              ]\n",
    "\n",
    "for i, j in enumerate(list_auc):\n",
    "    print ('Area Under ROC Curve for {} Model is {:.5f}'.format(model_names[i], j))"
   ]
  },
  {
   "cell_type": "markdown",
   "metadata": {},
   "source": [
    "XGBoost Classifier and XGBoost Classifier with Hyperparameter Tuning has the biggest Area Under ROC Curve with 0.88830 amongst all models. Also XGBoost Classifier with Hyperparameter Tuning has the biggest Accuracy Score and F1-Score, So we are going to use it as the main model."
   ]
  },
  {
   "cell_type": "markdown",
   "metadata": {},
   "source": [
    "# Conclusion"
   ]
  },
  {
   "cell_type": "markdown",
   "metadata": {},
   "source": [
    "- We tried 4 different types of models (Logistic Regression, Support Vector Classifier, Random Forest Classifier, and XGBoost Classifier) with each models we conduct hyperparameter tuning. \n",
    "- We use 3 kinds of Model Evaluation consisting of Accuracy Score, F1-Score, and AU-ROC Curve.\n",
    "- XGBoost Classifier with Hyperparameter Tuning is the best model with Accuracy Score of 0.842655, F1-Score of 0.899371, and AU-ROC Curve Score of 0.88830.\n",
    "- We are going to use XGBoost Classifier with Hyperparameter Tuning to predict whether people has Income more than 50K per year or not."
   ]
  },
  {
   "cell_type": "markdown",
   "metadata": {},
   "source": [
    "Thank you for reaching the end of the notebook.\n",
    "\n",
    "Regards, Fariz Darmawan."
   ]
  },
  {
   "cell_type": "code",
   "execution_count": null,
   "metadata": {},
   "outputs": [],
   "source": []
  }
 ],
 "metadata": {
  "kernelspec": {
   "display_name": "Python 3",
   "language": "python",
   "name": "python3"
  },
  "language_info": {
   "codemirror_mode": {
    "name": "ipython",
    "version": 3
   },
   "file_extension": ".py",
   "mimetype": "text/x-python",
   "name": "python",
   "nbconvert_exporter": "python",
   "pygments_lexer": "ipython3",
   "version": "3.7.4"
  },
  "toc": {
   "base_numbering": 1,
   "nav_menu": {},
   "number_sections": false,
   "sideBar": true,
   "skip_h1_title": false,
   "title_cell": "Table of Contents",
   "title_sidebar": "Contents",
   "toc_cell": false,
   "toc_position": {
    "height": "194.717px",
    "left": "10px",
    "top": "150px",
    "width": "380.033px"
   },
   "toc_section_display": true,
   "toc_window_display": false
  },
  "varInspector": {
   "cols": {
    "lenName": 16,
    "lenType": 16,
    "lenVar": 40
   },
   "kernels_config": {
    "python": {
     "delete_cmd_postfix": "",
     "delete_cmd_prefix": "del ",
     "library": "var_list.py",
     "varRefreshCmd": "print(var_dic_list())"
    },
    "r": {
     "delete_cmd_postfix": ") ",
     "delete_cmd_prefix": "rm(",
     "library": "var_list.r",
     "varRefreshCmd": "cat(var_dic_list()) "
    }
   },
   "position": {
    "height": "282.85px",
    "left": "1037px",
    "right": "20px",
    "top": "122px",
    "width": "329.533px"
   },
   "types_to_exclude": [
    "module",
    "function",
    "builtin_function_or_method",
    "instance",
    "_Feature"
   ],
   "window_display": false
  }
 },
 "nbformat": 4,
 "nbformat_minor": 2
}
