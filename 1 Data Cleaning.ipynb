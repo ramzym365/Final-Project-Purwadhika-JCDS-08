{
 "cells": [
  {
   "cell_type": "markdown",
   "metadata": {},
   "source": [
    "# Preamble\n",
    "This data was extracted from the 1994 Census United States bureau database by Ronny Kohavi and Barry Becker (Data Mining and Visualization, Silicon Graphics). This dataset task is to determine accurately whether a person makes over $50K a year.\n",
    "\n",
    "This task includes the following steps :\n",
    "1. Importing Data\n",
    "2. Data Cleaning\n",
    "3. Exploratory Data Analysis (EDA)\n",
    "4. Building Model\n",
    "5. Model Evaluation\n",
    "6. Conclusion\n",
    "\n",
    "I hope I can make it as thorough and understandable as possible for the readers. I am open to suggestion to improve this notebook. \n",
    "\n",
    "Please contact me at : darmawanfariz@gmail.com\n",
    "\n",
    "Thanks.\n"
   ]
  },
  {
   "cell_type": "markdown",
   "metadata": {},
   "source": [
    "# Importing Data"
   ]
  },
  {
   "cell_type": "code",
   "execution_count": 1,
   "metadata": {
    "ExecuteTime": {
     "end_time": "2020-06-18T14:08:34.667189Z",
     "start_time": "2020-06-18T14:08:33.120420Z"
    }
   },
   "outputs": [
    {
     "name": "stderr",
     "output_type": "stream",
     "text": [
      "C:\\Users\\Pavilion\\Anaconda3\\lib\\site-packages\\statsmodels\\tools\\_testing.py:19: FutureWarning: pandas.util.testing is deprecated. Use the functions in the public API at pandas.testing instead.\n",
      "  import pandas.util.testing as tm\n"
     ]
    }
   ],
   "source": [
    "import pandas as pd\n",
    "import numpy as np\n",
    "import matplotlib.pyplot as plt\n",
    "import seaborn as sns\n",
    "import warnings  \n",
    "warnings.filterwarnings('ignore')"
   ]
  },
  {
   "cell_type": "code",
   "execution_count": 2,
   "metadata": {
    "ExecuteTime": {
     "end_time": "2020-06-18T14:08:34.787867Z",
     "start_time": "2020-06-18T14:08:34.670181Z"
    }
   },
   "outputs": [],
   "source": [
    "df = pd.read_csv('adult.csv')"
   ]
  },
  {
   "cell_type": "code",
   "execution_count": 3,
   "metadata": {
    "ExecuteTime": {
     "end_time": "2020-06-18T14:08:34.823774Z",
     "start_time": "2020-06-18T14:08:34.792852Z"
    }
   },
   "outputs": [
    {
     "data": {
      "text/html": [
       "<div>\n",
       "<style scoped>\n",
       "    .dataframe tbody tr th:only-of-type {\n",
       "        vertical-align: middle;\n",
       "    }\n",
       "\n",
       "    .dataframe tbody tr th {\n",
       "        vertical-align: top;\n",
       "    }\n",
       "\n",
       "    .dataframe thead th {\n",
       "        text-align: right;\n",
       "    }\n",
       "</style>\n",
       "<table border=\"1\" class=\"dataframe\">\n",
       "  <thead>\n",
       "    <tr style=\"text-align: right;\">\n",
       "      <th></th>\n",
       "      <th>age</th>\n",
       "      <th>workclass</th>\n",
       "      <th>fnlwgt</th>\n",
       "      <th>education</th>\n",
       "      <th>education.num</th>\n",
       "      <th>marital.status</th>\n",
       "      <th>occupation</th>\n",
       "      <th>relationship</th>\n",
       "      <th>race</th>\n",
       "      <th>sex</th>\n",
       "      <th>capital.gain</th>\n",
       "      <th>capital.loss</th>\n",
       "      <th>hours.per.week</th>\n",
       "      <th>native.country</th>\n",
       "      <th>income</th>\n",
       "    </tr>\n",
       "  </thead>\n",
       "  <tbody>\n",
       "    <tr>\n",
       "      <th>0</th>\n",
       "      <td>90</td>\n",
       "      <td>?</td>\n",
       "      <td>77053</td>\n",
       "      <td>HS-grad</td>\n",
       "      <td>9</td>\n",
       "      <td>Widowed</td>\n",
       "      <td>?</td>\n",
       "      <td>Not-in-family</td>\n",
       "      <td>White</td>\n",
       "      <td>Female</td>\n",
       "      <td>0</td>\n",
       "      <td>4356</td>\n",
       "      <td>40</td>\n",
       "      <td>United-States</td>\n",
       "      <td>&lt;=50K</td>\n",
       "    </tr>\n",
       "    <tr>\n",
       "      <th>1</th>\n",
       "      <td>82</td>\n",
       "      <td>Private</td>\n",
       "      <td>132870</td>\n",
       "      <td>HS-grad</td>\n",
       "      <td>9</td>\n",
       "      <td>Widowed</td>\n",
       "      <td>Exec-managerial</td>\n",
       "      <td>Not-in-family</td>\n",
       "      <td>White</td>\n",
       "      <td>Female</td>\n",
       "      <td>0</td>\n",
       "      <td>4356</td>\n",
       "      <td>18</td>\n",
       "      <td>United-States</td>\n",
       "      <td>&lt;=50K</td>\n",
       "    </tr>\n",
       "    <tr>\n",
       "      <th>2</th>\n",
       "      <td>66</td>\n",
       "      <td>?</td>\n",
       "      <td>186061</td>\n",
       "      <td>Some-college</td>\n",
       "      <td>10</td>\n",
       "      <td>Widowed</td>\n",
       "      <td>?</td>\n",
       "      <td>Unmarried</td>\n",
       "      <td>Black</td>\n",
       "      <td>Female</td>\n",
       "      <td>0</td>\n",
       "      <td>4356</td>\n",
       "      <td>40</td>\n",
       "      <td>United-States</td>\n",
       "      <td>&lt;=50K</td>\n",
       "    </tr>\n",
       "    <tr>\n",
       "      <th>3</th>\n",
       "      <td>54</td>\n",
       "      <td>Private</td>\n",
       "      <td>140359</td>\n",
       "      <td>7th-8th</td>\n",
       "      <td>4</td>\n",
       "      <td>Divorced</td>\n",
       "      <td>Machine-op-inspct</td>\n",
       "      <td>Unmarried</td>\n",
       "      <td>White</td>\n",
       "      <td>Female</td>\n",
       "      <td>0</td>\n",
       "      <td>3900</td>\n",
       "      <td>40</td>\n",
       "      <td>United-States</td>\n",
       "      <td>&lt;=50K</td>\n",
       "    </tr>\n",
       "    <tr>\n",
       "      <th>4</th>\n",
       "      <td>41</td>\n",
       "      <td>Private</td>\n",
       "      <td>264663</td>\n",
       "      <td>Some-college</td>\n",
       "      <td>10</td>\n",
       "      <td>Separated</td>\n",
       "      <td>Prof-specialty</td>\n",
       "      <td>Own-child</td>\n",
       "      <td>White</td>\n",
       "      <td>Female</td>\n",
       "      <td>0</td>\n",
       "      <td>3900</td>\n",
       "      <td>40</td>\n",
       "      <td>United-States</td>\n",
       "      <td>&lt;=50K</td>\n",
       "    </tr>\n",
       "  </tbody>\n",
       "</table>\n",
       "</div>"
      ],
      "text/plain": [
       "   age workclass  fnlwgt     education  education.num marital.status  \\\n",
       "0   90         ?   77053       HS-grad              9        Widowed   \n",
       "1   82   Private  132870       HS-grad              9        Widowed   \n",
       "2   66         ?  186061  Some-college             10        Widowed   \n",
       "3   54   Private  140359       7th-8th              4       Divorced   \n",
       "4   41   Private  264663  Some-college             10      Separated   \n",
       "\n",
       "          occupation   relationship   race     sex  capital.gain  \\\n",
       "0                  ?  Not-in-family  White  Female             0   \n",
       "1    Exec-managerial  Not-in-family  White  Female             0   \n",
       "2                  ?      Unmarried  Black  Female             0   \n",
       "3  Machine-op-inspct      Unmarried  White  Female             0   \n",
       "4     Prof-specialty      Own-child  White  Female             0   \n",
       "\n",
       "   capital.loss  hours.per.week native.country income  \n",
       "0          4356              40  United-States  <=50K  \n",
       "1          4356              18  United-States  <=50K  \n",
       "2          4356              40  United-States  <=50K  \n",
       "3          3900              40  United-States  <=50K  \n",
       "4          3900              40  United-States  <=50K  "
      ]
     },
     "execution_count": 3,
     "metadata": {},
     "output_type": "execute_result"
    }
   ],
   "source": [
    "df.head()"
   ]
  },
  {
   "cell_type": "code",
   "execution_count": 4,
   "metadata": {
    "ExecuteTime": {
     "end_time": "2020-06-18T14:08:34.843718Z",
     "start_time": "2020-06-18T14:08:34.833751Z"
    }
   },
   "outputs": [
    {
     "name": "stdout",
     "output_type": "stream",
     "text": [
      "This dataframe contains 32561 rows and 15 columns\n"
     ]
    }
   ],
   "source": [
    "print('This dataframe contains {} rows and {} columns'.format(df.shape[0], df.shape[1]))"
   ]
  },
  {
   "attachments": {},
   "cell_type": "markdown",
   "metadata": {},
   "source": [
    "Explanation about each columns :\n",
    "-\tage = The person’s age\n",
    "-\tworkclass = Type of work (Federal Gov, Unemployed, etc)\n",
    "-\tfnlwgt = The number of units in the target population that the responding unit represents\n",
    "- education = Types of unit's education\n",
    "-\teducation.num = number of years of education in total, which is a continuous representation of the discrete variable education\n",
    "-\tmarital.status = describe the unit’s relationship with significant other\n",
    "-\toccupation = type of job\n",
    "-\trelationship = the unit’s role in the family\n",
    "-\trace = the unit’s race\n",
    "-\tsex = the unit’s gender\n",
    "-\tcapital_gain and capital_loss = loss/income from investment sources other than wage/salary\n",
    "-\thours.per.week = unit’s total amount of work time per week\n",
    "-\tnative.country = unit’s origin country\n",
    "-\tincome = unit’s income (target variable)"
   ]
  },
  {
   "cell_type": "markdown",
   "metadata": {},
   "source": [
    "<b>Description of fnlwgt (final weight)</b>\n",
    "\n",
    "The weights on the Current Population Survey (CPS) files are controlled to independent estimates of the civilian noninstitutional population of the US. These are prepared monthly for us by Population Division at the Census Bureau. We use 3 sets of controls. These are:\n",
    "\n",
    "- A single cell estimate of the population 16+ for each state.\n",
    "\n",
    "- Controls for Hispanic Origin by age and sex.\n",
    "\n",
    "- Controls by Race, age and sex.\n",
    "\n",
    "They use all three sets of controls in our weighting program and \"rake\" through them 6 times so that by the end they come back to all the controls they used. The term estimate refers to population totals derived from CPS by creating \"weighted tallies\" of any specified socio-economic characteristics of the population. People with similar demographic characteristics should have similar weights. There is one important caveat to remember about this statement. That is that since the CPS sample is actually a collection of 51 state samples, each with its own probability of selection, the statement only applies within state."
   ]
  },
  {
   "cell_type": "markdown",
   "metadata": {},
   "source": [
    "# Data Cleaning"
   ]
  },
  {
   "cell_type": "code",
   "execution_count": 5,
   "metadata": {
    "ExecuteTime": {
     "end_time": "2020-06-18T14:08:34.867652Z",
     "start_time": "2020-06-18T14:08:34.852693Z"
    }
   },
   "outputs": [],
   "source": [
    "#Renaming columns\n",
    "columns_rename = {\n",
    "    'age' : 'Age',\n",
    "    'workclass' : 'Workclass',\n",
    "    'fnlwgt' : 'Final Weight',\n",
    "    'education' : 'Education',\n",
    "    'education.num' : 'Years of Education',\n",
    "    'marital.status' : 'Marital Status',\n",
    "    'occupation' : 'Occupation',\n",
    "    'relationship' : 'Role in Family',\n",
    "    'race' : 'Race',\n",
    "    'sex' : 'Gender',\n",
    "    'capital.gain' : 'Capital Gain',\n",
    "    'capital.loss' : 'Capital Loss',\n",
    "    'hours.per.week' : 'Workhours per Week',\n",
    "    'native.country' : 'Native Country',\n",
    "    'income' : 'Income'\n",
    "}\n",
    "df.rename(columns = columns_rename, inplace=True)"
   ]
  },
  {
   "cell_type": "markdown",
   "metadata": {},
   "source": [
    "<b> Detecting Duplicate Data"
   ]
  },
  {
   "cell_type": "code",
   "execution_count": 6,
   "metadata": {
    "ExecuteTime": {
     "end_time": "2020-06-18T14:08:34.949434Z",
     "start_time": "2020-06-18T14:08:34.869654Z"
    },
    "scrolled": false
   },
   "outputs": [
    {
     "data": {
      "text/html": [
       "<div>\n",
       "<style scoped>\n",
       "    .dataframe tbody tr th:only-of-type {\n",
       "        vertical-align: middle;\n",
       "    }\n",
       "\n",
       "    .dataframe tbody tr th {\n",
       "        vertical-align: top;\n",
       "    }\n",
       "\n",
       "    .dataframe thead th {\n",
       "        text-align: right;\n",
       "    }\n",
       "</style>\n",
       "<table border=\"1\" class=\"dataframe\">\n",
       "  <thead>\n",
       "    <tr style=\"text-align: right;\">\n",
       "      <th></th>\n",
       "      <th>Age</th>\n",
       "      <th>Workclass</th>\n",
       "      <th>Final Weight</th>\n",
       "      <th>Education</th>\n",
       "      <th>Years of Education</th>\n",
       "      <th>Marital Status</th>\n",
       "      <th>Occupation</th>\n",
       "      <th>Role in Family</th>\n",
       "      <th>Race</th>\n",
       "      <th>Gender</th>\n",
       "      <th>Capital Gain</th>\n",
       "      <th>Capital Loss</th>\n",
       "      <th>Workhours per Week</th>\n",
       "      <th>Native Country</th>\n",
       "      <th>Income</th>\n",
       "    </tr>\n",
       "  </thead>\n",
       "  <tbody>\n",
       "    <tr>\n",
       "      <th>6227</th>\n",
       "      <td>90</td>\n",
       "      <td>Private</td>\n",
       "      <td>52386</td>\n",
       "      <td>Some-college</td>\n",
       "      <td>10</td>\n",
       "      <td>Never-married</td>\n",
       "      <td>Other-service</td>\n",
       "      <td>Not-in-family</td>\n",
       "      <td>Asian-Pac-Islander</td>\n",
       "      <td>Male</td>\n",
       "      <td>0</td>\n",
       "      <td>0</td>\n",
       "      <td>35</td>\n",
       "      <td>United-States</td>\n",
       "      <td>&lt;=50K</td>\n",
       "    </tr>\n",
       "    <tr>\n",
       "      <th>7615</th>\n",
       "      <td>19</td>\n",
       "      <td>Private</td>\n",
       "      <td>251579</td>\n",
       "      <td>Some-college</td>\n",
       "      <td>10</td>\n",
       "      <td>Never-married</td>\n",
       "      <td>Other-service</td>\n",
       "      <td>Own-child</td>\n",
       "      <td>White</td>\n",
       "      <td>Male</td>\n",
       "      <td>0</td>\n",
       "      <td>0</td>\n",
       "      <td>14</td>\n",
       "      <td>United-States</td>\n",
       "      <td>&lt;=50K</td>\n",
       "    </tr>\n",
       "    <tr>\n",
       "      <th>7978</th>\n",
       "      <td>25</td>\n",
       "      <td>Private</td>\n",
       "      <td>308144</td>\n",
       "      <td>Bachelors</td>\n",
       "      <td>13</td>\n",
       "      <td>Never-married</td>\n",
       "      <td>Craft-repair</td>\n",
       "      <td>Not-in-family</td>\n",
       "      <td>White</td>\n",
       "      <td>Male</td>\n",
       "      <td>0</td>\n",
       "      <td>0</td>\n",
       "      <td>40</td>\n",
       "      <td>Mexico</td>\n",
       "      <td>&lt;=50K</td>\n",
       "    </tr>\n",
       "    <tr>\n",
       "      <th>8356</th>\n",
       "      <td>21</td>\n",
       "      <td>Private</td>\n",
       "      <td>250051</td>\n",
       "      <td>Some-college</td>\n",
       "      <td>10</td>\n",
       "      <td>Never-married</td>\n",
       "      <td>Prof-specialty</td>\n",
       "      <td>Own-child</td>\n",
       "      <td>White</td>\n",
       "      <td>Female</td>\n",
       "      <td>0</td>\n",
       "      <td>0</td>\n",
       "      <td>10</td>\n",
       "      <td>United-States</td>\n",
       "      <td>&lt;=50K</td>\n",
       "    </tr>\n",
       "    <tr>\n",
       "      <th>8453</th>\n",
       "      <td>25</td>\n",
       "      <td>Private</td>\n",
       "      <td>308144</td>\n",
       "      <td>Bachelors</td>\n",
       "      <td>13</td>\n",
       "      <td>Never-married</td>\n",
       "      <td>Craft-repair</td>\n",
       "      <td>Not-in-family</td>\n",
       "      <td>White</td>\n",
       "      <td>Male</td>\n",
       "      <td>0</td>\n",
       "      <td>0</td>\n",
       "      <td>40</td>\n",
       "      <td>Mexico</td>\n",
       "      <td>&lt;=50K</td>\n",
       "    </tr>\n",
       "  </tbody>\n",
       "</table>\n",
       "</div>"
      ],
      "text/plain": [
       "      Age Workclass  Final Weight     Education  Years of Education  \\\n",
       "6227   90   Private         52386  Some-college                  10   \n",
       "7615   19   Private        251579  Some-college                  10   \n",
       "7978   25   Private        308144     Bachelors                  13   \n",
       "8356   21   Private        250051  Some-college                  10   \n",
       "8453   25   Private        308144     Bachelors                  13   \n",
       "\n",
       "     Marital Status      Occupation Role in Family                Race  \\\n",
       "6227  Never-married   Other-service  Not-in-family  Asian-Pac-Islander   \n",
       "7615  Never-married   Other-service      Own-child               White   \n",
       "7978  Never-married    Craft-repair  Not-in-family               White   \n",
       "8356  Never-married  Prof-specialty      Own-child               White   \n",
       "8453  Never-married    Craft-repair  Not-in-family               White   \n",
       "\n",
       "      Gender  Capital Gain  Capital Loss  Workhours per Week Native Country  \\\n",
       "6227    Male             0             0                  35  United-States   \n",
       "7615    Male             0             0                  14  United-States   \n",
       "7978    Male             0             0                  40         Mexico   \n",
       "8356  Female             0             0                  10  United-States   \n",
       "8453    Male             0             0                  40         Mexico   \n",
       "\n",
       "     Income  \n",
       "6227  <=50K  \n",
       "7615  <=50K  \n",
       "7978  <=50K  \n",
       "8356  <=50K  \n",
       "8453  <=50K  "
      ]
     },
     "execution_count": 6,
     "metadata": {},
     "output_type": "execute_result"
    }
   ],
   "source": [
    "df[df.duplicated(subset=None, keep=False) == True].head()"
   ]
  },
  {
   "cell_type": "code",
   "execution_count": 7,
   "metadata": {
    "ExecuteTime": {
     "end_time": "2020-06-18T14:08:35.011272Z",
     "start_time": "2020-06-18T14:08:34.953424Z"
    }
   },
   "outputs": [],
   "source": [
    "df = df.drop_duplicates(keep = 'first')"
   ]
  },
  {
   "cell_type": "code",
   "execution_count": 8,
   "metadata": {
    "ExecuteTime": {
     "end_time": "2020-06-18T14:08:35.057146Z",
     "start_time": "2020-06-18T14:08:35.018250Z"
    }
   },
   "outputs": [
    {
     "name": "stdout",
     "output_type": "stream",
     "text": [
      "<class 'pandas.core.frame.DataFrame'>\n",
      "Int64Index: 32537 entries, 0 to 32560\n",
      "Data columns (total 15 columns):\n",
      " #   Column              Non-Null Count  Dtype \n",
      "---  ------              --------------  ----- \n",
      " 0   Age                 32537 non-null  int64 \n",
      " 1   Workclass           32537 non-null  object\n",
      " 2   Final Weight        32537 non-null  int64 \n",
      " 3   Education           32537 non-null  object\n",
      " 4   Years of Education  32537 non-null  int64 \n",
      " 5   Marital Status      32537 non-null  object\n",
      " 6   Occupation          32537 non-null  object\n",
      " 7   Role in Family      32537 non-null  object\n",
      " 8   Race                32537 non-null  object\n",
      " 9   Gender              32537 non-null  object\n",
      " 10  Capital Gain        32537 non-null  int64 \n",
      " 11  Capital Loss        32537 non-null  int64 \n",
      " 12  Workhours per Week  32537 non-null  int64 \n",
      " 13  Native Country      32537 non-null  object\n",
      " 14  Income              32537 non-null  object\n",
      "dtypes: int64(6), object(9)\n",
      "memory usage: 4.0+ MB\n"
     ]
    }
   ],
   "source": [
    "df.info()"
   ]
  },
  {
   "cell_type": "code",
   "execution_count": 9,
   "metadata": {
    "ExecuteTime": {
     "end_time": "2020-06-18T14:08:37.275737Z",
     "start_time": "2020-06-18T14:08:35.060138Z"
    }
   },
   "outputs": [
    {
     "data": {
      "image/png": "[encoded data removed]",
      "text/plain": [
       "<Figure size 1296x1440 with 7 Axes>"
      ]
     },
     "metadata": {
      "needs_background": "light"
     },
     "output_type": "display_data"
    }
   ],
   "source": [
    "fig, ((ax1, ax2), (ax3, ax4), (ax5, ax6), (ax7, ax8)) = plt.subplots(4, 2, figsize=(18,20))\n",
    "fig.delaxes(ax8)\n",
    "\n",
    "sns.countplot(df['Workclass'], ax = ax1)\n",
    "plt.setp(ax1.xaxis.get_majorticklabels(), rotation=45)\n",
    "plt.subplots_adjust(hspace = 0.35)\n",
    "\n",
    "sns.countplot(df['Education'], ax = ax2)\n",
    "plt.setp(ax2.xaxis.get_majorticklabels(), rotation=90)\n",
    "plt.subplots_adjust(hspace = 0.5)\n",
    "\n",
    "sns.countplot(df['Marital Status'], ax = ax3)\n",
    "plt.setp(ax3.xaxis.get_majorticklabels(), rotation=45)\n",
    "\n",
    "sns.countplot(df['Occupation'], ax = ax4)\n",
    "plt.setp(ax4.xaxis.get_majorticklabels(), rotation=90)\n",
    "plt.subplots_adjust(hspace = 0.8)\n",
    "\n",
    "sns.countplot(df['Race'], ax = ax5)\n",
    "plt.setp(ax5.xaxis.get_majorticklabels(), rotation=90)\n",
    "\n",
    "sns.countplot(df['Native Country'], ax = ax6)\n",
    "plt.setp(ax6.xaxis.get_majorticklabels(), rotation=90)\n",
    "\n",
    "sns.countplot(df['Role in Family'], ax = ax7)\n",
    "plt.setp(ax7.xaxis.get_majorticklabels(), rotation=90)\n",
    "\n",
    "plt.show()"
   ]
  },
  {
   "cell_type": "markdown",
   "metadata": {},
   "source": [
    "Let's do some tidying in each feature."
   ]
  },
  {
   "cell_type": "code",
   "execution_count": 10,
   "metadata": {
    "ExecuteTime": {
     "end_time": "2020-06-18T14:08:37.440461Z",
     "start_time": "2020-06-18T14:08:37.277731Z"
    }
   },
   "outputs": [],
   "source": [
    "#Categorize Workclass Feature\n",
    "df.replace(dict.fromkeys(['Self-emp-not-inc','Self-emp-inc'], 'Self-Employed'), inplace = True)\n",
    "df.replace(dict.fromkeys(['Local-gov', 'State-gov', 'Federal-gov'], 'Government'), inplace = True)\n",
    "df.replace(dict.fromkeys(['Without-pay', 'Never-worked'], 'Other'), inplace = True)"
   ]
  },
  {
   "cell_type": "code",
   "execution_count": 11,
   "metadata": {
    "ExecuteTime": {
     "end_time": "2020-06-18T14:08:37.612019Z",
     "start_time": "2020-06-18T14:08:37.443455Z"
    }
   },
   "outputs": [],
   "source": [
    "#Categorize Education Feature\n",
    "df.replace(dict.fromkeys(['1st-4th', '5th-6th'], 'Elementary-School'), inplace = True)\n",
    "df.replace(dict.fromkeys(['7th-8th', '9th'], 'Middle-School'), inplace = True)\n",
    "df.replace(dict.fromkeys(['10th', '11th', '12th'], 'High-School'), inplace = True)"
   ]
  },
  {
   "cell_type": "code",
   "execution_count": 12,
   "metadata": {
    "ExecuteTime": {
     "end_time": "2020-06-18T14:08:37.721237Z",
     "start_time": "2020-06-18T14:08:37.614015Z"
    }
   },
   "outputs": [],
   "source": [
    "#Categorize Marital Status\n",
    "df.replace(dict.fromkeys(['Never-married'], 'Single'), inplace = True)\n",
    "df.replace(dict.fromkeys(['Married-civ-spouse', 'Married-spouse-absent', 'Married-AF-spouse'], 'Married'), inplace = True)"
   ]
  },
  {
   "cell_type": "markdown",
   "metadata": {
    "ExecuteTime": {
     "end_time": "2020-06-15T03:00:51.417979Z",
     "start_time": "2020-06-15T03:00:51.394492Z"
    }
   },
   "source": [
    "From Line 8, It seems that there is no missing values. But from line 3 of this notebook, it shows that there is a data point which contains '?' character. Let's replace this with null value for further analysis."
   ]
  },
  {
   "cell_type": "code",
   "execution_count": 13,
   "metadata": {
    "ExecuteTime": {
     "end_time": "2020-06-18T14:08:37.794551Z",
     "start_time": "2020-06-18T14:08:37.724228Z"
    }
   },
   "outputs": [],
   "source": [
    "df[df == '?'] = np.nan"
   ]
  },
  {
   "cell_type": "code",
   "execution_count": 14,
   "metadata": {
    "ExecuteTime": {
     "end_time": "2020-06-18T14:08:37.937169Z",
     "start_time": "2020-06-18T14:08:37.797541Z"
    },
    "scrolled": false
   },
   "outputs": [
    {
     "data": {
      "text/html": [
       "<div>\n",
       "<style scoped>\n",
       "    .dataframe tbody tr th:only-of-type {\n",
       "        vertical-align: middle;\n",
       "    }\n",
       "\n",
       "    .dataframe tbody tr th {\n",
       "        vertical-align: top;\n",
       "    }\n",
       "\n",
       "    .dataframe thead th {\n",
       "        text-align: right;\n",
       "    }\n",
       "</style>\n",
       "<table border=\"1\" class=\"dataframe\">\n",
       "  <thead>\n",
       "    <tr style=\"text-align: right;\">\n",
       "      <th></th>\n",
       "      <th>Feature Name</th>\n",
       "      <th>Feature Type</th>\n",
       "      <th>Null Count</th>\n",
       "      <th>Null Percentage</th>\n",
       "      <th>Unique Data</th>\n",
       "      <th>Unique Data Sample</th>\n",
       "    </tr>\n",
       "  </thead>\n",
       "  <tbody>\n",
       "    <tr>\n",
       "      <th>0</th>\n",
       "      <td>Age</td>\n",
       "      <td>int64</td>\n",
       "      <td>0</td>\n",
       "      <td>0.00</td>\n",
       "      <td>73</td>\n",
       "      <td>[66, 38]</td>\n",
       "    </tr>\n",
       "    <tr>\n",
       "      <th>1</th>\n",
       "      <td>Workclass</td>\n",
       "      <td>object</td>\n",
       "      <td>1836</td>\n",
       "      <td>5.64</td>\n",
       "      <td>4</td>\n",
       "      <td>[nan, Other]</td>\n",
       "    </tr>\n",
       "    <tr>\n",
       "      <th>2</th>\n",
       "      <td>Final Weight</td>\n",
       "      <td>int64</td>\n",
       "      <td>0</td>\n",
       "      <td>0.00</td>\n",
       "      <td>21648</td>\n",
       "      <td>[216475, 162852]</td>\n",
       "    </tr>\n",
       "    <tr>\n",
       "      <th>3</th>\n",
       "      <td>Education</td>\n",
       "      <td>object</td>\n",
       "      <td>0</td>\n",
       "      <td>0.00</td>\n",
       "      <td>12</td>\n",
       "      <td>[Doctorate, Elementary-School]</td>\n",
       "    </tr>\n",
       "    <tr>\n",
       "      <th>4</th>\n",
       "      <td>Years of Education</td>\n",
       "      <td>int64</td>\n",
       "      <td>0</td>\n",
       "      <td>0.00</td>\n",
       "      <td>16</td>\n",
       "      <td>[2, 3]</td>\n",
       "    </tr>\n",
       "    <tr>\n",
       "      <th>5</th>\n",
       "      <td>Marital Status</td>\n",
       "      <td>object</td>\n",
       "      <td>0</td>\n",
       "      <td>0.00</td>\n",
       "      <td>5</td>\n",
       "      <td>[Separated, Single]</td>\n",
       "    </tr>\n",
       "    <tr>\n",
       "      <th>6</th>\n",
       "      <td>Occupation</td>\n",
       "      <td>object</td>\n",
       "      <td>1843</td>\n",
       "      <td>5.66</td>\n",
       "      <td>14</td>\n",
       "      <td>[Farming-fishing, Other-service]</td>\n",
       "    </tr>\n",
       "    <tr>\n",
       "      <th>7</th>\n",
       "      <td>Role in Family</td>\n",
       "      <td>object</td>\n",
       "      <td>0</td>\n",
       "      <td>0.00</td>\n",
       "      <td>6</td>\n",
       "      <td>[Own-child, Other-relative]</td>\n",
       "    </tr>\n",
       "    <tr>\n",
       "      <th>8</th>\n",
       "      <td>Race</td>\n",
       "      <td>object</td>\n",
       "      <td>0</td>\n",
       "      <td>0.00</td>\n",
       "      <td>5</td>\n",
       "      <td>[Black, White]</td>\n",
       "    </tr>\n",
       "    <tr>\n",
       "      <th>9</th>\n",
       "      <td>Gender</td>\n",
       "      <td>object</td>\n",
       "      <td>0</td>\n",
       "      <td>0.00</td>\n",
       "      <td>2</td>\n",
       "      <td>[Female, Male]</td>\n",
       "    </tr>\n",
       "    <tr>\n",
       "      <th>10</th>\n",
       "      <td>Capital Gain</td>\n",
       "      <td>int64</td>\n",
       "      <td>0</td>\n",
       "      <td>0.00</td>\n",
       "      <td>119</td>\n",
       "      <td>[4650, 1506]</td>\n",
       "    </tr>\n",
       "    <tr>\n",
       "      <th>11</th>\n",
       "      <td>Capital Loss</td>\n",
       "      <td>int64</td>\n",
       "      <td>0</td>\n",
       "      <td>0.00</td>\n",
       "      <td>92</td>\n",
       "      <td>[2267, 2267]</td>\n",
       "    </tr>\n",
       "    <tr>\n",
       "      <th>12</th>\n",
       "      <td>Workhours per Week</td>\n",
       "      <td>int64</td>\n",
       "      <td>0</td>\n",
       "      <td>0.00</td>\n",
       "      <td>94</td>\n",
       "      <td>[8, 2]</td>\n",
       "    </tr>\n",
       "    <tr>\n",
       "      <th>13</th>\n",
       "      <td>Native Country</td>\n",
       "      <td>object</td>\n",
       "      <td>582</td>\n",
       "      <td>1.79</td>\n",
       "      <td>41</td>\n",
       "      <td>[Ireland, Guatemala]</td>\n",
       "    </tr>\n",
       "    <tr>\n",
       "      <th>14</th>\n",
       "      <td>Income</td>\n",
       "      <td>object</td>\n",
       "      <td>0</td>\n",
       "      <td>0.00</td>\n",
       "      <td>2</td>\n",
       "      <td>[&lt;=50K, &gt;50K]</td>\n",
       "    </tr>\n",
       "  </tbody>\n",
       "</table>\n",
       "</div>"
      ],
      "text/plain": [
       "          Feature Name Feature Type  Null Count  Null Percentage  Unique Data  \\\n",
       "0                  Age        int64           0             0.00           73   \n",
       "1            Workclass       object        1836             5.64            4   \n",
       "2         Final Weight        int64           0             0.00        21648   \n",
       "3            Education       object           0             0.00           12   \n",
       "4   Years of Education        int64           0             0.00           16   \n",
       "5       Marital Status       object           0             0.00            5   \n",
       "6           Occupation       object        1843             5.66           14   \n",
       "7       Role in Family       object           0             0.00            6   \n",
       "8                 Race       object           0             0.00            5   \n",
       "9               Gender       object           0             0.00            2   \n",
       "10        Capital Gain        int64           0             0.00          119   \n",
       "11        Capital Loss        int64           0             0.00           92   \n",
       "12  Workhours per Week        int64           0             0.00           94   \n",
       "13      Native Country       object         582             1.79           41   \n",
       "14              Income       object           0             0.00            2   \n",
       "\n",
       "                  Unique Data Sample  \n",
       "0                           [66, 38]  \n",
       "1                       [nan, Other]  \n",
       "2                   [216475, 162852]  \n",
       "3     [Doctorate, Elementary-School]  \n",
       "4                             [2, 3]  \n",
       "5                [Separated, Single]  \n",
       "6   [Farming-fishing, Other-service]  \n",
       "7        [Own-child, Other-relative]  \n",
       "8                     [Black, White]  \n",
       "9                     [Female, Male]  \n",
       "10                      [4650, 1506]  \n",
       "11                      [2267, 2267]  \n",
       "12                            [8, 2]  \n",
       "13              [Ireland, Guatemala]  \n",
       "14                     [<=50K, >50K]  "
      ]
     },
     "execution_count": 14,
     "metadata": {},
     "output_type": "execute_result"
    }
   ],
   "source": [
    "kolom_desc = ['Feature Name', 'Feature Type', 'Null Count', 'Null Percentage', 'Unique Data', 'Unique Data Sample']\n",
    "list_desc = []\n",
    "for i in df.columns:\n",
    "    list_desc.append([i,\n",
    "                      df[i].dtype,\n",
    "                      df[i].isna().sum(),\n",
    "                      round((df[i].isna().sum()/len(df[i]))*100,2),\n",
    "                      df[i].nunique(),\n",
    "                      list(df[i].drop_duplicates().sample(2, replace = True).values)\n",
    "                     ])\n",
    "df_desc = pd.DataFrame(columns = kolom_desc, data = list_desc)\n",
    "df_desc"
   ]
  },
  {
   "cell_type": "markdown",
   "metadata": {},
   "source": [
    "After we convert '?' character into nan value, it shows that there is null values within the dataset. Let's do some cleaning."
   ]
  },
  {
   "cell_type": "markdown",
   "metadata": {},
   "source": [
    "## Cleaning Values"
   ]
  },
  {
   "cell_type": "markdown",
   "metadata": {},
   "source": [
    "### Cleaning Null Values - 'Occupation' Feature"
   ]
  },
  {
   "cell_type": "markdown",
   "metadata": {},
   "source": [
    "To fill 'Workclass' feature, first we have to find out what occupation it is for each unit. So we treat null values in 'Occupation' feature first."
   ]
  },
  {
   "cell_type": "code",
   "execution_count": 15,
   "metadata": {
    "ExecuteTime": {
     "end_time": "2020-06-18T14:08:37.991024Z",
     "start_time": "2020-06-18T14:08:37.948140Z"
    }
   },
   "outputs": [
    {
     "data": {
      "text/html": [
       "<div>\n",
       "<style scoped>\n",
       "    .dataframe tbody tr th:only-of-type {\n",
       "        vertical-align: middle;\n",
       "    }\n",
       "\n",
       "    .dataframe tbody tr th {\n",
       "        vertical-align: top;\n",
       "    }\n",
       "\n",
       "    .dataframe thead th {\n",
       "        text-align: right;\n",
       "    }\n",
       "</style>\n",
       "<table border=\"1\" class=\"dataframe\">\n",
       "  <thead>\n",
       "    <tr style=\"text-align: right;\">\n",
       "      <th></th>\n",
       "      <th>Age</th>\n",
       "      <th>Workclass</th>\n",
       "      <th>Final Weight</th>\n",
       "      <th>Education</th>\n",
       "      <th>Years of Education</th>\n",
       "      <th>Marital Status</th>\n",
       "      <th>Occupation</th>\n",
       "      <th>Role in Family</th>\n",
       "      <th>Race</th>\n",
       "      <th>Gender</th>\n",
       "      <th>Capital Gain</th>\n",
       "      <th>Capital Loss</th>\n",
       "      <th>Workhours per Week</th>\n",
       "      <th>Native Country</th>\n",
       "      <th>Income</th>\n",
       "    </tr>\n",
       "  </thead>\n",
       "  <tbody>\n",
       "    <tr>\n",
       "      <th>8874</th>\n",
       "      <td>18</td>\n",
       "      <td>Other</td>\n",
       "      <td>206359</td>\n",
       "      <td>High-School</td>\n",
       "      <td>6</td>\n",
       "      <td>Single</td>\n",
       "      <td>NaN</td>\n",
       "      <td>Own-child</td>\n",
       "      <td>White</td>\n",
       "      <td>Male</td>\n",
       "      <td>0</td>\n",
       "      <td>0</td>\n",
       "      <td>40</td>\n",
       "      <td>United-States</td>\n",
       "      <td>&lt;=50K</td>\n",
       "    </tr>\n",
       "    <tr>\n",
       "      <th>13675</th>\n",
       "      <td>23</td>\n",
       "      <td>Other</td>\n",
       "      <td>188535</td>\n",
       "      <td>Middle-School</td>\n",
       "      <td>4</td>\n",
       "      <td>Divorced</td>\n",
       "      <td>NaN</td>\n",
       "      <td>Not-in-family</td>\n",
       "      <td>White</td>\n",
       "      <td>Male</td>\n",
       "      <td>0</td>\n",
       "      <td>0</td>\n",
       "      <td>35</td>\n",
       "      <td>United-States</td>\n",
       "      <td>&lt;=50K</td>\n",
       "    </tr>\n",
       "    <tr>\n",
       "      <th>17089</th>\n",
       "      <td>17</td>\n",
       "      <td>Other</td>\n",
       "      <td>237272</td>\n",
       "      <td>High-School</td>\n",
       "      <td>6</td>\n",
       "      <td>Single</td>\n",
       "      <td>NaN</td>\n",
       "      <td>Own-child</td>\n",
       "      <td>White</td>\n",
       "      <td>Male</td>\n",
       "      <td>0</td>\n",
       "      <td>0</td>\n",
       "      <td>30</td>\n",
       "      <td>United-States</td>\n",
       "      <td>&lt;=50K</td>\n",
       "    </tr>\n",
       "    <tr>\n",
       "      <th>21934</th>\n",
       "      <td>18</td>\n",
       "      <td>Other</td>\n",
       "      <td>157131</td>\n",
       "      <td>High-School</td>\n",
       "      <td>7</td>\n",
       "      <td>Single</td>\n",
       "      <td>NaN</td>\n",
       "      <td>Own-child</td>\n",
       "      <td>White</td>\n",
       "      <td>Female</td>\n",
       "      <td>0</td>\n",
       "      <td>0</td>\n",
       "      <td>10</td>\n",
       "      <td>United-States</td>\n",
       "      <td>&lt;=50K</td>\n",
       "    </tr>\n",
       "    <tr>\n",
       "      <th>24483</th>\n",
       "      <td>20</td>\n",
       "      <td>Other</td>\n",
       "      <td>462294</td>\n",
       "      <td>Some-college</td>\n",
       "      <td>10</td>\n",
       "      <td>Single</td>\n",
       "      <td>NaN</td>\n",
       "      <td>Own-child</td>\n",
       "      <td>Black</td>\n",
       "      <td>Male</td>\n",
       "      <td>0</td>\n",
       "      <td>0</td>\n",
       "      <td>40</td>\n",
       "      <td>United-States</td>\n",
       "      <td>&lt;=50K</td>\n",
       "    </tr>\n",
       "    <tr>\n",
       "      <th>32331</th>\n",
       "      <td>30</td>\n",
       "      <td>Other</td>\n",
       "      <td>176673</td>\n",
       "      <td>HS-grad</td>\n",
       "      <td>9</td>\n",
       "      <td>Married</td>\n",
       "      <td>NaN</td>\n",
       "      <td>Wife</td>\n",
       "      <td>Black</td>\n",
       "      <td>Female</td>\n",
       "      <td>0</td>\n",
       "      <td>0</td>\n",
       "      <td>40</td>\n",
       "      <td>United-States</td>\n",
       "      <td>&lt;=50K</td>\n",
       "    </tr>\n",
       "    <tr>\n",
       "      <th>32338</th>\n",
       "      <td>18</td>\n",
       "      <td>Other</td>\n",
       "      <td>153663</td>\n",
       "      <td>Some-college</td>\n",
       "      <td>10</td>\n",
       "      <td>Single</td>\n",
       "      <td>NaN</td>\n",
       "      <td>Own-child</td>\n",
       "      <td>White</td>\n",
       "      <td>Male</td>\n",
       "      <td>0</td>\n",
       "      <td>0</td>\n",
       "      <td>4</td>\n",
       "      <td>United-States</td>\n",
       "      <td>&lt;=50K</td>\n",
       "    </tr>\n",
       "  </tbody>\n",
       "</table>\n",
       "</div>"
      ],
      "text/plain": [
       "       Age Workclass  Final Weight      Education  Years of Education  \\\n",
       "8874    18     Other        206359    High-School                   6   \n",
       "13675   23     Other        188535  Middle-School                   4   \n",
       "17089   17     Other        237272    High-School                   6   \n",
       "21934   18     Other        157131    High-School                   7   \n",
       "24483   20     Other        462294   Some-college                  10   \n",
       "32331   30     Other        176673        HS-grad                   9   \n",
       "32338   18     Other        153663   Some-college                  10   \n",
       "\n",
       "      Marital Status Occupation Role in Family   Race  Gender  Capital Gain  \\\n",
       "8874          Single        NaN      Own-child  White    Male             0   \n",
       "13675       Divorced        NaN  Not-in-family  White    Male             0   \n",
       "17089         Single        NaN      Own-child  White    Male             0   \n",
       "21934         Single        NaN      Own-child  White  Female             0   \n",
       "24483         Single        NaN      Own-child  Black    Male             0   \n",
       "32331        Married        NaN           Wife  Black  Female             0   \n",
       "32338         Single        NaN      Own-child  White    Male             0   \n",
       "\n",
       "       Capital Loss  Workhours per Week Native Country Income  \n",
       "8874              0                  40  United-States  <=50K  \n",
       "13675             0                  35  United-States  <=50K  \n",
       "17089             0                  30  United-States  <=50K  \n",
       "21934             0                  10  United-States  <=50K  \n",
       "24483             0                  40  United-States  <=50K  \n",
       "32331             0                  40  United-States  <=50K  \n",
       "32338             0                   4  United-States  <=50K  "
      ]
     },
     "execution_count": 15,
     "metadata": {},
     "output_type": "execute_result"
    }
   ],
   "source": [
    "df_null_occu = df[df['Occupation'].isna() == True]\n",
    "df_null_occu[df_null_occu['Workclass'].isna() == False]"
   ]
  },
  {
   "cell_type": "markdown",
   "metadata": {},
   "source": [
    "We find out that there is a 'Never-worked' category in 'Workclass' feature. So for this case, let's fill the null value for this category with 'Unemployed'."
   ]
  },
  {
   "cell_type": "code",
   "execution_count": 16,
   "metadata": {
    "ExecuteTime": {
     "end_time": "2020-06-18T14:08:39.141040Z",
     "start_time": "2020-06-18T14:08:37.997008Z"
    }
   },
   "outputs": [],
   "source": [
    "def unemployed (x):\n",
    "    if x['Workclass'] == 'Never-worked':\n",
    "        return 'Unemployed'\n",
    "    else :\n",
    "        return x['Occupation']\n",
    "df['Occupation'] = df[['Workclass', 'Occupation']].apply(unemployed, axis = 1)"
   ]
  },
  {
   "cell_type": "code",
   "execution_count": 17,
   "metadata": {
    "ExecuteTime": {
     "end_time": "2020-06-18T14:08:39.156998Z",
     "start_time": "2020-06-18T14:08:39.143035Z"
    }
   },
   "outputs": [
    {
     "data": {
      "text/plain": [
       "HS-grad              533\n",
       "Some-college         516\n",
       "High-School          261\n",
       "Bachelors            173\n",
       "Middle-School        124\n",
       "Assoc-voc             61\n",
       "Masters               48\n",
       "Assoc-acdm            47\n",
       "Elementary-School     42\n",
       "Prof-school           18\n",
       "Doctorate             15\n",
       "Preschool              5\n",
       "Name: Education, dtype: int64"
      ]
     },
     "execution_count": 17,
     "metadata": {},
     "output_type": "execute_result"
    }
   ],
   "source": [
    "df[df['Occupation'].isna() == True]['Education'].value_counts()"
   ]
  },
  {
   "cell_type": "code",
   "execution_count": 18,
   "metadata": {
    "ExecuteTime": {
     "end_time": "2020-06-18T14:08:39.180934Z",
     "start_time": "2020-06-18T14:08:39.159990Z"
    }
   },
   "outputs": [
    {
     "data": {
      "text/plain": [
       "Prof-specialty       4136\n",
       "Craft-repair         4094\n",
       "Exec-managerial      4065\n",
       "Adm-clerical         3768\n",
       "Sales                3650\n",
       "Other-service        3291\n",
       "Machine-op-inspct    2000\n",
       "Transport-moving     1597\n",
       "Handlers-cleaners    1369\n",
       "Farming-fishing       992\n",
       "Tech-support          927\n",
       "Protective-serv       649\n",
       "Priv-house-serv       147\n",
       "Armed-Forces            9\n",
       "Name: Occupation, dtype: int64"
      ]
     },
     "execution_count": 18,
     "metadata": {},
     "output_type": "execute_result"
    }
   ],
   "source": [
    "df[df['Occupation'].isna() == False]['Occupation'].value_counts()"
   ]
  },
  {
   "cell_type": "markdown",
   "metadata": {},
   "source": [
    "To treat null value in 'Occupation' feature, I think it is logical if we first use 'Education' feature as our basis in treating null value."
   ]
  },
  {
   "cell_type": "markdown",
   "metadata": {},
   "source": [
    "#### HS-grad"
   ]
  },
  {
   "cell_type": "code",
   "execution_count": 19,
   "metadata": {
    "ExecuteTime": {
     "end_time": "2020-06-18T14:08:39.220827Z",
     "start_time": "2020-06-18T14:08:39.182929Z"
    },
    "scrolled": false
   },
   "outputs": [
    {
     "data": {
      "text/html": [
       "<div>\n",
       "<style scoped>\n",
       "    .dataframe tbody tr th:only-of-type {\n",
       "        vertical-align: middle;\n",
       "    }\n",
       "\n",
       "    .dataframe tbody tr th {\n",
       "        vertical-align: top;\n",
       "    }\n",
       "\n",
       "    .dataframe thead th {\n",
       "        text-align: right;\n",
       "    }\n",
       "</style>\n",
       "<table border=\"1\" class=\"dataframe\">\n",
       "  <thead>\n",
       "    <tr style=\"text-align: right;\">\n",
       "      <th></th>\n",
       "      <th>Age</th>\n",
       "      <th>Workclass</th>\n",
       "      <th>Final Weight</th>\n",
       "      <th>Education</th>\n",
       "      <th>Years of Education</th>\n",
       "      <th>Marital Status</th>\n",
       "      <th>Occupation</th>\n",
       "      <th>Role in Family</th>\n",
       "      <th>Race</th>\n",
       "      <th>Gender</th>\n",
       "      <th>Capital Gain</th>\n",
       "      <th>Capital Loss</th>\n",
       "      <th>Workhours per Week</th>\n",
       "      <th>Native Country</th>\n",
       "      <th>Income</th>\n",
       "    </tr>\n",
       "  </thead>\n",
       "  <tbody>\n",
       "    <tr>\n",
       "      <th>0</th>\n",
       "      <td>90</td>\n",
       "      <td>NaN</td>\n",
       "      <td>77053</td>\n",
       "      <td>HS-grad</td>\n",
       "      <td>9</td>\n",
       "      <td>Widowed</td>\n",
       "      <td>NaN</td>\n",
       "      <td>Not-in-family</td>\n",
       "      <td>White</td>\n",
       "      <td>Female</td>\n",
       "      <td>0</td>\n",
       "      <td>4356</td>\n",
       "      <td>40</td>\n",
       "      <td>United-States</td>\n",
       "      <td>&lt;=50K</td>\n",
       "    </tr>\n",
       "    <tr>\n",
       "      <th>24</th>\n",
       "      <td>61</td>\n",
       "      <td>NaN</td>\n",
       "      <td>135285</td>\n",
       "      <td>HS-grad</td>\n",
       "      <td>9</td>\n",
       "      <td>Married</td>\n",
       "      <td>NaN</td>\n",
       "      <td>Husband</td>\n",
       "      <td>White</td>\n",
       "      <td>Male</td>\n",
       "      <td>0</td>\n",
       "      <td>2603</td>\n",
       "      <td>32</td>\n",
       "      <td>United-States</td>\n",
       "      <td>&lt;=50K</td>\n",
       "    </tr>\n",
       "    <tr>\n",
       "      <th>44</th>\n",
       "      <td>71</td>\n",
       "      <td>NaN</td>\n",
       "      <td>100820</td>\n",
       "      <td>HS-grad</td>\n",
       "      <td>9</td>\n",
       "      <td>Married</td>\n",
       "      <td>NaN</td>\n",
       "      <td>Husband</td>\n",
       "      <td>White</td>\n",
       "      <td>Male</td>\n",
       "      <td>0</td>\n",
       "      <td>2489</td>\n",
       "      <td>15</td>\n",
       "      <td>United-States</td>\n",
       "      <td>&lt;=50K</td>\n",
       "    </tr>\n",
       "    <tr>\n",
       "      <th>202</th>\n",
       "      <td>65</td>\n",
       "      <td>NaN</td>\n",
       "      <td>143118</td>\n",
       "      <td>HS-grad</td>\n",
       "      <td>9</td>\n",
       "      <td>Widowed</td>\n",
       "      <td>NaN</td>\n",
       "      <td>Unmarried</td>\n",
       "      <td>White</td>\n",
       "      <td>Female</td>\n",
       "      <td>0</td>\n",
       "      <td>2206</td>\n",
       "      <td>10</td>\n",
       "      <td>United-States</td>\n",
       "      <td>&lt;=50K</td>\n",
       "    </tr>\n",
       "    <tr>\n",
       "      <th>213</th>\n",
       "      <td>63</td>\n",
       "      <td>NaN</td>\n",
       "      <td>234083</td>\n",
       "      <td>HS-grad</td>\n",
       "      <td>9</td>\n",
       "      <td>Divorced</td>\n",
       "      <td>NaN</td>\n",
       "      <td>Not-in-family</td>\n",
       "      <td>White</td>\n",
       "      <td>Female</td>\n",
       "      <td>0</td>\n",
       "      <td>2205</td>\n",
       "      <td>40</td>\n",
       "      <td>United-States</td>\n",
       "      <td>&lt;=50K</td>\n",
       "    </tr>\n",
       "    <tr>\n",
       "      <th>...</th>\n",
       "      <td>...</td>\n",
       "      <td>...</td>\n",
       "      <td>...</td>\n",
       "      <td>...</td>\n",
       "      <td>...</td>\n",
       "      <td>...</td>\n",
       "      <td>...</td>\n",
       "      <td>...</td>\n",
       "      <td>...</td>\n",
       "      <td>...</td>\n",
       "      <td>...</td>\n",
       "      <td>...</td>\n",
       "      <td>...</td>\n",
       "      <td>...</td>\n",
       "      <td>...</td>\n",
       "    </tr>\n",
       "    <tr>\n",
       "      <th>32366</th>\n",
       "      <td>66</td>\n",
       "      <td>NaN</td>\n",
       "      <td>93318</td>\n",
       "      <td>HS-grad</td>\n",
       "      <td>9</td>\n",
       "      <td>Widowed</td>\n",
       "      <td>NaN</td>\n",
       "      <td>Unmarried</td>\n",
       "      <td>White</td>\n",
       "      <td>Female</td>\n",
       "      <td>0</td>\n",
       "      <td>0</td>\n",
       "      <td>40</td>\n",
       "      <td>United-States</td>\n",
       "      <td>&lt;=50K</td>\n",
       "    </tr>\n",
       "    <tr>\n",
       "      <th>32440</th>\n",
       "      <td>20</td>\n",
       "      <td>NaN</td>\n",
       "      <td>203992</td>\n",
       "      <td>HS-grad</td>\n",
       "      <td>9</td>\n",
       "      <td>Single</td>\n",
       "      <td>NaN</td>\n",
       "      <td>Own-child</td>\n",
       "      <td>White</td>\n",
       "      <td>Male</td>\n",
       "      <td>0</td>\n",
       "      <td>0</td>\n",
       "      <td>40</td>\n",
       "      <td>United-States</td>\n",
       "      <td>&lt;=50K</td>\n",
       "    </tr>\n",
       "    <tr>\n",
       "      <th>32500</th>\n",
       "      <td>82</td>\n",
       "      <td>NaN</td>\n",
       "      <td>403910</td>\n",
       "      <td>HS-grad</td>\n",
       "      <td>9</td>\n",
       "      <td>Single</td>\n",
       "      <td>NaN</td>\n",
       "      <td>Not-in-family</td>\n",
       "      <td>White</td>\n",
       "      <td>Male</td>\n",
       "      <td>0</td>\n",
       "      <td>0</td>\n",
       "      <td>3</td>\n",
       "      <td>United-States</td>\n",
       "      <td>&lt;=50K</td>\n",
       "    </tr>\n",
       "    <tr>\n",
       "      <th>32543</th>\n",
       "      <td>41</td>\n",
       "      <td>NaN</td>\n",
       "      <td>202822</td>\n",
       "      <td>HS-grad</td>\n",
       "      <td>9</td>\n",
       "      <td>Separated</td>\n",
       "      <td>NaN</td>\n",
       "      <td>Not-in-family</td>\n",
       "      <td>Black</td>\n",
       "      <td>Female</td>\n",
       "      <td>0</td>\n",
       "      <td>0</td>\n",
       "      <td>32</td>\n",
       "      <td>United-States</td>\n",
       "      <td>&lt;=50K</td>\n",
       "    </tr>\n",
       "    <tr>\n",
       "      <th>32544</th>\n",
       "      <td>72</td>\n",
       "      <td>NaN</td>\n",
       "      <td>129912</td>\n",
       "      <td>HS-grad</td>\n",
       "      <td>9</td>\n",
       "      <td>Married</td>\n",
       "      <td>NaN</td>\n",
       "      <td>Husband</td>\n",
       "      <td>White</td>\n",
       "      <td>Male</td>\n",
       "      <td>0</td>\n",
       "      <td>0</td>\n",
       "      <td>25</td>\n",
       "      <td>United-States</td>\n",
       "      <td>&lt;=50K</td>\n",
       "    </tr>\n",
       "  </tbody>\n",
       "</table>\n",
       "<p>533 rows × 15 columns</p>\n",
       "</div>"
      ],
      "text/plain": [
       "       Age Workclass  Final Weight Education  Years of Education  \\\n",
       "0       90       NaN         77053   HS-grad                   9   \n",
       "24      61       NaN        135285   HS-grad                   9   \n",
       "44      71       NaN        100820   HS-grad                   9   \n",
       "202     65       NaN        143118   HS-grad                   9   \n",
       "213     63       NaN        234083   HS-grad                   9   \n",
       "...    ...       ...           ...       ...                 ...   \n",
       "32366   66       NaN         93318   HS-grad                   9   \n",
       "32440   20       NaN        203992   HS-grad                   9   \n",
       "32500   82       NaN        403910   HS-grad                   9   \n",
       "32543   41       NaN        202822   HS-grad                   9   \n",
       "32544   72       NaN        129912   HS-grad                   9   \n",
       "\n",
       "      Marital Status Occupation Role in Family   Race  Gender  Capital Gain  \\\n",
       "0            Widowed        NaN  Not-in-family  White  Female             0   \n",
       "24           Married        NaN        Husband  White    Male             0   \n",
       "44           Married        NaN        Husband  White    Male             0   \n",
       "202          Widowed        NaN      Unmarried  White  Female             0   \n",
       "213         Divorced        NaN  Not-in-family  White  Female             0   \n",
       "...              ...        ...            ...    ...     ...           ...   \n",
       "32366        Widowed        NaN      Unmarried  White  Female             0   \n",
       "32440         Single        NaN      Own-child  White    Male             0   \n",
       "32500         Single        NaN  Not-in-family  White    Male             0   \n",
       "32543      Separated        NaN  Not-in-family  Black  Female             0   \n",
       "32544        Married        NaN        Husband  White    Male             0   \n",
       "\n",
       "       Capital Loss  Workhours per Week Native Country Income  \n",
       "0              4356                  40  United-States  <=50K  \n",
       "24             2603                  32  United-States  <=50K  \n",
       "44             2489                  15  United-States  <=50K  \n",
       "202            2206                  10  United-States  <=50K  \n",
       "213            2205                  40  United-States  <=50K  \n",
       "...             ...                 ...            ...    ...  \n",
       "32366             0                  40  United-States  <=50K  \n",
       "32440             0                  40  United-States  <=50K  \n",
       "32500             0                   3  United-States  <=50K  \n",
       "32543             0                  32  United-States  <=50K  \n",
       "32544             0                  25  United-States  <=50K  \n",
       "\n",
       "[533 rows x 15 columns]"
      ]
     },
     "execution_count": 19,
     "metadata": {},
     "output_type": "execute_result"
    }
   ],
   "source": [
    "df_null_occu[df_null_occu['Education'] == 'HS-grad']"
   ]
  },
  {
   "cell_type": "markdown",
   "metadata": {},
   "source": [
    "Let's use the non null dataframe as a reference to find a pattern."
   ]
  },
  {
   "cell_type": "markdown",
   "metadata": {},
   "source": [
    "I think from the available features, we can find a pattern from 'Age' and 'Workhours per Week' which is filtered by 'Education' and 'Income' Feature.\n",
    "- 'Workclass' feature is a represantion of 'Occupation' feature which we are trying to treat its null value.\n",
    "- 'Final Weight' is cencus indicator, does not really affect to 'Occupation' as it is very random.\n",
    "- 'Years of Education' is correlated to 'Education' Feature, already included in our analysis.\n",
    "- We can not really use Categorical Features such as 'Marital Status', 'Role in Family', 'Race', 'Gender', and 'Native Country'.\n",
    "- As for 'Capital Gain' and 'Capital Loss', They show income from other investment sources than basic wage/salary. It is a personal preference whether we want to invest and gain another income other than the basic salary. So it does not really represent certain 'Occupation'."
   ]
  },
  {
   "cell_type": "code",
   "execution_count": 20,
   "metadata": {
    "ExecuteTime": {
     "end_time": "2020-06-18T14:08:39.267702Z",
     "start_time": "2020-06-18T14:08:39.222821Z"
    }
   },
   "outputs": [
    {
     "data": {
      "text/html": [
       "<div>\n",
       "<style scoped>\n",
       "    .dataframe tbody tr th:only-of-type {\n",
       "        vertical-align: middle;\n",
       "    }\n",
       "\n",
       "    .dataframe tbody tr th {\n",
       "        vertical-align: top;\n",
       "    }\n",
       "\n",
       "    .dataframe thead th {\n",
       "        text-align: right;\n",
       "    }\n",
       "</style>\n",
       "<table border=\"1\" class=\"dataframe\">\n",
       "  <thead>\n",
       "    <tr style=\"text-align: right;\">\n",
       "      <th></th>\n",
       "      <th>Age</th>\n",
       "      <th>Workclass</th>\n",
       "      <th>Final Weight</th>\n",
       "      <th>Education</th>\n",
       "      <th>Years of Education</th>\n",
       "      <th>Marital Status</th>\n",
       "      <th>Occupation</th>\n",
       "      <th>Role in Family</th>\n",
       "      <th>Race</th>\n",
       "      <th>Gender</th>\n",
       "      <th>Capital Gain</th>\n",
       "      <th>Capital Loss</th>\n",
       "      <th>Workhours per Week</th>\n",
       "      <th>Native Country</th>\n",
       "      <th>Income</th>\n",
       "    </tr>\n",
       "  </thead>\n",
       "  <tbody>\n",
       "    <tr>\n",
       "      <th>34</th>\n",
       "      <td>60</td>\n",
       "      <td>Self-Employed</td>\n",
       "      <td>205246</td>\n",
       "      <td>HS-grad</td>\n",
       "      <td>9</td>\n",
       "      <td>Single</td>\n",
       "      <td>Exec-managerial</td>\n",
       "      <td>Not-in-family</td>\n",
       "      <td>Black</td>\n",
       "      <td>Male</td>\n",
       "      <td>0</td>\n",
       "      <td>2559</td>\n",
       "      <td>50</td>\n",
       "      <td>United-States</td>\n",
       "      <td>&gt;50K</td>\n",
       "    </tr>\n",
       "    <tr>\n",
       "      <th>36</th>\n",
       "      <td>53</td>\n",
       "      <td>Private</td>\n",
       "      <td>149650</td>\n",
       "      <td>HS-grad</td>\n",
       "      <td>9</td>\n",
       "      <td>Single</td>\n",
       "      <td>Sales</td>\n",
       "      <td>Not-in-family</td>\n",
       "      <td>White</td>\n",
       "      <td>Male</td>\n",
       "      <td>0</td>\n",
       "      <td>2559</td>\n",
       "      <td>48</td>\n",
       "      <td>United-States</td>\n",
       "      <td>&gt;50K</td>\n",
       "    </tr>\n",
       "    <tr>\n",
       "      <th>51</th>\n",
       "      <td>50</td>\n",
       "      <td>Private</td>\n",
       "      <td>237729</td>\n",
       "      <td>HS-grad</td>\n",
       "      <td>9</td>\n",
       "      <td>Widowed</td>\n",
       "      <td>Sales</td>\n",
       "      <td>Not-in-family</td>\n",
       "      <td>White</td>\n",
       "      <td>Female</td>\n",
       "      <td>0</td>\n",
       "      <td>2444</td>\n",
       "      <td>72</td>\n",
       "      <td>United-States</td>\n",
       "      <td>&gt;50K</td>\n",
       "    </tr>\n",
       "    <tr>\n",
       "      <th>71</th>\n",
       "      <td>47</td>\n",
       "      <td>Self-Employed</td>\n",
       "      <td>145290</td>\n",
       "      <td>HS-grad</td>\n",
       "      <td>9</td>\n",
       "      <td>Married</td>\n",
       "      <td>Exec-managerial</td>\n",
       "      <td>Husband</td>\n",
       "      <td>White</td>\n",
       "      <td>Male</td>\n",
       "      <td>0</td>\n",
       "      <td>2415</td>\n",
       "      <td>50</td>\n",
       "      <td>United-States</td>\n",
       "      <td>&gt;50K</td>\n",
       "    </tr>\n",
       "    <tr>\n",
       "      <th>94</th>\n",
       "      <td>31</td>\n",
       "      <td>Self-Employed</td>\n",
       "      <td>252752</td>\n",
       "      <td>HS-grad</td>\n",
       "      <td>9</td>\n",
       "      <td>Married</td>\n",
       "      <td>Other-service</td>\n",
       "      <td>Wife</td>\n",
       "      <td>White</td>\n",
       "      <td>Female</td>\n",
       "      <td>0</td>\n",
       "      <td>2415</td>\n",
       "      <td>40</td>\n",
       "      <td>United-States</td>\n",
       "      <td>&gt;50K</td>\n",
       "    </tr>\n",
       "  </tbody>\n",
       "</table>\n",
       "</div>"
      ],
      "text/plain": [
       "    Age      Workclass  Final Weight Education  Years of Education  \\\n",
       "34   60  Self-Employed        205246   HS-grad                   9   \n",
       "36   53        Private        149650   HS-grad                   9   \n",
       "51   50        Private        237729   HS-grad                   9   \n",
       "71   47  Self-Employed        145290   HS-grad                   9   \n",
       "94   31  Self-Employed        252752   HS-grad                   9   \n",
       "\n",
       "   Marital Status       Occupation Role in Family   Race  Gender  \\\n",
       "34         Single  Exec-managerial  Not-in-family  Black    Male   \n",
       "36         Single            Sales  Not-in-family  White    Male   \n",
       "51        Widowed            Sales  Not-in-family  White  Female   \n",
       "71        Married  Exec-managerial        Husband  White    Male   \n",
       "94        Married    Other-service           Wife  White  Female   \n",
       "\n",
       "    Capital Gain  Capital Loss  Workhours per Week Native Country Income  \n",
       "34             0          2559                  50  United-States   >50K  \n",
       "36             0          2559                  48  United-States   >50K  \n",
       "51             0          2444                  72  United-States   >50K  \n",
       "71             0          2415                  50  United-States   >50K  \n",
       "94             0          2415                  40  United-States   >50K  "
      ]
     },
     "execution_count": 20,
     "metadata": {},
     "output_type": "execute_result"
    }
   ],
   "source": [
    "df_b = df[df['Occupation'].isna() == False][df['Income'] == '>50K'][df['Education'] == 'HS-grad']\n",
    "df_b.head()"
   ]
  },
  {
   "cell_type": "code",
   "execution_count": 21,
   "metadata": {
    "ExecuteTime": {
     "end_time": "2020-06-18T14:08:39.279670Z",
     "start_time": "2020-06-18T14:08:39.270694Z"
    },
    "scrolled": true
   },
   "outputs": [
    {
     "data": {
      "text/plain": [
       "Craft-repair         405\n",
       "Exec-managerial      261\n",
       "Sales                200\n",
       "Transport-moving     168\n",
       "Adm-clerical         163\n",
       "Machine-op-inspct    139\n",
       "Prof-specialty        60\n",
       "Other-service         53\n",
       "Tech-support          47\n",
       "Protective-serv       47\n",
       "Farming-fishing       47\n",
       "Handlers-cleaners     38\n",
       "Name: Occupation, dtype: int64"
      ]
     },
     "execution_count": 21,
     "metadata": {},
     "output_type": "execute_result"
    }
   ],
   "source": [
    "df_b['Occupation'].value_counts()"
   ]
  },
  {
   "cell_type": "code",
   "execution_count": 22,
   "metadata": {
    "ExecuteTime": {
     "end_time": "2020-06-18T14:08:39.939064Z",
     "start_time": "2020-06-18T14:08:39.282663Z"
    }
   },
   "outputs": [
    {
     "data": {
      "image/png": "[encoded data removed]",
      "text/plain": [
       "<Figure size 720x360 with 3 Axes>"
      ]
     },
     "metadata": {
      "needs_background": "light"
     },
     "output_type": "display_data"
    }
   ],
   "source": [
    "#Age Distribution in Various Occupations on Dataframe B (Education = HS-grad, Income = >50K)\n",
    "fig, (ax1, ax2, ax3) = plt.subplots(1, 3, figsize=(10,5))\n",
    "\n",
    "ax1.set_title('Craft-repair')\n",
    "sns.distplot (df_b[df_b['Occupation'] == 'Craft-repair']['Age'], hist = False, ax = ax1)\n",
    "\n",
    "ax2.set_title('Machine-op-inspct')\n",
    "sns.distplot (df_b[df_b['Occupation'] == 'Machine-op-inspct']['Age'], hist = False, ax = ax2)\n",
    "\n",
    "ax3.set_title('Handlers-cleaners')\n",
    "sns.distplot (df_b[df_b['Occupation'] == 'Handlers-cleaners']['Age'], hist = False, ax = ax3)\n",
    "\n",
    "plt.tight_layout()\n",
    "plt.show ()"
   ]
  },
  {
   "cell_type": "code",
   "execution_count": 23,
   "metadata": {
    "ExecuteTime": {
     "end_time": "2020-06-18T14:08:40.696597Z",
     "start_time": "2020-06-18T14:08:39.946046Z"
    }
   },
   "outputs": [
    {
     "data": {
      "image/png": "[encoded data removed]",
      "text/plain": [
       "<Figure size 720x360 with 3 Axes>"
      ]
     },
     "metadata": {
      "needs_background": "light"
     },
     "output_type": "display_data"
    }
   ],
   "source": [
    "#Workhours per Week Distribution in Various Occupations on Dataframe B (Education = HS-grad, Income = >50K)\n",
    "fig, (ax1, ax2, ax3) = plt.subplots(1, 3, figsize=(10,5))\n",
    "\n",
    "ax1.set_title('Craft-repair')\n",
    "sns.distplot (df_b[df_b['Occupation'] == 'Craft-repair']['Workhours per Week'], hist = False, ax = ax1)\n",
    "\n",
    "ax2.set_title('Machine-op-inspct')\n",
    "sns.distplot (df_b[df_b['Occupation'] == 'Machine-op-inspct']['Workhours per Week'], hist = False, ax = ax2)\n",
    "\n",
    "ax3.set_title('Handlers-cleaners')\n",
    "sns.distplot (df_b[df_b['Occupation'] == 'Handlers-cleaners']['Workhours per Week'], hist = False, ax = ax3)\n",
    "\n",
    "plt.tight_layout()\n",
    "plt.show ()"
   ]
  },
  {
   "cell_type": "code",
   "execution_count": 24,
   "metadata": {
    "ExecuteTime": {
     "end_time": "2020-06-18T14:08:40.769370Z",
     "start_time": "2020-06-18T14:08:40.703546Z"
    }
   },
   "outputs": [
    {
     "data": {
      "text/html": [
       "<div>\n",
       "<style scoped>\n",
       "    .dataframe tbody tr th:only-of-type {\n",
       "        vertical-align: middle;\n",
       "    }\n",
       "\n",
       "    .dataframe tbody tr th {\n",
       "        vertical-align: top;\n",
       "    }\n",
       "\n",
       "    .dataframe thead th {\n",
       "        text-align: right;\n",
       "    }\n",
       "</style>\n",
       "<table border=\"1\" class=\"dataframe\">\n",
       "  <thead>\n",
       "    <tr style=\"text-align: right;\">\n",
       "      <th></th>\n",
       "      <th>Age</th>\n",
       "      <th>Workclass</th>\n",
       "      <th>Final Weight</th>\n",
       "      <th>Education</th>\n",
       "      <th>Years of Education</th>\n",
       "      <th>Marital Status</th>\n",
       "      <th>Occupation</th>\n",
       "      <th>Role in Family</th>\n",
       "      <th>Race</th>\n",
       "      <th>Gender</th>\n",
       "      <th>Capital Gain</th>\n",
       "      <th>Capital Loss</th>\n",
       "      <th>Workhours per Week</th>\n",
       "      <th>Native Country</th>\n",
       "      <th>Income</th>\n",
       "    </tr>\n",
       "  </thead>\n",
       "  <tbody>\n",
       "    <tr>\n",
       "      <th>1</th>\n",
       "      <td>82</td>\n",
       "      <td>Private</td>\n",
       "      <td>132870</td>\n",
       "      <td>HS-grad</td>\n",
       "      <td>9</td>\n",
       "      <td>Widowed</td>\n",
       "      <td>Exec-managerial</td>\n",
       "      <td>Not-in-family</td>\n",
       "      <td>White</td>\n",
       "      <td>Female</td>\n",
       "      <td>0</td>\n",
       "      <td>4356</td>\n",
       "      <td>18</td>\n",
       "      <td>United-States</td>\n",
       "      <td>&lt;=50K</td>\n",
       "    </tr>\n",
       "    <tr>\n",
       "      <th>5</th>\n",
       "      <td>34</td>\n",
       "      <td>Private</td>\n",
       "      <td>216864</td>\n",
       "      <td>HS-grad</td>\n",
       "      <td>9</td>\n",
       "      <td>Divorced</td>\n",
       "      <td>Other-service</td>\n",
       "      <td>Unmarried</td>\n",
       "      <td>White</td>\n",
       "      <td>Female</td>\n",
       "      <td>0</td>\n",
       "      <td>3770</td>\n",
       "      <td>45</td>\n",
       "      <td>United-States</td>\n",
       "      <td>&lt;=50K</td>\n",
       "    </tr>\n",
       "    <tr>\n",
       "      <th>8</th>\n",
       "      <td>68</td>\n",
       "      <td>Government</td>\n",
       "      <td>422013</td>\n",
       "      <td>HS-grad</td>\n",
       "      <td>9</td>\n",
       "      <td>Divorced</td>\n",
       "      <td>Prof-specialty</td>\n",
       "      <td>Not-in-family</td>\n",
       "      <td>White</td>\n",
       "      <td>Female</td>\n",
       "      <td>0</td>\n",
       "      <td>3683</td>\n",
       "      <td>40</td>\n",
       "      <td>United-States</td>\n",
       "      <td>&lt;=50K</td>\n",
       "    </tr>\n",
       "    <tr>\n",
       "      <th>22</th>\n",
       "      <td>61</td>\n",
       "      <td>Private</td>\n",
       "      <td>29059</td>\n",
       "      <td>HS-grad</td>\n",
       "      <td>9</td>\n",
       "      <td>Divorced</td>\n",
       "      <td>Sales</td>\n",
       "      <td>Unmarried</td>\n",
       "      <td>White</td>\n",
       "      <td>Female</td>\n",
       "      <td>0</td>\n",
       "      <td>2754</td>\n",
       "      <td>25</td>\n",
       "      <td>United-States</td>\n",
       "      <td>&lt;=50K</td>\n",
       "    </tr>\n",
       "    <tr>\n",
       "      <th>46</th>\n",
       "      <td>71</td>\n",
       "      <td>Private</td>\n",
       "      <td>110380</td>\n",
       "      <td>HS-grad</td>\n",
       "      <td>9</td>\n",
       "      <td>Married</td>\n",
       "      <td>Sales</td>\n",
       "      <td>Husband</td>\n",
       "      <td>White</td>\n",
       "      <td>Male</td>\n",
       "      <td>0</td>\n",
       "      <td>2467</td>\n",
       "      <td>52</td>\n",
       "      <td>United-States</td>\n",
       "      <td>&lt;=50K</td>\n",
       "    </tr>\n",
       "  </tbody>\n",
       "</table>\n",
       "</div>"
      ],
      "text/plain": [
       "    Age   Workclass  Final Weight Education  Years of Education  \\\n",
       "1    82     Private        132870   HS-grad                   9   \n",
       "5    34     Private        216864   HS-grad                   9   \n",
       "8    68  Government        422013   HS-grad                   9   \n",
       "22   61     Private         29059   HS-grad                   9   \n",
       "46   71     Private        110380   HS-grad                   9   \n",
       "\n",
       "   Marital Status       Occupation Role in Family   Race  Gender  \\\n",
       "1         Widowed  Exec-managerial  Not-in-family  White  Female   \n",
       "5        Divorced    Other-service      Unmarried  White  Female   \n",
       "8        Divorced   Prof-specialty  Not-in-family  White  Female   \n",
       "22       Divorced            Sales      Unmarried  White  Female   \n",
       "46        Married            Sales        Husband  White    Male   \n",
       "\n",
       "    Capital Gain  Capital Loss  Workhours per Week Native Country Income  \n",
       "1              0          4356                  18  United-States  <=50K  \n",
       "5              0          3770                  45  United-States  <=50K  \n",
       "8              0          3683                  40  United-States  <=50K  \n",
       "22             0          2754                  25  United-States  <=50K  \n",
       "46             0          2467                  52  United-States  <=50K  "
      ]
     },
     "execution_count": 24,
     "metadata": {},
     "output_type": "execute_result"
    }
   ],
   "source": [
    "df_c = df[df['Occupation'].isna() == False][df['Income'] == '<=50K'][df['Education'] == 'HS-grad']\n",
    "df_c.head()"
   ]
  },
  {
   "cell_type": "code",
   "execution_count": 25,
   "metadata": {
    "ExecuteTime": {
     "end_time": "2020-06-18T14:08:40.785327Z",
     "start_time": "2020-06-18T14:08:40.771365Z"
    }
   },
   "outputs": [
    {
     "data": {
      "text/plain": [
       "Craft-repair         1515\n",
       "Other-service        1226\n",
       "Adm-clerical         1202\n",
       "Machine-op-inspct     882\n",
       "Sales                 869\n",
       "Transport-moving      657\n",
       "Handlers-cleaners     573\n",
       "Exec-managerial       546\n",
       "Farming-fishing       356\n",
       "Prof-specialty        173\n",
       "Protective-serv       168\n",
       "Tech-support          112\n",
       "Priv-house-serv        50\n",
       "Armed-Forces            4\n",
       "Name: Occupation, dtype: int64"
      ]
     },
     "execution_count": 25,
     "metadata": {},
     "output_type": "execute_result"
    }
   ],
   "source": [
    "df_c['Occupation'].value_counts()"
   ]
  },
  {
   "cell_type": "code",
   "execution_count": 26,
   "metadata": {
    "ExecuteTime": {
     "end_time": "2020-06-18T14:08:41.425572Z",
     "start_time": "2020-06-18T14:08:40.788319Z"
    }
   },
   "outputs": [
    {
     "data": {
      "image/png": "[encoded data removed]",
      "text/plain": [
       "<Figure size 720x360 with 3 Axes>"
      ]
     },
     "metadata": {
      "needs_background": "light"
     },
     "output_type": "display_data"
    }
   ],
   "source": [
    "#Age Distribution in Various Occupations on Dataframe C (Education = HS-grad, Income = <=50K)\n",
    "fig, (ax1, ax2, ax3) = plt.subplots(1, 3, figsize=(10,5))\n",
    "\n",
    "ax1.set_title('Craft-repair')\n",
    "sns.distplot (df_c[df_c['Occupation'] == 'Craft-repair']['Age'], hist = False, ax = ax1)\n",
    "\n",
    "ax2.set_title('Machine-op-inspct')\n",
    "sns.distplot (df_c[df_c['Occupation'] == 'Machine-op-inspct']['Age'], hist = False, ax = ax2)\n",
    "\n",
    "ax3.set_title('Handlers-cleaners')\n",
    "sns.distplot (df_c[df_c['Occupation'] == 'Handlers-cleaners']['Age'], hist = False, ax = ax3)\n",
    "\n",
    "plt.tight_layout()\n",
    "plt.show ()"
   ]
  },
  {
   "cell_type": "code",
   "execution_count": 27,
   "metadata": {
    "ExecuteTime": {
     "end_time": "2020-06-18T14:08:42.032507Z",
     "start_time": "2020-06-18T14:08:41.427533Z"
    }
   },
   "outputs": [
    {
     "data": {
      "image/png": "[encoded data removed]",
      "text/plain": [
       "<Figure size 720x360 with 3 Axes>"
      ]
     },
     "metadata": {
      "needs_background": "light"
     },
     "output_type": "display_data"
    }
   ],
   "source": [
    "#Workhours per Week Distribution in Various Occupations on Dataframe C (Education = HS-grad, Income = <=50K)\n",
    "fig, (ax1, ax2, ax3) = plt.subplots(1, 3, figsize=(10,5))\n",
    "\n",
    "ax1.set_title('Craft-repair')\n",
    "sns.distplot (df_c[df_c['Occupation'] == 'Craft-repair']['Workhours per Week'], hist = False, ax = ax1)\n",
    "\n",
    "ax2.set_title('Machine-op-inspct')\n",
    "sns.distplot (df_c[df_c['Occupation'] == 'Machine-op-inspct']['Workhours per Week'], hist = False, ax = ax2)\n",
    "\n",
    "ax3.set_title('Handlers-cleaners')\n",
    "sns.distplot (df_c[df_c['Occupation'] == 'Handlers-cleaners']['Workhours per Week'], hist = False, ax = ax3)\n",
    "\n",
    "plt.tight_layout()\n",
    "plt.show ()"
   ]
  },
  {
   "cell_type": "markdown",
   "metadata": {},
   "source": [
    "From graphs above, it seems that there is no particular pattern to for each 'Occupation' that is filtered by 'Education' and 'Income'. So I think it is wise to fill the null-values in 'Occupation' feature for 'HS-grad' education with its most frequent value to both Income category which is 'Craft-repair'."
   ]
  },
  {
   "cell_type": "code",
   "execution_count": 28,
   "metadata": {
    "ExecuteTime": {
     "end_time": "2020-06-18T14:08:43.064529Z",
     "start_time": "2020-06-18T14:08:42.034473Z"
    }
   },
   "outputs": [],
   "source": [
    "def hs_grad (x):\n",
    "    if x['Occupation'] is np.nan and x['Education'] == 'HS-grad':\n",
    "        return 'Craft-repair'\n",
    "    else :\n",
    "        return x['Occupation']\n",
    "df['Occupation'] = df[['Education', 'Occupation']].apply(hs_grad, axis = 1)"
   ]
  },
  {
   "cell_type": "markdown",
   "metadata": {
    "ExecuteTime": {
     "end_time": "2020-06-15T07:43:00.190252Z",
     "start_time": "2020-06-15T07:43:00.180055Z"
    }
   },
   "source": [
    "#### Some-College"
   ]
  },
  {
   "cell_type": "code",
   "execution_count": 29,
   "metadata": {
    "ExecuteTime": {
     "end_time": "2020-06-18T14:08:43.098438Z",
     "start_time": "2020-06-18T14:08:43.066522Z"
    }
   },
   "outputs": [
    {
     "data": {
      "text/plain": [
       "Exec-managerial      312\n",
       "Craft-repair         241\n",
       "Sales                214\n",
       "Adm-clerical         142\n",
       "Prof-specialty       116\n",
       "Tech-support          75\n",
       "Transport-moving      73\n",
       "Protective-serv       69\n",
       "Machine-op-inspct     44\n",
       "Other-service         26\n",
       "Farming-fishing       20\n",
       "Handlers-cleaners     19\n",
       "Name: Occupation, dtype: int64"
      ]
     },
     "execution_count": 29,
     "metadata": {},
     "output_type": "execute_result"
    }
   ],
   "source": [
    "df_d = df[df['Occupation'].isna() == False][df['Income'] == '>50K'][df['Education'] == 'Some-college']\n",
    "df_d['Occupation'].value_counts()"
   ]
  },
  {
   "cell_type": "code",
   "execution_count": 30,
   "metadata": {
    "ExecuteTime": {
     "end_time": "2020-06-18T14:08:43.771710Z",
     "start_time": "2020-06-18T14:08:43.100431Z"
    }
   },
   "outputs": [
    {
     "data": {
      "image/png": "[encoded data removed]",
      "text/plain": [
       "<Figure size 720x360 with 3 Axes>"
      ]
     },
     "metadata": {
      "needs_background": "light"
     },
     "output_type": "display_data"
    }
   ],
   "source": [
    "#Age Distribution in Various Occupations on Dataframe D (Education = Some-college, Income = >50K)\n",
    "fig, (ax1, ax2, ax3) = plt.subplots(1, 3, figsize=(10,5))\n",
    "\n",
    "ax1.set_title('Exec-managerial')\n",
    "sns.distplot (df_d[df_d['Occupation'] == 'Exec-managerial']['Age'], hist = False, ax = ax1)\n",
    "\n",
    "ax2.set_title('Tech-support')\n",
    "sns.distplot (df_d[df_d['Occupation'] == 'Tech-support']['Age'], hist = False, ax = ax2)\n",
    "\n",
    "ax3.set_title('Farming-fishing')\n",
    "sns.distplot (df_d[df_d['Occupation'] == 'Farming-fishing']['Age'], hist = False, ax = ax3)\n",
    "\n",
    "plt.tight_layout()\n",
    "plt.show ()"
   ]
  },
  {
   "cell_type": "code",
   "execution_count": 31,
   "metadata": {
    "ExecuteTime": {
     "end_time": "2020-06-18T14:08:44.256415Z",
     "start_time": "2020-06-18T14:08:43.775711Z"
    }
   },
   "outputs": [
    {
     "data": {
      "image/png": "[encoded data removed]",
      "text/plain": [
       "<Figure size 720x360 with 3 Axes>"
      ]
     },
     "metadata": {
      "needs_background": "light"
     },
     "output_type": "display_data"
    }
   ],
   "source": [
    "#Workhours per week Distribution in Various Occupations on Dataframe D (Education = Some-college, Income = >50K)\n",
    "fig, (ax1, ax2, ax3) = plt.subplots(1, 3, figsize=(10,5))\n",
    "\n",
    "ax1.set_title('Exec-managerial')\n",
    "sns.distplot (df_d[df_d['Occupation'] == 'Exec-managerial']['Workhours per Week'], hist = False, ax = ax1)\n",
    "\n",
    "ax2.set_title('Tech-support')\n",
    "sns.distplot (df_d[df_d['Occupation'] == 'Tech-support']['Workhours per Week'], hist = False, ax = ax2)\n",
    "\n",
    "ax3.set_title('Farming-fishing')\n",
    "sns.distplot (df_d[df_d['Occupation'] == 'Farming-fishing']['Workhours per Week'], hist = False, ax = ax3)\n",
    "\n",
    "plt.tight_layout()\n",
    "plt.show ()"
   ]
  },
  {
   "cell_type": "code",
   "execution_count": 32,
   "metadata": {
    "ExecuteTime": {
     "end_time": "2020-06-18T14:08:44.286334Z",
     "start_time": "2020-06-18T14:08:44.258410Z"
    }
   },
   "outputs": [
    {
     "data": {
      "text/plain": [
       "Adm-clerical         1137\n",
       "Sales                 795\n",
       "Other-service         753\n",
       "Craft-repair          626\n",
       "Exec-managerial       566\n",
       "Prof-specialty        312\n",
       "Machine-op-inspct     266\n",
       "Handlers-cleaners     248\n",
       "Transport-moving      210\n",
       "Tech-support          197\n",
       "Farming-fishing       154\n",
       "Protective-serv       133\n",
       "Priv-house-serv        16\n",
       "Armed-Forces            2\n",
       "Name: Occupation, dtype: int64"
      ]
     },
     "execution_count": 32,
     "metadata": {},
     "output_type": "execute_result"
    }
   ],
   "source": [
    "df_e = df[df['Occupation'].isna() == False][df['Income'] == '<=50K'][df['Education'] == 'Some-college']\n",
    "df_e['Occupation'].value_counts()"
   ]
  },
  {
   "cell_type": "code",
   "execution_count": 33,
   "metadata": {
    "ExecuteTime": {
     "end_time": "2020-06-18T14:08:44.822904Z",
     "start_time": "2020-06-18T14:08:44.288328Z"
    }
   },
   "outputs": [
    {
     "data": {
      "image/png": "[encoded data removed]",
      "text/plain": [
       "<Figure size 720x360 with 3 Axes>"
      ]
     },
     "metadata": {
      "needs_background": "light"
     },
     "output_type": "display_data"
    }
   ],
   "source": [
    "#Age Distribution in Various Occupations on Dataframe E (Education = Some-college, Income = <=50K)\n",
    "fig, (ax1, ax2, ax3) = plt.subplots(1, 3, figsize=(10,5))\n",
    "\n",
    "ax1.set_title('Adm-clerical')\n",
    "sns.distplot (df_e[df_e['Occupation'] == 'Adm-clerical']['Age'], hist = False, ax = ax1)\n",
    "\n",
    "ax2.set_title('Prof-specialty')\n",
    "sns.distplot (df_e[df_e['Occupation'] == 'Prof-specialty']['Age'], hist = False, ax = ax2)\n",
    "\n",
    "ax3.set_title('Tech-support')\n",
    "sns.distplot (df_e[df_e['Occupation'] == 'Tech-support']['Age'], hist = False, ax = ax3)\n",
    "\n",
    "plt.tight_layout()\n",
    "plt.show ()"
   ]
  },
  {
   "cell_type": "code",
   "execution_count": 34,
   "metadata": {
    "ExecuteTime": {
     "end_time": "2020-06-18T14:08:45.653679Z",
     "start_time": "2020-06-18T14:08:44.826888Z"
    }
   },
   "outputs": [
    {
     "data": {
      "image/png": "[encoded data removed]",
      "text/plain": [
       "<Figure size 720x360 with 3 Axes>"
      ]
     },
     "metadata": {
      "needs_background": "light"
     },
     "output_type": "display_data"
    }
   ],
   "source": [
    "#Workhours per Week Distribution in Various Occupations on Dataframe E (Education = Some-college, Income = <=50K)\n",
    "fig, (ax1, ax2, ax3) = plt.subplots(1, 3, figsize=(10,5))\n",
    "\n",
    "ax1.set_title('Adm-clerical')\n",
    "sns.distplot (df_e[df_e['Occupation'] == 'Adm-clerical']['Workhours per Week'], hist = False, ax = ax1)\n",
    "\n",
    "ax2.set_title('Prof-specialty')\n",
    "sns.distplot (df_e[df_e['Occupation'] == 'Prof-specialty']['Workhours per Week'], hist = False, ax = ax2)\n",
    "\n",
    "ax3.set_title('Tech-support')\n",
    "sns.distplot (df_e[df_e['Occupation'] == 'Tech-support']['Workhours per Week'], hist = False, ax = ax3)\n",
    "\n",
    "plt.tight_layout()\n",
    "plt.show ()"
   ]
  },
  {
   "cell_type": "markdown",
   "metadata": {
    "ExecuteTime": {
     "end_time": "2020-06-15T07:41:47.255319Z",
     "start_time": "2020-06-15T07:41:47.220193Z"
    }
   },
   "source": [
    "Same as 'HS-grad', we can't really use a pattern from graphs above. We can use the same method as 'HS-grad' above, but for 'Income' >50K, we use 'Exec-managerial' as our filler and 'Adm-clerical' for 'Income' <=50K."
   ]
  },
  {
   "cell_type": "code",
   "execution_count": 35,
   "metadata": {
    "ExecuteTime": {
     "end_time": "2020-06-18T14:08:47.361632Z",
     "start_time": "2020-06-18T14:08:45.660672Z"
    }
   },
   "outputs": [],
   "source": [
    "def some_college (x):\n",
    "    if x['Occupation'] is np.nan and x['Education'] == 'Some-college' and x['Income'] == '>50K':\n",
    "        return 'Exec-managerial'\n",
    "    elif x['Occupation'] is np.nan and x['Education'] == 'Some-college' and x['Income'] == '<=50K':\n",
    "        return 'Adm-clerical'\n",
    "    else:\n",
    "        return x['Occupation']\n",
    "    \n",
    "df['Occupation'] = df[['Income', 'Education', 'Occupation']].apply(some_college, axis = 1)"
   ]
  },
  {
   "cell_type": "markdown",
   "metadata": {},
   "source": [
    "#### Bachelors"
   ]
  },
  {
   "cell_type": "code",
   "execution_count": 36,
   "metadata": {
    "ExecuteTime": {
     "end_time": "2020-06-18T14:08:47.401558Z",
     "start_time": "2020-06-18T14:08:47.363626Z"
    }
   },
   "outputs": [
    {
     "data": {
      "text/plain": [
       "Exec-managerial      779\n",
       "Prof-specialty       579\n",
       "Sales                382\n",
       "Adm-clerical         119\n",
       "Craft-repair          88\n",
       "Tech-support          78\n",
       "Protective-serv       56\n",
       "Other-service         29\n",
       "Farming-fishing       21\n",
       "Machine-op-inspct     18\n",
       "Transport-moving      15\n",
       "Handlers-cleaners     11\n",
       "Priv-house-serv        1\n",
       "Name: Occupation, dtype: int64"
      ]
     },
     "execution_count": 36,
     "metadata": {},
     "output_type": "execute_result"
    }
   ],
   "source": [
    "df_f = df[df['Occupation'].isna() == False][df['Income'] == '>50K'][df['Education'] == 'Bachelors']\n",
    "df_f['Occupation'].value_counts()"
   ]
  },
  {
   "cell_type": "code",
   "execution_count": 37,
   "metadata": {
    "ExecuteTime": {
     "end_time": "2020-06-18T14:08:47.967539Z",
     "start_time": "2020-06-18T14:08:47.403520Z"
    }
   },
   "outputs": [
    {
     "data": {
      "image/png": "[encoded data removed]",
      "text/plain": [
       "<Figure size 720x360 with 3 Axes>"
      ]
     },
     "metadata": {
      "needs_background": "light"
     },
     "output_type": "display_data"
    }
   ],
   "source": [
    "#Age Distribution in Various Occupations on Dataframe F (Education = Bachelors, Income = >50K)\n",
    "fig, (ax1, ax2, ax3) = plt.subplots(1, 3, figsize=(10,5))\n",
    "\n",
    "ax1.set_title('Exec-managerial')\n",
    "sns.distplot (df_f[df_f['Occupation'] == 'Exec-managerial']['Age'], hist = False, ax = ax1)\n",
    "\n",
    "ax2.set_title('Protective-serv')\n",
    "sns.distplot (df_f[df_f['Occupation'] == 'Protective-serv']['Age'], hist = False, ax = ax2)\n",
    "\n",
    "ax3.set_title('Transport-moving')\n",
    "sns.distplot (df_f[df_f['Occupation'] == 'Transport-moving']['Age'], hist = False, ax = ax3)\n",
    "\n",
    "plt.tight_layout()\n",
    "plt.show ()"
   ]
  },
  {
   "cell_type": "code",
   "execution_count": 38,
   "metadata": {
    "ExecuteTime": {
     "end_time": "2020-06-18T14:08:48.600839Z",
     "start_time": "2020-06-18T14:08:47.973545Z"
    },
    "scrolled": false
   },
   "outputs": [
    {
     "data": {
      "image/png": "[encoded data removed]",
      "text/plain": [
       "<Figure size 720x360 with 3 Axes>"
      ]
     },
     "metadata": {
      "needs_background": "light"
     },
     "output_type": "display_data"
    }
   ],
   "source": [
    "#Workhours per week Distribution in Various Occupations on Dataframe F (Education = Bachelors, Income = >50K)\n",
    "fig, (ax1, ax2, ax3) = plt.subplots(1, 3, figsize=(10,5))\n",
    "\n",
    "ax1.set_title('Exec-managerial')\n",
    "sns.distplot (df_f[df_f['Occupation'] == 'Exec-managerial']['Workhours per Week'], hist = False, ax = ax1)\n",
    "\n",
    "ax2.set_title('Protective-serv')\n",
    "sns.distplot (df_f[df_f['Occupation'] == 'Protective-serv']['Workhours per Week'], hist = False, ax = ax2)\n",
    "\n",
    "ax3.set_title('Transport-moving')\n",
    "sns.distplot (df_f[df_f['Occupation'] == 'Transport-moving']['Workhours per Week'], hist = False, ax = ax3)\n",
    "\n",
    "plt.tight_layout()\n",
    "plt.show ()"
   ]
  },
  {
   "cell_type": "code",
   "execution_count": 39,
   "metadata": {
    "ExecuteTime": {
     "end_time": "2020-06-18T14:08:48.635745Z",
     "start_time": "2020-06-18T14:08:48.602834Z"
    },
    "scrolled": true
   },
   "outputs": [
    {
     "data": {
      "text/plain": [
       "Prof-specialty       915\n",
       "Exec-managerial      590\n",
       "Sales                427\n",
       "Adm-clerical         387\n",
       "Other-service        152\n",
       "Tech-support         152\n",
       "Craft-repair         137\n",
       "Farming-fishing       56\n",
       "Machine-op-inspct     51\n",
       "Transport-moving      47\n",
       "Protective-serv       44\n",
       "Handlers-cleaners     39\n",
       "Priv-house-serv        6\n",
       "Armed-Forces           1\n",
       "Name: Occupation, dtype: int64"
      ]
     },
     "execution_count": 39,
     "metadata": {},
     "output_type": "execute_result"
    }
   ],
   "source": [
    "df_g = df[df['Occupation'].isna() == False][df['Income'] == '<=50K'][df['Education'] == 'Bachelors']\n",
    "df_g['Occupation'].value_counts()"
   ]
  },
  {
   "cell_type": "code",
   "execution_count": 40,
   "metadata": {
    "ExecuteTime": {
     "end_time": "2020-06-18T14:08:49.106486Z",
     "start_time": "2020-06-18T14:08:48.637740Z"
    }
   },
   "outputs": [
    {
     "data": {
      "image/png": "[encoded data removed]",
      "text/plain": [
       "<Figure size 720x360 with 3 Axes>"
      ]
     },
     "metadata": {
      "needs_background": "light"
     },
     "output_type": "display_data"
    }
   ],
   "source": [
    "#Age Distribution in Various Occupations on Dataframe G(Education = Bachelors, Income = <=50K)\n",
    "fig, (ax1, ax2, ax3) = plt.subplots(1, 3, figsize=(10,5))\n",
    "\n",
    "ax1.set_title('Prof-specialty')\n",
    "sns.distplot (df_g[df_g['Occupation'] == 'Prof-specialty']['Age'], hist = False, ax = ax1)\n",
    "\n",
    "ax2.set_title('Other-service')\n",
    "sns.distplot (df_g[df_g['Occupation'] == 'Other-service']['Age'], hist = False, ax = ax2)\n",
    "\n",
    "ax3.set_title('Handlers-cleaners')\n",
    "sns.distplot (df_g[df_g['Occupation'] == 'Handlers-cleaners']['Age'], hist = False, ax = ax3)\n",
    "\n",
    "plt.tight_layout()\n",
    "plt.show ()"
   ]
  },
  {
   "cell_type": "code",
   "execution_count": 41,
   "metadata": {
    "ExecuteTime": {
     "end_time": "2020-06-18T14:08:49.660085Z",
     "start_time": "2020-06-18T14:08:49.108481Z"
    },
    "scrolled": false
   },
   "outputs": [
    {
     "data": {
      "image/png": "[encoded data removed]",
      "text/plain": [
       "<Figure size 720x360 with 3 Axes>"
      ]
     },
     "metadata": {
      "needs_background": "light"
     },
     "output_type": "display_data"
    }
   ],
   "source": [
    "#Workhours per week Distribution in Various Occupations on Dataframe G(Education = Bachelors, Income = <=50K)\n",
    "fig, (ax1, ax2, ax3) = plt.subplots(1, 3, figsize=(10,5))\n",
    "\n",
    "ax1.set_title('Prof-specialty')\n",
    "sns.distplot (df_g[df_g['Occupation'] == 'Prof-specialty']['Workhours per Week'], hist = False, ax = ax1)\n",
    "\n",
    "ax2.set_title('Other-service')\n",
    "sns.distplot (df_g[df_g['Occupation'] == 'Other-service']['Workhours per Week'], hist = False, ax = ax2)\n",
    "\n",
    "ax3.set_title('Handlers-cleaners')\n",
    "sns.distplot (df_g[df_g['Occupation'] == 'Handlers-cleaners']['Workhours per Week'], hist = False, ax = ax3)\n",
    "\n",
    "plt.tight_layout()\n",
    "plt.show ()"
   ]
  },
  {
   "cell_type": "markdown",
   "metadata": {},
   "source": [
    "Same as previous treatments, we can't really use a pattern from graphs above. We can use the same method as above, but for 'Income' >50K, we use 'Exec-managerial' as our filler and 'Prof-specialty' for 'Income' <=50K.\n"
   ]
  },
  {
   "cell_type": "code",
   "execution_count": 42,
   "metadata": {
    "ExecuteTime": {
     "end_time": "2020-06-18T14:08:51.201719Z",
     "start_time": "2020-06-18T14:08:49.662080Z"
    }
   },
   "outputs": [],
   "source": [
    "def bachelors (x):\n",
    "    if x['Occupation'] is np.nan and x['Education'] == 'Bachelors' and x['Income'] == '>50K':\n",
    "        return 'Exec-managerial'\n",
    "    elif x['Occupation'] is np.nan and x['Education'] == 'Bachelors' and x['Income'] == '<=50K':\n",
    "        return 'Prof-specialty'\n",
    "    else:\n",
    "        return x['Occupation']\n",
    "    \n",
    "df['Occupation'] = df[['Income', 'Education', 'Occupation']].apply(bachelors, axis = 1)"
   ]
  },
  {
   "cell_type": "markdown",
   "metadata": {},
   "source": [
    "#### Others"
   ]
  },
  {
   "cell_type": "markdown",
   "metadata": {},
   "source": [
    "From 3 experiments above, it seems that all data has no particular pattern set by 'Age' and 'Workhours per week'. So for the rest of 'Education' feature, I am going to use the most frequent 'Occupation' value filtered by 'Income' to fill the null values."
   ]
  },
  {
   "cell_type": "code",
   "execution_count": 43,
   "metadata": {
    "ExecuteTime": {
     "end_time": "2020-06-18T14:08:51.227620Z",
     "start_time": "2020-06-18T14:08:51.203684Z"
    }
   },
   "outputs": [
    {
     "data": {
      "text/plain": [
       "'Craft-repair'"
      ]
     },
     "execution_count": 43,
     "metadata": {},
     "output_type": "execute_result"
    }
   ],
   "source": [
    "df[df['Occupation'].isna() == False][df['Education'] == 'High-School'][df['Income'] == '>50K']['Occupation'].mode()[0]"
   ]
  },
  {
   "cell_type": "code",
   "execution_count": 44,
   "metadata": {
    "ExecuteTime": {
     "end_time": "2020-06-18T14:08:51.257539Z",
     "start_time": "2020-06-18T14:08:51.229612Z"
    },
    "scrolled": false
   },
   "outputs": [
    {
     "data": {
      "text/plain": [
       "'Other-service'"
      ]
     },
     "execution_count": 44,
     "metadata": {},
     "output_type": "execute_result"
    }
   ],
   "source": [
    "df[df['Occupation'].isna() == False][df['Education'] == 'High-School'][df['Income'] == '<=50K']['Occupation'].mode()[0]"
   ]
  },
  {
   "cell_type": "code",
   "execution_count": 45,
   "metadata": {
    "ExecuteTime": {
     "end_time": "2020-06-18T14:08:52.599176Z",
     "start_time": "2020-06-18T14:08:51.259532Z"
    }
   },
   "outputs": [],
   "source": [
    "def high_school (x):\n",
    "    if x['Occupation'] is np.nan and x['Education'] == 'High-School' and x['Income'] == '>50K':\n",
    "        return 'Craft-repair'\n",
    "    elif x['Occupation'] is np.nan and x['Education'] == 'High-School' and x['Income'] == '<=50K':\n",
    "        return 'Other-service'\n",
    "    else:\n",
    "        return x['Occupation']\n",
    "    \n",
    "df['Occupation'] = df[['Income', 'Education', 'Occupation']].apply(high_school, axis = 1)"
   ]
  },
  {
   "cell_type": "code",
   "execution_count": 46,
   "metadata": {
    "ExecuteTime": {
     "end_time": "2020-06-18T14:08:52.623117Z",
     "start_time": "2020-06-18T14:08:52.601169Z"
    }
   },
   "outputs": [
    {
     "data": {
      "text/plain": [
       "'Craft-repair'"
      ]
     },
     "execution_count": 46,
     "metadata": {},
     "output_type": "execute_result"
    }
   ],
   "source": [
    "df[df['Occupation'].isna() == False][df['Education'] == 'Middle-School'][df['Income'] == '>50K']['Occupation'].mode()[0]"
   ]
  },
  {
   "cell_type": "code",
   "execution_count": 47,
   "metadata": {
    "ExecuteTime": {
     "end_time": "2020-06-18T14:08:52.651555Z",
     "start_time": "2020-06-18T14:08:52.624623Z"
    }
   },
   "outputs": [
    {
     "data": {
      "text/plain": [
       "'Craft-repair'"
      ]
     },
     "execution_count": 47,
     "metadata": {},
     "output_type": "execute_result"
    }
   ],
   "source": [
    "df[df['Occupation'].isna() == False][df['Education'] == 'Middle-School'][df['Income'] == '<=50K']['Occupation'].mode()[0]"
   ]
  },
  {
   "cell_type": "code",
   "execution_count": 48,
   "metadata": {
    "ExecuteTime": {
     "end_time": "2020-06-18T14:08:54.521318Z",
     "start_time": "2020-06-18T14:08:52.653550Z"
    }
   },
   "outputs": [],
   "source": [
    "def middle_school (x):\n",
    "    if x['Occupation'] is np.nan and x['Education'] == 'Middle-School' and x['Income'] == '>50K':\n",
    "        return 'Craft-repair'\n",
    "    elif x['Occupation'] is np.nan and x['Education'] == 'Middle-School' and x['Income'] == '<=50K':\n",
    "        return 'Craft-repair'\n",
    "    else:\n",
    "        return x['Occupation']\n",
    "    \n",
    "df['Occupation'] = df[['Income', 'Education', 'Occupation']].apply(middle_school, axis = 1)"
   ]
  },
  {
   "cell_type": "code",
   "execution_count": 49,
   "metadata": {
    "ExecuteTime": {
     "end_time": "2020-06-18T14:08:54.562207Z",
     "start_time": "2020-06-18T14:08:54.524308Z"
    }
   },
   "outputs": [
    {
     "data": {
      "text/plain": [
       "'Craft-repair'"
      ]
     },
     "execution_count": 49,
     "metadata": {},
     "output_type": "execute_result"
    }
   ],
   "source": [
    "df[df['Occupation'].isna() == False][df['Education'] == 'Assoc-voc'][df['Income'] == '>50K']['Occupation'].mode()[0]"
   ]
  },
  {
   "cell_type": "code",
   "execution_count": 50,
   "metadata": {
    "ExecuteTime": {
     "end_time": "2020-06-18T14:08:54.600107Z",
     "start_time": "2020-06-18T14:08:54.564200Z"
    }
   },
   "outputs": [
    {
     "data": {
      "text/plain": [
       "'Craft-repair'"
      ]
     },
     "execution_count": 50,
     "metadata": {},
     "output_type": "execute_result"
    }
   ],
   "source": [
    "df[df['Occupation'].isna() == False][df['Education'] == 'Assoc-voc'][df['Income'] == '<=50K']['Occupation'].mode()[0]"
   ]
  },
  {
   "cell_type": "code",
   "execution_count": 51,
   "metadata": {
    "ExecuteTime": {
     "end_time": "2020-06-18T14:08:56.810507Z",
     "start_time": "2020-06-18T14:08:54.608083Z"
    }
   },
   "outputs": [],
   "source": [
    "def assoc_voc (x):\n",
    "    if x['Occupation'] is np.nan and x['Education'] == 'Assoc-voc' and x['Income'] == '>50K':\n",
    "        return 'Craft-repair'\n",
    "    elif x['Occupation'] is np.nan and x['Education'] == 'Assoc-voc' and x['Income'] == '<=50K':\n",
    "        return 'Craft-repair'\n",
    "    else:\n",
    "        return x['Occupation']\n",
    "    \n",
    "df['Occupation'] = df[['Income', 'Education', 'Occupation']].apply(assoc_voc, axis = 1)"
   ]
  },
  {
   "cell_type": "code",
   "execution_count": 52,
   "metadata": {
    "ExecuteTime": {
     "end_time": "2020-06-18T14:08:56.849434Z",
     "start_time": "2020-06-18T14:08:56.812502Z"
    }
   },
   "outputs": [
    {
     "data": {
      "text/plain": [
       "'Prof-specialty'"
      ]
     },
     "execution_count": 52,
     "metadata": {},
     "output_type": "execute_result"
    }
   ],
   "source": [
    "df[df['Occupation'].isna() == False][df['Education'] == 'Masters'][df['Income'] == '>50K']['Occupation'].mode()[0]"
   ]
  },
  {
   "cell_type": "code",
   "execution_count": 53,
   "metadata": {
    "ExecuteTime": {
     "end_time": "2020-06-18T14:08:56.893286Z",
     "start_time": "2020-06-18T14:08:56.856388Z"
    }
   },
   "outputs": [
    {
     "data": {
      "text/plain": [
       "'Prof-specialty'"
      ]
     },
     "execution_count": 53,
     "metadata": {},
     "output_type": "execute_result"
    }
   ],
   "source": [
    "df[df['Occupation'].isna() == False][df['Education'] == 'Masters'][df['Income'] == '<=50K']['Occupation'].mode()[0]"
   ]
  },
  {
   "cell_type": "code",
   "execution_count": 54,
   "metadata": {
    "ExecuteTime": {
     "end_time": "2020-06-18T14:08:58.690532Z",
     "start_time": "2020-06-18T14:08:56.895280Z"
    }
   },
   "outputs": [],
   "source": [
    "def masters (x):\n",
    "    if x['Occupation'] is np.nan and x['Education'] == 'Masters' and x['Income'] == '>50K':\n",
    "        return 'Prof-specialty'\n",
    "    elif x['Occupation'] is np.nan and x['Education'] == 'Masters' and x['Income'] == '<=50K':\n",
    "        return 'Prof-specialty'\n",
    "    else:\n",
    "        return x['Occupation']\n",
    "    \n",
    "df['Occupation'] = df[['Income', 'Education', 'Occupation']].apply(masters, axis = 1)"
   ]
  },
  {
   "cell_type": "code",
   "execution_count": 55,
   "metadata": {
    "ExecuteTime": {
     "end_time": "2020-06-18T14:08:58.731426Z",
     "start_time": "2020-06-18T14:08:58.692528Z"
    }
   },
   "outputs": [
    {
     "data": {
      "text/plain": [
       "'Exec-managerial'"
      ]
     },
     "execution_count": 55,
     "metadata": {},
     "output_type": "execute_result"
    }
   ],
   "source": [
    "df[df['Occupation'].isna() == False][df['Education'] == 'Assoc-acdm'][df['Income'] == '>50K']['Occupation'].mode()[0]"
   ]
  },
  {
   "cell_type": "code",
   "execution_count": 56,
   "metadata": {
    "ExecuteTime": {
     "end_time": "2020-06-18T14:08:58.774312Z",
     "start_time": "2020-06-18T14:08:58.738405Z"
    }
   },
   "outputs": [
    {
     "data": {
      "text/plain": [
       "'Adm-clerical'"
      ]
     },
     "execution_count": 56,
     "metadata": {},
     "output_type": "execute_result"
    }
   ],
   "source": [
    "df[df['Occupation'].isna() == False][df['Education'] == 'Assoc-acdm'][df['Income'] == '<=50K']['Occupation'].mode()[0]"
   ]
  },
  {
   "cell_type": "code",
   "execution_count": 57,
   "metadata": {
    "ExecuteTime": {
     "end_time": "2020-06-18T14:09:00.897844Z",
     "start_time": "2020-06-18T14:08:58.776305Z"
    }
   },
   "outputs": [],
   "source": [
    "def assoc_acdm (x):\n",
    "    if x['Occupation'] is np.nan and x['Education'] == 'Assoc-acdm' and x['Income'] == '>50K':\n",
    "        return 'Exec-managerial'\n",
    "    elif x['Occupation'] is np.nan and x['Education'] == 'Assoc-acdm' and x['Income'] == '<=50K':\n",
    "        return 'Adm-clerical'\n",
    "    else:\n",
    "        return x['Occupation']\n",
    "    \n",
    "df['Occupation'] = df[['Income', 'Education', 'Occupation']].apply(assoc_acdm, axis = 1)"
   ]
  },
  {
   "cell_type": "code",
   "execution_count": 58,
   "metadata": {
    "ExecuteTime": {
     "end_time": "2020-06-18T14:09:00.942717Z",
     "start_time": "2020-06-18T14:09:00.903821Z"
    }
   },
   "outputs": [
    {
     "data": {
      "text/plain": [
       "'Craft-repair'"
      ]
     },
     "execution_count": 58,
     "metadata": {},
     "output_type": "execute_result"
    }
   ],
   "source": [
    "df[df['Occupation'].isna() == False][df['Education'] == 'Elementary-School'][df['Income'] == '>50K']['Occupation'].mode()[0]"
   ]
  },
  {
   "cell_type": "code",
   "execution_count": 59,
   "metadata": {
    "ExecuteTime": {
     "end_time": "2020-06-18T14:09:00.984611Z",
     "start_time": "2020-06-18T14:09:00.944712Z"
    }
   },
   "outputs": [
    {
     "data": {
      "text/plain": [
       "'Other-service'"
      ]
     },
     "execution_count": 59,
     "metadata": {},
     "output_type": "execute_result"
    }
   ],
   "source": [
    "df[df['Occupation'].isna() == False][df['Education'] == 'Elementary-School'][df['Income'] == '<=50K']['Occupation'].mode()[0]"
   ]
  },
  {
   "cell_type": "code",
   "execution_count": 60,
   "metadata": {
    "ExecuteTime": {
     "end_time": "2020-06-18T14:09:02.882141Z",
     "start_time": "2020-06-18T14:09:00.988595Z"
    }
   },
   "outputs": [],
   "source": [
    "def elem_school (x):\n",
    "    if x['Occupation'] is np.nan and x['Education'] == 'Elementary-School' and x['Income'] == '>50K':\n",
    "        return 'Craft-repair'\n",
    "    elif x['Occupation'] is np.nan and x['Education'] == 'Elementary-School' and x['Income'] == '<=50K':\n",
    "        return 'Other-service'\n",
    "    else:\n",
    "        return x['Occupation']\n",
    "    \n",
    "df['Occupation'] = df[['Income', 'Education', 'Occupation']].apply(elem_school, axis = 1)"
   ]
  },
  {
   "cell_type": "code",
   "execution_count": 61,
   "metadata": {
    "ExecuteTime": {
     "end_time": "2020-06-18T14:09:02.910065Z",
     "start_time": "2020-06-18T14:09:02.884134Z"
    }
   },
   "outputs": [
    {
     "data": {
      "text/plain": [
       "'Prof-specialty'"
      ]
     },
     "execution_count": 61,
     "metadata": {},
     "output_type": "execute_result"
    }
   ],
   "source": [
    "df[df['Occupation'].isna() == False][df['Education'] == 'Prof-school'][df['Income'] == '>50K']['Occupation'].mode()[0]"
   ]
  },
  {
   "cell_type": "code",
   "execution_count": 62,
   "metadata": {
    "ExecuteTime": {
     "end_time": "2020-06-18T14:09:02.939986Z",
     "start_time": "2020-06-18T14:09:02.912061Z"
    }
   },
   "outputs": [
    {
     "data": {
      "text/plain": [
       "'Prof-specialty'"
      ]
     },
     "execution_count": 62,
     "metadata": {},
     "output_type": "execute_result"
    }
   ],
   "source": [
    "df[df['Occupation'].isna() == False][df['Education'] == 'Prof-school'][df['Income'] == '<=50K']['Occupation'].mode()[0]"
   ]
  },
  {
   "cell_type": "code",
   "execution_count": 63,
   "metadata": {
    "ExecuteTime": {
     "end_time": "2020-06-18T14:09:04.333047Z",
     "start_time": "2020-06-18T14:09:02.943975Z"
    }
   },
   "outputs": [],
   "source": [
    "def prof_spec (x):\n",
    "    if x['Occupation'] is np.nan and x['Education'] == 'Prof-school' and x['Income'] == '>50K':\n",
    "        return 'Prof-specialty'\n",
    "    elif x['Occupation'] is np.nan and x['Education'] == 'Prof-school' and x['Income'] == '<=50K':\n",
    "        return 'Prof-specialty'\n",
    "    else:\n",
    "        return x['Occupation']\n",
    "    \n",
    "df['Occupation'] = df[['Income', 'Education', 'Occupation']].apply(prof_spec, axis = 1)"
   ]
  },
  {
   "cell_type": "code",
   "execution_count": 64,
   "metadata": {
    "ExecuteTime": {
     "end_time": "2020-06-18T14:09:04.370911Z",
     "start_time": "2020-06-18T14:09:04.335009Z"
    }
   },
   "outputs": [
    {
     "data": {
      "text/plain": [
       "'Prof-specialty'"
      ]
     },
     "execution_count": 64,
     "metadata": {},
     "output_type": "execute_result"
    }
   ],
   "source": [
    "df[df['Occupation'].isna() == False][df['Education'] == 'Doctorate'][df['Income'] == '>50K']['Occupation'].mode()[0]"
   ]
  },
  {
   "cell_type": "code",
   "execution_count": 65,
   "metadata": {
    "ExecuteTime": {
     "end_time": "2020-06-18T14:09:04.413797Z",
     "start_time": "2020-06-18T14:09:04.375898Z"
    }
   },
   "outputs": [
    {
     "data": {
      "text/plain": [
       "'Prof-specialty'"
      ]
     },
     "execution_count": 65,
     "metadata": {},
     "output_type": "execute_result"
    }
   ],
   "source": [
    "df[df['Occupation'].isna() == False][df['Education'] == 'Doctorate'][df['Income'] == '<=50K']['Occupation'].mode()[0]"
   ]
  },
  {
   "cell_type": "code",
   "execution_count": 66,
   "metadata": {
    "ExecuteTime": {
     "end_time": "2020-06-18T14:09:05.991609Z",
     "start_time": "2020-06-18T14:09:04.416788Z"
    }
   },
   "outputs": [],
   "source": [
    "def doctorate (x):\n",
    "    if x['Occupation'] is np.nan and x['Education'] == 'Doctorate' and x['Income'] == '>50K':\n",
    "        return 'Prof-specialty'\n",
    "    elif x['Occupation'] is np.nan and x['Education'] == 'Doctorate' and x['Income'] == '<=50K':\n",
    "        return 'Prof-specialty'\n",
    "    else:\n",
    "        return x['Occupation']\n",
    "    \n",
    "df['Occupation'] = df[['Income', 'Education', 'Occupation']].apply(doctorate, axis = 1)"
   ]
  },
  {
   "cell_type": "code",
   "execution_count": 67,
   "metadata": {
    "ExecuteTime": {
     "end_time": "2020-06-18T14:09:06.039455Z",
     "start_time": "2020-06-18T14:09:05.998564Z"
    }
   },
   "outputs": [
    {
     "data": {
      "text/plain": [
       "'Other-service'"
      ]
     },
     "execution_count": 67,
     "metadata": {},
     "output_type": "execute_result"
    }
   ],
   "source": [
    "df[df['Occupation'].isna() == False][df['Education'] == 'Preschool'][df['Income'] == '<=50K']['Occupation'].mode()[0]"
   ]
  },
  {
   "cell_type": "code",
   "execution_count": 68,
   "metadata": {
    "ExecuteTime": {
     "end_time": "2020-06-18T14:09:07.743187Z",
     "start_time": "2020-06-18T14:09:06.066383Z"
    }
   },
   "outputs": [],
   "source": [
    "def preschool (x):\n",
    "    if x['Occupation'] is np.nan and x['Education'] == 'Preschool' and x['Income'] == '>50K':\n",
    "        return 'Other-service'\n",
    "    elif x['Occupation'] is np.nan and x['Education'] == 'Preschool' and x['Income'] == '<=50K':\n",
    "        return 'Other-service'\n",
    "    else:\n",
    "        return x['Occupation']\n",
    "    \n",
    "df['Occupation'] = df[['Income', 'Education', 'Occupation']].apply(preschool, axis = 1)"
   ]
  },
  {
   "cell_type": "code",
   "execution_count": 69,
   "metadata": {
    "ExecuteTime": {
     "end_time": "2020-06-18T14:09:07.770125Z",
     "start_time": "2020-06-18T14:09:07.754172Z"
    }
   },
   "outputs": [
    {
     "data": {
      "text/plain": [
       "0"
      ]
     },
     "execution_count": 69,
     "metadata": {},
     "output_type": "execute_result"
    }
   ],
   "source": [
    "df['Occupation'].isna().sum()"
   ]
  },
  {
   "cell_type": "markdown",
   "metadata": {},
   "source": [
    "There is no more Null Values in 'Occupation' Feature."
   ]
  },
  {
   "cell_type": "markdown",
   "metadata": {},
   "source": [
    "### Cleaning Null Values - 'Workclass' Feature"
   ]
  },
  {
   "cell_type": "code",
   "execution_count": 70,
   "metadata": {
    "ExecuteTime": {
     "end_time": "2020-06-18T14:09:07.790072Z",
     "start_time": "2020-06-18T14:09:07.774123Z"
    }
   },
   "outputs": [],
   "source": [
    "df_nnull = df[df['Workclass'].isna() == False]"
   ]
  },
  {
   "cell_type": "code",
   "execution_count": 71,
   "metadata": {
    "ExecuteTime": {
     "end_time": "2020-06-18T14:09:07.818090Z",
     "start_time": "2020-06-18T14:09:07.795064Z"
    }
   },
   "outputs": [
    {
     "data": {
      "text/plain": [
       "Workclass      Occupation       \n",
       "Government     Adm-clerical          161\n",
       "               Armed-Forces            1\n",
       "               Craft-repair           75\n",
       "               Exec-managerial       275\n",
       "               Farming-fishing         6\n",
       "               Handlers-cleaners      10\n",
       "               Machine-op-inspct       9\n",
       "               Other-service          19\n",
       "               Prof-specialty        520\n",
       "               Protective-serv       178\n",
       "               Sales                  11\n",
       "               Tech-support           49\n",
       "               Transport-moving       27\n",
       "Private        Adm-clerical          321\n",
       "               Craft-repair          721\n",
       "               Exec-managerial      1295\n",
       "               Farming-fishing        30\n",
       "               Handlers-cleaners      73\n",
       "               Machine-op-inspct     224\n",
       "               Other-service         100\n",
       "               Priv-house-serv         1\n",
       "               Prof-specialty       1007\n",
       "               Protective-serv        30\n",
       "               Sales                 684\n",
       "               Tech-support          221\n",
       "               Transport-moving      254\n",
       "Self-Employed  Adm-clerical           25\n",
       "               Craft-repair          133\n",
       "               Exec-managerial       398\n",
       "               Farming-fishing        79\n",
       "               Handlers-cleaners       3\n",
       "               Machine-op-inspct      16\n",
       "               Other-service          18\n",
       "               Prof-specialty        331\n",
       "               Protective-serv         3\n",
       "               Sales                 288\n",
       "               Tech-support           13\n",
       "               Transport-moving       39\n",
       "dtype: int64"
      ]
     },
     "execution_count": 71,
     "metadata": {},
     "output_type": "execute_result"
    }
   ],
   "source": [
    "df_nnull[df_nnull['Income'] == '>50K'].groupby(['Workclass', 'Occupation']).size()"
   ]
  },
  {
   "cell_type": "code",
   "execution_count": 72,
   "metadata": {
    "ExecuteTime": {
     "end_time": "2020-06-18T14:09:07.855892Z",
     "start_time": "2020-06-18T14:09:07.821992Z"
    }
   },
   "outputs": [
    {
     "data": {
      "text/plain": [
       "Workclass      Occupation       \n",
       "Government     Adm-clerical          692\n",
       "               Armed-Forces            8\n",
       "               Craft-repair          191\n",
       "               Exec-managerial       308\n",
       "               Farming-fishing        46\n",
       "               Handlers-cleaners      69\n",
       "               Machine-op-inspct      30\n",
       "               Other-service         333\n",
       "               Prof-specialty        774\n",
       "               Protective-serv       270\n",
       "               Sales                  21\n",
       "               Tech-support          114\n",
       "               Transport-moving      154\n",
       "Other          Adm-clerical            5\n",
       "               Craft-repair            3\n",
       "               Farming-fishing         6\n",
       "               Handlers-cleaners       1\n",
       "               Machine-op-inspct       1\n",
       "               Other-service           4\n",
       "               Transport-moving        1\n",
       "Private        Adm-clerical         2510\n",
       "               Craft-repair         2470\n",
       "               Exec-managerial      1395\n",
       "               Farming-fishing       423\n",
       "               Handlers-cleaners    1199\n",
       "               Machine-op-inspct    1687\n",
       "               Other-service        2636\n",
       "               Priv-house-serv       146\n",
       "               Prof-specialty       1302\n",
       "               Protective-serv       160\n",
       "               Sales                2258\n",
       "               Tech-support          514\n",
       "               Transport-moving     1012\n",
       "Self-Employed  Adm-clerical           56\n",
       "               Craft-repair          503\n",
       "               Exec-managerial       394\n",
       "               Farming-fishing       402\n",
       "               Handlers-cleaners      14\n",
       "               Machine-op-inspct      33\n",
       "               Other-service         184\n",
       "               Prof-specialty        202\n",
       "               Protective-serv         8\n",
       "               Sales                 388\n",
       "               Tech-support           16\n",
       "               Transport-moving      110\n",
       "dtype: int64"
      ]
     },
     "execution_count": 72,
     "metadata": {},
     "output_type": "execute_result"
    }
   ],
   "source": [
    "df_nnull[df_nnull['Income'] == '<=50K'].groupby(['Workclass', 'Occupation']).size()"
   ]
  },
  {
   "cell_type": "markdown",
   "metadata": {},
   "source": [
    "Let's do a similar method to fill null values as Cleaning Values in 'Occupation' Feature in Workclass feature."
   ]
  },
  {
   "cell_type": "code",
   "execution_count": 73,
   "metadata": {
    "ExecuteTime": {
     "end_time": "2020-06-18T14:09:07.880826Z",
     "start_time": "2020-06-18T14:09:07.858885Z"
    }
   },
   "outputs": [
    {
     "data": {
      "text/plain": [
       "Craft-repair       722\n",
       "Adm-clerical       520\n",
       "Other-service      299\n",
       "Prof-specialty     209\n",
       "Exec-managerial     86\n",
       "Name: Occupation, dtype: int64"
      ]
     },
     "execution_count": 73,
     "metadata": {},
     "output_type": "execute_result"
    }
   ],
   "source": [
    "df[df['Workclass'].isna() == True]['Occupation'].value_counts()"
   ]
  },
  {
   "cell_type": "code",
   "execution_count": 74,
   "metadata": {
    "ExecuteTime": {
     "end_time": "2020-06-18T14:09:07.907754Z",
     "start_time": "2020-06-18T14:09:07.884815Z"
    }
   },
   "outputs": [
    {
     "data": {
      "text/plain": [
       "Exec-managerial    86\n",
       "Craft-repair       68\n",
       "Prof-specialty     37\n",
       "Name: Occupation, dtype: int64"
      ]
     },
     "execution_count": 74,
     "metadata": {},
     "output_type": "execute_result"
    }
   ],
   "source": [
    "df[df['Workclass'].isna() == True][df['Income'] == '>50K']['Occupation'].value_counts()"
   ]
  },
  {
   "cell_type": "code",
   "execution_count": 75,
   "metadata": {
    "ExecuteTime": {
     "end_time": "2020-06-18T14:09:07.938672Z",
     "start_time": "2020-06-18T14:09:07.912740Z"
    }
   },
   "outputs": [
    {
     "data": {
      "text/plain": [
       "Craft-repair      654\n",
       "Adm-clerical      520\n",
       "Other-service     299\n",
       "Prof-specialty    172\n",
       "Name: Occupation, dtype: int64"
      ]
     },
     "execution_count": 75,
     "metadata": {},
     "output_type": "execute_result"
    }
   ],
   "source": [
    "df[df['Workclass'].isna() == True][df['Income'] == '<=50K']['Occupation'].value_counts()"
   ]
  },
  {
   "cell_type": "code",
   "execution_count": 76,
   "metadata": {
    "ExecuteTime": {
     "end_time": "2020-06-18T14:09:12.073898Z",
     "start_time": "2020-06-18T14:09:07.941664Z"
    }
   },
   "outputs": [],
   "source": [
    "def fill_workclass (x):\n",
    "    if x['Workclass'] is np.nan and x['Occupation'] == 'Exec-managerial' and x['Income'] == '>50K':\n",
    "        return 'Private'\n",
    "    elif x['Workclass'] is np.nan and x['Occupation'] == 'Craft-repair' and x['Income'] == '>50K':\n",
    "        return 'Private'\n",
    "    elif x['Workclass'] is np.nan and x['Occupation'] == 'Prof-specialty' and x['Income'] == '>50K':\n",
    "        return 'Private'\n",
    "    elif x['Workclass'] is np.nan and x['Occupation'] == 'Craft-repair' and x['Income'] == '<=50K':\n",
    "        return 'Private'\n",
    "    elif x['Workclass'] is np.nan and x['Occupation'] == 'Adm-clerical' and x['Income'] == '<=50K':\n",
    "        return 'Private'\n",
    "    elif x['Workclass'] is np.nan and x['Occupation'] == 'Other-service' and x['Income'] == '<=50K':\n",
    "        return 'Private'\n",
    "    elif x['Workclass'] is np.nan and x['Occupation'] == 'Prof-specialty' and x['Income'] == '<=50K':\n",
    "        return 'Private'\n",
    "    else :\n",
    "        return x['Workclass']\n",
    "    \n",
    "df['Workclass'] = df[['Income', 'Occupation', 'Workclass']].apply(fill_workclass, axis = 1)"
   ]
  },
  {
   "cell_type": "code",
   "execution_count": 77,
   "metadata": {
    "ExecuteTime": {
     "end_time": "2020-06-18T14:09:12.084871Z",
     "start_time": "2020-06-18T14:09:12.075893Z"
    }
   },
   "outputs": [
    {
     "data": {
      "text/plain": [
       "0"
      ]
     },
     "execution_count": 77,
     "metadata": {},
     "output_type": "execute_result"
    }
   ],
   "source": [
    "df['Workclass'].isna().sum()"
   ]
  },
  {
   "cell_type": "markdown",
   "metadata": {
    "ExecuteTime": {
     "end_time": "2020-06-15T15:33:15.647739Z",
     "start_time": "2020-06-15T15:33:15.632117Z"
    }
   },
   "source": [
    "There is no more null values in 'Workclass' Feature."
   ]
  },
  {
   "cell_type": "markdown",
   "metadata": {},
   "source": [
    "### Cleaning Null Values - 'Native Country'"
   ]
  },
  {
   "cell_type": "code",
   "execution_count": 78,
   "metadata": {
    "ExecuteTime": {
     "end_time": "2020-06-18T14:09:12.117781Z",
     "start_time": "2020-06-18T14:09:12.087861Z"
    }
   },
   "outputs": [
    {
     "data": {
      "text/html": [
       "<div>\n",
       "<style scoped>\n",
       "    .dataframe tbody tr th:only-of-type {\n",
       "        vertical-align: middle;\n",
       "    }\n",
       "\n",
       "    .dataframe tbody tr th {\n",
       "        vertical-align: top;\n",
       "    }\n",
       "\n",
       "    .dataframe thead th {\n",
       "        text-align: right;\n",
       "    }\n",
       "</style>\n",
       "<table border=\"1\" class=\"dataframe\">\n",
       "  <thead>\n",
       "    <tr style=\"text-align: right;\">\n",
       "      <th></th>\n",
       "      <th>Age</th>\n",
       "      <th>Workclass</th>\n",
       "      <th>Final Weight</th>\n",
       "      <th>Education</th>\n",
       "      <th>Years of Education</th>\n",
       "      <th>Marital Status</th>\n",
       "      <th>Occupation</th>\n",
       "      <th>Role in Family</th>\n",
       "      <th>Race</th>\n",
       "      <th>Gender</th>\n",
       "      <th>Capital Gain</th>\n",
       "      <th>Capital Loss</th>\n",
       "      <th>Workhours per Week</th>\n",
       "      <th>Native Country</th>\n",
       "      <th>Income</th>\n",
       "    </tr>\n",
       "  </thead>\n",
       "  <tbody>\n",
       "    <tr>\n",
       "      <th>9</th>\n",
       "      <td>41</td>\n",
       "      <td>Private</td>\n",
       "      <td>70037</td>\n",
       "      <td>Some-college</td>\n",
       "      <td>10</td>\n",
       "      <td>Single</td>\n",
       "      <td>Craft-repair</td>\n",
       "      <td>Unmarried</td>\n",
       "      <td>White</td>\n",
       "      <td>Male</td>\n",
       "      <td>0</td>\n",
       "      <td>3004</td>\n",
       "      <td>60</td>\n",
       "      <td>NaN</td>\n",
       "      <td>&gt;50K</td>\n",
       "    </tr>\n",
       "    <tr>\n",
       "      <th>18</th>\n",
       "      <td>22</td>\n",
       "      <td>Private</td>\n",
       "      <td>119592</td>\n",
       "      <td>Assoc-acdm</td>\n",
       "      <td>12</td>\n",
       "      <td>Single</td>\n",
       "      <td>Handlers-cleaners</td>\n",
       "      <td>Not-in-family</td>\n",
       "      <td>Black</td>\n",
       "      <td>Male</td>\n",
       "      <td>0</td>\n",
       "      <td>2824</td>\n",
       "      <td>40</td>\n",
       "      <td>NaN</td>\n",
       "      <td>&gt;50K</td>\n",
       "    </tr>\n",
       "    <tr>\n",
       "      <th>65</th>\n",
       "      <td>60</td>\n",
       "      <td>Self-Employed</td>\n",
       "      <td>226355</td>\n",
       "      <td>Assoc-voc</td>\n",
       "      <td>11</td>\n",
       "      <td>Married</td>\n",
       "      <td>Machine-op-inspct</td>\n",
       "      <td>Husband</td>\n",
       "      <td>White</td>\n",
       "      <td>Male</td>\n",
       "      <td>0</td>\n",
       "      <td>2415</td>\n",
       "      <td>70</td>\n",
       "      <td>NaN</td>\n",
       "      <td>&gt;50K</td>\n",
       "    </tr>\n",
       "    <tr>\n",
       "      <th>86</th>\n",
       "      <td>39</td>\n",
       "      <td>Self-Employed</td>\n",
       "      <td>218490</td>\n",
       "      <td>Prof-school</td>\n",
       "      <td>15</td>\n",
       "      <td>Married</td>\n",
       "      <td>Prof-specialty</td>\n",
       "      <td>Husband</td>\n",
       "      <td>White</td>\n",
       "      <td>Male</td>\n",
       "      <td>0</td>\n",
       "      <td>2415</td>\n",
       "      <td>50</td>\n",
       "      <td>NaN</td>\n",
       "      <td>&gt;50K</td>\n",
       "    </tr>\n",
       "    <tr>\n",
       "      <th>87</th>\n",
       "      <td>43</td>\n",
       "      <td>Government</td>\n",
       "      <td>156996</td>\n",
       "      <td>Prof-school</td>\n",
       "      <td>15</td>\n",
       "      <td>Married</td>\n",
       "      <td>Prof-specialty</td>\n",
       "      <td>Husband</td>\n",
       "      <td>Asian-Pac-Islander</td>\n",
       "      <td>Male</td>\n",
       "      <td>0</td>\n",
       "      <td>2415</td>\n",
       "      <td>55</td>\n",
       "      <td>NaN</td>\n",
       "      <td>&gt;50K</td>\n",
       "    </tr>\n",
       "  </tbody>\n",
       "</table>\n",
       "</div>"
      ],
      "text/plain": [
       "    Age      Workclass  Final Weight     Education  Years of Education  \\\n",
       "9    41        Private         70037  Some-college                  10   \n",
       "18   22        Private        119592    Assoc-acdm                  12   \n",
       "65   60  Self-Employed        226355     Assoc-voc                  11   \n",
       "86   39  Self-Employed        218490   Prof-school                  15   \n",
       "87   43     Government        156996   Prof-school                  15   \n",
       "\n",
       "   Marital Status         Occupation Role in Family                Race  \\\n",
       "9          Single       Craft-repair      Unmarried               White   \n",
       "18         Single  Handlers-cleaners  Not-in-family               Black   \n",
       "65        Married  Machine-op-inspct        Husband               White   \n",
       "86        Married     Prof-specialty        Husband               White   \n",
       "87        Married     Prof-specialty        Husband  Asian-Pac-Islander   \n",
       "\n",
       "   Gender  Capital Gain  Capital Loss  Workhours per Week Native Country  \\\n",
       "9    Male             0          3004                  60            NaN   \n",
       "18   Male             0          2824                  40            NaN   \n",
       "65   Male             0          2415                  70            NaN   \n",
       "86   Male             0          2415                  50            NaN   \n",
       "87   Male             0          2415                  55            NaN   \n",
       "\n",
       "   Income  \n",
       "9    >50K  \n",
       "18   >50K  \n",
       "65   >50K  \n",
       "86   >50K  \n",
       "87   >50K  "
      ]
     },
     "execution_count": 78,
     "metadata": {},
     "output_type": "execute_result"
    }
   ],
   "source": [
    "df[df['Native Country'].isna() == True].head()"
   ]
  },
  {
   "cell_type": "code",
   "execution_count": 79,
   "metadata": {
    "ExecuteTime": {
     "end_time": "2020-06-18T14:09:12.146704Z",
     "start_time": "2020-06-18T14:09:12.119776Z"
    }
   },
   "outputs": [
    {
     "data": {
      "text/plain": [
       "United-States    29153\n",
       "Mexico             639\n",
       "Philippines        198\n",
       "Germany            137\n",
       "Canada             121\n",
       "Name: Native Country, dtype: int64"
      ]
     },
     "execution_count": 79,
     "metadata": {},
     "output_type": "execute_result"
    }
   ],
   "source": [
    "df[df['Native Country'].isna() == False]['Native Country'].value_counts().head()"
   ]
  },
  {
   "cell_type": "markdown",
   "metadata": {},
   "source": [
    "Because there is a high count observations between 'United-States' and other countries, let's just fill the null values in 'Native Country' with 'United-States'."
   ]
  },
  {
   "cell_type": "code",
   "execution_count": 80,
   "metadata": {
    "ExecuteTime": {
     "end_time": "2020-06-18T14:09:13.105172Z",
     "start_time": "2020-06-18T14:09:12.148698Z"
    }
   },
   "outputs": [],
   "source": [
    "def fill_native (x):\n",
    "    if x['Native Country'] is np.nan:\n",
    "        return 'United-States'\n",
    "    else :\n",
    "        return x['Native Country']\n",
    "    \n",
    "df['Native Country'] = df[['Native Country']].apply(fill_native, axis = 1)"
   ]
  },
  {
   "cell_type": "code",
   "execution_count": 81,
   "metadata": {
    "ExecuteTime": {
     "end_time": "2020-06-18T14:09:13.113119Z",
     "start_time": "2020-06-18T14:09:13.106138Z"
    }
   },
   "outputs": [
    {
     "data": {
      "text/plain": [
       "0"
      ]
     },
     "execution_count": 81,
     "metadata": {},
     "output_type": "execute_result"
    }
   ],
   "source": [
    "df['Native Country'].isna().sum()"
   ]
  },
  {
   "cell_type": "code",
   "execution_count": 82,
   "metadata": {
    "ExecuteTime": {
     "end_time": "2020-06-18T14:09:13.125087Z",
     "start_time": "2020-06-18T14:09:13.115114Z"
    }
   },
   "outputs": [],
   "source": [
    "df_native = pd.DataFrame(df['Native Country'].value_counts())"
   ]
  },
  {
   "cell_type": "code",
   "execution_count": 83,
   "metadata": {
    "ExecuteTime": {
     "end_time": "2020-06-18T14:09:13.569896Z",
     "start_time": "2020-06-18T14:09:13.127081Z"
    }
   },
   "outputs": [
    {
     "data": {
      "image/png": "[encoded data removed]",
      "text/plain": [
       "<Figure size 1080x1440 with 1 Axes>"
      ]
     },
     "metadata": {
      "needs_background": "light"
     },
     "output_type": "display_data"
    }
   ],
   "source": [
    "plt.figure(figsize=(15,20))\n",
    "ax = sns.barplot(x = df_native['Native Country'], y = df_native.index, data = df_native)\n",
    "ax.set(xlabel = 'Count', ylabel = 'Country')\n",
    "plt.show()"
   ]
  },
  {
   "cell_type": "markdown",
   "metadata": {},
   "source": [
    "I decide to categorize the non United States native country into one category because the sum of United States Country is uneven to other countries' distribution."
   ]
  },
  {
   "cell_type": "code",
   "execution_count": 84,
   "metadata": {
    "ExecuteTime": {
     "end_time": "2020-06-18T14:09:13.582862Z",
     "start_time": "2020-06-18T14:09:13.571892Z"
    }
   },
   "outputs": [],
   "source": [
    "list_df_not_usa = list(df[df['Native Country'] != 'United-States']['Native Country'].values)"
   ]
  },
  {
   "cell_type": "code",
   "execution_count": 85,
   "metadata": {
    "ExecuteTime": {
     "end_time": "2020-06-18T14:09:15.335326Z",
     "start_time": "2020-06-18T14:09:13.584856Z"
    }
   },
   "outputs": [],
   "source": [
    "df['Native Country'].replace([list_df_not_usa], 'Outside-US', inplace=True)"
   ]
  },
  {
   "cell_type": "code",
   "execution_count": 86,
   "metadata": {
    "ExecuteTime": {
     "end_time": "2020-06-18T14:09:15.505879Z",
     "start_time": "2020-06-18T14:09:15.337294Z"
    }
   },
   "outputs": [
    {
     "data": {
      "text/html": [
       "<div>\n",
       "<style scoped>\n",
       "    .dataframe tbody tr th:only-of-type {\n",
       "        vertical-align: middle;\n",
       "    }\n",
       "\n",
       "    .dataframe tbody tr th {\n",
       "        vertical-align: top;\n",
       "    }\n",
       "\n",
       "    .dataframe thead th {\n",
       "        text-align: right;\n",
       "    }\n",
       "</style>\n",
       "<table border=\"1\" class=\"dataframe\">\n",
       "  <thead>\n",
       "    <tr style=\"text-align: right;\">\n",
       "      <th></th>\n",
       "      <th>Feature Name</th>\n",
       "      <th>Feature Type</th>\n",
       "      <th>Null Count</th>\n",
       "      <th>Null Percentage</th>\n",
       "      <th>Unique Data</th>\n",
       "      <th>Unique Data Sample</th>\n",
       "    </tr>\n",
       "  </thead>\n",
       "  <tbody>\n",
       "    <tr>\n",
       "      <th>0</th>\n",
       "      <td>Age</td>\n",
       "      <td>int64</td>\n",
       "      <td>0</td>\n",
       "      <td>0.0</td>\n",
       "      <td>73</td>\n",
       "      <td>[42, 40]</td>\n",
       "    </tr>\n",
       "    <tr>\n",
       "      <th>1</th>\n",
       "      <td>Workclass</td>\n",
       "      <td>object</td>\n",
       "      <td>0</td>\n",
       "      <td>0.0</td>\n",
       "      <td>4</td>\n",
       "      <td>[Private, Government]</td>\n",
       "    </tr>\n",
       "    <tr>\n",
       "      <th>2</th>\n",
       "      <td>Final Weight</td>\n",
       "      <td>int64</td>\n",
       "      <td>0</td>\n",
       "      <td>0.0</td>\n",
       "      <td>21648</td>\n",
       "      <td>[166929, 54440]</td>\n",
       "    </tr>\n",
       "    <tr>\n",
       "      <th>3</th>\n",
       "      <td>Education</td>\n",
       "      <td>object</td>\n",
       "      <td>0</td>\n",
       "      <td>0.0</td>\n",
       "      <td>12</td>\n",
       "      <td>[Assoc-acdm, Masters]</td>\n",
       "    </tr>\n",
       "    <tr>\n",
       "      <th>4</th>\n",
       "      <td>Years of Education</td>\n",
       "      <td>int64</td>\n",
       "      <td>0</td>\n",
       "      <td>0.0</td>\n",
       "      <td>16</td>\n",
       "      <td>[11, 4]</td>\n",
       "    </tr>\n",
       "    <tr>\n",
       "      <th>5</th>\n",
       "      <td>Marital Status</td>\n",
       "      <td>object</td>\n",
       "      <td>0</td>\n",
       "      <td>0.0</td>\n",
       "      <td>5</td>\n",
       "      <td>[Single, Widowed]</td>\n",
       "    </tr>\n",
       "    <tr>\n",
       "      <th>6</th>\n",
       "      <td>Occupation</td>\n",
       "      <td>object</td>\n",
       "      <td>0</td>\n",
       "      <td>0.0</td>\n",
       "      <td>14</td>\n",
       "      <td>[Priv-house-serv, Machine-op-inspct]</td>\n",
       "    </tr>\n",
       "    <tr>\n",
       "      <th>7</th>\n",
       "      <td>Role in Family</td>\n",
       "      <td>object</td>\n",
       "      <td>0</td>\n",
       "      <td>0.0</td>\n",
       "      <td>6</td>\n",
       "      <td>[Not-in-family, Other-relative]</td>\n",
       "    </tr>\n",
       "    <tr>\n",
       "      <th>8</th>\n",
       "      <td>Race</td>\n",
       "      <td>object</td>\n",
       "      <td>0</td>\n",
       "      <td>0.0</td>\n",
       "      <td>5</td>\n",
       "      <td>[Black, White]</td>\n",
       "    </tr>\n",
       "    <tr>\n",
       "      <th>9</th>\n",
       "      <td>Gender</td>\n",
       "      <td>object</td>\n",
       "      <td>0</td>\n",
       "      <td>0.0</td>\n",
       "      <td>2</td>\n",
       "      <td>[Female, Male]</td>\n",
       "    </tr>\n",
       "    <tr>\n",
       "      <th>10</th>\n",
       "      <td>Capital Gain</td>\n",
       "      <td>int64</td>\n",
       "      <td>0</td>\n",
       "      <td>0.0</td>\n",
       "      <td>119</td>\n",
       "      <td>[3103, 2580]</td>\n",
       "    </tr>\n",
       "    <tr>\n",
       "      <th>11</th>\n",
       "      <td>Capital Loss</td>\n",
       "      <td>int64</td>\n",
       "      <td>0</td>\n",
       "      <td>0.0</td>\n",
       "      <td>92</td>\n",
       "      <td>[1504, 1755]</td>\n",
       "    </tr>\n",
       "    <tr>\n",
       "      <th>12</th>\n",
       "      <td>Workhours per Week</td>\n",
       "      <td>int64</td>\n",
       "      <td>0</td>\n",
       "      <td>0.0</td>\n",
       "      <td>94</td>\n",
       "      <td>[81, 95]</td>\n",
       "    </tr>\n",
       "    <tr>\n",
       "      <th>13</th>\n",
       "      <td>Native Country</td>\n",
       "      <td>object</td>\n",
       "      <td>0</td>\n",
       "      <td>0.0</td>\n",
       "      <td>2</td>\n",
       "      <td>[Outside-US, Outside-US]</td>\n",
       "    </tr>\n",
       "    <tr>\n",
       "      <th>14</th>\n",
       "      <td>Income</td>\n",
       "      <td>object</td>\n",
       "      <td>0</td>\n",
       "      <td>0.0</td>\n",
       "      <td>2</td>\n",
       "      <td>[&gt;50K, &lt;=50K]</td>\n",
       "    </tr>\n",
       "  </tbody>\n",
       "</table>\n",
       "</div>"
      ],
      "text/plain": [
       "          Feature Name Feature Type  Null Count  Null Percentage  Unique Data  \\\n",
       "0                  Age        int64           0              0.0           73   \n",
       "1            Workclass       object           0              0.0            4   \n",
       "2         Final Weight        int64           0              0.0        21648   \n",
       "3            Education       object           0              0.0           12   \n",
       "4   Years of Education        int64           0              0.0           16   \n",
       "5       Marital Status       object           0              0.0            5   \n",
       "6           Occupation       object           0              0.0           14   \n",
       "7       Role in Family       object           0              0.0            6   \n",
       "8                 Race       object           0              0.0            5   \n",
       "9               Gender       object           0              0.0            2   \n",
       "10        Capital Gain        int64           0              0.0          119   \n",
       "11        Capital Loss        int64           0              0.0           92   \n",
       "12  Workhours per Week        int64           0              0.0           94   \n",
       "13      Native Country       object           0              0.0            2   \n",
       "14              Income       object           0              0.0            2   \n",
       "\n",
       "                      Unique Data Sample  \n",
       "0                               [42, 40]  \n",
       "1                  [Private, Government]  \n",
       "2                        [166929, 54440]  \n",
       "3                  [Assoc-acdm, Masters]  \n",
       "4                                [11, 4]  \n",
       "5                      [Single, Widowed]  \n",
       "6   [Priv-house-serv, Machine-op-inspct]  \n",
       "7        [Not-in-family, Other-relative]  \n",
       "8                         [Black, White]  \n",
       "9                         [Female, Male]  \n",
       "10                          [3103, 2580]  \n",
       "11                          [1504, 1755]  \n",
       "12                              [81, 95]  \n",
       "13              [Outside-US, Outside-US]  \n",
       "14                         [>50K, <=50K]  "
      ]
     },
     "execution_count": 86,
     "metadata": {},
     "output_type": "execute_result"
    }
   ],
   "source": [
    "kolom_desc = ['Feature Name', 'Feature Type', 'Null Count', 'Null Percentage', 'Unique Data', 'Unique Data Sample']\n",
    "list_desc = []\n",
    "for i in df.columns:\n",
    "    list_desc.append([i,\n",
    "                      df[i].dtype,\n",
    "                      df[i].isna().sum(),\n",
    "                      round((df[i].isna().sum()/len(df[i]))*100,2),\n",
    "                      df[i].nunique(),\n",
    "                      list(df[i].drop_duplicates().sample(2, replace = True).values)\n",
    "                     ])\n",
    "df_desc = pd.DataFrame(columns = kolom_desc, data = list_desc)\n",
    "df_desc"
   ]
  },
  {
   "cell_type": "code",
   "execution_count": 87,
   "metadata": {
    "ExecuteTime": {
     "end_time": "2020-06-18T14:09:15.514853Z",
     "start_time": "2020-06-18T14:09:15.509866Z"
    }
   },
   "outputs": [
    {
     "name": "stdout",
     "output_type": "stream",
     "text": [
      "This dataframe contains 32537 rows and 15 columns after cleaning\n"
     ]
    }
   ],
   "source": [
    "print('This dataframe contains {} rows and {} columns after cleaning'.format(df.shape[0], df.shape[1]))"
   ]
  },
  {
   "cell_type": "code",
   "execution_count": 88,
   "metadata": {
    "ExecuteTime": {
     "end_time": "2020-06-18T14:09:15.520836Z",
     "start_time": "2020-06-18T14:09:15.516847Z"
    }
   },
   "outputs": [],
   "source": [
    "# df.to_csv('Adult_Clean.csv')"
   ]
  },
  {
   "cell_type": "code",
   "execution_count": null,
   "metadata": {
    "ExecuteTime": {
     "end_time": "2020-06-16T08:34:17.581476Z",
     "start_time": "2020-06-16T08:34:17.558022Z"
    }
   },
   "outputs": [],
   "source": []
  },
  {
   "cell_type": "code",
   "execution_count": null,
   "metadata": {},
   "outputs": [],
   "source": []
  }
 ],
 "metadata": {
  "kernelspec": {
   "display_name": "Python 3",
   "language": "python",
   "name": "python3"
  },
  "language_info": {
   "codemirror_mode": {
    "name": "ipython",
    "version": 3
   },
   "file_extension": ".py",
   "mimetype": "text/x-python",
   "name": "python",
   "nbconvert_exporter": "python",
   "pygments_lexer": "ipython3",
   "version": "3.7.4"
  },
  "toc": {
   "base_numbering": 1,
   "nav_menu": {},
   "number_sections": false,
   "sideBar": true,
   "skip_h1_title": false,
   "title_cell": "Table of Contents",
   "title_sidebar": "Contents",
   "toc_cell": false,
   "toc_position": {
    "height": "218.717px",
    "left": "681px",
    "top": "110.333px",
    "width": "212px"
   },
   "toc_section_display": true,
   "toc_window_display": false
  },
  "varInspector": {
   "cols": {
    "lenName": 16,
    "lenType": 16,
    "lenVar": 40
   },
   "kernels_config": {
    "python": {
     "delete_cmd_postfix": "",
     "delete_cmd_prefix": "del ",
     "library": "var_list.py",
     "varRefreshCmd": "print(var_dic_list())"
    },
    "r": {
     "delete_cmd_postfix": ") ",
     "delete_cmd_prefix": "rm(",
     "library": "var_list.r",
     "varRefreshCmd": "cat(var_dic_list()) "
    }
   },
   "position": {
    "height": "463.383px",
    "left": "1053.93px",
    "right": "20px",
    "top": "122px",
    "width": "329.067px"
   },
   "types_to_exclude": [
    "module",
    "function",
    "builtin_function_or_method",
    "instance",
    "_Feature"
   ],
   "window_display": false
  }
 },
 "nbformat": 4,
 "nbformat_minor": 2
}
